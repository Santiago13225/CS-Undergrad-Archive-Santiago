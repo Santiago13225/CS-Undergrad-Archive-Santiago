{
 "cells": [
  {
   "cell_type": "markdown",
   "metadata": {},
   "source": [
    "# Module 2: Introduction to Numpy\n",
    "\n",
    "Numpy, which stands for numerical Python, is a Python library package to support numerical computations. The basic data structure in numpy is a multi-dimensional array object called ndarray. Numpy provides a suite of functions that can efficiently manipulate elements of the ndarray. "
   ]
  },
  {
   "cell_type": "markdown",
   "metadata": {
    "heading_collapsed": true
   },
   "source": [
    "## Creating ndarray\n",
    "\n",
    "An ndarray can be created from a list or tuple object."
   ]
  },
  {
   "cell_type": "code",
   "execution_count": 1,
   "metadata": {
    "hidden": true
   },
   "outputs": [
    {
     "name": "stdout",
     "output_type": "stream",
     "text": [
      "[1. 2. 3. 4. 5.]\n",
      "#Dimensions = 1\n",
      "Dimension = (5,)\n",
      "Size = 5\n",
      "Array type = float64\n",
      "[[1 2]\n",
      " [3 4]\n",
      " [5 6]\n",
      " [7 8]]\n",
      "#Dimensions = 2\n",
      "Dimension = (4, 2)\n",
      "Size = 8\n",
      "Array type = int64\n",
      "[['1' 'a' '3.0']\n",
      " ['2' 'b' '3.5']]\n",
      "#Dimensions = 2\n",
      "Dimension = (2, 3)\n",
      "Size = 6\n"
     ]
    }
   ],
   "source": [
    "import numpy as np\n",
    "\n",
    "oneDim = np.array([1.0,2,3,4,5])   # a 1-dimensional array (vector)\n",
    "print(oneDim)\n",
    "print(\"#Dimensions =\", oneDim.ndim)\n",
    "print(\"Dimension =\", oneDim.shape)\n",
    "print(\"Size =\", oneDim.size)\n",
    "print(\"Array type =\", oneDim.dtype)\n",
    "\n",
    "twoDim = np.array([[1,2],[3,4],[5,6],[7,8]])  # a two-dimensional array (matrix)\n",
    "print(twoDim)\n",
    "print(\"#Dimensions =\", twoDim.ndim)\n",
    "print(\"Dimension =\", twoDim.shape)\n",
    "print(\"Size =\", twoDim.size)\n",
    "print(\"Array type =\", twoDim.dtype)\n",
    "\n",
    "arrFromTuple = np.array([(1,'a',3.0),(2,'b',3.5)])  # create ndarray from tuple\n",
    "print(arrFromTuple)\n",
    "print(\"#Dimensions =\", arrFromTuple.ndim)\n",
    "print(\"Dimension =\", arrFromTuple.shape)\n",
    "print(\"Size =\", arrFromTuple.size)"
   ]
  },
  {
   "cell_type": "markdown",
   "metadata": {
    "hidden": true
   },
   "source": [
    "There are several built-in functions in numpy that can be used to create ndarrays"
   ]
  },
  {
   "cell_type": "code",
   "execution_count": 2,
   "metadata": {
    "hidden": true
   },
   "outputs": [
    {
     "name": "stdout",
     "output_type": "stream",
     "text": [
      "[0.6032457  0.56775259 0.08296586 0.12762583 0.17506763]\n",
      "[-0.36600545 -0.09693097  0.9547545   1.26981398 -0.9466322 ]\n",
      "[-10  -8  -6  -4  -2   0   2   4   6   8]\n",
      "[[ 0  1  2  3]\n",
      " [ 4  5  6  7]\n",
      " [ 8  9 10 11]]\n",
      "[0.         0.11111111 0.22222222 0.33333333 0.44444444 0.55555556\n",
      " 0.66666667 0.77777778 0.88888889 1.        ]\n",
      "[1.e-03 1.e-02 1.e-01 1.e+00 1.e+01 1.e+02 1.e+03]\n"
     ]
    }
   ],
   "source": [
    "print(np.random.rand(5))      # random numbers from a uniform distribution between [0,1]\n",
    "\n",
    "print(np.random.randn(5))     # random numbers from a normal distribution\n",
    "\n",
    "print(np.arange(-10,10,2))    # similar to range, but returns ndarray instead of list\n",
    "\n",
    "print(np.arange(12).reshape(3,4))  # reshape to a matrix\n",
    "\n",
    "print(np.linspace(0,1,10))    # split interval [0,1] into 10 equally separated values\n",
    "\n",
    "print(np.logspace(-3,3,7))    # create ndarray with values from 10^-3 to 10^3"
   ]
  },
  {
   "cell_type": "code",
   "execution_count": 3,
   "metadata": {
    "hidden": true
   },
   "outputs": [
    {
     "name": "stdout",
     "output_type": "stream",
     "text": [
      "[[0. 0. 0.]\n",
      " [0. 0. 0.]]\n",
      "[[1. 1.]\n",
      " [1. 1.]\n",
      " [1. 1.]]\n",
      "[[1. 0. 0.]\n",
      " [0. 1. 0.]\n",
      " [0. 0. 1.]]\n"
     ]
    }
   ],
   "source": [
    "print(np.zeros((2,3)))        # a matrix of zeros\n",
    "\n",
    "print(np.ones((3,2)))         # a matrix of ones\n",
    "\n",
    "print(np.eye(3))              # a 3 x 3 identity matrix"
   ]
  },
  {
   "cell_type": "markdown",
   "metadata": {
    "heading_collapsed": true
   },
   "source": [
    "## Element-wise Operations\n",
    "\n",
    "You can apply standard operators such as addition and multiplication on each element of the ndarray."
   ]
  },
  {
   "cell_type": "code",
   "execution_count": 4,
   "metadata": {
    "hidden": true
   },
   "outputs": [
    {
     "name": "stdout",
     "output_type": "stream",
     "text": [
      "[2 3 4 5 6]\n",
      "[0 1 2 3 4]\n",
      "[ 2  4  6  8 10]\n",
      "[0 1 1 2 2]\n",
      "[ 1  4  9 16 25]\n",
      "[1 0 1 0 1]\n",
      "[1.         0.5        0.33333333 0.25       0.2       ]\n"
     ]
    }
   ],
   "source": [
    "x = np.array([1,2,3,4,5])\n",
    "\n",
    "print(x + 1)      # addition\n",
    "\n",
    "print(x - 1)      # subtraction\n",
    "\n",
    "print(x * 2)      # multiplication\n",
    "\n",
    "print(x // 2)     # integer division\n",
    "\n",
    "print(x ** 2)     # square\n",
    "\n",
    "print(x % 2)      # modulo  \n",
    "print(1 / x)      # division\n"
   ]
  },
  {
   "cell_type": "code",
   "execution_count": 5,
   "metadata": {
    "hidden": true
   },
   "outputs": [
    {
     "name": "stdout",
     "output_type": "stream",
     "text": [
      "[ 3  6  9 12 15]\n",
      "[1 2 3 4 5]\n",
      "[ 2  8 18 32 50]\n",
      "[2. 2. 2. 2. 2.]\n",
      "[2 2 2 2 2]\n",
      "[     2     16    216   4096 100000]\n"
     ]
    }
   ],
   "source": [
    "x = np.array([2,4,6,8,10])\n",
    "y = np.array([1,2,3,4,5])\n",
    "\n",
    "print(x + y)\n",
    "\n",
    "print(x - y)\n",
    "\n",
    "print(x * y)\n",
    "\n",
    "print(x / y)\n",
    "\n",
    "print(x // y)\n",
    "\n",
    "print(x ** y)"
   ]
  },
  {
   "cell_type": "markdown",
   "metadata": {
    "heading_collapsed": true
   },
   "source": [
    "## Indexing and Slicing\n",
    "\n",
    "There are various ways to select certain elements with an ndarray."
   ]
  },
  {
   "cell_type": "code",
   "execution_count": 6,
   "metadata": {
    "hidden": true
   },
   "outputs": [
    {
     "name": "stdout",
     "output_type": "stream",
     "text": [
      "[-5 -4 -3 -2 -1  0  1  2  3  4]\n",
      "[-2 -1]\n",
      "[1000 1000]\n",
      "[  -5   -4   -3 1000 1000    0    1    2    3    4]\n",
      "[1000 1000]\n",
      "[500 500]\n",
      "[  -5   -4   -3 1000 1000    0    1    2    3    4]\n"
     ]
    }
   ],
   "source": [
    "x = np.arange(-5,5)\n",
    "print(x)\n",
    "\n",
    "y = x[3:5]     # y is a slice, i.e., pointer to a subarray in x\n",
    "print(y)\n",
    "\n",
    "y[:] = 1000    # modifying the value of y will change x\n",
    "print(y)\n",
    "print(x)\n",
    "\n",
    "z = x[3:5].copy()   # makes a copy of the subarray\n",
    "print(z)\n",
    "\n",
    "z[:] = 500          # modifying the value of z will not affect x\n",
    "print(z)\n",
    "print(x)"
   ]
  },
  {
   "cell_type": "code",
   "execution_count": 7,
   "metadata": {
    "hidden": true
   },
   "outputs": [
    {
     "name": "stdout",
     "output_type": "stream",
     "text": [
      "[[1, 2, 3, 4], [5, 6, 7, 8], [9, 10, 11, 12]]\n",
      "[9, 10, 11, 12]\n",
      "[9, 10, 11, 12]\n",
      "[[ 1  2  3  4]\n",
      " [ 5  6  7  8]\n",
      " [ 9 10 11 12]]\n",
      "[ 9 10 11 12]\n",
      "[ 9 10 11 12]\n",
      "[ 9 10 11 12]\n",
      "[ 3  7 11]\n",
      "[[3 4]\n",
      " [7 8]]\n"
     ]
    }
   ],
   "source": [
    "my2dlist = [[1,2,3,4],[5,6,7,8],[9,10,11,12]]   # a 2-dim list\n",
    "\n",
    "print(my2dlist)\n",
    "\n",
    "print(my2dlist[2])        # access the third sublist\n",
    "\n",
    "print(my2dlist[:][2])     # can't access third element of each sublist\n",
    "\n",
    "# print(my2dlist[:,2])    # this will cause syntax error\n",
    "\n",
    "my2darr = np.array(my2dlist)\n",
    "\n",
    "print(my2darr)\n",
    "\n",
    "print(my2darr[2][:])      # access the third row\n",
    "\n",
    "print(my2darr[2,:])       # access the third row\n",
    "\n",
    "print(my2darr[:][2])      # access the third row (similar to 2d list)\n",
    "\n",
    "print(my2darr[:,2])       # access the third column\n",
    "\n",
    "print(my2darr[:2,2:])     # access the first two rows & last two columns"
   ]
  },
  {
   "cell_type": "markdown",
   "metadata": {
    "hidden": true
   },
   "source": [
    "ndarray also supports boolean indexing."
   ]
  },
  {
   "cell_type": "code",
   "execution_count": 8,
   "metadata": {
    "hidden": true
   },
   "outputs": [
    {
     "name": "stdout",
     "output_type": "stream",
     "text": [
      "[[ 1  2  3  4]\n",
      " [ 5  6  7  8]\n",
      " [ 9 10 11 12]]\n",
      "[ 3  6  9 12] <class 'numpy.ndarray'>\n",
      "[[ 9 12]]\n"
     ]
    }
   ],
   "source": [
    "my2darr = np.arange(1,13,1).reshape(3,4)\n",
    "print(my2darr)\n",
    "\n",
    "divBy3 = my2darr[my2darr % 3 == 0]\n",
    "print(divBy3, type(divBy3))\n",
    "\n",
    "divBy3LastRow = my2darr[2:, my2darr[2,:] % 3 == 0]\n",
    "print(divBy3LastRow)"
   ]
  },
  {
   "cell_type": "markdown",
   "metadata": {
    "hidden": true
   },
   "source": [
    "More indexing examples."
   ]
  },
  {
   "cell_type": "code",
   "execution_count": 9,
   "metadata": {
    "hidden": true
   },
   "outputs": [
    {
     "name": "stdout",
     "output_type": "stream",
     "text": [
      "[[ 1  2  3]\n",
      " [ 4  5  6]\n",
      " [ 7  8  9]\n",
      " [10 11 12]]\n",
      "[[ 7  8  9]\n",
      " [ 4  5  6]\n",
      " [ 1  2  3]\n",
      " [10 11 12]]\n",
      "[ 1  3  4  8 12]\n"
     ]
    }
   ],
   "source": [
    "my2darr = np.arange(1,13,1).reshape(4,3)\n",
    "print(my2darr)\n",
    "\n",
    "indices = [2,1,0,3]    # selected row indices\n",
    "print(my2darr[indices,:])\n",
    "\n",
    "rowIndex = [0,0,1,2,3]     # row index into my2darr\n",
    "columnIndex = [0,2,0,1,2]  # column index into my2darr\n",
    "print(my2darr[rowIndex,columnIndex])"
   ]
  },
  {
   "cell_type": "markdown",
   "metadata": {
    "heading_collapsed": true
   },
   "source": [
    "## Numpy Arithmetic and Statistical Functions\n",
    "\n",
    "There are many built-in mathematical functions available for manipulating elements of nd-array."
   ]
  },
  {
   "cell_type": "code",
   "execution_count": 3,
   "metadata": {
    "hidden": true
   },
   "outputs": [
    {
     "name": "stdout",
     "output_type": "stream",
     "text": [
      "[-1.4  0.4 -3.2  2.5  3.4]\n",
      "[1.4 0.4 3.2 2.5 3.4]\n",
      "[1.18321596 0.63245553 1.78885438 1.58113883 1.84390889]\n",
      "[-1.  1. -1.  1.  1.]\n",
      "[ 0.24659696  1.4918247   0.0407622  12.18249396 29.96410005]\n",
      "[-3.2 -1.4  0.4  2.5  3.4]\n"
     ]
    }
   ],
   "source": [
    "import numpy as np\n",
    "\n",
    "y = np.array([-1.4, 0.4, -3.2, 2.5, 3.4])    # generate a random vector\n",
    "\n",
    "print(y)\n",
    "\n",
    "print(np.abs(y))          # convert to absolute values\n",
    "\n",
    "print(np.sqrt(abs(y)))    # apply square root to each element\n",
    "\n",
    "print(np.sign(y))         # get the sign of each element\n",
    "\n",
    "print(np.exp(y))          # apply exponentiation\n",
    "\n",
    "print(np.sort(y))         # sort array"
   ]
  },
  {
   "cell_type": "code",
   "execution_count": 4,
   "metadata": {
    "hidden": true
   },
   "outputs": [
    {
     "name": "stdout",
     "output_type": "stream",
     "text": [
      "[-2 -1  0  1  2]\n",
      "[-0.46974947  0.75972157  0.23113661  1.66680485 -0.60313692]\n",
      "[-2.46974947 -0.24027843  0.23113661  2.66680485  1.39686308]\n",
      "[-1.53025053 -1.75972157 -0.23113661 -0.66680485  2.60313692]\n",
      "[ 0.93949893 -0.75972157  0.          1.66680485 -1.20627385]\n",
      "[ 4.25758865 -1.31627169  0.          0.59995026 -3.31599662]\n",
      "[-0.46974947  0.75972157  0.23113661  1.66680485  2.        ]\n"
     ]
    }
   ],
   "source": [
    "import numpy as np\n",
    "\n",
    "x = np.arange(-2,3)\n",
    "y = np.random.randn(5)\n",
    "print(x)\n",
    "\n",
    "print(y)\n",
    "\n",
    "print(np.add(x,y))           # element-wise addition       x + y\n",
    "\n",
    "print(np.subtract(x,y))      # element-wise subtraction    x - y\n",
    "\n",
    "print(np.multiply(x,y))      # element-wise multiplication x * y\n",
    "\n",
    "print(np.divide(x,y))        # element-wise division       x / y\n",
    "\n",
    "print(np.maximum(x,y))       # element-wise maximum        max(x,y)"
   ]
  },
  {
   "cell_type": "code",
   "execution_count": 5,
   "metadata": {
    "hidden": true
   },
   "outputs": [
    {
     "name": "stdout",
     "output_type": "stream",
     "text": [
      "[-3.2 -1.4  0.4  2.5  3.4]\n",
      "Min = -3.2\n",
      "Max = 3.4\n",
      "Average = 0.34000000000000014\n",
      "Std deviation = 2.432776191925595\n",
      "Sum = 1.7000000000000006\n"
     ]
    }
   ],
   "source": [
    "y = np.array([-3.2, -1.4, 0.4, 2.5, 3.4])    # generate a random vector\n",
    "\n",
    "print(y)\n",
    "\n",
    "print(\"Min =\", np.min(y))             # min \n",
    "\n",
    "print(\"Max =\", np.max(y))             # max \n",
    "\n",
    "print(\"Average =\", np.mean(y))        # mean/average\n",
    "\n",
    "print(\"Std deviation =\", np.std(y))   # standard deviation\n",
    "\n",
    "print(\"Sum =\", np.sum(y))             # sum "
   ]
  },
  {
   "cell_type": "markdown",
   "metadata": {
    "heading_collapsed": true
   },
   "source": [
    "## Numpy linear algebra\n",
    "\n",
    "Numpy provides many functions to support linear algebra operations."
   ]
  },
  {
   "cell_type": "code",
   "execution_count": 6,
   "metadata": {
    "hidden": true
   },
   "outputs": [
    {
     "name": "stdout",
     "output_type": "stream",
     "text": [
      "[[ 0.59876307 -0.24802821  1.51431636]\n",
      " [-1.05586653 -1.72686204 -0.41968883]]\n",
      "[[ 0.59876307 -1.05586653]\n",
      " [-0.24802821 -1.72686204]\n",
      " [ 1.51431636 -0.41968883]]\n",
      "[-0.11042169 -0.72592192 -0.66797672]\n",
      "[-0.89759539  1.65049994]\n",
      "[[ 2.71318924 -0.83944505]\n",
      " [-0.83944505  4.27304534]]\n",
      "[[1.47337134 1.67482569 1.3498521 ]\n",
      " [1.67482569 3.04357049 0.34915153]\n",
      " [1.3498521  0.34915153 2.46929275]]\n"
     ]
    }
   ],
   "source": [
    "X = np.random.randn(2,3)    # create a 2 x 3 random matrix\n",
    "\n",
    "print(X)\n",
    "\n",
    "\n",
    "print(X.T)             # matrix transpose operation X^T\n",
    "\n",
    "y = np.random.randn(3) # random vector \n",
    "\n",
    "print(y)\n",
    "\n",
    "print(X.dot(y))        # matrix-vector multiplication  X * y\n",
    "\n",
    "print(X.dot(X.T))      # matrix-matrix multiplication  X * X^T\n",
    "\n",
    "print(X.T.dot(X))      # matrix-matrix multiplication  X^T * X"
   ]
  },
  {
   "cell_type": "code",
   "execution_count": 7,
   "metadata": {
    "hidden": true
   },
   "outputs": [
    {
     "name": "stdout",
     "output_type": "stream",
     "text": [
      "[[ 0.62794064 -0.04845289  1.45568782]\n",
      " [-0.05663888 -0.44882636 -0.44292357]\n",
      " [-0.96777971  0.10352524 -0.05074279]\n",
      " [ 0.68042218  0.36585902 -0.49887718]\n",
      " [-0.63271254  0.49848174 -0.61339902]]\n",
      "[[ 0.54683507  0.04258199 -0.18739211]\n",
      " [ 0.04258199  1.81652345  0.21046397]\n",
      " [-0.18739211  0.21046397  0.4319491 ]]\n",
      "2.9680728620510206\n",
      "[3.72266053 1.47338806 0.54113295]\n",
      "[[ 0.56740429 -0.8233602   0.0114171 ]\n",
      " [-0.12624639 -0.07328255  0.98928839]\n",
      " [ 0.81370402  0.56276784  0.14552709]]\n"
     ]
    }
   ],
   "source": [
    "X = np.random.randn(5,3)\n",
    "\n",
    "print(X)\n",
    "\n",
    "C = X.T.dot(X)               # C = X^T * X is a square matrix\n",
    "\n",
    "invC = np.linalg.inv(C)      # inverse of a square matrix\n",
    "\n",
    "print(invC)\n",
    "\n",
    "detC = np.linalg.det(C)      # determinant of a square matrix\n",
    "\n",
    "print(detC)\n",
    "\n",
    "S, U = np.linalg.eig(C)      # eigenvalue S and eigenvector U of a square matrix\n",
    "\n",
    "print(S)\n",
    "\n",
    "print(U)"
   ]
  },
  {
   "cell_type": "markdown",
   "metadata": {
    "heading_collapsed": true
   },
   "source": [
    "## Iterating over array elements"
   ]
  },
  {
   "cell_type": "markdown",
   "metadata": {
    "hidden": true
   },
   "source": [
    "Python `for` loop is the most convenient way to iterate over an array:"
   ]
  },
  {
   "cell_type": "code",
   "execution_count": 3,
   "metadata": {
    "hidden": true
   },
   "outputs": [
    {
     "name": "stdout",
     "output_type": "stream",
     "text": [
      "1\n",
      "2\n",
      "3\n",
      "4\n"
     ]
    }
   ],
   "source": [
    "v = np.array([1, 2, 3, 4])\n",
    "\n",
    "for element in v:\n",
    "    print (element)"
   ]
  },
  {
   "cell_type": "code",
   "execution_count": 4,
   "metadata": {
    "hidden": true
   },
   "outputs": [
    {
     "name": "stdout",
     "output_type": "stream",
     "text": [
      "row [1 2]\n",
      "1\n",
      "2\n",
      "row [3 4]\n",
      "3\n",
      "4\n"
     ]
    }
   ],
   "source": [
    "M = np.array([[1,2], [3,4]])\n",
    "\n",
    "for row in M:\n",
    "    print (\"row\", row)\n",
    "    \n",
    "    for element in row:\n",
    "        print (element)"
   ]
  },
  {
   "cell_type": "markdown",
   "metadata": {
    "hidden": true
   },
   "source": [
    "Use the `enumerate` function to obtain both the element and its index in the `for` loop: "
   ]
  },
  {
   "cell_type": "code",
   "execution_count": 5,
   "metadata": {
    "hidden": true
   },
   "outputs": [
    {
     "name": "stdout",
     "output_type": "stream",
     "text": [
      "row_idx 0 row [1 2]\n",
      "col_idx 0 element 1\n",
      "col_idx 1 element 2\n",
      "row_idx 1 row [3 4]\n",
      "col_idx 0 element 3\n",
      "col_idx 1 element 4\n"
     ]
    }
   ],
   "source": [
    "for row_idx, row in enumerate(M):\n",
    "    print (\"row_idx\", row_idx, \"row\", row)\n",
    "    \n",
    "    for col_idx, element in enumerate(row):\n",
    "        print (\"col_idx\", col_idx, \"element\", element)\n",
    "       \n",
    "        # update the matrix M: square each element\n",
    "        M[row_idx, col_idx] = element ** 2"
   ]
  },
  {
   "cell_type": "code",
   "execution_count": 6,
   "metadata": {
    "hidden": true
   },
   "outputs": [
    {
     "data": {
      "text/plain": [
       "array([[ 1,  4],\n",
       "       [ 9, 16]])"
      ]
     },
     "execution_count": 6,
     "metadata": {},
     "output_type": "execute_result"
    }
   ],
   "source": [
    "# each element in M is now squared\n",
    "M"
   ]
  },
  {
   "cell_type": "markdown",
   "metadata": {
    "heading_collapsed": true
   },
   "source": [
    "## Type casting"
   ]
  },
  {
   "cell_type": "markdown",
   "metadata": {
    "hidden": true
   },
   "source": [
    "Since Numpy arrays are *statically typed*, the type of an array does not change once created. But we can explicitly cast an array of some type to another using the `astype` functions. This always create a new array of new type:"
   ]
  },
  {
   "cell_type": "code",
   "execution_count": 7,
   "metadata": {
    "hidden": true
   },
   "outputs": [
    {
     "data": {
      "text/plain": [
       "dtype('int32')"
      ]
     },
     "execution_count": 7,
     "metadata": {},
     "output_type": "execute_result"
    }
   ],
   "source": [
    "M.dtype"
   ]
  },
  {
   "cell_type": "code",
   "execution_count": 8,
   "metadata": {
    "hidden": true
   },
   "outputs": [
    {
     "data": {
      "text/plain": [
       "array([[  1.,   4.],\n",
       "       [  9.,  16.]])"
      ]
     },
     "execution_count": 8,
     "metadata": {},
     "output_type": "execute_result"
    }
   ],
   "source": [
    "M2 = M.astype(float)\n",
    "\n",
    "M2"
   ]
  },
  {
   "cell_type": "code",
   "execution_count": 9,
   "metadata": {
    "hidden": true
   },
   "outputs": [
    {
     "data": {
      "text/plain": [
       "dtype('float64')"
      ]
     },
     "execution_count": 9,
     "metadata": {},
     "output_type": "execute_result"
    }
   ],
   "source": [
    "M2.dtype"
   ]
  },
  {
   "cell_type": "code",
   "execution_count": 10,
   "metadata": {
    "hidden": true
   },
   "outputs": [
    {
     "data": {
      "text/plain": [
       "array([[ True,  True],\n",
       "       [ True,  True]], dtype=bool)"
      ]
     },
     "execution_count": 10,
     "metadata": {},
     "output_type": "execute_result"
    }
   ],
   "source": [
    "M3 = M.astype(bool)\n",
    "\n",
    "M3"
   ]
  },
  {
   "cell_type": "markdown",
   "metadata": {
    "heading_collapsed": true
   },
   "source": [
    "# Scipy:  a library for scientific computing\n",
    "#### It provides many user-friendly and efficient numerical routines such as stats,  numerical integration and optimization."
   ]
  },
  {
   "cell_type": "code",
   "execution_count": 11,
   "metadata": {
    "hidden": true
   },
   "outputs": [
    {
     "name": "stdout",
     "output_type": "stream",
     "text": [
      "[0 1 1 1 0]\n",
      "[1 1 1 1 0]\n",
      "0.133974596216\n",
      "1.0\n",
      "0.25\n",
      "0.2\n"
     ]
    }
   ],
   "source": [
    "import numpy as np\n",
    "import scipy.spatial.distance as sp_dist\n",
    "\n",
    "\n",
    "x = np.random.randint(0, 2, size = 5)      # Return random integers from low (inclusive) to high (exclusive).\n",
    "y = np.random.randint(0, 2, size = 5)\n",
    "print (x)\n",
    "print (y)\n",
    "print (sp_dist.cosine(x,y))\n",
    "print (sp_dist.euclidean(x,y))\n",
    "print (sp_dist.jaccard(x,y))\n",
    "print (sp_dist.hamming(x,y))"
   ]
  },
  {
   "cell_type": "code",
   "execution_count": 12,
   "metadata": {
    "hidden": true
   },
   "outputs": [
    {
     "data": {
      "text/plain": [
       "LinregressResult(slope=0.20833333333333331, intercept=13.375, rvalue=0.14499815458068518, pvalue=0.68940144811669501, stderr=0.50261704627083637)"
      ]
     },
     "execution_count": 12,
     "metadata": {},
     "output_type": "execute_result"
    }
   ],
   "source": [
    "from scipy.stats import linregress\n",
    "\n",
    "a = [15, 12, 8, 8, 7, 7, 7, 6, 5, 3]\n",
    "b = [10, 25, 17, 11, 13, 17, 20, 13, 9, 15]\n",
    "\n",
    "linregress(a, b)"
   ]
  },
  {
   "cell_type": "code",
   "execution_count": null,
   "metadata": {
    "hidden": true
   },
   "outputs": [],
   "source": []
  }
 ],
 "metadata": {
  "kernelspec": {
   "display_name": "Python 3",
   "language": "python",
   "name": "python3"
  },
  "language_info": {
   "codemirror_mode": {
    "name": "ipython",
    "version": 3
   },
   "file_extension": ".py",
   "mimetype": "text/x-python",
   "name": "python",
   "nbconvert_exporter": "python",
   "pygments_lexer": "ipython3",
   "version": "3.8.8"
  }
 },
 "nbformat": 4,
 "nbformat_minor": 2
}
