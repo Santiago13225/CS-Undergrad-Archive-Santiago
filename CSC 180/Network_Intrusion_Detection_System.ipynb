{
  "cells": [
    {
      "cell_type": "code",
      "execution_count": null,
      "metadata": {
        "colab": {
          "base_uri": "https://localhost:8080/"
        },
        "id": "Fw3HqBg2hiCq",
        "outputId": "ba4cc8e5-3827-456f-c4de-c86b9fb7c6d0"
      },
      "outputs": [
        {
          "output_type": "stream",
          "name": "stdout",
          "text": [
            "Mounted at /content/drive\n"
          ]
        }
      ],
      "source": [
        "from google.colab import drive\n",
        "drive.mount('/content/drive')"
      ],
      "id": "Fw3HqBg2hiCq"
    },
    {
      "cell_type": "code",
      "execution_count": null,
      "metadata": {
        "colab": {
          "base_uri": "https://localhost:8080/",
          "height": 299
        },
        "id": "2714bd87",
        "outputId": "9326a0cb-f620-486f-ae41-410973883eeb"
      },
      "outputs": [
        {
          "output_type": "execute_result",
          "data": {
            "text/plain": [
              "   duration protocol_type service flag  src_bytes  dst_bytes  land  \\\n",
              "0         0           tcp    http   SF        239        486     0   \n",
              "1         0           tcp    http   SF        235       1337     0   \n",
              "2         0           tcp    http   SF        219       1337     0   \n",
              "3         0           tcp    http   SF        217       2032     0   \n",
              "4         0           tcp    http   SF        217       2032     0   \n",
              "\n",
              "   wrong_fragment  urgent  hot  ...  dst_host_srv_count  \\\n",
              "0               0       0    0  ...                  19   \n",
              "1               0       0    0  ...                  29   \n",
              "2               0       0    0  ...                  39   \n",
              "3               0       0    0  ...                  49   \n",
              "4               0       0    0  ...                  59   \n",
              "\n",
              "   dst_host_same_srv_rate  dst_host_diff_srv_rate  \\\n",
              "0                     1.0                     0.0   \n",
              "1                     1.0                     0.0   \n",
              "2                     1.0                     0.0   \n",
              "3                     1.0                     0.0   \n",
              "4                     1.0                     0.0   \n",
              "\n",
              "   dst_host_same_src_port_rate  dst_host_srv_diff_host_rate  \\\n",
              "0                         0.05                          0.0   \n",
              "1                         0.03                          0.0   \n",
              "2                         0.03                          0.0   \n",
              "3                         0.02                          0.0   \n",
              "4                         0.02                          0.0   \n",
              "\n",
              "   dst_host_serror_rate  dst_host_srv_serror_rate  dst_host_rerror_rate  \\\n",
              "0                   0.0                       0.0                   0.0   \n",
              "1                   0.0                       0.0                   0.0   \n",
              "2                   0.0                       0.0                   0.0   \n",
              "3                   0.0                       0.0                   0.0   \n",
              "4                   0.0                       0.0                   0.0   \n",
              "\n",
              "   dst_host_srv_rerror_rate  outcome  \n",
              "0                       0.0  normal.  \n",
              "1                       0.0  normal.  \n",
              "2                       0.0  normal.  \n",
              "3                       0.0  normal.  \n",
              "4                       0.0  normal.  \n",
              "\n",
              "[5 rows x 42 columns]"
            ],
            "text/html": [
              "\n",
              "  <div id=\"df-d46325e6-501a-4856-9bcc-6f70482caa6e\">\n",
              "    <div class=\"colab-df-container\">\n",
              "      <div>\n",
              "<style scoped>\n",
              "    .dataframe tbody tr th:only-of-type {\n",
              "        vertical-align: middle;\n",
              "    }\n",
              "\n",
              "    .dataframe tbody tr th {\n",
              "        vertical-align: top;\n",
              "    }\n",
              "\n",
              "    .dataframe thead th {\n",
              "        text-align: right;\n",
              "    }\n",
              "</style>\n",
              "<table border=\"1\" class=\"dataframe\">\n",
              "  <thead>\n",
              "    <tr style=\"text-align: right;\">\n",
              "      <th></th>\n",
              "      <th>duration</th>\n",
              "      <th>protocol_type</th>\n",
              "      <th>service</th>\n",
              "      <th>flag</th>\n",
              "      <th>src_bytes</th>\n",
              "      <th>dst_bytes</th>\n",
              "      <th>land</th>\n",
              "      <th>wrong_fragment</th>\n",
              "      <th>urgent</th>\n",
              "      <th>hot</th>\n",
              "      <th>...</th>\n",
              "      <th>dst_host_srv_count</th>\n",
              "      <th>dst_host_same_srv_rate</th>\n",
              "      <th>dst_host_diff_srv_rate</th>\n",
              "      <th>dst_host_same_src_port_rate</th>\n",
              "      <th>dst_host_srv_diff_host_rate</th>\n",
              "      <th>dst_host_serror_rate</th>\n",
              "      <th>dst_host_srv_serror_rate</th>\n",
              "      <th>dst_host_rerror_rate</th>\n",
              "      <th>dst_host_srv_rerror_rate</th>\n",
              "      <th>outcome</th>\n",
              "    </tr>\n",
              "  </thead>\n",
              "  <tbody>\n",
              "    <tr>\n",
              "      <th>0</th>\n",
              "      <td>0</td>\n",
              "      <td>tcp</td>\n",
              "      <td>http</td>\n",
              "      <td>SF</td>\n",
              "      <td>239</td>\n",
              "      <td>486</td>\n",
              "      <td>0</td>\n",
              "      <td>0</td>\n",
              "      <td>0</td>\n",
              "      <td>0</td>\n",
              "      <td>...</td>\n",
              "      <td>19</td>\n",
              "      <td>1.0</td>\n",
              "      <td>0.0</td>\n",
              "      <td>0.05</td>\n",
              "      <td>0.0</td>\n",
              "      <td>0.0</td>\n",
              "      <td>0.0</td>\n",
              "      <td>0.0</td>\n",
              "      <td>0.0</td>\n",
              "      <td>normal.</td>\n",
              "    </tr>\n",
              "    <tr>\n",
              "      <th>1</th>\n",
              "      <td>0</td>\n",
              "      <td>tcp</td>\n",
              "      <td>http</td>\n",
              "      <td>SF</td>\n",
              "      <td>235</td>\n",
              "      <td>1337</td>\n",
              "      <td>0</td>\n",
              "      <td>0</td>\n",
              "      <td>0</td>\n",
              "      <td>0</td>\n",
              "      <td>...</td>\n",
              "      <td>29</td>\n",
              "      <td>1.0</td>\n",
              "      <td>0.0</td>\n",
              "      <td>0.03</td>\n",
              "      <td>0.0</td>\n",
              "      <td>0.0</td>\n",
              "      <td>0.0</td>\n",
              "      <td>0.0</td>\n",
              "      <td>0.0</td>\n",
              "      <td>normal.</td>\n",
              "    </tr>\n",
              "    <tr>\n",
              "      <th>2</th>\n",
              "      <td>0</td>\n",
              "      <td>tcp</td>\n",
              "      <td>http</td>\n",
              "      <td>SF</td>\n",
              "      <td>219</td>\n",
              "      <td>1337</td>\n",
              "      <td>0</td>\n",
              "      <td>0</td>\n",
              "      <td>0</td>\n",
              "      <td>0</td>\n",
              "      <td>...</td>\n",
              "      <td>39</td>\n",
              "      <td>1.0</td>\n",
              "      <td>0.0</td>\n",
              "      <td>0.03</td>\n",
              "      <td>0.0</td>\n",
              "      <td>0.0</td>\n",
              "      <td>0.0</td>\n",
              "      <td>0.0</td>\n",
              "      <td>0.0</td>\n",
              "      <td>normal.</td>\n",
              "    </tr>\n",
              "    <tr>\n",
              "      <th>3</th>\n",
              "      <td>0</td>\n",
              "      <td>tcp</td>\n",
              "      <td>http</td>\n",
              "      <td>SF</td>\n",
              "      <td>217</td>\n",
              "      <td>2032</td>\n",
              "      <td>0</td>\n",
              "      <td>0</td>\n",
              "      <td>0</td>\n",
              "      <td>0</td>\n",
              "      <td>...</td>\n",
              "      <td>49</td>\n",
              "      <td>1.0</td>\n",
              "      <td>0.0</td>\n",
              "      <td>0.02</td>\n",
              "      <td>0.0</td>\n",
              "      <td>0.0</td>\n",
              "      <td>0.0</td>\n",
              "      <td>0.0</td>\n",
              "      <td>0.0</td>\n",
              "      <td>normal.</td>\n",
              "    </tr>\n",
              "    <tr>\n",
              "      <th>4</th>\n",
              "      <td>0</td>\n",
              "      <td>tcp</td>\n",
              "      <td>http</td>\n",
              "      <td>SF</td>\n",
              "      <td>217</td>\n",
              "      <td>2032</td>\n",
              "      <td>0</td>\n",
              "      <td>0</td>\n",
              "      <td>0</td>\n",
              "      <td>0</td>\n",
              "      <td>...</td>\n",
              "      <td>59</td>\n",
              "      <td>1.0</td>\n",
              "      <td>0.0</td>\n",
              "      <td>0.02</td>\n",
              "      <td>0.0</td>\n",
              "      <td>0.0</td>\n",
              "      <td>0.0</td>\n",
              "      <td>0.0</td>\n",
              "      <td>0.0</td>\n",
              "      <td>normal.</td>\n",
              "    </tr>\n",
              "  </tbody>\n",
              "</table>\n",
              "<p>5 rows × 42 columns</p>\n",
              "</div>\n",
              "      <button class=\"colab-df-convert\" onclick=\"convertToInteractive('df-d46325e6-501a-4856-9bcc-6f70482caa6e')\"\n",
              "              title=\"Convert this dataframe to an interactive table.\"\n",
              "              style=\"display:none;\">\n",
              "        \n",
              "  <svg xmlns=\"http://www.w3.org/2000/svg\" height=\"24px\"viewBox=\"0 0 24 24\"\n",
              "       width=\"24px\">\n",
              "    <path d=\"M0 0h24v24H0V0z\" fill=\"none\"/>\n",
              "    <path d=\"M18.56 5.44l.94 2.06.94-2.06 2.06-.94-2.06-.94-.94-2.06-.94 2.06-2.06.94zm-11 1L8.5 8.5l.94-2.06 2.06-.94-2.06-.94L8.5 2.5l-.94 2.06-2.06.94zm10 10l.94 2.06.94-2.06 2.06-.94-2.06-.94-.94-2.06-.94 2.06-2.06.94z\"/><path d=\"M17.41 7.96l-1.37-1.37c-.4-.4-.92-.59-1.43-.59-.52 0-1.04.2-1.43.59L10.3 9.45l-7.72 7.72c-.78.78-.78 2.05 0 2.83L4 21.41c.39.39.9.59 1.41.59.51 0 1.02-.2 1.41-.59l7.78-7.78 2.81-2.81c.8-.78.8-2.07 0-2.86zM5.41 20L4 18.59l7.72-7.72 1.47 1.35L5.41 20z\"/>\n",
              "  </svg>\n",
              "      </button>\n",
              "      \n",
              "  <style>\n",
              "    .colab-df-container {\n",
              "      display:flex;\n",
              "      flex-wrap:wrap;\n",
              "      gap: 12px;\n",
              "    }\n",
              "\n",
              "    .colab-df-convert {\n",
              "      background-color: #E8F0FE;\n",
              "      border: none;\n",
              "      border-radius: 50%;\n",
              "      cursor: pointer;\n",
              "      display: none;\n",
              "      fill: #1967D2;\n",
              "      height: 32px;\n",
              "      padding: 0 0 0 0;\n",
              "      width: 32px;\n",
              "    }\n",
              "\n",
              "    .colab-df-convert:hover {\n",
              "      background-color: #E2EBFA;\n",
              "      box-shadow: 0px 1px 2px rgba(60, 64, 67, 0.3), 0px 1px 3px 1px rgba(60, 64, 67, 0.15);\n",
              "      fill: #174EA6;\n",
              "    }\n",
              "\n",
              "    [theme=dark] .colab-df-convert {\n",
              "      background-color: #3B4455;\n",
              "      fill: #D2E3FC;\n",
              "    }\n",
              "\n",
              "    [theme=dark] .colab-df-convert:hover {\n",
              "      background-color: #434B5C;\n",
              "      box-shadow: 0px 1px 3px 1px rgba(0, 0, 0, 0.15);\n",
              "      filter: drop-shadow(0px 1px 2px rgba(0, 0, 0, 0.3));\n",
              "      fill: #FFFFFF;\n",
              "    }\n",
              "  </style>\n",
              "\n",
              "      <script>\n",
              "        const buttonEl =\n",
              "          document.querySelector('#df-d46325e6-501a-4856-9bcc-6f70482caa6e button.colab-df-convert');\n",
              "        buttonEl.style.display =\n",
              "          google.colab.kernel.accessAllowed ? 'block' : 'none';\n",
              "\n",
              "        async function convertToInteractive(key) {\n",
              "          const element = document.querySelector('#df-d46325e6-501a-4856-9bcc-6f70482caa6e');\n",
              "          const dataTable =\n",
              "            await google.colab.kernel.invokeFunction('convertToInteractive',\n",
              "                                                     [key], {});\n",
              "          if (!dataTable) return;\n",
              "\n",
              "          const docLinkHtml = 'Like what you see? Visit the ' +\n",
              "            '<a target=\"_blank\" href=https://colab.research.google.com/notebooks/data_table.ipynb>data table notebook</a>'\n",
              "            + ' to learn more about interactive tables.';\n",
              "          element.innerHTML = '';\n",
              "          dataTable['output_type'] = 'display_data';\n",
              "          await google.colab.output.renderOutput(dataTable, element);\n",
              "          const docLink = document.createElement('div');\n",
              "          docLink.innerHTML = docLinkHtml;\n",
              "          element.appendChild(docLink);\n",
              "        }\n",
              "      </script>\n",
              "    </div>\n",
              "  </div>\n",
              "  "
            ]
          },
          "metadata": {},
          "execution_count": 3
        }
      ],
      "source": [
        "%matplotlib inline\n",
        "from matplotlib.pyplot import figure, show\n",
        "from sklearn.model_selection import train_test_split\n",
        "import pandas as pd\n",
        "import os\n",
        "import numpy as np\n",
        "from sklearn import metrics\n",
        "\n",
        "from tensorflow.keras.models import Sequential\n",
        "from tensorflow.keras.layers import Dense, Activation\n",
        "from tensorflow.keras.callbacks import EarlyStopping\n",
        "from tensorflow.keras.callbacks import ModelCheckpoint\n",
        "from tensorflow.keras import optimizers\n",
        "\n",
        "import json\n",
        "import csv \n",
        "import pandas as pd \n",
        "\n",
        "#df = pd.read_json('/content/drive/MyDrive/json/Out.json', lines=False)\n",
        "\n",
        "df = pd.read_csv('/content/network_intrusion_data.csv', nrows = 1000000)\n",
        "\n",
        "df.columns = [ \n",
        "    'duration', \n",
        "    'protocol_type', \n",
        "    'service', \n",
        "    'flag', \n",
        "    'src_bytes', \n",
        "    'dst_bytes', \n",
        "    'land', \n",
        "    'wrong_fragment', \n",
        "    'urgent', \n",
        "    'hot', \n",
        "    'num_failed_logins', \n",
        "    'logged_in', \n",
        "    'num_compromised', \n",
        "    'root_shell', \n",
        "    'su_attempted', \n",
        "    'num_root', \n",
        "    'num_file_creations', \n",
        "    'num_shells', \n",
        "    'num_access_files', \n",
        "    'num_outbound_cmds', \n",
        "    'is_host_login', \n",
        "    'is_guest_login', \n",
        "    'count', \n",
        "    'srv_count', \n",
        "    'serror_rate', \n",
        "    'srv_serror_rate', \n",
        "    'rerror_rate', \n",
        "    'srv_rerror_rate', \n",
        "    'same_srv_rate', \n",
        "    'diff_srv_rate', \n",
        "    'srv_diff_host_rate', \n",
        "    'dst_host_count', \n",
        "    'dst_host_srv_count', \n",
        "    'dst_host_same_srv_rate', \n",
        "    'dst_host_diff_srv_rate', \n",
        "    'dst_host_same_src_port_rate', \n",
        "    'dst_host_srv_diff_host_rate', \n",
        "    'dst_host_serror_rate', \n",
        "    'dst_host_srv_serror_rate', \n",
        "    'dst_host_rerror_rate', \n",
        "    'dst_host_srv_rerror_rate', \n",
        "    'outcome' \n",
        "]\n",
        "\n",
        "df.head()"
      ],
      "id": "2714bd87"
    },
    {
      "cell_type": "code",
      "execution_count": null,
      "metadata": {
        "id": "jB9NRIfedsfM",
        "colab": {
          "base_uri": "https://localhost:8080/",
          "height": 393
        },
        "outputId": "95f41578-7dd5-4783-be48-dace7fcade00"
      },
      "outputs": [
        {
          "output_type": "execute_result",
          "data": {
            "text/plain": [
              "            duration     src_bytes     dst_bytes           land  \\\n",
              "count  494020.000000  4.940200e+05  4.940200e+05  494020.000000   \n",
              "mean       47.979400  3.025616e+03  8.685232e+02       0.000045   \n",
              "std       707.747185  9.882191e+05  3.304003e+04       0.006673   \n",
              "min         0.000000  0.000000e+00  0.000000e+00       0.000000   \n",
              "25%         0.000000  4.500000e+01  0.000000e+00       0.000000   \n",
              "50%         0.000000  5.200000e+02  0.000000e+00       0.000000   \n",
              "75%         0.000000  1.032000e+03  0.000000e+00       0.000000   \n",
              "max     58329.000000  6.933756e+08  5.155468e+06       1.000000   \n",
              "\n",
              "       wrong_fragment         urgent            hot  num_failed_logins  \\\n",
              "count   494020.000000  494020.000000  494020.000000      494020.000000   \n",
              "mean         0.006433       0.000014       0.034519           0.000152   \n",
              "std          0.134805       0.005510       0.782103           0.015520   \n",
              "min          0.000000       0.000000       0.000000           0.000000   \n",
              "25%          0.000000       0.000000       0.000000           0.000000   \n",
              "50%          0.000000       0.000000       0.000000           0.000000   \n",
              "75%          0.000000       0.000000       0.000000           0.000000   \n",
              "max          3.000000       3.000000      30.000000           5.000000   \n",
              "\n",
              "           logged_in  num_compromised  ...  dst_host_count  \\\n",
              "count  494020.000000    494020.000000  ...   494020.000000   \n",
              "mean        0.148245         0.010212  ...      232.471230   \n",
              "std         0.355343         1.798328  ...       64.744665   \n",
              "min         0.000000         0.000000  ...        0.000000   \n",
              "25%         0.000000         0.000000  ...      255.000000   \n",
              "50%         0.000000         0.000000  ...      255.000000   \n",
              "75%         0.000000         0.000000  ...      255.000000   \n",
              "max         1.000000       884.000000  ...      255.000000   \n",
              "\n",
              "       dst_host_srv_count  dst_host_same_srv_rate  dst_host_diff_srv_rate  \\\n",
              "count       494020.000000           494020.000000           494020.000000   \n",
              "mean           188.666034                0.753779                0.030906   \n",
              "std            106.040236                0.410781                0.109259   \n",
              "min              0.000000                0.000000                0.000000   \n",
              "25%             46.000000                0.410000                0.000000   \n",
              "50%            255.000000                1.000000                0.000000   \n",
              "75%            255.000000                1.000000                0.040000   \n",
              "max            255.000000                1.000000                1.000000   \n",
              "\n",
              "       dst_host_same_src_port_rate  dst_host_srv_diff_host_rate  \\\n",
              "count                494020.000000                494020.000000   \n",
              "mean                      0.601936                     0.006684   \n",
              "std                       0.481309                     0.042133   \n",
              "min                       0.000000                     0.000000   \n",
              "25%                       0.000000                     0.000000   \n",
              "50%                       1.000000                     0.000000   \n",
              "75%                       1.000000                     0.000000   \n",
              "max                       1.000000                     1.000000   \n",
              "\n",
              "       dst_host_serror_rate  dst_host_srv_serror_rate  dst_host_rerror_rate  \\\n",
              "count         494020.000000             494020.000000         494020.000000   \n",
              "mean               0.176754                  0.176443              0.058118   \n",
              "std                0.380593                  0.380920              0.230590   \n",
              "min                0.000000                  0.000000              0.000000   \n",
              "25%                0.000000                  0.000000              0.000000   \n",
              "50%                0.000000                  0.000000              0.000000   \n",
              "75%                0.000000                  0.000000              0.000000   \n",
              "max                1.000000                  1.000000              1.000000   \n",
              "\n",
              "       dst_host_srv_rerror_rate  \n",
              "count             494020.000000  \n",
              "mean                   0.057412  \n",
              "std                    0.230141  \n",
              "min                    0.000000  \n",
              "25%                    0.000000  \n",
              "50%                    0.000000  \n",
              "75%                    0.000000  \n",
              "max                    1.000000  \n",
              "\n",
              "[8 rows x 38 columns]"
            ],
            "text/html": [
              "\n",
              "  <div id=\"df-8a614b65-9156-4cb9-8093-ba51f8059197\">\n",
              "    <div class=\"colab-df-container\">\n",
              "      <div>\n",
              "<style scoped>\n",
              "    .dataframe tbody tr th:only-of-type {\n",
              "        vertical-align: middle;\n",
              "    }\n",
              "\n",
              "    .dataframe tbody tr th {\n",
              "        vertical-align: top;\n",
              "    }\n",
              "\n",
              "    .dataframe thead th {\n",
              "        text-align: right;\n",
              "    }\n",
              "</style>\n",
              "<table border=\"1\" class=\"dataframe\">\n",
              "  <thead>\n",
              "    <tr style=\"text-align: right;\">\n",
              "      <th></th>\n",
              "      <th>duration</th>\n",
              "      <th>src_bytes</th>\n",
              "      <th>dst_bytes</th>\n",
              "      <th>land</th>\n",
              "      <th>wrong_fragment</th>\n",
              "      <th>urgent</th>\n",
              "      <th>hot</th>\n",
              "      <th>num_failed_logins</th>\n",
              "      <th>logged_in</th>\n",
              "      <th>num_compromised</th>\n",
              "      <th>...</th>\n",
              "      <th>dst_host_count</th>\n",
              "      <th>dst_host_srv_count</th>\n",
              "      <th>dst_host_same_srv_rate</th>\n",
              "      <th>dst_host_diff_srv_rate</th>\n",
              "      <th>dst_host_same_src_port_rate</th>\n",
              "      <th>dst_host_srv_diff_host_rate</th>\n",
              "      <th>dst_host_serror_rate</th>\n",
              "      <th>dst_host_srv_serror_rate</th>\n",
              "      <th>dst_host_rerror_rate</th>\n",
              "      <th>dst_host_srv_rerror_rate</th>\n",
              "    </tr>\n",
              "  </thead>\n",
              "  <tbody>\n",
              "    <tr>\n",
              "      <th>count</th>\n",
              "      <td>494020.000000</td>\n",
              "      <td>4.940200e+05</td>\n",
              "      <td>4.940200e+05</td>\n",
              "      <td>494020.000000</td>\n",
              "      <td>494020.000000</td>\n",
              "      <td>494020.000000</td>\n",
              "      <td>494020.000000</td>\n",
              "      <td>494020.000000</td>\n",
              "      <td>494020.000000</td>\n",
              "      <td>494020.000000</td>\n",
              "      <td>...</td>\n",
              "      <td>494020.000000</td>\n",
              "      <td>494020.000000</td>\n",
              "      <td>494020.000000</td>\n",
              "      <td>494020.000000</td>\n",
              "      <td>494020.000000</td>\n",
              "      <td>494020.000000</td>\n",
              "      <td>494020.000000</td>\n",
              "      <td>494020.000000</td>\n",
              "      <td>494020.000000</td>\n",
              "      <td>494020.000000</td>\n",
              "    </tr>\n",
              "    <tr>\n",
              "      <th>mean</th>\n",
              "      <td>47.979400</td>\n",
              "      <td>3.025616e+03</td>\n",
              "      <td>8.685232e+02</td>\n",
              "      <td>0.000045</td>\n",
              "      <td>0.006433</td>\n",
              "      <td>0.000014</td>\n",
              "      <td>0.034519</td>\n",
              "      <td>0.000152</td>\n",
              "      <td>0.148245</td>\n",
              "      <td>0.010212</td>\n",
              "      <td>...</td>\n",
              "      <td>232.471230</td>\n",
              "      <td>188.666034</td>\n",
              "      <td>0.753779</td>\n",
              "      <td>0.030906</td>\n",
              "      <td>0.601936</td>\n",
              "      <td>0.006684</td>\n",
              "      <td>0.176754</td>\n",
              "      <td>0.176443</td>\n",
              "      <td>0.058118</td>\n",
              "      <td>0.057412</td>\n",
              "    </tr>\n",
              "    <tr>\n",
              "      <th>std</th>\n",
              "      <td>707.747185</td>\n",
              "      <td>9.882191e+05</td>\n",
              "      <td>3.304003e+04</td>\n",
              "      <td>0.006673</td>\n",
              "      <td>0.134805</td>\n",
              "      <td>0.005510</td>\n",
              "      <td>0.782103</td>\n",
              "      <td>0.015520</td>\n",
              "      <td>0.355343</td>\n",
              "      <td>1.798328</td>\n",
              "      <td>...</td>\n",
              "      <td>64.744665</td>\n",
              "      <td>106.040236</td>\n",
              "      <td>0.410781</td>\n",
              "      <td>0.109259</td>\n",
              "      <td>0.481309</td>\n",
              "      <td>0.042133</td>\n",
              "      <td>0.380593</td>\n",
              "      <td>0.380920</td>\n",
              "      <td>0.230590</td>\n",
              "      <td>0.230141</td>\n",
              "    </tr>\n",
              "    <tr>\n",
              "      <th>min</th>\n",
              "      <td>0.000000</td>\n",
              "      <td>0.000000e+00</td>\n",
              "      <td>0.000000e+00</td>\n",
              "      <td>0.000000</td>\n",
              "      <td>0.000000</td>\n",
              "      <td>0.000000</td>\n",
              "      <td>0.000000</td>\n",
              "      <td>0.000000</td>\n",
              "      <td>0.000000</td>\n",
              "      <td>0.000000</td>\n",
              "      <td>...</td>\n",
              "      <td>0.000000</td>\n",
              "      <td>0.000000</td>\n",
              "      <td>0.000000</td>\n",
              "      <td>0.000000</td>\n",
              "      <td>0.000000</td>\n",
              "      <td>0.000000</td>\n",
              "      <td>0.000000</td>\n",
              "      <td>0.000000</td>\n",
              "      <td>0.000000</td>\n",
              "      <td>0.000000</td>\n",
              "    </tr>\n",
              "    <tr>\n",
              "      <th>25%</th>\n",
              "      <td>0.000000</td>\n",
              "      <td>4.500000e+01</td>\n",
              "      <td>0.000000e+00</td>\n",
              "      <td>0.000000</td>\n",
              "      <td>0.000000</td>\n",
              "      <td>0.000000</td>\n",
              "      <td>0.000000</td>\n",
              "      <td>0.000000</td>\n",
              "      <td>0.000000</td>\n",
              "      <td>0.000000</td>\n",
              "      <td>...</td>\n",
              "      <td>255.000000</td>\n",
              "      <td>46.000000</td>\n",
              "      <td>0.410000</td>\n",
              "      <td>0.000000</td>\n",
              "      <td>0.000000</td>\n",
              "      <td>0.000000</td>\n",
              "      <td>0.000000</td>\n",
              "      <td>0.000000</td>\n",
              "      <td>0.000000</td>\n",
              "      <td>0.000000</td>\n",
              "    </tr>\n",
              "    <tr>\n",
              "      <th>50%</th>\n",
              "      <td>0.000000</td>\n",
              "      <td>5.200000e+02</td>\n",
              "      <td>0.000000e+00</td>\n",
              "      <td>0.000000</td>\n",
              "      <td>0.000000</td>\n",
              "      <td>0.000000</td>\n",
              "      <td>0.000000</td>\n",
              "      <td>0.000000</td>\n",
              "      <td>0.000000</td>\n",
              "      <td>0.000000</td>\n",
              "      <td>...</td>\n",
              "      <td>255.000000</td>\n",
              "      <td>255.000000</td>\n",
              "      <td>1.000000</td>\n",
              "      <td>0.000000</td>\n",
              "      <td>1.000000</td>\n",
              "      <td>0.000000</td>\n",
              "      <td>0.000000</td>\n",
              "      <td>0.000000</td>\n",
              "      <td>0.000000</td>\n",
              "      <td>0.000000</td>\n",
              "    </tr>\n",
              "    <tr>\n",
              "      <th>75%</th>\n",
              "      <td>0.000000</td>\n",
              "      <td>1.032000e+03</td>\n",
              "      <td>0.000000e+00</td>\n",
              "      <td>0.000000</td>\n",
              "      <td>0.000000</td>\n",
              "      <td>0.000000</td>\n",
              "      <td>0.000000</td>\n",
              "      <td>0.000000</td>\n",
              "      <td>0.000000</td>\n",
              "      <td>0.000000</td>\n",
              "      <td>...</td>\n",
              "      <td>255.000000</td>\n",
              "      <td>255.000000</td>\n",
              "      <td>1.000000</td>\n",
              "      <td>0.040000</td>\n",
              "      <td>1.000000</td>\n",
              "      <td>0.000000</td>\n",
              "      <td>0.000000</td>\n",
              "      <td>0.000000</td>\n",
              "      <td>0.000000</td>\n",
              "      <td>0.000000</td>\n",
              "    </tr>\n",
              "    <tr>\n",
              "      <th>max</th>\n",
              "      <td>58329.000000</td>\n",
              "      <td>6.933756e+08</td>\n",
              "      <td>5.155468e+06</td>\n",
              "      <td>1.000000</td>\n",
              "      <td>3.000000</td>\n",
              "      <td>3.000000</td>\n",
              "      <td>30.000000</td>\n",
              "      <td>5.000000</td>\n",
              "      <td>1.000000</td>\n",
              "      <td>884.000000</td>\n",
              "      <td>...</td>\n",
              "      <td>255.000000</td>\n",
              "      <td>255.000000</td>\n",
              "      <td>1.000000</td>\n",
              "      <td>1.000000</td>\n",
              "      <td>1.000000</td>\n",
              "      <td>1.000000</td>\n",
              "      <td>1.000000</td>\n",
              "      <td>1.000000</td>\n",
              "      <td>1.000000</td>\n",
              "      <td>1.000000</td>\n",
              "    </tr>\n",
              "  </tbody>\n",
              "</table>\n",
              "<p>8 rows × 38 columns</p>\n",
              "</div>\n",
              "      <button class=\"colab-df-convert\" onclick=\"convertToInteractive('df-8a614b65-9156-4cb9-8093-ba51f8059197')\"\n",
              "              title=\"Convert this dataframe to an interactive table.\"\n",
              "              style=\"display:none;\">\n",
              "        \n",
              "  <svg xmlns=\"http://www.w3.org/2000/svg\" height=\"24px\"viewBox=\"0 0 24 24\"\n",
              "       width=\"24px\">\n",
              "    <path d=\"M0 0h24v24H0V0z\" fill=\"none\"/>\n",
              "    <path d=\"M18.56 5.44l.94 2.06.94-2.06 2.06-.94-2.06-.94-.94-2.06-.94 2.06-2.06.94zm-11 1L8.5 8.5l.94-2.06 2.06-.94-2.06-.94L8.5 2.5l-.94 2.06-2.06.94zm10 10l.94 2.06.94-2.06 2.06-.94-2.06-.94-.94-2.06-.94 2.06-2.06.94z\"/><path d=\"M17.41 7.96l-1.37-1.37c-.4-.4-.92-.59-1.43-.59-.52 0-1.04.2-1.43.59L10.3 9.45l-7.72 7.72c-.78.78-.78 2.05 0 2.83L4 21.41c.39.39.9.59 1.41.59.51 0 1.02-.2 1.41-.59l7.78-7.78 2.81-2.81c.8-.78.8-2.07 0-2.86zM5.41 20L4 18.59l7.72-7.72 1.47 1.35L5.41 20z\"/>\n",
              "  </svg>\n",
              "      </button>\n",
              "      \n",
              "  <style>\n",
              "    .colab-df-container {\n",
              "      display:flex;\n",
              "      flex-wrap:wrap;\n",
              "      gap: 12px;\n",
              "    }\n",
              "\n",
              "    .colab-df-convert {\n",
              "      background-color: #E8F0FE;\n",
              "      border: none;\n",
              "      border-radius: 50%;\n",
              "      cursor: pointer;\n",
              "      display: none;\n",
              "      fill: #1967D2;\n",
              "      height: 32px;\n",
              "      padding: 0 0 0 0;\n",
              "      width: 32px;\n",
              "    }\n",
              "\n",
              "    .colab-df-convert:hover {\n",
              "      background-color: #E2EBFA;\n",
              "      box-shadow: 0px 1px 2px rgba(60, 64, 67, 0.3), 0px 1px 3px 1px rgba(60, 64, 67, 0.15);\n",
              "      fill: #174EA6;\n",
              "    }\n",
              "\n",
              "    [theme=dark] .colab-df-convert {\n",
              "      background-color: #3B4455;\n",
              "      fill: #D2E3FC;\n",
              "    }\n",
              "\n",
              "    [theme=dark] .colab-df-convert:hover {\n",
              "      background-color: #434B5C;\n",
              "      box-shadow: 0px 1px 3px 1px rgba(0, 0, 0, 0.15);\n",
              "      filter: drop-shadow(0px 1px 2px rgba(0, 0, 0, 0.3));\n",
              "      fill: #FFFFFF;\n",
              "    }\n",
              "  </style>\n",
              "\n",
              "      <script>\n",
              "        const buttonEl =\n",
              "          document.querySelector('#df-8a614b65-9156-4cb9-8093-ba51f8059197 button.colab-df-convert');\n",
              "        buttonEl.style.display =\n",
              "          google.colab.kernel.accessAllowed ? 'block' : 'none';\n",
              "\n",
              "        async function convertToInteractive(key) {\n",
              "          const element = document.querySelector('#df-8a614b65-9156-4cb9-8093-ba51f8059197');\n",
              "          const dataTable =\n",
              "            await google.colab.kernel.invokeFunction('convertToInteractive',\n",
              "                                                     [key], {});\n",
              "          if (!dataTable) return;\n",
              "\n",
              "          const docLinkHtml = 'Like what you see? Visit the ' +\n",
              "            '<a target=\"_blank\" href=https://colab.research.google.com/notebooks/data_table.ipynb>data table notebook</a>'\n",
              "            + ' to learn more about interactive tables.';\n",
              "          element.innerHTML = '';\n",
              "          dataTable['output_type'] = 'display_data';\n",
              "          await google.colab.output.renderOutput(dataTable, element);\n",
              "          const docLink = document.createElement('div');\n",
              "          docLink.innerHTML = docLinkHtml;\n",
              "          element.appendChild(docLink);\n",
              "        }\n",
              "      </script>\n",
              "    </div>\n",
              "  </div>\n",
              "  "
            ]
          },
          "metadata": {},
          "execution_count": 4
        }
      ],
      "source": [
        "df.describe()"
      ],
      "id": "jB9NRIfedsfM"
    },
    {
      "cell_type": "markdown",
      "source": [
        "###**Helpful Functions for Tensorflow**###\n",
        "The following functions will be used with TensorFlow to help preprocess the data. They allow you to build the feature vector for a neural network."
      ],
      "metadata": {
        "id": "QwhErioeLUUy"
      },
      "id": "QwhErioeLUUy"
    },
    {
      "cell_type": "code",
      "execution_count": null,
      "metadata": {
        "id": "c33bbe5a"
      },
      "outputs": [],
      "source": [
        "from collections.abc import Sequence\n",
        "from sklearn import preprocessing\n",
        "import matplotlib.pyplot as plt\n",
        "import numpy as np\n",
        "import pandas as pd\n",
        "import shutil\n",
        "import os\n",
        "\n",
        "\n",
        "# Encode text values to dummy variables(i.e. [1,0,0],[0,1,0],[0,0,1] for red,green,blue)\n",
        "def encode_text_dummy(df, name):\n",
        "    dummies = pd.get_dummies(df[name])\n",
        "    for x in dummies.columns:\n",
        "        dummy_name = \"{}-{}\".format(name, x)\n",
        "        df[dummy_name] = dummies[x]\n",
        "    df.drop(name, axis=1, inplace=True)\n",
        "\n",
        "\n",
        "# Encode text values to indexes(i.e. [1],[2],[3] for red,green,blue).\n",
        "def encode_text_index(df, name):\n",
        "    le = preprocessing.LabelEncoder()\n",
        "    df[name] = le.fit_transform(df[name])\n",
        "    return le.classes_\n",
        "\n",
        "\n",
        "# Encode a numeric column as zscores\n",
        "def encode_numeric_zscore(df, name, mean=None, sd=None):\n",
        "    if mean is None:\n",
        "        mean = df[name].mean()\n",
        "\n",
        "    if sd is None:\n",
        "        sd = df[name].std()\n",
        "\n",
        "    df[name] = (df[name] - mean) / sd\n",
        "\n",
        "\n",
        "# Convert all missing values in the specified column to the median\n",
        "def missing_median(df, name):\n",
        "    med = df[name].median()\n",
        "    df[name] = df[name].fillna(med)\n",
        "\n",
        "\n",
        "# Convert all missing values in the specified column to the default\n",
        "def missing_default(df, name, default_value):\n",
        "    df[name] = df[name].fillna(default_value)\n",
        "\n",
        "\n",
        "# Convert a Pandas dataframe to the x,y inputs that TensorFlow needs\n",
        "def to_xy(df, target):\n",
        "    result = []\n",
        "    for x in df.columns:\n",
        "        if x != target:\n",
        "            result.append(x)\n",
        "    # find out the type of the target column. \n",
        "    target_type = df[target].dtypes\n",
        "    target_type = target_type[0] if isinstance(target_type, Sequence) else target_type\n",
        "    # Encode to int for classification, float otherwise. TensorFlow likes 32 bits.\n",
        "    if target_type in (np.int64, np.int32):\n",
        "        # Classification\n",
        "        dummies = pd.get_dummies(df[target])\n",
        "        return df[result].values.astype(np.float32), dummies.values.astype(np.float32)\n",
        "    else:\n",
        "        # Regression\n",
        "        return df[result].values.astype(np.float32), df[target].values.astype(np.float32)\n",
        "\n",
        "# Nicely formatted time string\n",
        "def hms_string(sec_elapsed):\n",
        "    h = int(sec_elapsed / (60 * 60))\n",
        "    m = int((sec_elapsed % (60 * 60)) / 60)\n",
        "    s = sec_elapsed % 60\n",
        "    return \"{}:{:>02}:{:>05.2f}\".format(h, m, s)\n",
        "\n",
        "\n",
        "# Regression chart.\n",
        "def chart_regression(pred,y,sort=True):\n",
        "    t = pd.DataFrame({'pred' : pred, 'y' : y.flatten()})\n",
        "    if sort:\n",
        "        t.sort_values(by=['y'],inplace=True)\n",
        "    a = plt.plot(t['y'].tolist(),label='expected')\n",
        "    b = plt.plot(t['pred'].tolist(),label='prediction')\n",
        "    plt.ylabel('output')\n",
        "    plt.legend()\n",
        "    plt.show()\n",
        "\n",
        "# Remove all rows where the specified column is +/- sd standard deviations\n",
        "def remove_outliers(df, name, sd):\n",
        "    drop_rows = df.index[(np.abs(df[name] - df[name].mean()) >= (sd * df[name].std()))]\n",
        "    df.drop(drop_rows, axis=0, inplace=True)\n",
        "\n",
        "\n",
        "# Encode a column to a range between normalized_low and normalized_high.\n",
        "def encode_numeric_range(df, name, normalized_low=-1, normalized_high=1,\n",
        "                         data_low=None, data_high=None):\n",
        "    if data_low is None:\n",
        "        data_low = min(df[name])\n",
        "        data_high = max(df[name])\n",
        "\n",
        "    df[name] = ((df[name] - data_low) / (data_high - data_low)) * (normalized_high - normalized_low) + normalized_low"
      ],
      "id": "c33bbe5a"
    },
    {
      "cell_type": "code",
      "execution_count": null,
      "metadata": {
        "id": "e27c63ca",
        "colab": {
          "base_uri": "https://localhost:8080/"
        },
        "outputId": "f020e98d-86c6-429a-ff8f-a72551a85725"
      },
      "outputs": [
        {
          "output_type": "stream",
          "name": "stdout",
          "text": [
            "        duration protocol_type service flag  src_bytes  dst_bytes  land  \\\n",
            "0              0           tcp    http   SF        239        486     0   \n",
            "1              0           tcp    http   SF        235       1337     0   \n",
            "2              0           tcp    http   SF        219       1337     0   \n",
            "3              0           tcp    http   SF        217       2032     0   \n",
            "4              0           tcp    http   SF        217       2032     0   \n",
            "...          ...           ...     ...  ...        ...        ...   ...   \n",
            "494015         0           tcp    http   SF        310       1881     0   \n",
            "494016         0           tcp    http   SF        282       2286     0   \n",
            "494017         0           tcp    http   SF        203       1200     0   \n",
            "494018         0           tcp    http   SF        291       1200     0   \n",
            "494019         0           tcp    http   SF        219       1234     0   \n",
            "\n",
            "        wrong_fragment  urgent  hot  ...  dst_host_srv_count  \\\n",
            "0                    0       0    0  ...                  19   \n",
            "1                    0       0    0  ...                  29   \n",
            "2                    0       0    0  ...                  39   \n",
            "3                    0       0    0  ...                  49   \n",
            "4                    0       0    0  ...                  59   \n",
            "...                ...     ...  ...  ...                 ...   \n",
            "494015               0       0    0  ...                 255   \n",
            "494016               0       0    0  ...                 255   \n",
            "494017               0       0    0  ...                 255   \n",
            "494018               0       0    0  ...                 255   \n",
            "494019               0       0    0  ...                 255   \n",
            "\n",
            "        dst_host_same_srv_rate  dst_host_diff_srv_rate  \\\n",
            "0                          1.0                     0.0   \n",
            "1                          1.0                     0.0   \n",
            "2                          1.0                     0.0   \n",
            "3                          1.0                     0.0   \n",
            "4                          1.0                     0.0   \n",
            "...                        ...                     ...   \n",
            "494015                     1.0                     0.0   \n",
            "494016                     1.0                     0.0   \n",
            "494017                     1.0                     0.0   \n",
            "494018                     1.0                     0.0   \n",
            "494019                     1.0                     0.0   \n",
            "\n",
            "        dst_host_same_src_port_rate  dst_host_srv_diff_host_rate  \\\n",
            "0                              0.05                         0.00   \n",
            "1                              0.03                         0.00   \n",
            "2                              0.03                         0.00   \n",
            "3                              0.02                         0.00   \n",
            "4                              0.02                         0.00   \n",
            "...                             ...                          ...   \n",
            "494015                         0.01                         0.05   \n",
            "494016                         0.17                         0.05   \n",
            "494017                         0.06                         0.05   \n",
            "494018                         0.04                         0.05   \n",
            "494019                         0.17                         0.05   \n",
            "\n",
            "        dst_host_serror_rate  dst_host_srv_serror_rate  dst_host_rerror_rate  \\\n",
            "0                       0.00                      0.00                   0.0   \n",
            "1                       0.00                      0.00                   0.0   \n",
            "2                       0.00                      0.00                   0.0   \n",
            "3                       0.00                      0.00                   0.0   \n",
            "4                       0.00                      0.00                   0.0   \n",
            "...                      ...                       ...                   ...   \n",
            "494015                  0.00                      0.01                   0.0   \n",
            "494016                  0.00                      0.01                   0.0   \n",
            "494017                  0.06                      0.01                   0.0   \n",
            "494018                  0.04                      0.01                   0.0   \n",
            "494019                  0.00                      0.01                   0.0   \n",
            "\n",
            "        dst_host_srv_rerror_rate  outcome  \n",
            "0                            0.0  normal.  \n",
            "1                            0.0  normal.  \n",
            "2                            0.0  normal.  \n",
            "3                            0.0  normal.  \n",
            "4                            0.0  normal.  \n",
            "...                          ...      ...  \n",
            "494015                       0.0  normal.  \n",
            "494016                       0.0  normal.  \n",
            "494017                       0.0  normal.  \n",
            "494018                       0.0  normal.  \n",
            "494019                       0.0  normal.  \n",
            "\n",
            "[494020 rows x 42 columns]\n",
            "Number of Rows:  494020\n",
            "Number of Columns:  42\n",
            "Done!\n"
          ]
        }
      ],
      "source": [
        "rows = len(df.axes[0])\n",
        " \n",
        "# computing number of columns\n",
        "cols = len(df.axes[1])\n",
        " \n",
        "print(df)\n",
        "print(\"Number of Rows: \", rows)\n",
        "print(\"Number of Columns: \", cols)\n",
        "\n",
        "print('Done!')"
      ],
      "id": "e27c63ca"
    },
    {
      "cell_type": "code",
      "execution_count": null,
      "metadata": {
        "colab": {
          "base_uri": "https://localhost:8080/",
          "height": 487
        },
        "id": "03efd5c0",
        "outputId": "b2bcaf32-bf26-4ad6-f72c-1a180a3230c3"
      },
      "outputs": [
        {
          "output_type": "execute_result",
          "data": {
            "text/plain": [
              "        duration protocol_type service flag  src_bytes  dst_bytes  land  \\\n",
              "0              0           tcp    http   SF        239        486     0   \n",
              "1              0           tcp    http   SF        235       1337     0   \n",
              "2              0           tcp    http   SF        219       1337     0   \n",
              "3              0           tcp    http   SF        217       2032     0   \n",
              "4              0           tcp    http   SF        217       2032     0   \n",
              "...          ...           ...     ...  ...        ...        ...   ...   \n",
              "494015         0           tcp    http   SF        310       1881     0   \n",
              "494016         0           tcp    http   SF        282       2286     0   \n",
              "494017         0           tcp    http   SF        203       1200     0   \n",
              "494018         0           tcp    http   SF        291       1200     0   \n",
              "494019         0           tcp    http   SF        219       1234     0   \n",
              "\n",
              "        wrong_fragment  urgent  hot  ...  dst_host_srv_count  \\\n",
              "0                    0       0    0  ...                  19   \n",
              "1                    0       0    0  ...                  29   \n",
              "2                    0       0    0  ...                  39   \n",
              "3                    0       0    0  ...                  49   \n",
              "4                    0       0    0  ...                  59   \n",
              "...                ...     ...  ...  ...                 ...   \n",
              "494015               0       0    0  ...                 255   \n",
              "494016               0       0    0  ...                 255   \n",
              "494017               0       0    0  ...                 255   \n",
              "494018               0       0    0  ...                 255   \n",
              "494019               0       0    0  ...                 255   \n",
              "\n",
              "        dst_host_same_srv_rate  dst_host_diff_srv_rate  \\\n",
              "0                          1.0                     0.0   \n",
              "1                          1.0                     0.0   \n",
              "2                          1.0                     0.0   \n",
              "3                          1.0                     0.0   \n",
              "4                          1.0                     0.0   \n",
              "...                        ...                     ...   \n",
              "494015                     1.0                     0.0   \n",
              "494016                     1.0                     0.0   \n",
              "494017                     1.0                     0.0   \n",
              "494018                     1.0                     0.0   \n",
              "494019                     1.0                     0.0   \n",
              "\n",
              "        dst_host_same_src_port_rate  dst_host_srv_diff_host_rate  \\\n",
              "0                              0.05                         0.00   \n",
              "1                              0.03                         0.00   \n",
              "2                              0.03                         0.00   \n",
              "3                              0.02                         0.00   \n",
              "4                              0.02                         0.00   \n",
              "...                             ...                          ...   \n",
              "494015                         0.01                         0.05   \n",
              "494016                         0.17                         0.05   \n",
              "494017                         0.06                         0.05   \n",
              "494018                         0.04                         0.05   \n",
              "494019                         0.17                         0.05   \n",
              "\n",
              "        dst_host_serror_rate  dst_host_srv_serror_rate  dst_host_rerror_rate  \\\n",
              "0                       0.00                      0.00                   0.0   \n",
              "1                       0.00                      0.00                   0.0   \n",
              "2                       0.00                      0.00                   0.0   \n",
              "3                       0.00                      0.00                   0.0   \n",
              "4                       0.00                      0.00                   0.0   \n",
              "...                      ...                       ...                   ...   \n",
              "494015                  0.00                      0.01                   0.0   \n",
              "494016                  0.00                      0.01                   0.0   \n",
              "494017                  0.06                      0.01                   0.0   \n",
              "494018                  0.04                      0.01                   0.0   \n",
              "494019                  0.00                      0.01                   0.0   \n",
              "\n",
              "        dst_host_srv_rerror_rate  outcome  \n",
              "0                            0.0  normal.  \n",
              "1                            0.0  normal.  \n",
              "2                            0.0  normal.  \n",
              "3                            0.0  normal.  \n",
              "4                            0.0  normal.  \n",
              "...                          ...      ...  \n",
              "494015                       0.0  normal.  \n",
              "494016                       0.0  normal.  \n",
              "494017                       0.0  normal.  \n",
              "494018                       0.0  normal.  \n",
              "494019                       0.0  normal.  \n",
              "\n",
              "[494020 rows x 42 columns]"
            ],
            "text/html": [
              "\n",
              "  <div id=\"df-0a86745d-d54b-41b9-9251-e3e96a5854d7\">\n",
              "    <div class=\"colab-df-container\">\n",
              "      <div>\n",
              "<style scoped>\n",
              "    .dataframe tbody tr th:only-of-type {\n",
              "        vertical-align: middle;\n",
              "    }\n",
              "\n",
              "    .dataframe tbody tr th {\n",
              "        vertical-align: top;\n",
              "    }\n",
              "\n",
              "    .dataframe thead th {\n",
              "        text-align: right;\n",
              "    }\n",
              "</style>\n",
              "<table border=\"1\" class=\"dataframe\">\n",
              "  <thead>\n",
              "    <tr style=\"text-align: right;\">\n",
              "      <th></th>\n",
              "      <th>duration</th>\n",
              "      <th>protocol_type</th>\n",
              "      <th>service</th>\n",
              "      <th>flag</th>\n",
              "      <th>src_bytes</th>\n",
              "      <th>dst_bytes</th>\n",
              "      <th>land</th>\n",
              "      <th>wrong_fragment</th>\n",
              "      <th>urgent</th>\n",
              "      <th>hot</th>\n",
              "      <th>...</th>\n",
              "      <th>dst_host_srv_count</th>\n",
              "      <th>dst_host_same_srv_rate</th>\n",
              "      <th>dst_host_diff_srv_rate</th>\n",
              "      <th>dst_host_same_src_port_rate</th>\n",
              "      <th>dst_host_srv_diff_host_rate</th>\n",
              "      <th>dst_host_serror_rate</th>\n",
              "      <th>dst_host_srv_serror_rate</th>\n",
              "      <th>dst_host_rerror_rate</th>\n",
              "      <th>dst_host_srv_rerror_rate</th>\n",
              "      <th>outcome</th>\n",
              "    </tr>\n",
              "  </thead>\n",
              "  <tbody>\n",
              "    <tr>\n",
              "      <th>0</th>\n",
              "      <td>0</td>\n",
              "      <td>tcp</td>\n",
              "      <td>http</td>\n",
              "      <td>SF</td>\n",
              "      <td>239</td>\n",
              "      <td>486</td>\n",
              "      <td>0</td>\n",
              "      <td>0</td>\n",
              "      <td>0</td>\n",
              "      <td>0</td>\n",
              "      <td>...</td>\n",
              "      <td>19</td>\n",
              "      <td>1.0</td>\n",
              "      <td>0.0</td>\n",
              "      <td>0.05</td>\n",
              "      <td>0.00</td>\n",
              "      <td>0.00</td>\n",
              "      <td>0.00</td>\n",
              "      <td>0.0</td>\n",
              "      <td>0.0</td>\n",
              "      <td>normal.</td>\n",
              "    </tr>\n",
              "    <tr>\n",
              "      <th>1</th>\n",
              "      <td>0</td>\n",
              "      <td>tcp</td>\n",
              "      <td>http</td>\n",
              "      <td>SF</td>\n",
              "      <td>235</td>\n",
              "      <td>1337</td>\n",
              "      <td>0</td>\n",
              "      <td>0</td>\n",
              "      <td>0</td>\n",
              "      <td>0</td>\n",
              "      <td>...</td>\n",
              "      <td>29</td>\n",
              "      <td>1.0</td>\n",
              "      <td>0.0</td>\n",
              "      <td>0.03</td>\n",
              "      <td>0.00</td>\n",
              "      <td>0.00</td>\n",
              "      <td>0.00</td>\n",
              "      <td>0.0</td>\n",
              "      <td>0.0</td>\n",
              "      <td>normal.</td>\n",
              "    </tr>\n",
              "    <tr>\n",
              "      <th>2</th>\n",
              "      <td>0</td>\n",
              "      <td>tcp</td>\n",
              "      <td>http</td>\n",
              "      <td>SF</td>\n",
              "      <td>219</td>\n",
              "      <td>1337</td>\n",
              "      <td>0</td>\n",
              "      <td>0</td>\n",
              "      <td>0</td>\n",
              "      <td>0</td>\n",
              "      <td>...</td>\n",
              "      <td>39</td>\n",
              "      <td>1.0</td>\n",
              "      <td>0.0</td>\n",
              "      <td>0.03</td>\n",
              "      <td>0.00</td>\n",
              "      <td>0.00</td>\n",
              "      <td>0.00</td>\n",
              "      <td>0.0</td>\n",
              "      <td>0.0</td>\n",
              "      <td>normal.</td>\n",
              "    </tr>\n",
              "    <tr>\n",
              "      <th>3</th>\n",
              "      <td>0</td>\n",
              "      <td>tcp</td>\n",
              "      <td>http</td>\n",
              "      <td>SF</td>\n",
              "      <td>217</td>\n",
              "      <td>2032</td>\n",
              "      <td>0</td>\n",
              "      <td>0</td>\n",
              "      <td>0</td>\n",
              "      <td>0</td>\n",
              "      <td>...</td>\n",
              "      <td>49</td>\n",
              "      <td>1.0</td>\n",
              "      <td>0.0</td>\n",
              "      <td>0.02</td>\n",
              "      <td>0.00</td>\n",
              "      <td>0.00</td>\n",
              "      <td>0.00</td>\n",
              "      <td>0.0</td>\n",
              "      <td>0.0</td>\n",
              "      <td>normal.</td>\n",
              "    </tr>\n",
              "    <tr>\n",
              "      <th>4</th>\n",
              "      <td>0</td>\n",
              "      <td>tcp</td>\n",
              "      <td>http</td>\n",
              "      <td>SF</td>\n",
              "      <td>217</td>\n",
              "      <td>2032</td>\n",
              "      <td>0</td>\n",
              "      <td>0</td>\n",
              "      <td>0</td>\n",
              "      <td>0</td>\n",
              "      <td>...</td>\n",
              "      <td>59</td>\n",
              "      <td>1.0</td>\n",
              "      <td>0.0</td>\n",
              "      <td>0.02</td>\n",
              "      <td>0.00</td>\n",
              "      <td>0.00</td>\n",
              "      <td>0.00</td>\n",
              "      <td>0.0</td>\n",
              "      <td>0.0</td>\n",
              "      <td>normal.</td>\n",
              "    </tr>\n",
              "    <tr>\n",
              "      <th>...</th>\n",
              "      <td>...</td>\n",
              "      <td>...</td>\n",
              "      <td>...</td>\n",
              "      <td>...</td>\n",
              "      <td>...</td>\n",
              "      <td>...</td>\n",
              "      <td>...</td>\n",
              "      <td>...</td>\n",
              "      <td>...</td>\n",
              "      <td>...</td>\n",
              "      <td>...</td>\n",
              "      <td>...</td>\n",
              "      <td>...</td>\n",
              "      <td>...</td>\n",
              "      <td>...</td>\n",
              "      <td>...</td>\n",
              "      <td>...</td>\n",
              "      <td>...</td>\n",
              "      <td>...</td>\n",
              "      <td>...</td>\n",
              "      <td>...</td>\n",
              "    </tr>\n",
              "    <tr>\n",
              "      <th>494015</th>\n",
              "      <td>0</td>\n",
              "      <td>tcp</td>\n",
              "      <td>http</td>\n",
              "      <td>SF</td>\n",
              "      <td>310</td>\n",
              "      <td>1881</td>\n",
              "      <td>0</td>\n",
              "      <td>0</td>\n",
              "      <td>0</td>\n",
              "      <td>0</td>\n",
              "      <td>...</td>\n",
              "      <td>255</td>\n",
              "      <td>1.0</td>\n",
              "      <td>0.0</td>\n",
              "      <td>0.01</td>\n",
              "      <td>0.05</td>\n",
              "      <td>0.00</td>\n",
              "      <td>0.01</td>\n",
              "      <td>0.0</td>\n",
              "      <td>0.0</td>\n",
              "      <td>normal.</td>\n",
              "    </tr>\n",
              "    <tr>\n",
              "      <th>494016</th>\n",
              "      <td>0</td>\n",
              "      <td>tcp</td>\n",
              "      <td>http</td>\n",
              "      <td>SF</td>\n",
              "      <td>282</td>\n",
              "      <td>2286</td>\n",
              "      <td>0</td>\n",
              "      <td>0</td>\n",
              "      <td>0</td>\n",
              "      <td>0</td>\n",
              "      <td>...</td>\n",
              "      <td>255</td>\n",
              "      <td>1.0</td>\n",
              "      <td>0.0</td>\n",
              "      <td>0.17</td>\n",
              "      <td>0.05</td>\n",
              "      <td>0.00</td>\n",
              "      <td>0.01</td>\n",
              "      <td>0.0</td>\n",
              "      <td>0.0</td>\n",
              "      <td>normal.</td>\n",
              "    </tr>\n",
              "    <tr>\n",
              "      <th>494017</th>\n",
              "      <td>0</td>\n",
              "      <td>tcp</td>\n",
              "      <td>http</td>\n",
              "      <td>SF</td>\n",
              "      <td>203</td>\n",
              "      <td>1200</td>\n",
              "      <td>0</td>\n",
              "      <td>0</td>\n",
              "      <td>0</td>\n",
              "      <td>0</td>\n",
              "      <td>...</td>\n",
              "      <td>255</td>\n",
              "      <td>1.0</td>\n",
              "      <td>0.0</td>\n",
              "      <td>0.06</td>\n",
              "      <td>0.05</td>\n",
              "      <td>0.06</td>\n",
              "      <td>0.01</td>\n",
              "      <td>0.0</td>\n",
              "      <td>0.0</td>\n",
              "      <td>normal.</td>\n",
              "    </tr>\n",
              "    <tr>\n",
              "      <th>494018</th>\n",
              "      <td>0</td>\n",
              "      <td>tcp</td>\n",
              "      <td>http</td>\n",
              "      <td>SF</td>\n",
              "      <td>291</td>\n",
              "      <td>1200</td>\n",
              "      <td>0</td>\n",
              "      <td>0</td>\n",
              "      <td>0</td>\n",
              "      <td>0</td>\n",
              "      <td>...</td>\n",
              "      <td>255</td>\n",
              "      <td>1.0</td>\n",
              "      <td>0.0</td>\n",
              "      <td>0.04</td>\n",
              "      <td>0.05</td>\n",
              "      <td>0.04</td>\n",
              "      <td>0.01</td>\n",
              "      <td>0.0</td>\n",
              "      <td>0.0</td>\n",
              "      <td>normal.</td>\n",
              "    </tr>\n",
              "    <tr>\n",
              "      <th>494019</th>\n",
              "      <td>0</td>\n",
              "      <td>tcp</td>\n",
              "      <td>http</td>\n",
              "      <td>SF</td>\n",
              "      <td>219</td>\n",
              "      <td>1234</td>\n",
              "      <td>0</td>\n",
              "      <td>0</td>\n",
              "      <td>0</td>\n",
              "      <td>0</td>\n",
              "      <td>...</td>\n",
              "      <td>255</td>\n",
              "      <td>1.0</td>\n",
              "      <td>0.0</td>\n",
              "      <td>0.17</td>\n",
              "      <td>0.05</td>\n",
              "      <td>0.00</td>\n",
              "      <td>0.01</td>\n",
              "      <td>0.0</td>\n",
              "      <td>0.0</td>\n",
              "      <td>normal.</td>\n",
              "    </tr>\n",
              "  </tbody>\n",
              "</table>\n",
              "<p>494020 rows × 42 columns</p>\n",
              "</div>\n",
              "      <button class=\"colab-df-convert\" onclick=\"convertToInteractive('df-0a86745d-d54b-41b9-9251-e3e96a5854d7')\"\n",
              "              title=\"Convert this dataframe to an interactive table.\"\n",
              "              style=\"display:none;\">\n",
              "        \n",
              "  <svg xmlns=\"http://www.w3.org/2000/svg\" height=\"24px\"viewBox=\"0 0 24 24\"\n",
              "       width=\"24px\">\n",
              "    <path d=\"M0 0h24v24H0V0z\" fill=\"none\"/>\n",
              "    <path d=\"M18.56 5.44l.94 2.06.94-2.06 2.06-.94-2.06-.94-.94-2.06-.94 2.06-2.06.94zm-11 1L8.5 8.5l.94-2.06 2.06-.94-2.06-.94L8.5 2.5l-.94 2.06-2.06.94zm10 10l.94 2.06.94-2.06 2.06-.94-2.06-.94-.94-2.06-.94 2.06-2.06.94z\"/><path d=\"M17.41 7.96l-1.37-1.37c-.4-.4-.92-.59-1.43-.59-.52 0-1.04.2-1.43.59L10.3 9.45l-7.72 7.72c-.78.78-.78 2.05 0 2.83L4 21.41c.39.39.9.59 1.41.59.51 0 1.02-.2 1.41-.59l7.78-7.78 2.81-2.81c.8-.78.8-2.07 0-2.86zM5.41 20L4 18.59l7.72-7.72 1.47 1.35L5.41 20z\"/>\n",
              "  </svg>\n",
              "      </button>\n",
              "      \n",
              "  <style>\n",
              "    .colab-df-container {\n",
              "      display:flex;\n",
              "      flex-wrap:wrap;\n",
              "      gap: 12px;\n",
              "    }\n",
              "\n",
              "    .colab-df-convert {\n",
              "      background-color: #E8F0FE;\n",
              "      border: none;\n",
              "      border-radius: 50%;\n",
              "      cursor: pointer;\n",
              "      display: none;\n",
              "      fill: #1967D2;\n",
              "      height: 32px;\n",
              "      padding: 0 0 0 0;\n",
              "      width: 32px;\n",
              "    }\n",
              "\n",
              "    .colab-df-convert:hover {\n",
              "      background-color: #E2EBFA;\n",
              "      box-shadow: 0px 1px 2px rgba(60, 64, 67, 0.3), 0px 1px 3px 1px rgba(60, 64, 67, 0.15);\n",
              "      fill: #174EA6;\n",
              "    }\n",
              "\n",
              "    [theme=dark] .colab-df-convert {\n",
              "      background-color: #3B4455;\n",
              "      fill: #D2E3FC;\n",
              "    }\n",
              "\n",
              "    [theme=dark] .colab-df-convert:hover {\n",
              "      background-color: #434B5C;\n",
              "      box-shadow: 0px 1px 3px 1px rgba(0, 0, 0, 0.15);\n",
              "      filter: drop-shadow(0px 1px 2px rgba(0, 0, 0, 0.3));\n",
              "      fill: #FFFFFF;\n",
              "    }\n",
              "  </style>\n",
              "\n",
              "      <script>\n",
              "        const buttonEl =\n",
              "          document.querySelector('#df-0a86745d-d54b-41b9-9251-e3e96a5854d7 button.colab-df-convert');\n",
              "        buttonEl.style.display =\n",
              "          google.colab.kernel.accessAllowed ? 'block' : 'none';\n",
              "\n",
              "        async function convertToInteractive(key) {\n",
              "          const element = document.querySelector('#df-0a86745d-d54b-41b9-9251-e3e96a5854d7');\n",
              "          const dataTable =\n",
              "            await google.colab.kernel.invokeFunction('convertToInteractive',\n",
              "                                                     [key], {});\n",
              "          if (!dataTable) return;\n",
              "\n",
              "          const docLinkHtml = 'Like what you see? Visit the ' +\n",
              "            '<a target=\"_blank\" href=https://colab.research.google.com/notebooks/data_table.ipynb>data table notebook</a>'\n",
              "            + ' to learn more about interactive tables.';\n",
              "          element.innerHTML = '';\n",
              "          dataTable['output_type'] = 'display_data';\n",
              "          await google.colab.output.renderOutput(dataTable, element);\n",
              "          const docLink = document.createElement('div');\n",
              "          docLink.innerHTML = docLinkHtml;\n",
              "          element.appendChild(docLink);\n",
              "        }\n",
              "      </script>\n",
              "    </div>\n",
              "  </div>\n",
              "  "
            ]
          },
          "metadata": {},
          "execution_count": 7
        }
      ],
      "source": [
        "df"
      ],
      "id": "03efd5c0"
    },
    {
      "cell_type": "code",
      "execution_count": null,
      "metadata": {
        "colab": {
          "base_uri": "https://localhost:8080/"
        },
        "id": "1d3aa50f",
        "outputId": "ecc338ab-c8b0-48cf-ca16-07de9d89ee38"
      },
      "outputs": [
        {
          "output_type": "stream",
          "name": "stdout",
          "text": [
            "Done!\n"
          ]
        }
      ],
      "source": [
        "dfc = df\n",
        "print('Done!')"
      ],
      "id": "1d3aa50f"
    },
    {
      "cell_type": "markdown",
      "source": [
        "###**Removing Duplicate Values**###\n",
        "We begin by removing duplicate rows in the data."
      ],
      "metadata": {
        "id": "6_2wJP5oRPLp"
      },
      "id": "6_2wJP5oRPLp"
    },
    {
      "cell_type": "code",
      "execution_count": null,
      "metadata": {
        "colab": {
          "base_uri": "https://localhost:8080/"
        },
        "id": "c97b294e",
        "outputId": "a017fae5-3c4d-491d-ec41-15d4a62b08d5"
      },
      "outputs": [
        {
          "output_type": "stream",
          "name": "stdout",
          "text": [
            "Number of duplicate rows = 348435\n",
            "Number of rows before discarding duplicates = 494020\n",
            "Number of rows after discarding duplicates = 145585\n"
          ]
        }
      ],
      "source": [
        "dups = dfc.duplicated()\n",
        "print('Number of duplicate rows = %d' % (dups.sum()))\n",
        "\n",
        "print('Number of rows before discarding duplicates = %d' % (dfc.shape[0]))\n",
        "dfc = dfc.drop_duplicates()\n",
        "print('Number of rows after discarding duplicates = %d' % (dfc.shape[0]))"
      ],
      "id": "c97b294e"
    },
    {
      "cell_type": "markdown",
      "source": [
        "###**Processing Missing Values**###\n",
        "Next, we check for missing values and deal with them if there are any."
      ],
      "metadata": {
        "id": "QeAG77lXRmHh"
      },
      "id": "QeAG77lXRmHh"
    },
    {
      "cell_type": "code",
      "source": [
        "print('Number of missing values:')\n",
        "for col in dfc.columns:\n",
        "    print('\\t%s: %d' % (col,dfc[col].isna().sum()))\n",
        "print('')"
      ],
      "metadata": {
        "colab": {
          "base_uri": "https://localhost:8080/"
        },
        "id": "JEUflPjURpVI",
        "outputId": "89b09eb3-1fee-4cde-b331-6696b18746cb"
      },
      "id": "JEUflPjURpVI",
      "execution_count": null,
      "outputs": [
        {
          "output_type": "stream",
          "name": "stdout",
          "text": [
            "Number of missing values:\n",
            "\tduration: 0\n",
            "\tprotocol_type: 0\n",
            "\tservice: 0\n",
            "\tflag: 0\n",
            "\tsrc_bytes: 0\n",
            "\tdst_bytes: 0\n",
            "\tland: 0\n",
            "\twrong_fragment: 0\n",
            "\turgent: 0\n",
            "\thot: 0\n",
            "\tnum_failed_logins: 0\n",
            "\tlogged_in: 0\n",
            "\tnum_compromised: 0\n",
            "\troot_shell: 0\n",
            "\tsu_attempted: 0\n",
            "\tnum_root: 0\n",
            "\tnum_file_creations: 0\n",
            "\tnum_shells: 0\n",
            "\tnum_access_files: 0\n",
            "\tnum_outbound_cmds: 0\n",
            "\tis_host_login: 0\n",
            "\tis_guest_login: 0\n",
            "\tcount: 0\n",
            "\tsrv_count: 0\n",
            "\tserror_rate: 0\n",
            "\tsrv_serror_rate: 0\n",
            "\trerror_rate: 0\n",
            "\tsrv_rerror_rate: 0\n",
            "\tsame_srv_rate: 0\n",
            "\tdiff_srv_rate: 0\n",
            "\tsrv_diff_host_rate: 0\n",
            "\tdst_host_count: 0\n",
            "\tdst_host_srv_count: 0\n",
            "\tdst_host_same_srv_rate: 0\n",
            "\tdst_host_diff_srv_rate: 0\n",
            "\tdst_host_same_src_port_rate: 0\n",
            "\tdst_host_srv_diff_host_rate: 0\n",
            "\tdst_host_serror_rate: 0\n",
            "\tdst_host_srv_serror_rate: 0\n",
            "\tdst_host_rerror_rate: 0\n",
            "\tdst_host_srv_rerror_rate: 0\n",
            "\toutcome: 0\n",
            "\n"
          ]
        }
      ]
    },
    {
      "cell_type": "code",
      "execution_count": null,
      "metadata": {
        "colab": {
          "base_uri": "https://localhost:8080/"
        },
        "id": "d9bf0324",
        "outputId": "6762ef10-1924-4cd9-c392-368478aa4320"
      },
      "outputs": [
        {
          "output_type": "execute_result",
          "data": {
            "text/plain": [
              "array(['normal.', 'buffer_overflow.', 'loadmodule.', 'perl.', 'neptune.',\n",
              "       'smurf.', 'guess_passwd.', 'pod.', 'teardrop.', 'portsweep.',\n",
              "       'ipsweep.', 'land.', 'ftp_write.', 'back.', 'imap.', 'satan.',\n",
              "       'phf.', 'nmap.', 'multihop.', 'warezmaster.', 'warezclient.',\n",
              "       'spy.', 'rootkit.'], dtype=object)"
            ]
          },
          "metadata": {},
          "execution_count": 11
        }
      ],
      "source": [
        "dfc['outcome'].unique()"
      ],
      "id": "d9bf0324"
    },
    {
      "cell_type": "code",
      "source": [
        "dfc['outcome'].value_counts()"
      ],
      "metadata": {
        "colab": {
          "base_uri": "https://localhost:8080/"
        },
        "id": "zoeN-z33cvp1",
        "outputId": "ceba60a1-dbf7-41b3-b3a9-e1bee961d64c"
      },
      "id": "zoeN-z33cvp1",
      "execution_count": null,
      "outputs": [
        {
          "output_type": "execute_result",
          "data": {
            "text/plain": [
              "normal.             87831\n",
              "neptune.            51820\n",
              "back.                 968\n",
              "teardrop.             918\n",
              "satan.                906\n",
              "warezclient.          893\n",
              "ipsweep.              651\n",
              "smurf.                641\n",
              "portsweep.            416\n",
              "pod.                  206\n",
              "nmap.                 158\n",
              "guess_passwd.          53\n",
              "buffer_overflow.       30\n",
              "warezmaster.           20\n",
              "land.                  19\n",
              "imap.                  12\n",
              "rootkit.               10\n",
              "loadmodule.             9\n",
              "ftp_write.              8\n",
              "multihop.               7\n",
              "phf.                    4\n",
              "perl.                   3\n",
              "spy.                    2\n",
              "Name: outcome, dtype: int64"
            ]
          },
          "metadata": {},
          "execution_count": 12
        }
      ]
    },
    {
      "cell_type": "markdown",
      "source": [
        "###**Encoding and Normalization**###\n",
        "Then, we will want to encode categorical features and normalize numeric features."
      ],
      "metadata": {
        "id": "lxHLCIH6SWDR"
      },
      "id": "lxHLCIH6SWDR"
    },
    {
      "cell_type": "markdown",
      "source": [
        "###**Encoding (*Part 1)**###\n",
        "For this project, we will want to encode the outcomes as good connections and as bad connections."
      ],
      "metadata": {
        "id": "73PS-aeNTtMq"
      },
      "id": "73PS-aeNTtMq"
    },
    {
      "cell_type": "code",
      "source": [
        "from sklearn.preprocessing import LabelEncoder\n",
        "le = LabelEncoder()\n",
        "print(le)"
      ],
      "metadata": {
        "colab": {
          "base_uri": "https://localhost:8080/"
        },
        "id": "SO_XmWw1c7Zk",
        "outputId": "281e43b4-c68b-483a-e1c1-254df4504316"
      },
      "id": "SO_XmWw1c7Zk",
      "execution_count": null,
      "outputs": [
        {
          "output_type": "stream",
          "name": "stdout",
          "text": [
            "LabelEncoder()\n"
          ]
        }
      ]
    },
    {
      "cell_type": "code",
      "source": [
        "dfc['outcome'] = le.fit_transform(dfc['outcome'])\n",
        "dfc.head()"
      ],
      "metadata": {
        "colab": {
          "base_uri": "https://localhost:8080/",
          "height": 404
        },
        "id": "ce8tCi2HdOte",
        "outputId": "699bba1c-f861-4812-d818-c9dda6ce81f3"
      },
      "id": "ce8tCi2HdOte",
      "execution_count": null,
      "outputs": [
        {
          "output_type": "stream",
          "name": "stderr",
          "text": [
            "/usr/local/lib/python3.7/dist-packages/ipykernel_launcher.py:1: SettingWithCopyWarning: \n",
            "A value is trying to be set on a copy of a slice from a DataFrame.\n",
            "Try using .loc[row_indexer,col_indexer] = value instead\n",
            "\n",
            "See the caveats in the documentation: https://pandas.pydata.org/pandas-docs/stable/user_guide/indexing.html#returning-a-view-versus-a-copy\n",
            "  \"\"\"Entry point for launching an IPython kernel.\n"
          ]
        },
        {
          "output_type": "execute_result",
          "data": {
            "text/plain": [
              "   duration protocol_type service flag  src_bytes  dst_bytes  land  \\\n",
              "0         0           tcp    http   SF        239        486     0   \n",
              "1         0           tcp    http   SF        235       1337     0   \n",
              "2         0           tcp    http   SF        219       1337     0   \n",
              "3         0           tcp    http   SF        217       2032     0   \n",
              "4         0           tcp    http   SF        217       2032     0   \n",
              "\n",
              "   wrong_fragment  urgent  hot  ...  dst_host_srv_count  \\\n",
              "0               0       0    0  ...                  19   \n",
              "1               0       0    0  ...                  29   \n",
              "2               0       0    0  ...                  39   \n",
              "3               0       0    0  ...                  49   \n",
              "4               0       0    0  ...                  59   \n",
              "\n",
              "   dst_host_same_srv_rate  dst_host_diff_srv_rate  \\\n",
              "0                     1.0                     0.0   \n",
              "1                     1.0                     0.0   \n",
              "2                     1.0                     0.0   \n",
              "3                     1.0                     0.0   \n",
              "4                     1.0                     0.0   \n",
              "\n",
              "   dst_host_same_src_port_rate  dst_host_srv_diff_host_rate  \\\n",
              "0                         0.05                          0.0   \n",
              "1                         0.03                          0.0   \n",
              "2                         0.03                          0.0   \n",
              "3                         0.02                          0.0   \n",
              "4                         0.02                          0.0   \n",
              "\n",
              "   dst_host_serror_rate  dst_host_srv_serror_rate  dst_host_rerror_rate  \\\n",
              "0                   0.0                       0.0                   0.0   \n",
              "1                   0.0                       0.0                   0.0   \n",
              "2                   0.0                       0.0                   0.0   \n",
              "3                   0.0                       0.0                   0.0   \n",
              "4                   0.0                       0.0                   0.0   \n",
              "\n",
              "   dst_host_srv_rerror_rate  outcome  \n",
              "0                       0.0       11  \n",
              "1                       0.0       11  \n",
              "2                       0.0       11  \n",
              "3                       0.0       11  \n",
              "4                       0.0       11  \n",
              "\n",
              "[5 rows x 42 columns]"
            ],
            "text/html": [
              "\n",
              "  <div id=\"df-54b0ced6-1264-40a2-a536-fa357af0a589\">\n",
              "    <div class=\"colab-df-container\">\n",
              "      <div>\n",
              "<style scoped>\n",
              "    .dataframe tbody tr th:only-of-type {\n",
              "        vertical-align: middle;\n",
              "    }\n",
              "\n",
              "    .dataframe tbody tr th {\n",
              "        vertical-align: top;\n",
              "    }\n",
              "\n",
              "    .dataframe thead th {\n",
              "        text-align: right;\n",
              "    }\n",
              "</style>\n",
              "<table border=\"1\" class=\"dataframe\">\n",
              "  <thead>\n",
              "    <tr style=\"text-align: right;\">\n",
              "      <th></th>\n",
              "      <th>duration</th>\n",
              "      <th>protocol_type</th>\n",
              "      <th>service</th>\n",
              "      <th>flag</th>\n",
              "      <th>src_bytes</th>\n",
              "      <th>dst_bytes</th>\n",
              "      <th>land</th>\n",
              "      <th>wrong_fragment</th>\n",
              "      <th>urgent</th>\n",
              "      <th>hot</th>\n",
              "      <th>...</th>\n",
              "      <th>dst_host_srv_count</th>\n",
              "      <th>dst_host_same_srv_rate</th>\n",
              "      <th>dst_host_diff_srv_rate</th>\n",
              "      <th>dst_host_same_src_port_rate</th>\n",
              "      <th>dst_host_srv_diff_host_rate</th>\n",
              "      <th>dst_host_serror_rate</th>\n",
              "      <th>dst_host_srv_serror_rate</th>\n",
              "      <th>dst_host_rerror_rate</th>\n",
              "      <th>dst_host_srv_rerror_rate</th>\n",
              "      <th>outcome</th>\n",
              "    </tr>\n",
              "  </thead>\n",
              "  <tbody>\n",
              "    <tr>\n",
              "      <th>0</th>\n",
              "      <td>0</td>\n",
              "      <td>tcp</td>\n",
              "      <td>http</td>\n",
              "      <td>SF</td>\n",
              "      <td>239</td>\n",
              "      <td>486</td>\n",
              "      <td>0</td>\n",
              "      <td>0</td>\n",
              "      <td>0</td>\n",
              "      <td>0</td>\n",
              "      <td>...</td>\n",
              "      <td>19</td>\n",
              "      <td>1.0</td>\n",
              "      <td>0.0</td>\n",
              "      <td>0.05</td>\n",
              "      <td>0.0</td>\n",
              "      <td>0.0</td>\n",
              "      <td>0.0</td>\n",
              "      <td>0.0</td>\n",
              "      <td>0.0</td>\n",
              "      <td>11</td>\n",
              "    </tr>\n",
              "    <tr>\n",
              "      <th>1</th>\n",
              "      <td>0</td>\n",
              "      <td>tcp</td>\n",
              "      <td>http</td>\n",
              "      <td>SF</td>\n",
              "      <td>235</td>\n",
              "      <td>1337</td>\n",
              "      <td>0</td>\n",
              "      <td>0</td>\n",
              "      <td>0</td>\n",
              "      <td>0</td>\n",
              "      <td>...</td>\n",
              "      <td>29</td>\n",
              "      <td>1.0</td>\n",
              "      <td>0.0</td>\n",
              "      <td>0.03</td>\n",
              "      <td>0.0</td>\n",
              "      <td>0.0</td>\n",
              "      <td>0.0</td>\n",
              "      <td>0.0</td>\n",
              "      <td>0.0</td>\n",
              "      <td>11</td>\n",
              "    </tr>\n",
              "    <tr>\n",
              "      <th>2</th>\n",
              "      <td>0</td>\n",
              "      <td>tcp</td>\n",
              "      <td>http</td>\n",
              "      <td>SF</td>\n",
              "      <td>219</td>\n",
              "      <td>1337</td>\n",
              "      <td>0</td>\n",
              "      <td>0</td>\n",
              "      <td>0</td>\n",
              "      <td>0</td>\n",
              "      <td>...</td>\n",
              "      <td>39</td>\n",
              "      <td>1.0</td>\n",
              "      <td>0.0</td>\n",
              "      <td>0.03</td>\n",
              "      <td>0.0</td>\n",
              "      <td>0.0</td>\n",
              "      <td>0.0</td>\n",
              "      <td>0.0</td>\n",
              "      <td>0.0</td>\n",
              "      <td>11</td>\n",
              "    </tr>\n",
              "    <tr>\n",
              "      <th>3</th>\n",
              "      <td>0</td>\n",
              "      <td>tcp</td>\n",
              "      <td>http</td>\n",
              "      <td>SF</td>\n",
              "      <td>217</td>\n",
              "      <td>2032</td>\n",
              "      <td>0</td>\n",
              "      <td>0</td>\n",
              "      <td>0</td>\n",
              "      <td>0</td>\n",
              "      <td>...</td>\n",
              "      <td>49</td>\n",
              "      <td>1.0</td>\n",
              "      <td>0.0</td>\n",
              "      <td>0.02</td>\n",
              "      <td>0.0</td>\n",
              "      <td>0.0</td>\n",
              "      <td>0.0</td>\n",
              "      <td>0.0</td>\n",
              "      <td>0.0</td>\n",
              "      <td>11</td>\n",
              "    </tr>\n",
              "    <tr>\n",
              "      <th>4</th>\n",
              "      <td>0</td>\n",
              "      <td>tcp</td>\n",
              "      <td>http</td>\n",
              "      <td>SF</td>\n",
              "      <td>217</td>\n",
              "      <td>2032</td>\n",
              "      <td>0</td>\n",
              "      <td>0</td>\n",
              "      <td>0</td>\n",
              "      <td>0</td>\n",
              "      <td>...</td>\n",
              "      <td>59</td>\n",
              "      <td>1.0</td>\n",
              "      <td>0.0</td>\n",
              "      <td>0.02</td>\n",
              "      <td>0.0</td>\n",
              "      <td>0.0</td>\n",
              "      <td>0.0</td>\n",
              "      <td>0.0</td>\n",
              "      <td>0.0</td>\n",
              "      <td>11</td>\n",
              "    </tr>\n",
              "  </tbody>\n",
              "</table>\n",
              "<p>5 rows × 42 columns</p>\n",
              "</div>\n",
              "      <button class=\"colab-df-convert\" onclick=\"convertToInteractive('df-54b0ced6-1264-40a2-a536-fa357af0a589')\"\n",
              "              title=\"Convert this dataframe to an interactive table.\"\n",
              "              style=\"display:none;\">\n",
              "        \n",
              "  <svg xmlns=\"http://www.w3.org/2000/svg\" height=\"24px\"viewBox=\"0 0 24 24\"\n",
              "       width=\"24px\">\n",
              "    <path d=\"M0 0h24v24H0V0z\" fill=\"none\"/>\n",
              "    <path d=\"M18.56 5.44l.94 2.06.94-2.06 2.06-.94-2.06-.94-.94-2.06-.94 2.06-2.06.94zm-11 1L8.5 8.5l.94-2.06 2.06-.94-2.06-.94L8.5 2.5l-.94 2.06-2.06.94zm10 10l.94 2.06.94-2.06 2.06-.94-2.06-.94-.94-2.06-.94 2.06-2.06.94z\"/><path d=\"M17.41 7.96l-1.37-1.37c-.4-.4-.92-.59-1.43-.59-.52 0-1.04.2-1.43.59L10.3 9.45l-7.72 7.72c-.78.78-.78 2.05 0 2.83L4 21.41c.39.39.9.59 1.41.59.51 0 1.02-.2 1.41-.59l7.78-7.78 2.81-2.81c.8-.78.8-2.07 0-2.86zM5.41 20L4 18.59l7.72-7.72 1.47 1.35L5.41 20z\"/>\n",
              "  </svg>\n",
              "      </button>\n",
              "      \n",
              "  <style>\n",
              "    .colab-df-container {\n",
              "      display:flex;\n",
              "      flex-wrap:wrap;\n",
              "      gap: 12px;\n",
              "    }\n",
              "\n",
              "    .colab-df-convert {\n",
              "      background-color: #E8F0FE;\n",
              "      border: none;\n",
              "      border-radius: 50%;\n",
              "      cursor: pointer;\n",
              "      display: none;\n",
              "      fill: #1967D2;\n",
              "      height: 32px;\n",
              "      padding: 0 0 0 0;\n",
              "      width: 32px;\n",
              "    }\n",
              "\n",
              "    .colab-df-convert:hover {\n",
              "      background-color: #E2EBFA;\n",
              "      box-shadow: 0px 1px 2px rgba(60, 64, 67, 0.3), 0px 1px 3px 1px rgba(60, 64, 67, 0.15);\n",
              "      fill: #174EA6;\n",
              "    }\n",
              "\n",
              "    [theme=dark] .colab-df-convert {\n",
              "      background-color: #3B4455;\n",
              "      fill: #D2E3FC;\n",
              "    }\n",
              "\n",
              "    [theme=dark] .colab-df-convert:hover {\n",
              "      background-color: #434B5C;\n",
              "      box-shadow: 0px 1px 3px 1px rgba(0, 0, 0, 0.15);\n",
              "      filter: drop-shadow(0px 1px 2px rgba(0, 0, 0, 0.3));\n",
              "      fill: #FFFFFF;\n",
              "    }\n",
              "  </style>\n",
              "\n",
              "      <script>\n",
              "        const buttonEl =\n",
              "          document.querySelector('#df-54b0ced6-1264-40a2-a536-fa357af0a589 button.colab-df-convert');\n",
              "        buttonEl.style.display =\n",
              "          google.colab.kernel.accessAllowed ? 'block' : 'none';\n",
              "\n",
              "        async function convertToInteractive(key) {\n",
              "          const element = document.querySelector('#df-54b0ced6-1264-40a2-a536-fa357af0a589');\n",
              "          const dataTable =\n",
              "            await google.colab.kernel.invokeFunction('convertToInteractive',\n",
              "                                                     [key], {});\n",
              "          if (!dataTable) return;\n",
              "\n",
              "          const docLinkHtml = 'Like what you see? Visit the ' +\n",
              "            '<a target=\"_blank\" href=https://colab.research.google.com/notebooks/data_table.ipynb>data table notebook</a>'\n",
              "            + ' to learn more about interactive tables.';\n",
              "          element.innerHTML = '';\n",
              "          dataTable['output_type'] = 'display_data';\n",
              "          await google.colab.output.renderOutput(dataTable, element);\n",
              "          const docLink = document.createElement('div');\n",
              "          docLink.innerHTML = docLinkHtml;\n",
              "          element.appendChild(docLink);\n",
              "        }\n",
              "      </script>\n",
              "    </div>\n",
              "  </div>\n",
              "  "
            ]
          },
          "metadata": {},
          "execution_count": 14
        }
      ]
    },
    {
      "cell_type": "code",
      "source": [
        "dfc['outcome'].unique()"
      ],
      "metadata": {
        "colab": {
          "base_uri": "https://localhost:8080/"
        },
        "id": "KIRglupxd1T-",
        "outputId": "6dd96ae0-7e6b-4c7c-8e0c-2a12430176bf"
      },
      "id": "KIRglupxd1T-",
      "execution_count": null,
      "outputs": [
        {
          "output_type": "execute_result",
          "data": {
            "text/plain": [
              "array([11,  1,  7, 12,  9, 18,  3, 14, 20, 15,  5,  6,  2,  0,  4, 17, 13,\n",
              "       10,  8, 22, 21, 19, 16])"
            ]
          },
          "metadata": {},
          "execution_count": 15
        }
      ]
    },
    {
      "cell_type": "code",
      "source": [
        "dfc['outcome'].value_counts()"
      ],
      "metadata": {
        "colab": {
          "base_uri": "https://localhost:8080/"
        },
        "id": "32sfOVRyd9xm",
        "outputId": "95a3a116-da38-4d6b-d944-403842d1ccca"
      },
      "id": "32sfOVRyd9xm",
      "execution_count": null,
      "outputs": [
        {
          "output_type": "execute_result",
          "data": {
            "text/plain": [
              "11    87831\n",
              "9     51820\n",
              "0       968\n",
              "20      918\n",
              "17      906\n",
              "21      893\n",
              "5       651\n",
              "18      641\n",
              "15      416\n",
              "14      206\n",
              "10      158\n",
              "3        53\n",
              "1        30\n",
              "22       20\n",
              "6        19\n",
              "4        12\n",
              "16       10\n",
              "7         9\n",
              "2         8\n",
              "8         7\n",
              "13        4\n",
              "12        3\n",
              "19        2\n",
              "Name: outcome, dtype: int64"
            ]
          },
          "metadata": {},
          "execution_count": 16
        }
      ]
    },
    {
      "cell_type": "code",
      "source": [
        "def encodeA(x):\n",
        "    #If x is 11 (*normal),\n",
        "    if x == 11:\n",
        "        #Returns 0 (*good)\n",
        "        return 0\n",
        "    #Else, return 1 (*attack)\n",
        "    else:\n",
        "        return 1"
      ],
      "metadata": {
        "id": "E_fddqJMd9uV"
      },
      "id": "E_fddqJMd9uV",
      "execution_count": null,
      "outputs": []
    },
    {
      "cell_type": "code",
      "source": [
        "#df.applymap(encodeA)\n",
        "dfce = dfc\n",
        "dfce = dfce['outcome'].map(encodeA)"
      ],
      "metadata": {
        "id": "pE-1mnIDd9lG"
      },
      "id": "pE-1mnIDd9lG",
      "execution_count": null,
      "outputs": []
    },
    {
      "cell_type": "code",
      "source": [
        "dfce"
      ],
      "metadata": {
        "colab": {
          "base_uri": "https://localhost:8080/"
        },
        "id": "6FBpa6GTd9CF",
        "outputId": "8c4ea5ca-d0bc-48f3-af0d-de03181323d3"
      },
      "id": "6FBpa6GTd9CF",
      "execution_count": null,
      "outputs": [
        {
          "output_type": "execute_result",
          "data": {
            "text/plain": [
              "0         0\n",
              "1         0\n",
              "2         0\n",
              "3         0\n",
              "4         0\n",
              "         ..\n",
              "494015    0\n",
              "494016    0\n",
              "494017    0\n",
              "494018    0\n",
              "494019    0\n",
              "Name: outcome, Length: 145585, dtype: int64"
            ]
          },
          "metadata": {},
          "execution_count": 19
        }
      ]
    },
    {
      "cell_type": "code",
      "source": [
        "dfc"
      ],
      "metadata": {
        "colab": {
          "base_uri": "https://localhost:8080/",
          "height": 487
        },
        "id": "n_yqKIEdgFFh",
        "outputId": "e76fd333-4dca-4393-9abf-07d5a8428885"
      },
      "id": "n_yqKIEdgFFh",
      "execution_count": null,
      "outputs": [
        {
          "output_type": "execute_result",
          "data": {
            "text/plain": [
              "        duration protocol_type service flag  src_bytes  dst_bytes  land  \\\n",
              "0              0           tcp    http   SF        239        486     0   \n",
              "1              0           tcp    http   SF        235       1337     0   \n",
              "2              0           tcp    http   SF        219       1337     0   \n",
              "3              0           tcp    http   SF        217       2032     0   \n",
              "4              0           tcp    http   SF        217       2032     0   \n",
              "...          ...           ...     ...  ...        ...        ...   ...   \n",
              "494015         0           tcp    http   SF        310       1881     0   \n",
              "494016         0           tcp    http   SF        282       2286     0   \n",
              "494017         0           tcp    http   SF        203       1200     0   \n",
              "494018         0           tcp    http   SF        291       1200     0   \n",
              "494019         0           tcp    http   SF        219       1234     0   \n",
              "\n",
              "        wrong_fragment  urgent  hot  ...  dst_host_srv_count  \\\n",
              "0                    0       0    0  ...                  19   \n",
              "1                    0       0    0  ...                  29   \n",
              "2                    0       0    0  ...                  39   \n",
              "3                    0       0    0  ...                  49   \n",
              "4                    0       0    0  ...                  59   \n",
              "...                ...     ...  ...  ...                 ...   \n",
              "494015               0       0    0  ...                 255   \n",
              "494016               0       0    0  ...                 255   \n",
              "494017               0       0    0  ...                 255   \n",
              "494018               0       0    0  ...                 255   \n",
              "494019               0       0    0  ...                 255   \n",
              "\n",
              "        dst_host_same_srv_rate  dst_host_diff_srv_rate  \\\n",
              "0                          1.0                     0.0   \n",
              "1                          1.0                     0.0   \n",
              "2                          1.0                     0.0   \n",
              "3                          1.0                     0.0   \n",
              "4                          1.0                     0.0   \n",
              "...                        ...                     ...   \n",
              "494015                     1.0                     0.0   \n",
              "494016                     1.0                     0.0   \n",
              "494017                     1.0                     0.0   \n",
              "494018                     1.0                     0.0   \n",
              "494019                     1.0                     0.0   \n",
              "\n",
              "        dst_host_same_src_port_rate  dst_host_srv_diff_host_rate  \\\n",
              "0                              0.05                         0.00   \n",
              "1                              0.03                         0.00   \n",
              "2                              0.03                         0.00   \n",
              "3                              0.02                         0.00   \n",
              "4                              0.02                         0.00   \n",
              "...                             ...                          ...   \n",
              "494015                         0.01                         0.05   \n",
              "494016                         0.17                         0.05   \n",
              "494017                         0.06                         0.05   \n",
              "494018                         0.04                         0.05   \n",
              "494019                         0.17                         0.05   \n",
              "\n",
              "        dst_host_serror_rate  dst_host_srv_serror_rate  dst_host_rerror_rate  \\\n",
              "0                       0.00                      0.00                   0.0   \n",
              "1                       0.00                      0.00                   0.0   \n",
              "2                       0.00                      0.00                   0.0   \n",
              "3                       0.00                      0.00                   0.0   \n",
              "4                       0.00                      0.00                   0.0   \n",
              "...                      ...                       ...                   ...   \n",
              "494015                  0.00                      0.01                   0.0   \n",
              "494016                  0.00                      0.01                   0.0   \n",
              "494017                  0.06                      0.01                   0.0   \n",
              "494018                  0.04                      0.01                   0.0   \n",
              "494019                  0.00                      0.01                   0.0   \n",
              "\n",
              "        dst_host_srv_rerror_rate  outcome  \n",
              "0                            0.0       11  \n",
              "1                            0.0       11  \n",
              "2                            0.0       11  \n",
              "3                            0.0       11  \n",
              "4                            0.0       11  \n",
              "...                          ...      ...  \n",
              "494015                       0.0       11  \n",
              "494016                       0.0       11  \n",
              "494017                       0.0       11  \n",
              "494018                       0.0       11  \n",
              "494019                       0.0       11  \n",
              "\n",
              "[145585 rows x 42 columns]"
            ],
            "text/html": [
              "\n",
              "  <div id=\"df-cc22a422-2a9d-44e3-beea-8c05cb8d77eb\">\n",
              "    <div class=\"colab-df-container\">\n",
              "      <div>\n",
              "<style scoped>\n",
              "    .dataframe tbody tr th:only-of-type {\n",
              "        vertical-align: middle;\n",
              "    }\n",
              "\n",
              "    .dataframe tbody tr th {\n",
              "        vertical-align: top;\n",
              "    }\n",
              "\n",
              "    .dataframe thead th {\n",
              "        text-align: right;\n",
              "    }\n",
              "</style>\n",
              "<table border=\"1\" class=\"dataframe\">\n",
              "  <thead>\n",
              "    <tr style=\"text-align: right;\">\n",
              "      <th></th>\n",
              "      <th>duration</th>\n",
              "      <th>protocol_type</th>\n",
              "      <th>service</th>\n",
              "      <th>flag</th>\n",
              "      <th>src_bytes</th>\n",
              "      <th>dst_bytes</th>\n",
              "      <th>land</th>\n",
              "      <th>wrong_fragment</th>\n",
              "      <th>urgent</th>\n",
              "      <th>hot</th>\n",
              "      <th>...</th>\n",
              "      <th>dst_host_srv_count</th>\n",
              "      <th>dst_host_same_srv_rate</th>\n",
              "      <th>dst_host_diff_srv_rate</th>\n",
              "      <th>dst_host_same_src_port_rate</th>\n",
              "      <th>dst_host_srv_diff_host_rate</th>\n",
              "      <th>dst_host_serror_rate</th>\n",
              "      <th>dst_host_srv_serror_rate</th>\n",
              "      <th>dst_host_rerror_rate</th>\n",
              "      <th>dst_host_srv_rerror_rate</th>\n",
              "      <th>outcome</th>\n",
              "    </tr>\n",
              "  </thead>\n",
              "  <tbody>\n",
              "    <tr>\n",
              "      <th>0</th>\n",
              "      <td>0</td>\n",
              "      <td>tcp</td>\n",
              "      <td>http</td>\n",
              "      <td>SF</td>\n",
              "      <td>239</td>\n",
              "      <td>486</td>\n",
              "      <td>0</td>\n",
              "      <td>0</td>\n",
              "      <td>0</td>\n",
              "      <td>0</td>\n",
              "      <td>...</td>\n",
              "      <td>19</td>\n",
              "      <td>1.0</td>\n",
              "      <td>0.0</td>\n",
              "      <td>0.05</td>\n",
              "      <td>0.00</td>\n",
              "      <td>0.00</td>\n",
              "      <td>0.00</td>\n",
              "      <td>0.0</td>\n",
              "      <td>0.0</td>\n",
              "      <td>11</td>\n",
              "    </tr>\n",
              "    <tr>\n",
              "      <th>1</th>\n",
              "      <td>0</td>\n",
              "      <td>tcp</td>\n",
              "      <td>http</td>\n",
              "      <td>SF</td>\n",
              "      <td>235</td>\n",
              "      <td>1337</td>\n",
              "      <td>0</td>\n",
              "      <td>0</td>\n",
              "      <td>0</td>\n",
              "      <td>0</td>\n",
              "      <td>...</td>\n",
              "      <td>29</td>\n",
              "      <td>1.0</td>\n",
              "      <td>0.0</td>\n",
              "      <td>0.03</td>\n",
              "      <td>0.00</td>\n",
              "      <td>0.00</td>\n",
              "      <td>0.00</td>\n",
              "      <td>0.0</td>\n",
              "      <td>0.0</td>\n",
              "      <td>11</td>\n",
              "    </tr>\n",
              "    <tr>\n",
              "      <th>2</th>\n",
              "      <td>0</td>\n",
              "      <td>tcp</td>\n",
              "      <td>http</td>\n",
              "      <td>SF</td>\n",
              "      <td>219</td>\n",
              "      <td>1337</td>\n",
              "      <td>0</td>\n",
              "      <td>0</td>\n",
              "      <td>0</td>\n",
              "      <td>0</td>\n",
              "      <td>...</td>\n",
              "      <td>39</td>\n",
              "      <td>1.0</td>\n",
              "      <td>0.0</td>\n",
              "      <td>0.03</td>\n",
              "      <td>0.00</td>\n",
              "      <td>0.00</td>\n",
              "      <td>0.00</td>\n",
              "      <td>0.0</td>\n",
              "      <td>0.0</td>\n",
              "      <td>11</td>\n",
              "    </tr>\n",
              "    <tr>\n",
              "      <th>3</th>\n",
              "      <td>0</td>\n",
              "      <td>tcp</td>\n",
              "      <td>http</td>\n",
              "      <td>SF</td>\n",
              "      <td>217</td>\n",
              "      <td>2032</td>\n",
              "      <td>0</td>\n",
              "      <td>0</td>\n",
              "      <td>0</td>\n",
              "      <td>0</td>\n",
              "      <td>...</td>\n",
              "      <td>49</td>\n",
              "      <td>1.0</td>\n",
              "      <td>0.0</td>\n",
              "      <td>0.02</td>\n",
              "      <td>0.00</td>\n",
              "      <td>0.00</td>\n",
              "      <td>0.00</td>\n",
              "      <td>0.0</td>\n",
              "      <td>0.0</td>\n",
              "      <td>11</td>\n",
              "    </tr>\n",
              "    <tr>\n",
              "      <th>4</th>\n",
              "      <td>0</td>\n",
              "      <td>tcp</td>\n",
              "      <td>http</td>\n",
              "      <td>SF</td>\n",
              "      <td>217</td>\n",
              "      <td>2032</td>\n",
              "      <td>0</td>\n",
              "      <td>0</td>\n",
              "      <td>0</td>\n",
              "      <td>0</td>\n",
              "      <td>...</td>\n",
              "      <td>59</td>\n",
              "      <td>1.0</td>\n",
              "      <td>0.0</td>\n",
              "      <td>0.02</td>\n",
              "      <td>0.00</td>\n",
              "      <td>0.00</td>\n",
              "      <td>0.00</td>\n",
              "      <td>0.0</td>\n",
              "      <td>0.0</td>\n",
              "      <td>11</td>\n",
              "    </tr>\n",
              "    <tr>\n",
              "      <th>...</th>\n",
              "      <td>...</td>\n",
              "      <td>...</td>\n",
              "      <td>...</td>\n",
              "      <td>...</td>\n",
              "      <td>...</td>\n",
              "      <td>...</td>\n",
              "      <td>...</td>\n",
              "      <td>...</td>\n",
              "      <td>...</td>\n",
              "      <td>...</td>\n",
              "      <td>...</td>\n",
              "      <td>...</td>\n",
              "      <td>...</td>\n",
              "      <td>...</td>\n",
              "      <td>...</td>\n",
              "      <td>...</td>\n",
              "      <td>...</td>\n",
              "      <td>...</td>\n",
              "      <td>...</td>\n",
              "      <td>...</td>\n",
              "      <td>...</td>\n",
              "    </tr>\n",
              "    <tr>\n",
              "      <th>494015</th>\n",
              "      <td>0</td>\n",
              "      <td>tcp</td>\n",
              "      <td>http</td>\n",
              "      <td>SF</td>\n",
              "      <td>310</td>\n",
              "      <td>1881</td>\n",
              "      <td>0</td>\n",
              "      <td>0</td>\n",
              "      <td>0</td>\n",
              "      <td>0</td>\n",
              "      <td>...</td>\n",
              "      <td>255</td>\n",
              "      <td>1.0</td>\n",
              "      <td>0.0</td>\n",
              "      <td>0.01</td>\n",
              "      <td>0.05</td>\n",
              "      <td>0.00</td>\n",
              "      <td>0.01</td>\n",
              "      <td>0.0</td>\n",
              "      <td>0.0</td>\n",
              "      <td>11</td>\n",
              "    </tr>\n",
              "    <tr>\n",
              "      <th>494016</th>\n",
              "      <td>0</td>\n",
              "      <td>tcp</td>\n",
              "      <td>http</td>\n",
              "      <td>SF</td>\n",
              "      <td>282</td>\n",
              "      <td>2286</td>\n",
              "      <td>0</td>\n",
              "      <td>0</td>\n",
              "      <td>0</td>\n",
              "      <td>0</td>\n",
              "      <td>...</td>\n",
              "      <td>255</td>\n",
              "      <td>1.0</td>\n",
              "      <td>0.0</td>\n",
              "      <td>0.17</td>\n",
              "      <td>0.05</td>\n",
              "      <td>0.00</td>\n",
              "      <td>0.01</td>\n",
              "      <td>0.0</td>\n",
              "      <td>0.0</td>\n",
              "      <td>11</td>\n",
              "    </tr>\n",
              "    <tr>\n",
              "      <th>494017</th>\n",
              "      <td>0</td>\n",
              "      <td>tcp</td>\n",
              "      <td>http</td>\n",
              "      <td>SF</td>\n",
              "      <td>203</td>\n",
              "      <td>1200</td>\n",
              "      <td>0</td>\n",
              "      <td>0</td>\n",
              "      <td>0</td>\n",
              "      <td>0</td>\n",
              "      <td>...</td>\n",
              "      <td>255</td>\n",
              "      <td>1.0</td>\n",
              "      <td>0.0</td>\n",
              "      <td>0.06</td>\n",
              "      <td>0.05</td>\n",
              "      <td>0.06</td>\n",
              "      <td>0.01</td>\n",
              "      <td>0.0</td>\n",
              "      <td>0.0</td>\n",
              "      <td>11</td>\n",
              "    </tr>\n",
              "    <tr>\n",
              "      <th>494018</th>\n",
              "      <td>0</td>\n",
              "      <td>tcp</td>\n",
              "      <td>http</td>\n",
              "      <td>SF</td>\n",
              "      <td>291</td>\n",
              "      <td>1200</td>\n",
              "      <td>0</td>\n",
              "      <td>0</td>\n",
              "      <td>0</td>\n",
              "      <td>0</td>\n",
              "      <td>...</td>\n",
              "      <td>255</td>\n",
              "      <td>1.0</td>\n",
              "      <td>0.0</td>\n",
              "      <td>0.04</td>\n",
              "      <td>0.05</td>\n",
              "      <td>0.04</td>\n",
              "      <td>0.01</td>\n",
              "      <td>0.0</td>\n",
              "      <td>0.0</td>\n",
              "      <td>11</td>\n",
              "    </tr>\n",
              "    <tr>\n",
              "      <th>494019</th>\n",
              "      <td>0</td>\n",
              "      <td>tcp</td>\n",
              "      <td>http</td>\n",
              "      <td>SF</td>\n",
              "      <td>219</td>\n",
              "      <td>1234</td>\n",
              "      <td>0</td>\n",
              "      <td>0</td>\n",
              "      <td>0</td>\n",
              "      <td>0</td>\n",
              "      <td>...</td>\n",
              "      <td>255</td>\n",
              "      <td>1.0</td>\n",
              "      <td>0.0</td>\n",
              "      <td>0.17</td>\n",
              "      <td>0.05</td>\n",
              "      <td>0.00</td>\n",
              "      <td>0.01</td>\n",
              "      <td>0.0</td>\n",
              "      <td>0.0</td>\n",
              "      <td>11</td>\n",
              "    </tr>\n",
              "  </tbody>\n",
              "</table>\n",
              "<p>145585 rows × 42 columns</p>\n",
              "</div>\n",
              "      <button class=\"colab-df-convert\" onclick=\"convertToInteractive('df-cc22a422-2a9d-44e3-beea-8c05cb8d77eb')\"\n",
              "              title=\"Convert this dataframe to an interactive table.\"\n",
              "              style=\"display:none;\">\n",
              "        \n",
              "  <svg xmlns=\"http://www.w3.org/2000/svg\" height=\"24px\"viewBox=\"0 0 24 24\"\n",
              "       width=\"24px\">\n",
              "    <path d=\"M0 0h24v24H0V0z\" fill=\"none\"/>\n",
              "    <path d=\"M18.56 5.44l.94 2.06.94-2.06 2.06-.94-2.06-.94-.94-2.06-.94 2.06-2.06.94zm-11 1L8.5 8.5l.94-2.06 2.06-.94-2.06-.94L8.5 2.5l-.94 2.06-2.06.94zm10 10l.94 2.06.94-2.06 2.06-.94-2.06-.94-.94-2.06-.94 2.06-2.06.94z\"/><path d=\"M17.41 7.96l-1.37-1.37c-.4-.4-.92-.59-1.43-.59-.52 0-1.04.2-1.43.59L10.3 9.45l-7.72 7.72c-.78.78-.78 2.05 0 2.83L4 21.41c.39.39.9.59 1.41.59.51 0 1.02-.2 1.41-.59l7.78-7.78 2.81-2.81c.8-.78.8-2.07 0-2.86zM5.41 20L4 18.59l7.72-7.72 1.47 1.35L5.41 20z\"/>\n",
              "  </svg>\n",
              "      </button>\n",
              "      \n",
              "  <style>\n",
              "    .colab-df-container {\n",
              "      display:flex;\n",
              "      flex-wrap:wrap;\n",
              "      gap: 12px;\n",
              "    }\n",
              "\n",
              "    .colab-df-convert {\n",
              "      background-color: #E8F0FE;\n",
              "      border: none;\n",
              "      border-radius: 50%;\n",
              "      cursor: pointer;\n",
              "      display: none;\n",
              "      fill: #1967D2;\n",
              "      height: 32px;\n",
              "      padding: 0 0 0 0;\n",
              "      width: 32px;\n",
              "    }\n",
              "\n",
              "    .colab-df-convert:hover {\n",
              "      background-color: #E2EBFA;\n",
              "      box-shadow: 0px 1px 2px rgba(60, 64, 67, 0.3), 0px 1px 3px 1px rgba(60, 64, 67, 0.15);\n",
              "      fill: #174EA6;\n",
              "    }\n",
              "\n",
              "    [theme=dark] .colab-df-convert {\n",
              "      background-color: #3B4455;\n",
              "      fill: #D2E3FC;\n",
              "    }\n",
              "\n",
              "    [theme=dark] .colab-df-convert:hover {\n",
              "      background-color: #434B5C;\n",
              "      box-shadow: 0px 1px 3px 1px rgba(0, 0, 0, 0.15);\n",
              "      filter: drop-shadow(0px 1px 2px rgba(0, 0, 0, 0.3));\n",
              "      fill: #FFFFFF;\n",
              "    }\n",
              "  </style>\n",
              "\n",
              "      <script>\n",
              "        const buttonEl =\n",
              "          document.querySelector('#df-cc22a422-2a9d-44e3-beea-8c05cb8d77eb button.colab-df-convert');\n",
              "        buttonEl.style.display =\n",
              "          google.colab.kernel.accessAllowed ? 'block' : 'none';\n",
              "\n",
              "        async function convertToInteractive(key) {\n",
              "          const element = document.querySelector('#df-cc22a422-2a9d-44e3-beea-8c05cb8d77eb');\n",
              "          const dataTable =\n",
              "            await google.colab.kernel.invokeFunction('convertToInteractive',\n",
              "                                                     [key], {});\n",
              "          if (!dataTable) return;\n",
              "\n",
              "          const docLinkHtml = 'Like what you see? Visit the ' +\n",
              "            '<a target=\"_blank\" href=https://colab.research.google.com/notebooks/data_table.ipynb>data table notebook</a>'\n",
              "            + ' to learn more about interactive tables.';\n",
              "          element.innerHTML = '';\n",
              "          dataTable['output_type'] = 'display_data';\n",
              "          await google.colab.output.renderOutput(dataTable, element);\n",
              "          const docLink = document.createElement('div');\n",
              "          docLink.innerHTML = docLinkHtml;\n",
              "          element.appendChild(docLink);\n",
              "        }\n",
              "      </script>\n",
              "    </div>\n",
              "  </div>\n",
              "  "
            ]
          },
          "metadata": {},
          "execution_count": 20
        }
      ]
    },
    {
      "cell_type": "code",
      "source": [
        "dfc['outcome'] = dfce.values"
      ],
      "metadata": {
        "id": "JssQdAkTgFDC",
        "colab": {
          "base_uri": "https://localhost:8080/"
        },
        "outputId": "5b9ad821-cdd6-4c84-c353-91b2de7f59a1"
      },
      "id": "JssQdAkTgFDC",
      "execution_count": null,
      "outputs": [
        {
          "output_type": "stream",
          "name": "stderr",
          "text": [
            "/usr/local/lib/python3.7/dist-packages/ipykernel_launcher.py:1: SettingWithCopyWarning: \n",
            "A value is trying to be set on a copy of a slice from a DataFrame.\n",
            "Try using .loc[row_indexer,col_indexer] = value instead\n",
            "\n",
            "See the caveats in the documentation: https://pandas.pydata.org/pandas-docs/stable/user_guide/indexing.html#returning-a-view-versus-a-copy\n",
            "  \"\"\"Entry point for launching an IPython kernel.\n"
          ]
        }
      ]
    },
    {
      "cell_type": "code",
      "source": [
        "dfc"
      ],
      "metadata": {
        "colab": {
          "base_uri": "https://localhost:8080/",
          "height": 487
        },
        "id": "LbiAIAqdgFAw",
        "outputId": "733845b9-ec9c-4eb6-b78c-245948d6bb05"
      },
      "id": "LbiAIAqdgFAw",
      "execution_count": null,
      "outputs": [
        {
          "output_type": "execute_result",
          "data": {
            "text/plain": [
              "        duration protocol_type service flag  src_bytes  dst_bytes  land  \\\n",
              "0              0           tcp    http   SF        239        486     0   \n",
              "1              0           tcp    http   SF        235       1337     0   \n",
              "2              0           tcp    http   SF        219       1337     0   \n",
              "3              0           tcp    http   SF        217       2032     0   \n",
              "4              0           tcp    http   SF        217       2032     0   \n",
              "...          ...           ...     ...  ...        ...        ...   ...   \n",
              "494015         0           tcp    http   SF        310       1881     0   \n",
              "494016         0           tcp    http   SF        282       2286     0   \n",
              "494017         0           tcp    http   SF        203       1200     0   \n",
              "494018         0           tcp    http   SF        291       1200     0   \n",
              "494019         0           tcp    http   SF        219       1234     0   \n",
              "\n",
              "        wrong_fragment  urgent  hot  ...  dst_host_srv_count  \\\n",
              "0                    0       0    0  ...                  19   \n",
              "1                    0       0    0  ...                  29   \n",
              "2                    0       0    0  ...                  39   \n",
              "3                    0       0    0  ...                  49   \n",
              "4                    0       0    0  ...                  59   \n",
              "...                ...     ...  ...  ...                 ...   \n",
              "494015               0       0    0  ...                 255   \n",
              "494016               0       0    0  ...                 255   \n",
              "494017               0       0    0  ...                 255   \n",
              "494018               0       0    0  ...                 255   \n",
              "494019               0       0    0  ...                 255   \n",
              "\n",
              "        dst_host_same_srv_rate  dst_host_diff_srv_rate  \\\n",
              "0                          1.0                     0.0   \n",
              "1                          1.0                     0.0   \n",
              "2                          1.0                     0.0   \n",
              "3                          1.0                     0.0   \n",
              "4                          1.0                     0.0   \n",
              "...                        ...                     ...   \n",
              "494015                     1.0                     0.0   \n",
              "494016                     1.0                     0.0   \n",
              "494017                     1.0                     0.0   \n",
              "494018                     1.0                     0.0   \n",
              "494019                     1.0                     0.0   \n",
              "\n",
              "        dst_host_same_src_port_rate  dst_host_srv_diff_host_rate  \\\n",
              "0                              0.05                         0.00   \n",
              "1                              0.03                         0.00   \n",
              "2                              0.03                         0.00   \n",
              "3                              0.02                         0.00   \n",
              "4                              0.02                         0.00   \n",
              "...                             ...                          ...   \n",
              "494015                         0.01                         0.05   \n",
              "494016                         0.17                         0.05   \n",
              "494017                         0.06                         0.05   \n",
              "494018                         0.04                         0.05   \n",
              "494019                         0.17                         0.05   \n",
              "\n",
              "        dst_host_serror_rate  dst_host_srv_serror_rate  dst_host_rerror_rate  \\\n",
              "0                       0.00                      0.00                   0.0   \n",
              "1                       0.00                      0.00                   0.0   \n",
              "2                       0.00                      0.00                   0.0   \n",
              "3                       0.00                      0.00                   0.0   \n",
              "4                       0.00                      0.00                   0.0   \n",
              "...                      ...                       ...                   ...   \n",
              "494015                  0.00                      0.01                   0.0   \n",
              "494016                  0.00                      0.01                   0.0   \n",
              "494017                  0.06                      0.01                   0.0   \n",
              "494018                  0.04                      0.01                   0.0   \n",
              "494019                  0.00                      0.01                   0.0   \n",
              "\n",
              "        dst_host_srv_rerror_rate  outcome  \n",
              "0                            0.0        0  \n",
              "1                            0.0        0  \n",
              "2                            0.0        0  \n",
              "3                            0.0        0  \n",
              "4                            0.0        0  \n",
              "...                          ...      ...  \n",
              "494015                       0.0        0  \n",
              "494016                       0.0        0  \n",
              "494017                       0.0        0  \n",
              "494018                       0.0        0  \n",
              "494019                       0.0        0  \n",
              "\n",
              "[145585 rows x 42 columns]"
            ],
            "text/html": [
              "\n",
              "  <div id=\"df-d4da14db-af45-4501-8e2c-0d4de4abe0c5\">\n",
              "    <div class=\"colab-df-container\">\n",
              "      <div>\n",
              "<style scoped>\n",
              "    .dataframe tbody tr th:only-of-type {\n",
              "        vertical-align: middle;\n",
              "    }\n",
              "\n",
              "    .dataframe tbody tr th {\n",
              "        vertical-align: top;\n",
              "    }\n",
              "\n",
              "    .dataframe thead th {\n",
              "        text-align: right;\n",
              "    }\n",
              "</style>\n",
              "<table border=\"1\" class=\"dataframe\">\n",
              "  <thead>\n",
              "    <tr style=\"text-align: right;\">\n",
              "      <th></th>\n",
              "      <th>duration</th>\n",
              "      <th>protocol_type</th>\n",
              "      <th>service</th>\n",
              "      <th>flag</th>\n",
              "      <th>src_bytes</th>\n",
              "      <th>dst_bytes</th>\n",
              "      <th>land</th>\n",
              "      <th>wrong_fragment</th>\n",
              "      <th>urgent</th>\n",
              "      <th>hot</th>\n",
              "      <th>...</th>\n",
              "      <th>dst_host_srv_count</th>\n",
              "      <th>dst_host_same_srv_rate</th>\n",
              "      <th>dst_host_diff_srv_rate</th>\n",
              "      <th>dst_host_same_src_port_rate</th>\n",
              "      <th>dst_host_srv_diff_host_rate</th>\n",
              "      <th>dst_host_serror_rate</th>\n",
              "      <th>dst_host_srv_serror_rate</th>\n",
              "      <th>dst_host_rerror_rate</th>\n",
              "      <th>dst_host_srv_rerror_rate</th>\n",
              "      <th>outcome</th>\n",
              "    </tr>\n",
              "  </thead>\n",
              "  <tbody>\n",
              "    <tr>\n",
              "      <th>0</th>\n",
              "      <td>0</td>\n",
              "      <td>tcp</td>\n",
              "      <td>http</td>\n",
              "      <td>SF</td>\n",
              "      <td>239</td>\n",
              "      <td>486</td>\n",
              "      <td>0</td>\n",
              "      <td>0</td>\n",
              "      <td>0</td>\n",
              "      <td>0</td>\n",
              "      <td>...</td>\n",
              "      <td>19</td>\n",
              "      <td>1.0</td>\n",
              "      <td>0.0</td>\n",
              "      <td>0.05</td>\n",
              "      <td>0.00</td>\n",
              "      <td>0.00</td>\n",
              "      <td>0.00</td>\n",
              "      <td>0.0</td>\n",
              "      <td>0.0</td>\n",
              "      <td>0</td>\n",
              "    </tr>\n",
              "    <tr>\n",
              "      <th>1</th>\n",
              "      <td>0</td>\n",
              "      <td>tcp</td>\n",
              "      <td>http</td>\n",
              "      <td>SF</td>\n",
              "      <td>235</td>\n",
              "      <td>1337</td>\n",
              "      <td>0</td>\n",
              "      <td>0</td>\n",
              "      <td>0</td>\n",
              "      <td>0</td>\n",
              "      <td>...</td>\n",
              "      <td>29</td>\n",
              "      <td>1.0</td>\n",
              "      <td>0.0</td>\n",
              "      <td>0.03</td>\n",
              "      <td>0.00</td>\n",
              "      <td>0.00</td>\n",
              "      <td>0.00</td>\n",
              "      <td>0.0</td>\n",
              "      <td>0.0</td>\n",
              "      <td>0</td>\n",
              "    </tr>\n",
              "    <tr>\n",
              "      <th>2</th>\n",
              "      <td>0</td>\n",
              "      <td>tcp</td>\n",
              "      <td>http</td>\n",
              "      <td>SF</td>\n",
              "      <td>219</td>\n",
              "      <td>1337</td>\n",
              "      <td>0</td>\n",
              "      <td>0</td>\n",
              "      <td>0</td>\n",
              "      <td>0</td>\n",
              "      <td>...</td>\n",
              "      <td>39</td>\n",
              "      <td>1.0</td>\n",
              "      <td>0.0</td>\n",
              "      <td>0.03</td>\n",
              "      <td>0.00</td>\n",
              "      <td>0.00</td>\n",
              "      <td>0.00</td>\n",
              "      <td>0.0</td>\n",
              "      <td>0.0</td>\n",
              "      <td>0</td>\n",
              "    </tr>\n",
              "    <tr>\n",
              "      <th>3</th>\n",
              "      <td>0</td>\n",
              "      <td>tcp</td>\n",
              "      <td>http</td>\n",
              "      <td>SF</td>\n",
              "      <td>217</td>\n",
              "      <td>2032</td>\n",
              "      <td>0</td>\n",
              "      <td>0</td>\n",
              "      <td>0</td>\n",
              "      <td>0</td>\n",
              "      <td>...</td>\n",
              "      <td>49</td>\n",
              "      <td>1.0</td>\n",
              "      <td>0.0</td>\n",
              "      <td>0.02</td>\n",
              "      <td>0.00</td>\n",
              "      <td>0.00</td>\n",
              "      <td>0.00</td>\n",
              "      <td>0.0</td>\n",
              "      <td>0.0</td>\n",
              "      <td>0</td>\n",
              "    </tr>\n",
              "    <tr>\n",
              "      <th>4</th>\n",
              "      <td>0</td>\n",
              "      <td>tcp</td>\n",
              "      <td>http</td>\n",
              "      <td>SF</td>\n",
              "      <td>217</td>\n",
              "      <td>2032</td>\n",
              "      <td>0</td>\n",
              "      <td>0</td>\n",
              "      <td>0</td>\n",
              "      <td>0</td>\n",
              "      <td>...</td>\n",
              "      <td>59</td>\n",
              "      <td>1.0</td>\n",
              "      <td>0.0</td>\n",
              "      <td>0.02</td>\n",
              "      <td>0.00</td>\n",
              "      <td>0.00</td>\n",
              "      <td>0.00</td>\n",
              "      <td>0.0</td>\n",
              "      <td>0.0</td>\n",
              "      <td>0</td>\n",
              "    </tr>\n",
              "    <tr>\n",
              "      <th>...</th>\n",
              "      <td>...</td>\n",
              "      <td>...</td>\n",
              "      <td>...</td>\n",
              "      <td>...</td>\n",
              "      <td>...</td>\n",
              "      <td>...</td>\n",
              "      <td>...</td>\n",
              "      <td>...</td>\n",
              "      <td>...</td>\n",
              "      <td>...</td>\n",
              "      <td>...</td>\n",
              "      <td>...</td>\n",
              "      <td>...</td>\n",
              "      <td>...</td>\n",
              "      <td>...</td>\n",
              "      <td>...</td>\n",
              "      <td>...</td>\n",
              "      <td>...</td>\n",
              "      <td>...</td>\n",
              "      <td>...</td>\n",
              "      <td>...</td>\n",
              "    </tr>\n",
              "    <tr>\n",
              "      <th>494015</th>\n",
              "      <td>0</td>\n",
              "      <td>tcp</td>\n",
              "      <td>http</td>\n",
              "      <td>SF</td>\n",
              "      <td>310</td>\n",
              "      <td>1881</td>\n",
              "      <td>0</td>\n",
              "      <td>0</td>\n",
              "      <td>0</td>\n",
              "      <td>0</td>\n",
              "      <td>...</td>\n",
              "      <td>255</td>\n",
              "      <td>1.0</td>\n",
              "      <td>0.0</td>\n",
              "      <td>0.01</td>\n",
              "      <td>0.05</td>\n",
              "      <td>0.00</td>\n",
              "      <td>0.01</td>\n",
              "      <td>0.0</td>\n",
              "      <td>0.0</td>\n",
              "      <td>0</td>\n",
              "    </tr>\n",
              "    <tr>\n",
              "      <th>494016</th>\n",
              "      <td>0</td>\n",
              "      <td>tcp</td>\n",
              "      <td>http</td>\n",
              "      <td>SF</td>\n",
              "      <td>282</td>\n",
              "      <td>2286</td>\n",
              "      <td>0</td>\n",
              "      <td>0</td>\n",
              "      <td>0</td>\n",
              "      <td>0</td>\n",
              "      <td>...</td>\n",
              "      <td>255</td>\n",
              "      <td>1.0</td>\n",
              "      <td>0.0</td>\n",
              "      <td>0.17</td>\n",
              "      <td>0.05</td>\n",
              "      <td>0.00</td>\n",
              "      <td>0.01</td>\n",
              "      <td>0.0</td>\n",
              "      <td>0.0</td>\n",
              "      <td>0</td>\n",
              "    </tr>\n",
              "    <tr>\n",
              "      <th>494017</th>\n",
              "      <td>0</td>\n",
              "      <td>tcp</td>\n",
              "      <td>http</td>\n",
              "      <td>SF</td>\n",
              "      <td>203</td>\n",
              "      <td>1200</td>\n",
              "      <td>0</td>\n",
              "      <td>0</td>\n",
              "      <td>0</td>\n",
              "      <td>0</td>\n",
              "      <td>...</td>\n",
              "      <td>255</td>\n",
              "      <td>1.0</td>\n",
              "      <td>0.0</td>\n",
              "      <td>0.06</td>\n",
              "      <td>0.05</td>\n",
              "      <td>0.06</td>\n",
              "      <td>0.01</td>\n",
              "      <td>0.0</td>\n",
              "      <td>0.0</td>\n",
              "      <td>0</td>\n",
              "    </tr>\n",
              "    <tr>\n",
              "      <th>494018</th>\n",
              "      <td>0</td>\n",
              "      <td>tcp</td>\n",
              "      <td>http</td>\n",
              "      <td>SF</td>\n",
              "      <td>291</td>\n",
              "      <td>1200</td>\n",
              "      <td>0</td>\n",
              "      <td>0</td>\n",
              "      <td>0</td>\n",
              "      <td>0</td>\n",
              "      <td>...</td>\n",
              "      <td>255</td>\n",
              "      <td>1.0</td>\n",
              "      <td>0.0</td>\n",
              "      <td>0.04</td>\n",
              "      <td>0.05</td>\n",
              "      <td>0.04</td>\n",
              "      <td>0.01</td>\n",
              "      <td>0.0</td>\n",
              "      <td>0.0</td>\n",
              "      <td>0</td>\n",
              "    </tr>\n",
              "    <tr>\n",
              "      <th>494019</th>\n",
              "      <td>0</td>\n",
              "      <td>tcp</td>\n",
              "      <td>http</td>\n",
              "      <td>SF</td>\n",
              "      <td>219</td>\n",
              "      <td>1234</td>\n",
              "      <td>0</td>\n",
              "      <td>0</td>\n",
              "      <td>0</td>\n",
              "      <td>0</td>\n",
              "      <td>...</td>\n",
              "      <td>255</td>\n",
              "      <td>1.0</td>\n",
              "      <td>0.0</td>\n",
              "      <td>0.17</td>\n",
              "      <td>0.05</td>\n",
              "      <td>0.00</td>\n",
              "      <td>0.01</td>\n",
              "      <td>0.0</td>\n",
              "      <td>0.0</td>\n",
              "      <td>0</td>\n",
              "    </tr>\n",
              "  </tbody>\n",
              "</table>\n",
              "<p>145585 rows × 42 columns</p>\n",
              "</div>\n",
              "      <button class=\"colab-df-convert\" onclick=\"convertToInteractive('df-d4da14db-af45-4501-8e2c-0d4de4abe0c5')\"\n",
              "              title=\"Convert this dataframe to an interactive table.\"\n",
              "              style=\"display:none;\">\n",
              "        \n",
              "  <svg xmlns=\"http://www.w3.org/2000/svg\" height=\"24px\"viewBox=\"0 0 24 24\"\n",
              "       width=\"24px\">\n",
              "    <path d=\"M0 0h24v24H0V0z\" fill=\"none\"/>\n",
              "    <path d=\"M18.56 5.44l.94 2.06.94-2.06 2.06-.94-2.06-.94-.94-2.06-.94 2.06-2.06.94zm-11 1L8.5 8.5l.94-2.06 2.06-.94-2.06-.94L8.5 2.5l-.94 2.06-2.06.94zm10 10l.94 2.06.94-2.06 2.06-.94-2.06-.94-.94-2.06-.94 2.06-2.06.94z\"/><path d=\"M17.41 7.96l-1.37-1.37c-.4-.4-.92-.59-1.43-.59-.52 0-1.04.2-1.43.59L10.3 9.45l-7.72 7.72c-.78.78-.78 2.05 0 2.83L4 21.41c.39.39.9.59 1.41.59.51 0 1.02-.2 1.41-.59l7.78-7.78 2.81-2.81c.8-.78.8-2.07 0-2.86zM5.41 20L4 18.59l7.72-7.72 1.47 1.35L5.41 20z\"/>\n",
              "  </svg>\n",
              "      </button>\n",
              "      \n",
              "  <style>\n",
              "    .colab-df-container {\n",
              "      display:flex;\n",
              "      flex-wrap:wrap;\n",
              "      gap: 12px;\n",
              "    }\n",
              "\n",
              "    .colab-df-convert {\n",
              "      background-color: #E8F0FE;\n",
              "      border: none;\n",
              "      border-radius: 50%;\n",
              "      cursor: pointer;\n",
              "      display: none;\n",
              "      fill: #1967D2;\n",
              "      height: 32px;\n",
              "      padding: 0 0 0 0;\n",
              "      width: 32px;\n",
              "    }\n",
              "\n",
              "    .colab-df-convert:hover {\n",
              "      background-color: #E2EBFA;\n",
              "      box-shadow: 0px 1px 2px rgba(60, 64, 67, 0.3), 0px 1px 3px 1px rgba(60, 64, 67, 0.15);\n",
              "      fill: #174EA6;\n",
              "    }\n",
              "\n",
              "    [theme=dark] .colab-df-convert {\n",
              "      background-color: #3B4455;\n",
              "      fill: #D2E3FC;\n",
              "    }\n",
              "\n",
              "    [theme=dark] .colab-df-convert:hover {\n",
              "      background-color: #434B5C;\n",
              "      box-shadow: 0px 1px 3px 1px rgba(0, 0, 0, 0.15);\n",
              "      filter: drop-shadow(0px 1px 2px rgba(0, 0, 0, 0.3));\n",
              "      fill: #FFFFFF;\n",
              "    }\n",
              "  </style>\n",
              "\n",
              "      <script>\n",
              "        const buttonEl =\n",
              "          document.querySelector('#df-d4da14db-af45-4501-8e2c-0d4de4abe0c5 button.colab-df-convert');\n",
              "        buttonEl.style.display =\n",
              "          google.colab.kernel.accessAllowed ? 'block' : 'none';\n",
              "\n",
              "        async function convertToInteractive(key) {\n",
              "          const element = document.querySelector('#df-d4da14db-af45-4501-8e2c-0d4de4abe0c5');\n",
              "          const dataTable =\n",
              "            await google.colab.kernel.invokeFunction('convertToInteractive',\n",
              "                                                     [key], {});\n",
              "          if (!dataTable) return;\n",
              "\n",
              "          const docLinkHtml = 'Like what you see? Visit the ' +\n",
              "            '<a target=\"_blank\" href=https://colab.research.google.com/notebooks/data_table.ipynb>data table notebook</a>'\n",
              "            + ' to learn more about interactive tables.';\n",
              "          element.innerHTML = '';\n",
              "          dataTable['output_type'] = 'display_data';\n",
              "          await google.colab.output.renderOutput(dataTable, element);\n",
              "          const docLink = document.createElement('div');\n",
              "          docLink.innerHTML = docLinkHtml;\n",
              "          element.appendChild(docLink);\n",
              "        }\n",
              "      </script>\n",
              "    </div>\n",
              "  </div>\n",
              "  "
            ]
          },
          "metadata": {},
          "execution_count": 22
        }
      ]
    },
    {
      "cell_type": "code",
      "source": [
        "dfc['outcome'].unique()"
      ],
      "metadata": {
        "colab": {
          "base_uri": "https://localhost:8080/"
        },
        "id": "9SFGyaOngE-J",
        "outputId": "9eef466b-406e-484f-a1a0-2824e10e1f25"
      },
      "id": "9SFGyaOngE-J",
      "execution_count": null,
      "outputs": [
        {
          "output_type": "execute_result",
          "data": {
            "text/plain": [
              "array([0, 1])"
            ]
          },
          "metadata": {},
          "execution_count": 23
        }
      ]
    },
    {
      "cell_type": "code",
      "source": [
        "dfc['outcome'].value_counts()"
      ],
      "metadata": {
        "colab": {
          "base_uri": "https://localhost:8080/"
        },
        "id": "BFKWP7CQgE6w",
        "outputId": "fd69f33a-7c9b-424a-ef92-3bba408a9709"
      },
      "id": "BFKWP7CQgE6w",
      "execution_count": null,
      "outputs": [
        {
          "output_type": "execute_result",
          "data": {
            "text/plain": [
              "0    87831\n",
              "1    57754\n",
              "Name: outcome, dtype: int64"
            ]
          },
          "metadata": {},
          "execution_count": 24
        }
      ]
    },
    {
      "cell_type": "markdown",
      "source": [
        "###**Encoding (*Part 2)**###\n",
        "After we have encoded the connections, we will want to encode all other categorical features."
      ],
      "metadata": {
        "id": "2eVQNeqmiQBL"
      },
      "id": "2eVQNeqmiQBL"
    },
    {
      "cell_type": "markdown",
      "source": [
        "\n",
        "Here is the list of categorical features: \n",
        "'protocol_type',\n",
        "'service',\n",
        "'flag',\n",
        "'land',\n",
        "'logged_in',\n",
        "'is_host_login',\n",
        "'is_guest_login'"
      ],
      "metadata": {
        "id": "YqggfgKxmHRQ"
      },
      "id": "YqggfgKxmHRQ"
    },
    {
      "cell_type": "code",
      "source": [
        "encode_text_index(dfc,'protocol_type')   # label encoding\n",
        "encode_text_index(dfc,'service')   # label encoding\n",
        "encode_text_index(dfc,'flag')   # label encoding\n",
        "encode_text_index(dfc,'land')   # label encoding\n",
        "encode_text_index(dfc,'logged_in')   # label encoding\n",
        "encode_text_index(dfc,'is_host_login')   # label encoding\n",
        "encode_text_index(dfc,'is_guest_login')   # label encoding\n",
        "dfc"
      ],
      "metadata": {
        "colab": {
          "base_uri": "https://localhost:8080/",
          "height": 574
        },
        "id": "EJ4L-oV6hXCY",
        "outputId": "424ebfe5-7654-47ba-be58-81e895140e57"
      },
      "id": "EJ4L-oV6hXCY",
      "execution_count": null,
      "outputs": [
        {
          "output_type": "stream",
          "name": "stderr",
          "text": [
            "/usr/local/lib/python3.7/dist-packages/ipykernel_launcher.py:22: SettingWithCopyWarning: \n",
            "A value is trying to be set on a copy of a slice from a DataFrame.\n",
            "Try using .loc[row_indexer,col_indexer] = value instead\n",
            "\n",
            "See the caveats in the documentation: https://pandas.pydata.org/pandas-docs/stable/user_guide/indexing.html#returning-a-view-versus-a-copy\n"
          ]
        },
        {
          "output_type": "execute_result",
          "data": {
            "text/plain": [
              "        duration  protocol_type  service  flag  src_bytes  dst_bytes  land  \\\n",
              "0              0              1       22     9        239        486     0   \n",
              "1              0              1       22     9        235       1337     0   \n",
              "2              0              1       22     9        219       1337     0   \n",
              "3              0              1       22     9        217       2032     0   \n",
              "4              0              1       22     9        217       2032     0   \n",
              "...          ...            ...      ...   ...        ...        ...   ...   \n",
              "494015         0              1       22     9        310       1881     0   \n",
              "494016         0              1       22     9        282       2286     0   \n",
              "494017         0              1       22     9        203       1200     0   \n",
              "494018         0              1       22     9        291       1200     0   \n",
              "494019         0              1       22     9        219       1234     0   \n",
              "\n",
              "        wrong_fragment  urgent  hot  ...  dst_host_srv_count  \\\n",
              "0                    0       0    0  ...                  19   \n",
              "1                    0       0    0  ...                  29   \n",
              "2                    0       0    0  ...                  39   \n",
              "3                    0       0    0  ...                  49   \n",
              "4                    0       0    0  ...                  59   \n",
              "...                ...     ...  ...  ...                 ...   \n",
              "494015               0       0    0  ...                 255   \n",
              "494016               0       0    0  ...                 255   \n",
              "494017               0       0    0  ...                 255   \n",
              "494018               0       0    0  ...                 255   \n",
              "494019               0       0    0  ...                 255   \n",
              "\n",
              "        dst_host_same_srv_rate  dst_host_diff_srv_rate  \\\n",
              "0                          1.0                     0.0   \n",
              "1                          1.0                     0.0   \n",
              "2                          1.0                     0.0   \n",
              "3                          1.0                     0.0   \n",
              "4                          1.0                     0.0   \n",
              "...                        ...                     ...   \n",
              "494015                     1.0                     0.0   \n",
              "494016                     1.0                     0.0   \n",
              "494017                     1.0                     0.0   \n",
              "494018                     1.0                     0.0   \n",
              "494019                     1.0                     0.0   \n",
              "\n",
              "        dst_host_same_src_port_rate  dst_host_srv_diff_host_rate  \\\n",
              "0                              0.05                         0.00   \n",
              "1                              0.03                         0.00   \n",
              "2                              0.03                         0.00   \n",
              "3                              0.02                         0.00   \n",
              "4                              0.02                         0.00   \n",
              "...                             ...                          ...   \n",
              "494015                         0.01                         0.05   \n",
              "494016                         0.17                         0.05   \n",
              "494017                         0.06                         0.05   \n",
              "494018                         0.04                         0.05   \n",
              "494019                         0.17                         0.05   \n",
              "\n",
              "        dst_host_serror_rate  dst_host_srv_serror_rate  dst_host_rerror_rate  \\\n",
              "0                       0.00                      0.00                   0.0   \n",
              "1                       0.00                      0.00                   0.0   \n",
              "2                       0.00                      0.00                   0.0   \n",
              "3                       0.00                      0.00                   0.0   \n",
              "4                       0.00                      0.00                   0.0   \n",
              "...                      ...                       ...                   ...   \n",
              "494015                  0.00                      0.01                   0.0   \n",
              "494016                  0.00                      0.01                   0.0   \n",
              "494017                  0.06                      0.01                   0.0   \n",
              "494018                  0.04                      0.01                   0.0   \n",
              "494019                  0.00                      0.01                   0.0   \n",
              "\n",
              "        dst_host_srv_rerror_rate  outcome  \n",
              "0                            0.0        0  \n",
              "1                            0.0        0  \n",
              "2                            0.0        0  \n",
              "3                            0.0        0  \n",
              "4                            0.0        0  \n",
              "...                          ...      ...  \n",
              "494015                       0.0        0  \n",
              "494016                       0.0        0  \n",
              "494017                       0.0        0  \n",
              "494018                       0.0        0  \n",
              "494019                       0.0        0  \n",
              "\n",
              "[145585 rows x 42 columns]"
            ],
            "text/html": [
              "\n",
              "  <div id=\"df-4bcf62fd-5d22-4afc-9ec4-f3c7449b38b2\">\n",
              "    <div class=\"colab-df-container\">\n",
              "      <div>\n",
              "<style scoped>\n",
              "    .dataframe tbody tr th:only-of-type {\n",
              "        vertical-align: middle;\n",
              "    }\n",
              "\n",
              "    .dataframe tbody tr th {\n",
              "        vertical-align: top;\n",
              "    }\n",
              "\n",
              "    .dataframe thead th {\n",
              "        text-align: right;\n",
              "    }\n",
              "</style>\n",
              "<table border=\"1\" class=\"dataframe\">\n",
              "  <thead>\n",
              "    <tr style=\"text-align: right;\">\n",
              "      <th></th>\n",
              "      <th>duration</th>\n",
              "      <th>protocol_type</th>\n",
              "      <th>service</th>\n",
              "      <th>flag</th>\n",
              "      <th>src_bytes</th>\n",
              "      <th>dst_bytes</th>\n",
              "      <th>land</th>\n",
              "      <th>wrong_fragment</th>\n",
              "      <th>urgent</th>\n",
              "      <th>hot</th>\n",
              "      <th>...</th>\n",
              "      <th>dst_host_srv_count</th>\n",
              "      <th>dst_host_same_srv_rate</th>\n",
              "      <th>dst_host_diff_srv_rate</th>\n",
              "      <th>dst_host_same_src_port_rate</th>\n",
              "      <th>dst_host_srv_diff_host_rate</th>\n",
              "      <th>dst_host_serror_rate</th>\n",
              "      <th>dst_host_srv_serror_rate</th>\n",
              "      <th>dst_host_rerror_rate</th>\n",
              "      <th>dst_host_srv_rerror_rate</th>\n",
              "      <th>outcome</th>\n",
              "    </tr>\n",
              "  </thead>\n",
              "  <tbody>\n",
              "    <tr>\n",
              "      <th>0</th>\n",
              "      <td>0</td>\n",
              "      <td>1</td>\n",
              "      <td>22</td>\n",
              "      <td>9</td>\n",
              "      <td>239</td>\n",
              "      <td>486</td>\n",
              "      <td>0</td>\n",
              "      <td>0</td>\n",
              "      <td>0</td>\n",
              "      <td>0</td>\n",
              "      <td>...</td>\n",
              "      <td>19</td>\n",
              "      <td>1.0</td>\n",
              "      <td>0.0</td>\n",
              "      <td>0.05</td>\n",
              "      <td>0.00</td>\n",
              "      <td>0.00</td>\n",
              "      <td>0.00</td>\n",
              "      <td>0.0</td>\n",
              "      <td>0.0</td>\n",
              "      <td>0</td>\n",
              "    </tr>\n",
              "    <tr>\n",
              "      <th>1</th>\n",
              "      <td>0</td>\n",
              "      <td>1</td>\n",
              "      <td>22</td>\n",
              "      <td>9</td>\n",
              "      <td>235</td>\n",
              "      <td>1337</td>\n",
              "      <td>0</td>\n",
              "      <td>0</td>\n",
              "      <td>0</td>\n",
              "      <td>0</td>\n",
              "      <td>...</td>\n",
              "      <td>29</td>\n",
              "      <td>1.0</td>\n",
              "      <td>0.0</td>\n",
              "      <td>0.03</td>\n",
              "      <td>0.00</td>\n",
              "      <td>0.00</td>\n",
              "      <td>0.00</td>\n",
              "      <td>0.0</td>\n",
              "      <td>0.0</td>\n",
              "      <td>0</td>\n",
              "    </tr>\n",
              "    <tr>\n",
              "      <th>2</th>\n",
              "      <td>0</td>\n",
              "      <td>1</td>\n",
              "      <td>22</td>\n",
              "      <td>9</td>\n",
              "      <td>219</td>\n",
              "      <td>1337</td>\n",
              "      <td>0</td>\n",
              "      <td>0</td>\n",
              "      <td>0</td>\n",
              "      <td>0</td>\n",
              "      <td>...</td>\n",
              "      <td>39</td>\n",
              "      <td>1.0</td>\n",
              "      <td>0.0</td>\n",
              "      <td>0.03</td>\n",
              "      <td>0.00</td>\n",
              "      <td>0.00</td>\n",
              "      <td>0.00</td>\n",
              "      <td>0.0</td>\n",
              "      <td>0.0</td>\n",
              "      <td>0</td>\n",
              "    </tr>\n",
              "    <tr>\n",
              "      <th>3</th>\n",
              "      <td>0</td>\n",
              "      <td>1</td>\n",
              "      <td>22</td>\n",
              "      <td>9</td>\n",
              "      <td>217</td>\n",
              "      <td>2032</td>\n",
              "      <td>0</td>\n",
              "      <td>0</td>\n",
              "      <td>0</td>\n",
              "      <td>0</td>\n",
              "      <td>...</td>\n",
              "      <td>49</td>\n",
              "      <td>1.0</td>\n",
              "      <td>0.0</td>\n",
              "      <td>0.02</td>\n",
              "      <td>0.00</td>\n",
              "      <td>0.00</td>\n",
              "      <td>0.00</td>\n",
              "      <td>0.0</td>\n",
              "      <td>0.0</td>\n",
              "      <td>0</td>\n",
              "    </tr>\n",
              "    <tr>\n",
              "      <th>4</th>\n",
              "      <td>0</td>\n",
              "      <td>1</td>\n",
              "      <td>22</td>\n",
              "      <td>9</td>\n",
              "      <td>217</td>\n",
              "      <td>2032</td>\n",
              "      <td>0</td>\n",
              "      <td>0</td>\n",
              "      <td>0</td>\n",
              "      <td>0</td>\n",
              "      <td>...</td>\n",
              "      <td>59</td>\n",
              "      <td>1.0</td>\n",
              "      <td>0.0</td>\n",
              "      <td>0.02</td>\n",
              "      <td>0.00</td>\n",
              "      <td>0.00</td>\n",
              "      <td>0.00</td>\n",
              "      <td>0.0</td>\n",
              "      <td>0.0</td>\n",
              "      <td>0</td>\n",
              "    </tr>\n",
              "    <tr>\n",
              "      <th>...</th>\n",
              "      <td>...</td>\n",
              "      <td>...</td>\n",
              "      <td>...</td>\n",
              "      <td>...</td>\n",
              "      <td>...</td>\n",
              "      <td>...</td>\n",
              "      <td>...</td>\n",
              "      <td>...</td>\n",
              "      <td>...</td>\n",
              "      <td>...</td>\n",
              "      <td>...</td>\n",
              "      <td>...</td>\n",
              "      <td>...</td>\n",
              "      <td>...</td>\n",
              "      <td>...</td>\n",
              "      <td>...</td>\n",
              "      <td>...</td>\n",
              "      <td>...</td>\n",
              "      <td>...</td>\n",
              "      <td>...</td>\n",
              "      <td>...</td>\n",
              "    </tr>\n",
              "    <tr>\n",
              "      <th>494015</th>\n",
              "      <td>0</td>\n",
              "      <td>1</td>\n",
              "      <td>22</td>\n",
              "      <td>9</td>\n",
              "      <td>310</td>\n",
              "      <td>1881</td>\n",
              "      <td>0</td>\n",
              "      <td>0</td>\n",
              "      <td>0</td>\n",
              "      <td>0</td>\n",
              "      <td>...</td>\n",
              "      <td>255</td>\n",
              "      <td>1.0</td>\n",
              "      <td>0.0</td>\n",
              "      <td>0.01</td>\n",
              "      <td>0.05</td>\n",
              "      <td>0.00</td>\n",
              "      <td>0.01</td>\n",
              "      <td>0.0</td>\n",
              "      <td>0.0</td>\n",
              "      <td>0</td>\n",
              "    </tr>\n",
              "    <tr>\n",
              "      <th>494016</th>\n",
              "      <td>0</td>\n",
              "      <td>1</td>\n",
              "      <td>22</td>\n",
              "      <td>9</td>\n",
              "      <td>282</td>\n",
              "      <td>2286</td>\n",
              "      <td>0</td>\n",
              "      <td>0</td>\n",
              "      <td>0</td>\n",
              "      <td>0</td>\n",
              "      <td>...</td>\n",
              "      <td>255</td>\n",
              "      <td>1.0</td>\n",
              "      <td>0.0</td>\n",
              "      <td>0.17</td>\n",
              "      <td>0.05</td>\n",
              "      <td>0.00</td>\n",
              "      <td>0.01</td>\n",
              "      <td>0.0</td>\n",
              "      <td>0.0</td>\n",
              "      <td>0</td>\n",
              "    </tr>\n",
              "    <tr>\n",
              "      <th>494017</th>\n",
              "      <td>0</td>\n",
              "      <td>1</td>\n",
              "      <td>22</td>\n",
              "      <td>9</td>\n",
              "      <td>203</td>\n",
              "      <td>1200</td>\n",
              "      <td>0</td>\n",
              "      <td>0</td>\n",
              "      <td>0</td>\n",
              "      <td>0</td>\n",
              "      <td>...</td>\n",
              "      <td>255</td>\n",
              "      <td>1.0</td>\n",
              "      <td>0.0</td>\n",
              "      <td>0.06</td>\n",
              "      <td>0.05</td>\n",
              "      <td>0.06</td>\n",
              "      <td>0.01</td>\n",
              "      <td>0.0</td>\n",
              "      <td>0.0</td>\n",
              "      <td>0</td>\n",
              "    </tr>\n",
              "    <tr>\n",
              "      <th>494018</th>\n",
              "      <td>0</td>\n",
              "      <td>1</td>\n",
              "      <td>22</td>\n",
              "      <td>9</td>\n",
              "      <td>291</td>\n",
              "      <td>1200</td>\n",
              "      <td>0</td>\n",
              "      <td>0</td>\n",
              "      <td>0</td>\n",
              "      <td>0</td>\n",
              "      <td>...</td>\n",
              "      <td>255</td>\n",
              "      <td>1.0</td>\n",
              "      <td>0.0</td>\n",
              "      <td>0.04</td>\n",
              "      <td>0.05</td>\n",
              "      <td>0.04</td>\n",
              "      <td>0.01</td>\n",
              "      <td>0.0</td>\n",
              "      <td>0.0</td>\n",
              "      <td>0</td>\n",
              "    </tr>\n",
              "    <tr>\n",
              "      <th>494019</th>\n",
              "      <td>0</td>\n",
              "      <td>1</td>\n",
              "      <td>22</td>\n",
              "      <td>9</td>\n",
              "      <td>219</td>\n",
              "      <td>1234</td>\n",
              "      <td>0</td>\n",
              "      <td>0</td>\n",
              "      <td>0</td>\n",
              "      <td>0</td>\n",
              "      <td>...</td>\n",
              "      <td>255</td>\n",
              "      <td>1.0</td>\n",
              "      <td>0.0</td>\n",
              "      <td>0.17</td>\n",
              "      <td>0.05</td>\n",
              "      <td>0.00</td>\n",
              "      <td>0.01</td>\n",
              "      <td>0.0</td>\n",
              "      <td>0.0</td>\n",
              "      <td>0</td>\n",
              "    </tr>\n",
              "  </tbody>\n",
              "</table>\n",
              "<p>145585 rows × 42 columns</p>\n",
              "</div>\n",
              "      <button class=\"colab-df-convert\" onclick=\"convertToInteractive('df-4bcf62fd-5d22-4afc-9ec4-f3c7449b38b2')\"\n",
              "              title=\"Convert this dataframe to an interactive table.\"\n",
              "              style=\"display:none;\">\n",
              "        \n",
              "  <svg xmlns=\"http://www.w3.org/2000/svg\" height=\"24px\"viewBox=\"0 0 24 24\"\n",
              "       width=\"24px\">\n",
              "    <path d=\"M0 0h24v24H0V0z\" fill=\"none\"/>\n",
              "    <path d=\"M18.56 5.44l.94 2.06.94-2.06 2.06-.94-2.06-.94-.94-2.06-.94 2.06-2.06.94zm-11 1L8.5 8.5l.94-2.06 2.06-.94-2.06-.94L8.5 2.5l-.94 2.06-2.06.94zm10 10l.94 2.06.94-2.06 2.06-.94-2.06-.94-.94-2.06-.94 2.06-2.06.94z\"/><path d=\"M17.41 7.96l-1.37-1.37c-.4-.4-.92-.59-1.43-.59-.52 0-1.04.2-1.43.59L10.3 9.45l-7.72 7.72c-.78.78-.78 2.05 0 2.83L4 21.41c.39.39.9.59 1.41.59.51 0 1.02-.2 1.41-.59l7.78-7.78 2.81-2.81c.8-.78.8-2.07 0-2.86zM5.41 20L4 18.59l7.72-7.72 1.47 1.35L5.41 20z\"/>\n",
              "  </svg>\n",
              "      </button>\n",
              "      \n",
              "  <style>\n",
              "    .colab-df-container {\n",
              "      display:flex;\n",
              "      flex-wrap:wrap;\n",
              "      gap: 12px;\n",
              "    }\n",
              "\n",
              "    .colab-df-convert {\n",
              "      background-color: #E8F0FE;\n",
              "      border: none;\n",
              "      border-radius: 50%;\n",
              "      cursor: pointer;\n",
              "      display: none;\n",
              "      fill: #1967D2;\n",
              "      height: 32px;\n",
              "      padding: 0 0 0 0;\n",
              "      width: 32px;\n",
              "    }\n",
              "\n",
              "    .colab-df-convert:hover {\n",
              "      background-color: #E2EBFA;\n",
              "      box-shadow: 0px 1px 2px rgba(60, 64, 67, 0.3), 0px 1px 3px 1px rgba(60, 64, 67, 0.15);\n",
              "      fill: #174EA6;\n",
              "    }\n",
              "\n",
              "    [theme=dark] .colab-df-convert {\n",
              "      background-color: #3B4455;\n",
              "      fill: #D2E3FC;\n",
              "    }\n",
              "\n",
              "    [theme=dark] .colab-df-convert:hover {\n",
              "      background-color: #434B5C;\n",
              "      box-shadow: 0px 1px 3px 1px rgba(0, 0, 0, 0.15);\n",
              "      filter: drop-shadow(0px 1px 2px rgba(0, 0, 0, 0.3));\n",
              "      fill: #FFFFFF;\n",
              "    }\n",
              "  </style>\n",
              "\n",
              "      <script>\n",
              "        const buttonEl =\n",
              "          document.querySelector('#df-4bcf62fd-5d22-4afc-9ec4-f3c7449b38b2 button.colab-df-convert');\n",
              "        buttonEl.style.display =\n",
              "          google.colab.kernel.accessAllowed ? 'block' : 'none';\n",
              "\n",
              "        async function convertToInteractive(key) {\n",
              "          const element = document.querySelector('#df-4bcf62fd-5d22-4afc-9ec4-f3c7449b38b2');\n",
              "          const dataTable =\n",
              "            await google.colab.kernel.invokeFunction('convertToInteractive',\n",
              "                                                     [key], {});\n",
              "          if (!dataTable) return;\n",
              "\n",
              "          const docLinkHtml = 'Like what you see? Visit the ' +\n",
              "            '<a target=\"_blank\" href=https://colab.research.google.com/notebooks/data_table.ipynb>data table notebook</a>'\n",
              "            + ' to learn more about interactive tables.';\n",
              "          element.innerHTML = '';\n",
              "          dataTable['output_type'] = 'display_data';\n",
              "          await google.colab.output.renderOutput(dataTable, element);\n",
              "          const docLink = document.createElement('div');\n",
              "          docLink.innerHTML = docLinkHtml;\n",
              "          element.appendChild(docLink);\n",
              "        }\n",
              "      </script>\n",
              "    </div>\n",
              "  </div>\n",
              "  "
            ]
          },
          "metadata": {},
          "execution_count": 25
        }
      ]
    },
    {
      "cell_type": "code",
      "source": [
        "list(dfc)"
      ],
      "metadata": {
        "colab": {
          "base_uri": "https://localhost:8080/"
        },
        "id": "DpX_9ifJhXGx",
        "outputId": "ea4902ac-34fa-4eb1-9321-a73cf232c2f9"
      },
      "id": "DpX_9ifJhXGx",
      "execution_count": null,
      "outputs": [
        {
          "output_type": "execute_result",
          "data": {
            "text/plain": [
              "['duration',\n",
              " 'protocol_type',\n",
              " 'service',\n",
              " 'flag',\n",
              " 'src_bytes',\n",
              " 'dst_bytes',\n",
              " 'land',\n",
              " 'wrong_fragment',\n",
              " 'urgent',\n",
              " 'hot',\n",
              " 'num_failed_logins',\n",
              " 'logged_in',\n",
              " 'num_compromised',\n",
              " 'root_shell',\n",
              " 'su_attempted',\n",
              " 'num_root',\n",
              " 'num_file_creations',\n",
              " 'num_shells',\n",
              " 'num_access_files',\n",
              " 'num_outbound_cmds',\n",
              " 'is_host_login',\n",
              " 'is_guest_login',\n",
              " 'count',\n",
              " 'srv_count',\n",
              " 'serror_rate',\n",
              " 'srv_serror_rate',\n",
              " 'rerror_rate',\n",
              " 'srv_rerror_rate',\n",
              " 'same_srv_rate',\n",
              " 'diff_srv_rate',\n",
              " 'srv_diff_host_rate',\n",
              " 'dst_host_count',\n",
              " 'dst_host_srv_count',\n",
              " 'dst_host_same_srv_rate',\n",
              " 'dst_host_diff_srv_rate',\n",
              " 'dst_host_same_src_port_rate',\n",
              " 'dst_host_srv_diff_host_rate',\n",
              " 'dst_host_serror_rate',\n",
              " 'dst_host_srv_serror_rate',\n",
              " 'dst_host_rerror_rate',\n",
              " 'dst_host_srv_rerror_rate',\n",
              " 'outcome']"
            ]
          },
          "metadata": {},
          "execution_count": 26
        }
      ]
    },
    {
      "cell_type": "markdown",
      "source": [
        "###**Normalization**###\n",
        "After we have have finished encoding, we can normalize all the numerical features."
      ],
      "metadata": {
        "id": "np_FHcBulhb0"
      },
      "id": "np_FHcBulhb0"
    },
    {
      "cell_type": "markdown",
      "source": [
        "Here is the list of numerical features: 'duration',\n",
        "'src_bytes',\n",
        "'dst_bytes',\n",
        "'wrong_fragment',\n",
        "'urgent',\n",
        "'hot',\n",
        "'num_failed_logins',\n",
        "'num_compromised',\n",
        "'root_shell',\n",
        "'su_attempted',\n",
        "'num_root',\n",
        "'num_file_creations',\n",
        "'num_shells',\n",
        "'num_access_files',\n",
        "'num_outbound_cmds',\n",
        "'count',\n",
        "'srv_count',\n",
        "'serror_rate',\n",
        "'srv_serror_rate',\n",
        "'rerror_rate',\n",
        "'srv_rerror_rate',\n",
        "'same_srv_rate',\n",
        "'diff_srv_rate',\n",
        "'srv_diff_host_rate',\n",
        "'dst_host_count',\n",
        "'dst_host_srv_count',\n",
        "'dst_host_same_srv_rate',\n",
        "'dst_host_diff_srv_rate',\n",
        "'dst_host_same_src_port_rate',\n",
        "'dst_host_srv_diff_host_rate',\n",
        "'dst_host_serror_rate',\n",
        "'dst_host_srv_serror_rate',\n",
        "'dst_host_rerror_rate',\n",
        "'dst_host_srv_rerror_rate'"
      ],
      "metadata": {
        "id": "JZR7eao8rJIX"
      },
      "id": "JZR7eao8rJIX"
    },
    {
      "cell_type": "code",
      "source": [
        "from scipy.stats import zscore\n",
        "dfc['duration'] = zscore(dfc['duration'])\n",
        "dfc['src_bytes'] = zscore(dfc['src_bytes'])\n",
        "dfc['dst_bytes'] = zscore(dfc['dst_bytes'])\n",
        "dfc['wrong_fragment'] = zscore(dfc['wrong_fragment'])\n",
        "dfc['urgent'] = zscore(dfc['urgent'])\n",
        "dfc['hot'] = zscore(dfc['hot'])\n",
        "dfc['num_failed_logins'] = zscore(dfc['num_failed_logins'])\n",
        "dfc['num_compromised'] = zscore(dfc['num_compromised'])\n",
        "dfc['root_shell'] = zscore(dfc['root_shell'])\n",
        "dfc['su_attempted'] = zscore(dfc['su_attempted'])\n",
        "dfc['num_root'] = zscore(dfc['num_root'])\n",
        "dfc['num_file_creations'] = zscore(dfc['num_file_creations'])\n",
        "dfc['num_shells'] = zscore(dfc['num_shells'])\n",
        "dfc['num_access_files'] = zscore(dfc['num_access_files'])\n",
        "dfc['num_outbound_cmds'] = zscore(dfc['num_outbound_cmds'])\n",
        "dfc['count'] = zscore(dfc['count'])\n",
        "dfc['srv_count'] = zscore(dfc['srv_count'])\n",
        "dfc['serror_rate'] = zscore(dfc['serror_rate'])\n",
        "dfc['srv_serror_rate'] = zscore(dfc['srv_serror_rate'])\n",
        "dfc['rerror_rate'] = zscore(dfc['rerror_rate'])\n",
        "dfc['srv_rerror_rate'] = zscore(dfc['srv_rerror_rate'])\n",
        "dfc['same_srv_rate'] = zscore(dfc['same_srv_rate'])\n",
        "dfc['diff_srv_rate'] = zscore(dfc['diff_srv_rate'])\n",
        "dfc['srv_diff_host_rate'] = zscore(dfc['srv_diff_host_rate'])\n",
        "dfc['dst_host_count'] = zscore(dfc['dst_host_count'])\n",
        "dfc['dst_host_srv_count'] = zscore(dfc['dst_host_srv_count'])\n",
        "dfc['dst_host_same_srv_rate'] = zscore(dfc['dst_host_same_srv_rate'])\n",
        "dfc['dst_host_diff_srv_rate'] = zscore(dfc['dst_host_diff_srv_rate'])\n",
        "dfc['dst_host_same_src_port_rate'] = zscore(dfc['dst_host_same_src_port_rate'])\n",
        "dfc['dst_host_srv_diff_host_rate'] = zscore(dfc['dst_host_srv_diff_host_rate'])\n",
        "dfc['dst_host_serror_rate'] = zscore(dfc['dst_host_serror_rate'])\n",
        "dfc['dst_host_srv_serror_rate'] = zscore(dfc['dst_host_srv_serror_rate'])\n",
        "dfc['dst_host_rerror_rate'] = zscore(dfc['dst_host_rerror_rate'])\n",
        "dfc['dst_host_srv_rerror_rate'] = zscore(dfc['dst_host_srv_rerror_rate'])\n",
        "\n",
        "dfc"
      ],
      "metadata": {
        "colab": {
          "base_uri": "https://localhost:8080/",
          "height": 1000
        },
        "id": "ffn1a5KwhW9J",
        "outputId": "a79879e7-e06c-4a92-bbe9-6ef005a55620"
      },
      "id": "ffn1a5KwhW9J",
      "execution_count": null,
      "outputs": [
        {
          "output_type": "stream",
          "name": "stderr",
          "text": [
            "/usr/local/lib/python3.7/dist-packages/ipykernel_launcher.py:2: SettingWithCopyWarning: \n",
            "A value is trying to be set on a copy of a slice from a DataFrame.\n",
            "Try using .loc[row_indexer,col_indexer] = value instead\n",
            "\n",
            "See the caveats in the documentation: https://pandas.pydata.org/pandas-docs/stable/user_guide/indexing.html#returning-a-view-versus-a-copy\n",
            "  \n",
            "/usr/local/lib/python3.7/dist-packages/ipykernel_launcher.py:3: SettingWithCopyWarning: \n",
            "A value is trying to be set on a copy of a slice from a DataFrame.\n",
            "Try using .loc[row_indexer,col_indexer] = value instead\n",
            "\n",
            "See the caveats in the documentation: https://pandas.pydata.org/pandas-docs/stable/user_guide/indexing.html#returning-a-view-versus-a-copy\n",
            "  This is separate from the ipykernel package so we can avoid doing imports until\n",
            "/usr/local/lib/python3.7/dist-packages/ipykernel_launcher.py:4: SettingWithCopyWarning: \n",
            "A value is trying to be set on a copy of a slice from a DataFrame.\n",
            "Try using .loc[row_indexer,col_indexer] = value instead\n",
            "\n",
            "See the caveats in the documentation: https://pandas.pydata.org/pandas-docs/stable/user_guide/indexing.html#returning-a-view-versus-a-copy\n",
            "  after removing the cwd from sys.path.\n",
            "/usr/local/lib/python3.7/dist-packages/ipykernel_launcher.py:5: SettingWithCopyWarning: \n",
            "A value is trying to be set on a copy of a slice from a DataFrame.\n",
            "Try using .loc[row_indexer,col_indexer] = value instead\n",
            "\n",
            "See the caveats in the documentation: https://pandas.pydata.org/pandas-docs/stable/user_guide/indexing.html#returning-a-view-versus-a-copy\n",
            "  \"\"\"\n",
            "/usr/local/lib/python3.7/dist-packages/ipykernel_launcher.py:6: SettingWithCopyWarning: \n",
            "A value is trying to be set on a copy of a slice from a DataFrame.\n",
            "Try using .loc[row_indexer,col_indexer] = value instead\n",
            "\n",
            "See the caveats in the documentation: https://pandas.pydata.org/pandas-docs/stable/user_guide/indexing.html#returning-a-view-versus-a-copy\n",
            "  \n",
            "/usr/local/lib/python3.7/dist-packages/ipykernel_launcher.py:7: SettingWithCopyWarning: \n",
            "A value is trying to be set on a copy of a slice from a DataFrame.\n",
            "Try using .loc[row_indexer,col_indexer] = value instead\n",
            "\n",
            "See the caveats in the documentation: https://pandas.pydata.org/pandas-docs/stable/user_guide/indexing.html#returning-a-view-versus-a-copy\n",
            "  import sys\n",
            "/usr/local/lib/python3.7/dist-packages/ipykernel_launcher.py:8: SettingWithCopyWarning: \n",
            "A value is trying to be set on a copy of a slice from a DataFrame.\n",
            "Try using .loc[row_indexer,col_indexer] = value instead\n",
            "\n",
            "See the caveats in the documentation: https://pandas.pydata.org/pandas-docs/stable/user_guide/indexing.html#returning-a-view-versus-a-copy\n",
            "  \n",
            "/usr/local/lib/python3.7/dist-packages/ipykernel_launcher.py:9: SettingWithCopyWarning: \n",
            "A value is trying to be set on a copy of a slice from a DataFrame.\n",
            "Try using .loc[row_indexer,col_indexer] = value instead\n",
            "\n",
            "See the caveats in the documentation: https://pandas.pydata.org/pandas-docs/stable/user_guide/indexing.html#returning-a-view-versus-a-copy\n",
            "  if __name__ == '__main__':\n",
            "/usr/local/lib/python3.7/dist-packages/ipykernel_launcher.py:10: SettingWithCopyWarning: \n",
            "A value is trying to be set on a copy of a slice from a DataFrame.\n",
            "Try using .loc[row_indexer,col_indexer] = value instead\n",
            "\n",
            "See the caveats in the documentation: https://pandas.pydata.org/pandas-docs/stable/user_guide/indexing.html#returning-a-view-versus-a-copy\n",
            "  # Remove the CWD from sys.path while we load stuff.\n",
            "/usr/local/lib/python3.7/dist-packages/ipykernel_launcher.py:11: SettingWithCopyWarning: \n",
            "A value is trying to be set on a copy of a slice from a DataFrame.\n",
            "Try using .loc[row_indexer,col_indexer] = value instead\n",
            "\n",
            "See the caveats in the documentation: https://pandas.pydata.org/pandas-docs/stable/user_guide/indexing.html#returning-a-view-versus-a-copy\n",
            "  # This is added back by InteractiveShellApp.init_path()\n",
            "/usr/local/lib/python3.7/dist-packages/ipykernel_launcher.py:12: SettingWithCopyWarning: \n",
            "A value is trying to be set on a copy of a slice from a DataFrame.\n",
            "Try using .loc[row_indexer,col_indexer] = value instead\n",
            "\n",
            "See the caveats in the documentation: https://pandas.pydata.org/pandas-docs/stable/user_guide/indexing.html#returning-a-view-versus-a-copy\n",
            "  if sys.path[0] == '':\n",
            "/usr/local/lib/python3.7/dist-packages/ipykernel_launcher.py:13: SettingWithCopyWarning: \n",
            "A value is trying to be set on a copy of a slice from a DataFrame.\n",
            "Try using .loc[row_indexer,col_indexer] = value instead\n",
            "\n",
            "See the caveats in the documentation: https://pandas.pydata.org/pandas-docs/stable/user_guide/indexing.html#returning-a-view-versus-a-copy\n",
            "  del sys.path[0]\n",
            "/usr/local/lib/python3.7/dist-packages/ipykernel_launcher.py:14: SettingWithCopyWarning: \n",
            "A value is trying to be set on a copy of a slice from a DataFrame.\n",
            "Try using .loc[row_indexer,col_indexer] = value instead\n",
            "\n",
            "See the caveats in the documentation: https://pandas.pydata.org/pandas-docs/stable/user_guide/indexing.html#returning-a-view-versus-a-copy\n",
            "  \n",
            "/usr/local/lib/python3.7/dist-packages/ipykernel_launcher.py:15: SettingWithCopyWarning: \n",
            "A value is trying to be set on a copy of a slice from a DataFrame.\n",
            "Try using .loc[row_indexer,col_indexer] = value instead\n",
            "\n",
            "See the caveats in the documentation: https://pandas.pydata.org/pandas-docs/stable/user_guide/indexing.html#returning-a-view-versus-a-copy\n",
            "  from ipykernel import kernelapp as app\n",
            "/usr/local/lib/python3.7/dist-packages/ipykernel_launcher.py:16: SettingWithCopyWarning: \n",
            "A value is trying to be set on a copy of a slice from a DataFrame.\n",
            "Try using .loc[row_indexer,col_indexer] = value instead\n",
            "\n",
            "See the caveats in the documentation: https://pandas.pydata.org/pandas-docs/stable/user_guide/indexing.html#returning-a-view-versus-a-copy\n",
            "  app.launch_new_instance()\n",
            "/usr/local/lib/python3.7/dist-packages/ipykernel_launcher.py:17: SettingWithCopyWarning: \n",
            "A value is trying to be set on a copy of a slice from a DataFrame.\n",
            "Try using .loc[row_indexer,col_indexer] = value instead\n",
            "\n",
            "See the caveats in the documentation: https://pandas.pydata.org/pandas-docs/stable/user_guide/indexing.html#returning-a-view-versus-a-copy\n",
            "/usr/local/lib/python3.7/dist-packages/ipykernel_launcher.py:18: SettingWithCopyWarning: \n",
            "A value is trying to be set on a copy of a slice from a DataFrame.\n",
            "Try using .loc[row_indexer,col_indexer] = value instead\n",
            "\n",
            "See the caveats in the documentation: https://pandas.pydata.org/pandas-docs/stable/user_guide/indexing.html#returning-a-view-versus-a-copy\n",
            "/usr/local/lib/python3.7/dist-packages/ipykernel_launcher.py:19: SettingWithCopyWarning: \n",
            "A value is trying to be set on a copy of a slice from a DataFrame.\n",
            "Try using .loc[row_indexer,col_indexer] = value instead\n",
            "\n",
            "See the caveats in the documentation: https://pandas.pydata.org/pandas-docs/stable/user_guide/indexing.html#returning-a-view-versus-a-copy\n",
            "/usr/local/lib/python3.7/dist-packages/ipykernel_launcher.py:20: SettingWithCopyWarning: \n",
            "A value is trying to be set on a copy of a slice from a DataFrame.\n",
            "Try using .loc[row_indexer,col_indexer] = value instead\n",
            "\n",
            "See the caveats in the documentation: https://pandas.pydata.org/pandas-docs/stable/user_guide/indexing.html#returning-a-view-versus-a-copy\n",
            "/usr/local/lib/python3.7/dist-packages/ipykernel_launcher.py:21: SettingWithCopyWarning: \n",
            "A value is trying to be set on a copy of a slice from a DataFrame.\n",
            "Try using .loc[row_indexer,col_indexer] = value instead\n",
            "\n",
            "See the caveats in the documentation: https://pandas.pydata.org/pandas-docs/stable/user_guide/indexing.html#returning-a-view-versus-a-copy\n",
            "/usr/local/lib/python3.7/dist-packages/ipykernel_launcher.py:22: SettingWithCopyWarning: \n",
            "A value is trying to be set on a copy of a slice from a DataFrame.\n",
            "Try using .loc[row_indexer,col_indexer] = value instead\n",
            "\n",
            "See the caveats in the documentation: https://pandas.pydata.org/pandas-docs/stable/user_guide/indexing.html#returning-a-view-versus-a-copy\n",
            "/usr/local/lib/python3.7/dist-packages/ipykernel_launcher.py:23: SettingWithCopyWarning: \n",
            "A value is trying to be set on a copy of a slice from a DataFrame.\n",
            "Try using .loc[row_indexer,col_indexer] = value instead\n",
            "\n",
            "See the caveats in the documentation: https://pandas.pydata.org/pandas-docs/stable/user_guide/indexing.html#returning-a-view-versus-a-copy\n",
            "/usr/local/lib/python3.7/dist-packages/ipykernel_launcher.py:24: SettingWithCopyWarning: \n",
            "A value is trying to be set on a copy of a slice from a DataFrame.\n",
            "Try using .loc[row_indexer,col_indexer] = value instead\n",
            "\n",
            "See the caveats in the documentation: https://pandas.pydata.org/pandas-docs/stable/user_guide/indexing.html#returning-a-view-versus-a-copy\n",
            "/usr/local/lib/python3.7/dist-packages/ipykernel_launcher.py:25: SettingWithCopyWarning: \n",
            "A value is trying to be set on a copy of a slice from a DataFrame.\n",
            "Try using .loc[row_indexer,col_indexer] = value instead\n",
            "\n",
            "See the caveats in the documentation: https://pandas.pydata.org/pandas-docs/stable/user_guide/indexing.html#returning-a-view-versus-a-copy\n",
            "/usr/local/lib/python3.7/dist-packages/ipykernel_launcher.py:26: SettingWithCopyWarning: \n",
            "A value is trying to be set on a copy of a slice from a DataFrame.\n",
            "Try using .loc[row_indexer,col_indexer] = value instead\n",
            "\n",
            "See the caveats in the documentation: https://pandas.pydata.org/pandas-docs/stable/user_guide/indexing.html#returning-a-view-versus-a-copy\n",
            "/usr/local/lib/python3.7/dist-packages/ipykernel_launcher.py:27: SettingWithCopyWarning: \n",
            "A value is trying to be set on a copy of a slice from a DataFrame.\n",
            "Try using .loc[row_indexer,col_indexer] = value instead\n",
            "\n",
            "See the caveats in the documentation: https://pandas.pydata.org/pandas-docs/stable/user_guide/indexing.html#returning-a-view-versus-a-copy\n",
            "/usr/local/lib/python3.7/dist-packages/ipykernel_launcher.py:28: SettingWithCopyWarning: \n",
            "A value is trying to be set on a copy of a slice from a DataFrame.\n",
            "Try using .loc[row_indexer,col_indexer] = value instead\n",
            "\n",
            "See the caveats in the documentation: https://pandas.pydata.org/pandas-docs/stable/user_guide/indexing.html#returning-a-view-versus-a-copy\n",
            "/usr/local/lib/python3.7/dist-packages/ipykernel_launcher.py:29: SettingWithCopyWarning: \n",
            "A value is trying to be set on a copy of a slice from a DataFrame.\n",
            "Try using .loc[row_indexer,col_indexer] = value instead\n",
            "\n",
            "See the caveats in the documentation: https://pandas.pydata.org/pandas-docs/stable/user_guide/indexing.html#returning-a-view-versus-a-copy\n",
            "/usr/local/lib/python3.7/dist-packages/ipykernel_launcher.py:30: SettingWithCopyWarning: \n",
            "A value is trying to be set on a copy of a slice from a DataFrame.\n",
            "Try using .loc[row_indexer,col_indexer] = value instead\n",
            "\n",
            "See the caveats in the documentation: https://pandas.pydata.org/pandas-docs/stable/user_guide/indexing.html#returning-a-view-versus-a-copy\n",
            "/usr/local/lib/python3.7/dist-packages/ipykernel_launcher.py:31: SettingWithCopyWarning: \n",
            "A value is trying to be set on a copy of a slice from a DataFrame.\n",
            "Try using .loc[row_indexer,col_indexer] = value instead\n",
            "\n",
            "See the caveats in the documentation: https://pandas.pydata.org/pandas-docs/stable/user_guide/indexing.html#returning-a-view-versus-a-copy\n",
            "/usr/local/lib/python3.7/dist-packages/ipykernel_launcher.py:32: SettingWithCopyWarning: \n",
            "A value is trying to be set on a copy of a slice from a DataFrame.\n",
            "Try using .loc[row_indexer,col_indexer] = value instead\n",
            "\n",
            "See the caveats in the documentation: https://pandas.pydata.org/pandas-docs/stable/user_guide/indexing.html#returning-a-view-versus-a-copy\n",
            "/usr/local/lib/python3.7/dist-packages/ipykernel_launcher.py:33: SettingWithCopyWarning: \n",
            "A value is trying to be set on a copy of a slice from a DataFrame.\n",
            "Try using .loc[row_indexer,col_indexer] = value instead\n",
            "\n",
            "See the caveats in the documentation: https://pandas.pydata.org/pandas-docs/stable/user_guide/indexing.html#returning-a-view-versus-a-copy\n",
            "/usr/local/lib/python3.7/dist-packages/ipykernel_launcher.py:34: SettingWithCopyWarning: \n",
            "A value is trying to be set on a copy of a slice from a DataFrame.\n",
            "Try using .loc[row_indexer,col_indexer] = value instead\n",
            "\n",
            "See the caveats in the documentation: https://pandas.pydata.org/pandas-docs/stable/user_guide/indexing.html#returning-a-view-versus-a-copy\n",
            "/usr/local/lib/python3.7/dist-packages/ipykernel_launcher.py:35: SettingWithCopyWarning: \n",
            "A value is trying to be set on a copy of a slice from a DataFrame.\n",
            "Try using .loc[row_indexer,col_indexer] = value instead\n",
            "\n",
            "See the caveats in the documentation: https://pandas.pydata.org/pandas-docs/stable/user_guide/indexing.html#returning-a-view-versus-a-copy\n"
          ]
        },
        {
          "output_type": "execute_result",
          "data": {
            "text/plain": [
              "        duration  protocol_type  service  flag  src_bytes  dst_bytes  land  \\\n",
              "0      -0.107851              1       22     9  -0.004261  -0.039036     0   \n",
              "1      -0.107851              1       22     9  -0.004263  -0.025041     0   \n",
              "2      -0.107851              1       22     9  -0.004272  -0.025041     0   \n",
              "3      -0.107851              1       22     9  -0.004273  -0.013612     0   \n",
              "4      -0.107851              1       22     9  -0.004273  -0.013612     0   \n",
              "...          ...            ...      ...   ...        ...        ...   ...   \n",
              "494015 -0.107851              1       22     9  -0.004222  -0.016095     0   \n",
              "494016 -0.107851              1       22     9  -0.004237  -0.009435     0   \n",
              "494017 -0.107851              1       22     9  -0.004281  -0.027294     0   \n",
              "494018 -0.107851              1       22     9  -0.004232  -0.027294     0   \n",
              "494019 -0.107851              1       22     9  -0.004272  -0.026735     0   \n",
              "\n",
              "        wrong_fragment    urgent      hot  ...  dst_host_srv_count  \\\n",
              "0            -0.084394 -0.004737 -0.07021  ...           -0.967058   \n",
              "1            -0.084394 -0.004737 -0.07021  ...           -0.879885   \n",
              "2            -0.084394 -0.004737 -0.07021  ...           -0.792712   \n",
              "3            -0.084394 -0.004737 -0.07021  ...           -0.705539   \n",
              "4            -0.084394 -0.004737 -0.07021  ...           -0.618366   \n",
              "...                ...       ...      ...  ...                 ...   \n",
              "494015       -0.084394 -0.004737 -0.07021  ...            1.090225   \n",
              "494016       -0.084394 -0.004737 -0.07021  ...            1.090225   \n",
              "494017       -0.084394 -0.004737 -0.07021  ...            1.090225   \n",
              "494018       -0.084394 -0.004737 -0.07021  ...            1.090225   \n",
              "494019       -0.084394 -0.004737 -0.07021  ...            1.090225   \n",
              "\n",
              "        dst_host_same_srv_rate  dst_host_diff_srv_rate  \\\n",
              "0                     0.979278               -0.417557   \n",
              "1                     0.979278               -0.417557   \n",
              "2                     0.979278               -0.417557   \n",
              "3                     0.979278               -0.417557   \n",
              "4                     0.979278               -0.417557   \n",
              "...                        ...                     ...   \n",
              "494015                0.979278               -0.417557   \n",
              "494016                0.979278               -0.417557   \n",
              "494017                0.979278               -0.417557   \n",
              "494018                0.979278               -0.417557   \n",
              "494019                0.979278               -0.417557   \n",
              "\n",
              "        dst_host_same_src_port_rate  dst_host_srv_diff_host_rate  \\\n",
              "0                         -0.177605                    -0.315311   \n",
              "1                         -0.260550                    -0.315311   \n",
              "2                         -0.260550                    -0.315311   \n",
              "3                         -0.302023                    -0.315311   \n",
              "4                         -0.302023                    -0.315311   \n",
              "...                             ...                          ...   \n",
              "494015                    -0.343496                     0.512371   \n",
              "494016                     0.320065                     0.512371   \n",
              "494017                    -0.136133                     0.512371   \n",
              "494018                    -0.219078                     0.512371   \n",
              "494019                     0.320065                     0.512371   \n",
              "\n",
              "        dst_host_serror_rate  dst_host_srv_serror_rate  dst_host_rerror_rate  \\\n",
              "0                  -0.644431                 -0.641708             -0.360879   \n",
              "1                  -0.644431                 -0.641708             -0.360879   \n",
              "2                  -0.644431                 -0.641708             -0.360879   \n",
              "3                  -0.644431                 -0.641708             -0.360879   \n",
              "4                  -0.644431                 -0.641708             -0.360879   \n",
              "...                      ...                       ...                   ...   \n",
              "494015             -0.644431                 -0.619655             -0.360879   \n",
              "494016             -0.644431                 -0.619655             -0.360879   \n",
              "494017             -0.511832                 -0.619655             -0.360879   \n",
              "494018             -0.556032                 -0.619655             -0.360879   \n",
              "494019             -0.644431                 -0.619655             -0.360879   \n",
              "\n",
              "        dst_host_srv_rerror_rate  outcome  \n",
              "0                      -0.353942        0  \n",
              "1                      -0.353942        0  \n",
              "2                      -0.353942        0  \n",
              "3                      -0.353942        0  \n",
              "4                      -0.353942        0  \n",
              "...                          ...      ...  \n",
              "494015                 -0.353942        0  \n",
              "494016                 -0.353942        0  \n",
              "494017                 -0.353942        0  \n",
              "494018                 -0.353942        0  \n",
              "494019                 -0.353942        0  \n",
              "\n",
              "[145585 rows x 42 columns]"
            ],
            "text/html": [
              "\n",
              "  <div id=\"df-317d2917-7ac1-41c9-96b6-26092b023478\">\n",
              "    <div class=\"colab-df-container\">\n",
              "      <div>\n",
              "<style scoped>\n",
              "    .dataframe tbody tr th:only-of-type {\n",
              "        vertical-align: middle;\n",
              "    }\n",
              "\n",
              "    .dataframe tbody tr th {\n",
              "        vertical-align: top;\n",
              "    }\n",
              "\n",
              "    .dataframe thead th {\n",
              "        text-align: right;\n",
              "    }\n",
              "</style>\n",
              "<table border=\"1\" class=\"dataframe\">\n",
              "  <thead>\n",
              "    <tr style=\"text-align: right;\">\n",
              "      <th></th>\n",
              "      <th>duration</th>\n",
              "      <th>protocol_type</th>\n",
              "      <th>service</th>\n",
              "      <th>flag</th>\n",
              "      <th>src_bytes</th>\n",
              "      <th>dst_bytes</th>\n",
              "      <th>land</th>\n",
              "      <th>wrong_fragment</th>\n",
              "      <th>urgent</th>\n",
              "      <th>hot</th>\n",
              "      <th>...</th>\n",
              "      <th>dst_host_srv_count</th>\n",
              "      <th>dst_host_same_srv_rate</th>\n",
              "      <th>dst_host_diff_srv_rate</th>\n",
              "      <th>dst_host_same_src_port_rate</th>\n",
              "      <th>dst_host_srv_diff_host_rate</th>\n",
              "      <th>dst_host_serror_rate</th>\n",
              "      <th>dst_host_srv_serror_rate</th>\n",
              "      <th>dst_host_rerror_rate</th>\n",
              "      <th>dst_host_srv_rerror_rate</th>\n",
              "      <th>outcome</th>\n",
              "    </tr>\n",
              "  </thead>\n",
              "  <tbody>\n",
              "    <tr>\n",
              "      <th>0</th>\n",
              "      <td>-0.107851</td>\n",
              "      <td>1</td>\n",
              "      <td>22</td>\n",
              "      <td>9</td>\n",
              "      <td>-0.004261</td>\n",
              "      <td>-0.039036</td>\n",
              "      <td>0</td>\n",
              "      <td>-0.084394</td>\n",
              "      <td>-0.004737</td>\n",
              "      <td>-0.07021</td>\n",
              "      <td>...</td>\n",
              "      <td>-0.967058</td>\n",
              "      <td>0.979278</td>\n",
              "      <td>-0.417557</td>\n",
              "      <td>-0.177605</td>\n",
              "      <td>-0.315311</td>\n",
              "      <td>-0.644431</td>\n",
              "      <td>-0.641708</td>\n",
              "      <td>-0.360879</td>\n",
              "      <td>-0.353942</td>\n",
              "      <td>0</td>\n",
              "    </tr>\n",
              "    <tr>\n",
              "      <th>1</th>\n",
              "      <td>-0.107851</td>\n",
              "      <td>1</td>\n",
              "      <td>22</td>\n",
              "      <td>9</td>\n",
              "      <td>-0.004263</td>\n",
              "      <td>-0.025041</td>\n",
              "      <td>0</td>\n",
              "      <td>-0.084394</td>\n",
              "      <td>-0.004737</td>\n",
              "      <td>-0.07021</td>\n",
              "      <td>...</td>\n",
              "      <td>-0.879885</td>\n",
              "      <td>0.979278</td>\n",
              "      <td>-0.417557</td>\n",
              "      <td>-0.260550</td>\n",
              "      <td>-0.315311</td>\n",
              "      <td>-0.644431</td>\n",
              "      <td>-0.641708</td>\n",
              "      <td>-0.360879</td>\n",
              "      <td>-0.353942</td>\n",
              "      <td>0</td>\n",
              "    </tr>\n",
              "    <tr>\n",
              "      <th>2</th>\n",
              "      <td>-0.107851</td>\n",
              "      <td>1</td>\n",
              "      <td>22</td>\n",
              "      <td>9</td>\n",
              "      <td>-0.004272</td>\n",
              "      <td>-0.025041</td>\n",
              "      <td>0</td>\n",
              "      <td>-0.084394</td>\n",
              "      <td>-0.004737</td>\n",
              "      <td>-0.07021</td>\n",
              "      <td>...</td>\n",
              "      <td>-0.792712</td>\n",
              "      <td>0.979278</td>\n",
              "      <td>-0.417557</td>\n",
              "      <td>-0.260550</td>\n",
              "      <td>-0.315311</td>\n",
              "      <td>-0.644431</td>\n",
              "      <td>-0.641708</td>\n",
              "      <td>-0.360879</td>\n",
              "      <td>-0.353942</td>\n",
              "      <td>0</td>\n",
              "    </tr>\n",
              "    <tr>\n",
              "      <th>3</th>\n",
              "      <td>-0.107851</td>\n",
              "      <td>1</td>\n",
              "      <td>22</td>\n",
              "      <td>9</td>\n",
              "      <td>-0.004273</td>\n",
              "      <td>-0.013612</td>\n",
              "      <td>0</td>\n",
              "      <td>-0.084394</td>\n",
              "      <td>-0.004737</td>\n",
              "      <td>-0.07021</td>\n",
              "      <td>...</td>\n",
              "      <td>-0.705539</td>\n",
              "      <td>0.979278</td>\n",
              "      <td>-0.417557</td>\n",
              "      <td>-0.302023</td>\n",
              "      <td>-0.315311</td>\n",
              "      <td>-0.644431</td>\n",
              "      <td>-0.641708</td>\n",
              "      <td>-0.360879</td>\n",
              "      <td>-0.353942</td>\n",
              "      <td>0</td>\n",
              "    </tr>\n",
              "    <tr>\n",
              "      <th>4</th>\n",
              "      <td>-0.107851</td>\n",
              "      <td>1</td>\n",
              "      <td>22</td>\n",
              "      <td>9</td>\n",
              "      <td>-0.004273</td>\n",
              "      <td>-0.013612</td>\n",
              "      <td>0</td>\n",
              "      <td>-0.084394</td>\n",
              "      <td>-0.004737</td>\n",
              "      <td>-0.07021</td>\n",
              "      <td>...</td>\n",
              "      <td>-0.618366</td>\n",
              "      <td>0.979278</td>\n",
              "      <td>-0.417557</td>\n",
              "      <td>-0.302023</td>\n",
              "      <td>-0.315311</td>\n",
              "      <td>-0.644431</td>\n",
              "      <td>-0.641708</td>\n",
              "      <td>-0.360879</td>\n",
              "      <td>-0.353942</td>\n",
              "      <td>0</td>\n",
              "    </tr>\n",
              "    <tr>\n",
              "      <th>...</th>\n",
              "      <td>...</td>\n",
              "      <td>...</td>\n",
              "      <td>...</td>\n",
              "      <td>...</td>\n",
              "      <td>...</td>\n",
              "      <td>...</td>\n",
              "      <td>...</td>\n",
              "      <td>...</td>\n",
              "      <td>...</td>\n",
              "      <td>...</td>\n",
              "      <td>...</td>\n",
              "      <td>...</td>\n",
              "      <td>...</td>\n",
              "      <td>...</td>\n",
              "      <td>...</td>\n",
              "      <td>...</td>\n",
              "      <td>...</td>\n",
              "      <td>...</td>\n",
              "      <td>...</td>\n",
              "      <td>...</td>\n",
              "      <td>...</td>\n",
              "    </tr>\n",
              "    <tr>\n",
              "      <th>494015</th>\n",
              "      <td>-0.107851</td>\n",
              "      <td>1</td>\n",
              "      <td>22</td>\n",
              "      <td>9</td>\n",
              "      <td>-0.004222</td>\n",
              "      <td>-0.016095</td>\n",
              "      <td>0</td>\n",
              "      <td>-0.084394</td>\n",
              "      <td>-0.004737</td>\n",
              "      <td>-0.07021</td>\n",
              "      <td>...</td>\n",
              "      <td>1.090225</td>\n",
              "      <td>0.979278</td>\n",
              "      <td>-0.417557</td>\n",
              "      <td>-0.343496</td>\n",
              "      <td>0.512371</td>\n",
              "      <td>-0.644431</td>\n",
              "      <td>-0.619655</td>\n",
              "      <td>-0.360879</td>\n",
              "      <td>-0.353942</td>\n",
              "      <td>0</td>\n",
              "    </tr>\n",
              "    <tr>\n",
              "      <th>494016</th>\n",
              "      <td>-0.107851</td>\n",
              "      <td>1</td>\n",
              "      <td>22</td>\n",
              "      <td>9</td>\n",
              "      <td>-0.004237</td>\n",
              "      <td>-0.009435</td>\n",
              "      <td>0</td>\n",
              "      <td>-0.084394</td>\n",
              "      <td>-0.004737</td>\n",
              "      <td>-0.07021</td>\n",
              "      <td>...</td>\n",
              "      <td>1.090225</td>\n",
              "      <td>0.979278</td>\n",
              "      <td>-0.417557</td>\n",
              "      <td>0.320065</td>\n",
              "      <td>0.512371</td>\n",
              "      <td>-0.644431</td>\n",
              "      <td>-0.619655</td>\n",
              "      <td>-0.360879</td>\n",
              "      <td>-0.353942</td>\n",
              "      <td>0</td>\n",
              "    </tr>\n",
              "    <tr>\n",
              "      <th>494017</th>\n",
              "      <td>-0.107851</td>\n",
              "      <td>1</td>\n",
              "      <td>22</td>\n",
              "      <td>9</td>\n",
              "      <td>-0.004281</td>\n",
              "      <td>-0.027294</td>\n",
              "      <td>0</td>\n",
              "      <td>-0.084394</td>\n",
              "      <td>-0.004737</td>\n",
              "      <td>-0.07021</td>\n",
              "      <td>...</td>\n",
              "      <td>1.090225</td>\n",
              "      <td>0.979278</td>\n",
              "      <td>-0.417557</td>\n",
              "      <td>-0.136133</td>\n",
              "      <td>0.512371</td>\n",
              "      <td>-0.511832</td>\n",
              "      <td>-0.619655</td>\n",
              "      <td>-0.360879</td>\n",
              "      <td>-0.353942</td>\n",
              "      <td>0</td>\n",
              "    </tr>\n",
              "    <tr>\n",
              "      <th>494018</th>\n",
              "      <td>-0.107851</td>\n",
              "      <td>1</td>\n",
              "      <td>22</td>\n",
              "      <td>9</td>\n",
              "      <td>-0.004232</td>\n",
              "      <td>-0.027294</td>\n",
              "      <td>0</td>\n",
              "      <td>-0.084394</td>\n",
              "      <td>-0.004737</td>\n",
              "      <td>-0.07021</td>\n",
              "      <td>...</td>\n",
              "      <td>1.090225</td>\n",
              "      <td>0.979278</td>\n",
              "      <td>-0.417557</td>\n",
              "      <td>-0.219078</td>\n",
              "      <td>0.512371</td>\n",
              "      <td>-0.556032</td>\n",
              "      <td>-0.619655</td>\n",
              "      <td>-0.360879</td>\n",
              "      <td>-0.353942</td>\n",
              "      <td>0</td>\n",
              "    </tr>\n",
              "    <tr>\n",
              "      <th>494019</th>\n",
              "      <td>-0.107851</td>\n",
              "      <td>1</td>\n",
              "      <td>22</td>\n",
              "      <td>9</td>\n",
              "      <td>-0.004272</td>\n",
              "      <td>-0.026735</td>\n",
              "      <td>0</td>\n",
              "      <td>-0.084394</td>\n",
              "      <td>-0.004737</td>\n",
              "      <td>-0.07021</td>\n",
              "      <td>...</td>\n",
              "      <td>1.090225</td>\n",
              "      <td>0.979278</td>\n",
              "      <td>-0.417557</td>\n",
              "      <td>0.320065</td>\n",
              "      <td>0.512371</td>\n",
              "      <td>-0.644431</td>\n",
              "      <td>-0.619655</td>\n",
              "      <td>-0.360879</td>\n",
              "      <td>-0.353942</td>\n",
              "      <td>0</td>\n",
              "    </tr>\n",
              "  </tbody>\n",
              "</table>\n",
              "<p>145585 rows × 42 columns</p>\n",
              "</div>\n",
              "      <button class=\"colab-df-convert\" onclick=\"convertToInteractive('df-317d2917-7ac1-41c9-96b6-26092b023478')\"\n",
              "              title=\"Convert this dataframe to an interactive table.\"\n",
              "              style=\"display:none;\">\n",
              "        \n",
              "  <svg xmlns=\"http://www.w3.org/2000/svg\" height=\"24px\"viewBox=\"0 0 24 24\"\n",
              "       width=\"24px\">\n",
              "    <path d=\"M0 0h24v24H0V0z\" fill=\"none\"/>\n",
              "    <path d=\"M18.56 5.44l.94 2.06.94-2.06 2.06-.94-2.06-.94-.94-2.06-.94 2.06-2.06.94zm-11 1L8.5 8.5l.94-2.06 2.06-.94-2.06-.94L8.5 2.5l-.94 2.06-2.06.94zm10 10l.94 2.06.94-2.06 2.06-.94-2.06-.94-.94-2.06-.94 2.06-2.06.94z\"/><path d=\"M17.41 7.96l-1.37-1.37c-.4-.4-.92-.59-1.43-.59-.52 0-1.04.2-1.43.59L10.3 9.45l-7.72 7.72c-.78.78-.78 2.05 0 2.83L4 21.41c.39.39.9.59 1.41.59.51 0 1.02-.2 1.41-.59l7.78-7.78 2.81-2.81c.8-.78.8-2.07 0-2.86zM5.41 20L4 18.59l7.72-7.72 1.47 1.35L5.41 20z\"/>\n",
              "  </svg>\n",
              "      </button>\n",
              "      \n",
              "  <style>\n",
              "    .colab-df-container {\n",
              "      display:flex;\n",
              "      flex-wrap:wrap;\n",
              "      gap: 12px;\n",
              "    }\n",
              "\n",
              "    .colab-df-convert {\n",
              "      background-color: #E8F0FE;\n",
              "      border: none;\n",
              "      border-radius: 50%;\n",
              "      cursor: pointer;\n",
              "      display: none;\n",
              "      fill: #1967D2;\n",
              "      height: 32px;\n",
              "      padding: 0 0 0 0;\n",
              "      width: 32px;\n",
              "    }\n",
              "\n",
              "    .colab-df-convert:hover {\n",
              "      background-color: #E2EBFA;\n",
              "      box-shadow: 0px 1px 2px rgba(60, 64, 67, 0.3), 0px 1px 3px 1px rgba(60, 64, 67, 0.15);\n",
              "      fill: #174EA6;\n",
              "    }\n",
              "\n",
              "    [theme=dark] .colab-df-convert {\n",
              "      background-color: #3B4455;\n",
              "      fill: #D2E3FC;\n",
              "    }\n",
              "\n",
              "    [theme=dark] .colab-df-convert:hover {\n",
              "      background-color: #434B5C;\n",
              "      box-shadow: 0px 1px 3px 1px rgba(0, 0, 0, 0.15);\n",
              "      filter: drop-shadow(0px 1px 2px rgba(0, 0, 0, 0.3));\n",
              "      fill: #FFFFFF;\n",
              "    }\n",
              "  </style>\n",
              "\n",
              "      <script>\n",
              "        const buttonEl =\n",
              "          document.querySelector('#df-317d2917-7ac1-41c9-96b6-26092b023478 button.colab-df-convert');\n",
              "        buttonEl.style.display =\n",
              "          google.colab.kernel.accessAllowed ? 'block' : 'none';\n",
              "\n",
              "        async function convertToInteractive(key) {\n",
              "          const element = document.querySelector('#df-317d2917-7ac1-41c9-96b6-26092b023478');\n",
              "          const dataTable =\n",
              "            await google.colab.kernel.invokeFunction('convertToInteractive',\n",
              "                                                     [key], {});\n",
              "          if (!dataTable) return;\n",
              "\n",
              "          const docLinkHtml = 'Like what you see? Visit the ' +\n",
              "            '<a target=\"_blank\" href=https://colab.research.google.com/notebooks/data_table.ipynb>data table notebook</a>'\n",
              "            + ' to learn more about interactive tables.';\n",
              "          element.innerHTML = '';\n",
              "          dataTable['output_type'] = 'display_data';\n",
              "          await google.colab.output.renderOutput(dataTable, element);\n",
              "          const docLink = document.createElement('div');\n",
              "          docLink.innerHTML = docLinkHtml;\n",
              "          element.appendChild(docLink);\n",
              "        }\n",
              "      </script>\n",
              "    </div>\n",
              "  </div>\n",
              "  "
            ]
          },
          "metadata": {},
          "execution_count": 27
        }
      ]
    },
    {
      "cell_type": "markdown",
      "source": [
        "###**Checking for Missing Values (Again)**###\n",
        "Because some columns may end up with missing values after we normalize then, we will have to check them and handle them if necessary."
      ],
      "metadata": {
        "id": "lwTYTIAVvscR"
      },
      "id": "lwTYTIAVvscR"
    },
    {
      "cell_type": "code",
      "source": [
        "print('Number of missing values:')\n",
        "for col in dfc.columns:\n",
        "    print('\\t%s: %d' % (col,dfc[col].isna().sum()))\n",
        "print('')"
      ],
      "metadata": {
        "colab": {
          "base_uri": "https://localhost:8080/"
        },
        "id": "AAXV7zYShW6b",
        "outputId": "6018f73c-4b21-4a1f-9f43-03bd14150548"
      },
      "id": "AAXV7zYShW6b",
      "execution_count": null,
      "outputs": [
        {
          "output_type": "stream",
          "name": "stdout",
          "text": [
            "Number of missing values:\n",
            "\tduration: 0\n",
            "\tprotocol_type: 0\n",
            "\tservice: 0\n",
            "\tflag: 0\n",
            "\tsrc_bytes: 0\n",
            "\tdst_bytes: 0\n",
            "\tland: 0\n",
            "\twrong_fragment: 0\n",
            "\turgent: 0\n",
            "\thot: 0\n",
            "\tnum_failed_logins: 0\n",
            "\tlogged_in: 0\n",
            "\tnum_compromised: 0\n",
            "\troot_shell: 0\n",
            "\tsu_attempted: 0\n",
            "\tnum_root: 0\n",
            "\tnum_file_creations: 0\n",
            "\tnum_shells: 0\n",
            "\tnum_access_files: 0\n",
            "\tnum_outbound_cmds: 145585\n",
            "\tis_host_login: 0\n",
            "\tis_guest_login: 0\n",
            "\tcount: 0\n",
            "\tsrv_count: 0\n",
            "\tserror_rate: 0\n",
            "\tsrv_serror_rate: 0\n",
            "\trerror_rate: 0\n",
            "\tsrv_rerror_rate: 0\n",
            "\tsame_srv_rate: 0\n",
            "\tdiff_srv_rate: 0\n",
            "\tsrv_diff_host_rate: 0\n",
            "\tdst_host_count: 0\n",
            "\tdst_host_srv_count: 0\n",
            "\tdst_host_same_srv_rate: 0\n",
            "\tdst_host_diff_srv_rate: 0\n",
            "\tdst_host_same_src_port_rate: 0\n",
            "\tdst_host_srv_diff_host_rate: 0\n",
            "\tdst_host_serror_rate: 0\n",
            "\tdst_host_srv_serror_rate: 0\n",
            "\tdst_host_rerror_rate: 0\n",
            "\tdst_host_srv_rerror_rate: 0\n",
            "\toutcome: 0\n",
            "\n"
          ]
        }
      ]
    },
    {
      "cell_type": "code",
      "source": [
        "dfc['num_outbound_cmds']"
      ],
      "metadata": {
        "colab": {
          "base_uri": "https://localhost:8080/"
        },
        "id": "84BeFMlwwjXz",
        "outputId": "4e67c60e-379e-4ad9-861f-ffe197d10fa5"
      },
      "id": "84BeFMlwwjXz",
      "execution_count": null,
      "outputs": [
        {
          "output_type": "execute_result",
          "data": {
            "text/plain": [
              "0        NaN\n",
              "1        NaN\n",
              "2        NaN\n",
              "3        NaN\n",
              "4        NaN\n",
              "          ..\n",
              "494015   NaN\n",
              "494016   NaN\n",
              "494017   NaN\n",
              "494018   NaN\n",
              "494019   NaN\n",
              "Name: num_outbound_cmds, Length: 145585, dtype: float64"
            ]
          },
          "metadata": {},
          "execution_count": 29
        }
      ]
    },
    {
      "cell_type": "code",
      "source": [
        "df['num_outbound_cmds']"
      ],
      "metadata": {
        "colab": {
          "base_uri": "https://localhost:8080/"
        },
        "id": "tTNvJLC_wrlL",
        "outputId": "147c6e00-eb10-4478-fca3-bf3ec571d44b"
      },
      "id": "tTNvJLC_wrlL",
      "execution_count": null,
      "outputs": [
        {
          "output_type": "execute_result",
          "data": {
            "text/plain": [
              "0         0\n",
              "1         0\n",
              "2         0\n",
              "3         0\n",
              "4         0\n",
              "         ..\n",
              "494015    0\n",
              "494016    0\n",
              "494017    0\n",
              "494018    0\n",
              "494019    0\n",
              "Name: num_outbound_cmds, Length: 494020, dtype: int64"
            ]
          },
          "metadata": {},
          "execution_count": 30
        }
      ]
    },
    {
      "cell_type": "code",
      "source": [
        "dfv = df[df['num_outbound_cmds'] != 0]\n",
        "dfv"
      ],
      "metadata": {
        "colab": {
          "base_uri": "https://localhost:8080/",
          "height": 143
        },
        "id": "7wCSNtKExAzz",
        "outputId": "e3390bab-181f-43aa-ecfd-9504b404f860"
      },
      "id": "7wCSNtKExAzz",
      "execution_count": null,
      "outputs": [
        {
          "output_type": "execute_result",
          "data": {
            "text/plain": [
              "Empty DataFrame\n",
              "Columns: [duration, protocol_type, service, flag, src_bytes, dst_bytes, land, wrong_fragment, urgent, hot, num_failed_logins, logged_in, num_compromised, root_shell, su_attempted, num_root, num_file_creations, num_shells, num_access_files, num_outbound_cmds, is_host_login, is_guest_login, count, srv_count, serror_rate, srv_serror_rate, rerror_rate, srv_rerror_rate, same_srv_rate, diff_srv_rate, srv_diff_host_rate, dst_host_count, dst_host_srv_count, dst_host_same_srv_rate, dst_host_diff_srv_rate, dst_host_same_src_port_rate, dst_host_srv_diff_host_rate, dst_host_serror_rate, dst_host_srv_serror_rate, dst_host_rerror_rate, dst_host_srv_rerror_rate, outcome]\n",
              "Index: []\n",
              "\n",
              "[0 rows x 42 columns]"
            ],
            "text/html": [
              "\n",
              "  <div id=\"df-409d8035-139b-43b1-a2ae-0367a3257105\">\n",
              "    <div class=\"colab-df-container\">\n",
              "      <div>\n",
              "<style scoped>\n",
              "    .dataframe tbody tr th:only-of-type {\n",
              "        vertical-align: middle;\n",
              "    }\n",
              "\n",
              "    .dataframe tbody tr th {\n",
              "        vertical-align: top;\n",
              "    }\n",
              "\n",
              "    .dataframe thead th {\n",
              "        text-align: right;\n",
              "    }\n",
              "</style>\n",
              "<table border=\"1\" class=\"dataframe\">\n",
              "  <thead>\n",
              "    <tr style=\"text-align: right;\">\n",
              "      <th></th>\n",
              "      <th>duration</th>\n",
              "      <th>protocol_type</th>\n",
              "      <th>service</th>\n",
              "      <th>flag</th>\n",
              "      <th>src_bytes</th>\n",
              "      <th>dst_bytes</th>\n",
              "      <th>land</th>\n",
              "      <th>wrong_fragment</th>\n",
              "      <th>urgent</th>\n",
              "      <th>hot</th>\n",
              "      <th>...</th>\n",
              "      <th>dst_host_srv_count</th>\n",
              "      <th>dst_host_same_srv_rate</th>\n",
              "      <th>dst_host_diff_srv_rate</th>\n",
              "      <th>dst_host_same_src_port_rate</th>\n",
              "      <th>dst_host_srv_diff_host_rate</th>\n",
              "      <th>dst_host_serror_rate</th>\n",
              "      <th>dst_host_srv_serror_rate</th>\n",
              "      <th>dst_host_rerror_rate</th>\n",
              "      <th>dst_host_srv_rerror_rate</th>\n",
              "      <th>outcome</th>\n",
              "    </tr>\n",
              "  </thead>\n",
              "  <tbody>\n",
              "  </tbody>\n",
              "</table>\n",
              "<p>0 rows × 42 columns</p>\n",
              "</div>\n",
              "      <button class=\"colab-df-convert\" onclick=\"convertToInteractive('df-409d8035-139b-43b1-a2ae-0367a3257105')\"\n",
              "              title=\"Convert this dataframe to an interactive table.\"\n",
              "              style=\"display:none;\">\n",
              "        \n",
              "  <svg xmlns=\"http://www.w3.org/2000/svg\" height=\"24px\"viewBox=\"0 0 24 24\"\n",
              "       width=\"24px\">\n",
              "    <path d=\"M0 0h24v24H0V0z\" fill=\"none\"/>\n",
              "    <path d=\"M18.56 5.44l.94 2.06.94-2.06 2.06-.94-2.06-.94-.94-2.06-.94 2.06-2.06.94zm-11 1L8.5 8.5l.94-2.06 2.06-.94-2.06-.94L8.5 2.5l-.94 2.06-2.06.94zm10 10l.94 2.06.94-2.06 2.06-.94-2.06-.94-.94-2.06-.94 2.06-2.06.94z\"/><path d=\"M17.41 7.96l-1.37-1.37c-.4-.4-.92-.59-1.43-.59-.52 0-1.04.2-1.43.59L10.3 9.45l-7.72 7.72c-.78.78-.78 2.05 0 2.83L4 21.41c.39.39.9.59 1.41.59.51 0 1.02-.2 1.41-.59l7.78-7.78 2.81-2.81c.8-.78.8-2.07 0-2.86zM5.41 20L4 18.59l7.72-7.72 1.47 1.35L5.41 20z\"/>\n",
              "  </svg>\n",
              "      </button>\n",
              "      \n",
              "  <style>\n",
              "    .colab-df-container {\n",
              "      display:flex;\n",
              "      flex-wrap:wrap;\n",
              "      gap: 12px;\n",
              "    }\n",
              "\n",
              "    .colab-df-convert {\n",
              "      background-color: #E8F0FE;\n",
              "      border: none;\n",
              "      border-radius: 50%;\n",
              "      cursor: pointer;\n",
              "      display: none;\n",
              "      fill: #1967D2;\n",
              "      height: 32px;\n",
              "      padding: 0 0 0 0;\n",
              "      width: 32px;\n",
              "    }\n",
              "\n",
              "    .colab-df-convert:hover {\n",
              "      background-color: #E2EBFA;\n",
              "      box-shadow: 0px 1px 2px rgba(60, 64, 67, 0.3), 0px 1px 3px 1px rgba(60, 64, 67, 0.15);\n",
              "      fill: #174EA6;\n",
              "    }\n",
              "\n",
              "    [theme=dark] .colab-df-convert {\n",
              "      background-color: #3B4455;\n",
              "      fill: #D2E3FC;\n",
              "    }\n",
              "\n",
              "    [theme=dark] .colab-df-convert:hover {\n",
              "      background-color: #434B5C;\n",
              "      box-shadow: 0px 1px 3px 1px rgba(0, 0, 0, 0.15);\n",
              "      filter: drop-shadow(0px 1px 2px rgba(0, 0, 0, 0.3));\n",
              "      fill: #FFFFFF;\n",
              "    }\n",
              "  </style>\n",
              "\n",
              "      <script>\n",
              "        const buttonEl =\n",
              "          document.querySelector('#df-409d8035-139b-43b1-a2ae-0367a3257105 button.colab-df-convert');\n",
              "        buttonEl.style.display =\n",
              "          google.colab.kernel.accessAllowed ? 'block' : 'none';\n",
              "\n",
              "        async function convertToInteractive(key) {\n",
              "          const element = document.querySelector('#df-409d8035-139b-43b1-a2ae-0367a3257105');\n",
              "          const dataTable =\n",
              "            await google.colab.kernel.invokeFunction('convertToInteractive',\n",
              "                                                     [key], {});\n",
              "          if (!dataTable) return;\n",
              "\n",
              "          const docLinkHtml = 'Like what you see? Visit the ' +\n",
              "            '<a target=\"_blank\" href=https://colab.research.google.com/notebooks/data_table.ipynb>data table notebook</a>'\n",
              "            + ' to learn more about interactive tables.';\n",
              "          element.innerHTML = '';\n",
              "          dataTable['output_type'] = 'display_data';\n",
              "          await google.colab.output.renderOutput(dataTable, element);\n",
              "          const docLink = document.createElement('div');\n",
              "          docLink.innerHTML = docLinkHtml;\n",
              "          element.appendChild(docLink);\n",
              "        }\n",
              "      </script>\n",
              "    </div>\n",
              "  </div>\n",
              "  "
            ]
          },
          "metadata": {},
          "execution_count": 31
        }
      ]
    },
    {
      "cell_type": "markdown",
      "source": [
        "Because num_outbound_cmds is a column where all of its values are 0, we can go ahead and drop this column."
      ],
      "metadata": {
        "id": "veX6Lcb4wfEz"
      },
      "id": "veX6Lcb4wfEz"
    },
    {
      "cell_type": "code",
      "source": [
        "print(\"Before drop: {}\".format(dfc.columns))\n",
        "dfc = dfc.drop(['num_outbound_cmds'], axis=1)\n",
        "print(\"After drop: {}\".format(dfc.columns))"
      ],
      "metadata": {
        "colab": {
          "base_uri": "https://localhost:8080/"
        },
        "id": "77l0vwpChW3h",
        "outputId": "93f65c59-82d1-4850-f501-f8e21644ef92"
      },
      "id": "77l0vwpChW3h",
      "execution_count": null,
      "outputs": [
        {
          "output_type": "stream",
          "name": "stdout",
          "text": [
            "Before drop: Index(['duration', 'protocol_type', 'service', 'flag', 'src_bytes',\n",
            "       'dst_bytes', 'land', 'wrong_fragment', 'urgent', 'hot',\n",
            "       'num_failed_logins', 'logged_in', 'num_compromised', 'root_shell',\n",
            "       'su_attempted', 'num_root', 'num_file_creations', 'num_shells',\n",
            "       'num_access_files', 'num_outbound_cmds', 'is_host_login',\n",
            "       'is_guest_login', 'count', 'srv_count', 'serror_rate',\n",
            "       'srv_serror_rate', 'rerror_rate', 'srv_rerror_rate', 'same_srv_rate',\n",
            "       'diff_srv_rate', 'srv_diff_host_rate', 'dst_host_count',\n",
            "       'dst_host_srv_count', 'dst_host_same_srv_rate',\n",
            "       'dst_host_diff_srv_rate', 'dst_host_same_src_port_rate',\n",
            "       'dst_host_srv_diff_host_rate', 'dst_host_serror_rate',\n",
            "       'dst_host_srv_serror_rate', 'dst_host_rerror_rate',\n",
            "       'dst_host_srv_rerror_rate', 'outcome'],\n",
            "      dtype='object')\n",
            "After drop: Index(['duration', 'protocol_type', 'service', 'flag', 'src_bytes',\n",
            "       'dst_bytes', 'land', 'wrong_fragment', 'urgent', 'hot',\n",
            "       'num_failed_logins', 'logged_in', 'num_compromised', 'root_shell',\n",
            "       'su_attempted', 'num_root', 'num_file_creations', 'num_shells',\n",
            "       'num_access_files', 'is_host_login', 'is_guest_login', 'count',\n",
            "       'srv_count', 'serror_rate', 'srv_serror_rate', 'rerror_rate',\n",
            "       'srv_rerror_rate', 'same_srv_rate', 'diff_srv_rate',\n",
            "       'srv_diff_host_rate', 'dst_host_count', 'dst_host_srv_count',\n",
            "       'dst_host_same_srv_rate', 'dst_host_diff_srv_rate',\n",
            "       'dst_host_same_src_port_rate', 'dst_host_srv_diff_host_rate',\n",
            "       'dst_host_serror_rate', 'dst_host_srv_serror_rate',\n",
            "       'dst_host_rerror_rate', 'dst_host_srv_rerror_rate', 'outcome'],\n",
            "      dtype='object')\n"
          ]
        }
      ]
    },
    {
      "cell_type": "markdown",
      "source": [
        "###**Train/Test Split**###\n",
        "Now that we have done some data preprocessing, we can go ahead and start splitting the data into training and test subsets."
      ],
      "metadata": {
        "id": "XswEwtsVylHe"
      },
      "id": "XswEwtsVylHe"
    },
    {
      "cell_type": "code",
      "source": [
        "x,y = to_xy(dfc,'outcome')\n",
        "\n",
        "x_train, x_test, y_train, y_test = train_test_split(x, y, test_size=0.25, random_state=42)\n",
        "print('Done!')"
      ],
      "metadata": {
        "colab": {
          "base_uri": "https://localhost:8080/"
        },
        "id": "cieU1QDuyERk",
        "outputId": "973731a3-5ecb-4061-f0de-8acd0ad70287"
      },
      "id": "cieU1QDuyERk",
      "execution_count": null,
      "outputs": [
        {
          "output_type": "stream",
          "name": "stdout",
          "text": [
            "Done!\n"
          ]
        }
      ]
    },
    {
      "cell_type": "code",
      "source": [
        "x.shape"
      ],
      "metadata": {
        "colab": {
          "base_uri": "https://localhost:8080/"
        },
        "id": "ySWkdvkByET4",
        "outputId": "36ff7d88-f440-45e6-9693-d74d8d564840"
      },
      "id": "ySWkdvkByET4",
      "execution_count": null,
      "outputs": [
        {
          "output_type": "execute_result",
          "data": {
            "text/plain": [
              "(145585, 40)"
            ]
          },
          "metadata": {},
          "execution_count": 34
        }
      ]
    },
    {
      "cell_type": "code",
      "source": [
        "y.shape"
      ],
      "metadata": {
        "colab": {
          "base_uri": "https://localhost:8080/"
        },
        "id": "e5JDWVrEyEPF",
        "outputId": "9e36c4ec-3bf2-49ad-b845-df7d73487812"
      },
      "id": "e5JDWVrEyEPF",
      "execution_count": null,
      "outputs": [
        {
          "output_type": "execute_result",
          "data": {
            "text/plain": [
              "(145585, 2)"
            ]
          },
          "metadata": {},
          "execution_count": 35
        }
      ]
    },
    {
      "cell_type": "code",
      "source": [
        "x_train.shape"
      ],
      "metadata": {
        "colab": {
          "base_uri": "https://localhost:8080/"
        },
        "id": "F6xgnRpwyEMt",
        "outputId": "ee20af56-125e-4952-cb51-a8ced62e83d9"
      },
      "id": "F6xgnRpwyEMt",
      "execution_count": null,
      "outputs": [
        {
          "output_type": "execute_result",
          "data": {
            "text/plain": [
              "(109188, 40)"
            ]
          },
          "metadata": {},
          "execution_count": 36
        }
      ]
    },
    {
      "cell_type": "code",
      "source": [
        "y_train.shape"
      ],
      "metadata": {
        "colab": {
          "base_uri": "https://localhost:8080/"
        },
        "id": "INKAk6hMyEJl",
        "outputId": "72f2431f-d003-447f-f20e-b4c365797b60"
      },
      "id": "INKAk6hMyEJl",
      "execution_count": null,
      "outputs": [
        {
          "output_type": "execute_result",
          "data": {
            "text/plain": [
              "(109188, 2)"
            ]
          },
          "metadata": {},
          "execution_count": 37
        }
      ]
    },
    {
      "cell_type": "code",
      "source": [
        "x_test.shape"
      ],
      "metadata": {
        "colab": {
          "base_uri": "https://localhost:8080/"
        },
        "id": "5AFa2v4ByEG9",
        "outputId": "89ae9cba-578a-4902-a4fe-1ac17a89c03a"
      },
      "id": "5AFa2v4ByEG9",
      "execution_count": null,
      "outputs": [
        {
          "output_type": "execute_result",
          "data": {
            "text/plain": [
              "(36397, 40)"
            ]
          },
          "metadata": {},
          "execution_count": 38
        }
      ]
    },
    {
      "cell_type": "code",
      "source": [
        "y_test.shape"
      ],
      "metadata": {
        "colab": {
          "base_uri": "https://localhost:8080/"
        },
        "id": "ld4m7ldghWwZ",
        "outputId": "fa1e0544-a28e-430c-8a6e-4ae73507d8b9"
      },
      "id": "ld4m7ldghWwZ",
      "execution_count": null,
      "outputs": [
        {
          "output_type": "execute_result",
          "data": {
            "text/plain": [
              "(36397, 2)"
            ]
          },
          "metadata": {},
          "execution_count": 39
        }
      ]
    },
    {
      "cell_type": "markdown",
      "source": [
        "##**Fully-Connected Neural Networks**##\n",
        "Fully-connected neural networks are networks of neurons where each node is fully connected to every previous and every next node."
      ],
      "metadata": {
        "id": "cKXKOtDn7_PE"
      },
      "id": "cKXKOtDn7_PE"
    },
    {
      "cell_type": "markdown",
      "source": [
        "https://medium.com/swlh/fully-connected-vs-convolutional-neural-networks-813ca7bc6ee5"
      ],
      "metadata": {
        "id": "K3MUIfQv-rcm"
      },
      "id": "K3MUIfQv-rcm"
    },
    {
      "cell_type": "markdown",
      "source": [
        "###**Varying Hyperparameters**###\n",
        "We play with hyperparameters to see how they affect our results and as a way to find the best model possible."
      ],
      "metadata": {
        "id": "sK54v_20-21O"
      },
      "id": "sK54v_20-21O"
    },
    {
      "cell_type": "code",
      "source": [
        "import tensorflow as tf\n",
        "print('Tensor Flow Version: {}'.format(tf.__version__))"
      ],
      "metadata": {
        "colab": {
          "base_uri": "https://localhost:8080/"
        },
        "id": "WdLYnqT15Fy-",
        "outputId": "9acdd3a8-f38c-40ff-ff56-b308171df9ed"
      },
      "id": "WdLYnqT15Fy-",
      "execution_count": null,
      "outputs": [
        {
          "output_type": "stream",
          "name": "stdout",
          "text": [
            "Tensor Flow Version: 2.8.2\n"
          ]
        }
      ]
    },
    {
      "cell_type": "code",
      "source": [
        "import tensorflow.keras\n",
        "print('Keras Version: {}'.format(tensorflow.keras.__version__))"
      ],
      "metadata": {
        "colab": {
          "base_uri": "https://localhost:8080/"
        },
        "id": "BqP0_lRB5Gwe",
        "outputId": "696b8703-dd6d-4969-fbe3-248f587dc115"
      },
      "id": "BqP0_lRB5Gwe",
      "execution_count": null,
      "outputs": [
        {
          "output_type": "stream",
          "name": "stdout",
          "text": [
            "Keras Version: 2.8.0\n"
          ]
        }
      ]
    },
    {
      "cell_type": "markdown",
      "source": [
        "###**Early Stopping**###\n",
        "When it comes to training a neural network, we use early stopping to prevent overfitting. Overfitting is when a neural network begins to memorize rather than generalize."
      ],
      "metadata": {
        "id": "NgP_7FOU3UkE"
      },
      "id": "NgP_7FOU3UkE"
    },
    {
      "cell_type": "code",
      "source": [
        "model = Sequential()\n",
        "\n",
        "model.add(Dense(64, input_dim=x.shape[1], activation='relu')) # Hidden 1     #  why input_dim=x.shape[1]?  \n",
        "model.add(Dense(32, activation='relu')) # Hidden 2\n",
        "model.add(Dense(16, activation='relu')) # Hidden 2\n",
        "model.add(Dense(8, activation='relu')) # Hidden 2\n",
        "model.add(Dense(4, activation='relu')) # Hidden 2\n",
        "model.add(Dense(2, activation='softmax')) # Output\n",
        "\n",
        "#model.compile(loss='mean_squared_error', optimizer='adam')\n",
        "model.compile(loss='categorical_crossentropy', optimizer='adam')\n",
        "\n",
        "monitor = EarlyStopping(monitor='val_loss', min_delta=0, patience = 2, verbose = 2, mode = 'auto')\n",
        "\n",
        "#model.fit(x,y,verbose=2,epochs=100)    # Verbosity mode. 0 = silent, 1 = progress bar, 2 = one line per epoch.\n",
        "model.fit(x_train,y_train, validation_data = (x_test, y_test), callbacks=[monitor], verbose=2,epochs=100)    # Verbosity mode. 0 = silent, 1 = progress bar, 2 = one line per epoch."
      ],
      "metadata": {
        "colab": {
          "base_uri": "https://localhost:8080/"
        },
        "id": "JaPfB-osgE2w",
        "outputId": "a36704a0-5456-4424-fff8-ffdb35b227cc"
      },
      "id": "JaPfB-osgE2w",
      "execution_count": null,
      "outputs": [
        {
          "output_type": "stream",
          "name": "stdout",
          "text": [
            "Epoch 1/100\n",
            "3413/3413 - 9s - loss: 0.0369 - val_loss: 0.0192 - 9s/epoch - 3ms/step\n",
            "Epoch 2/100\n",
            "3413/3413 - 9s - loss: 0.0143 - val_loss: 0.0195 - 9s/epoch - 2ms/step\n",
            "Epoch 3/100\n",
            "3413/3413 - 8s - loss: 0.0119 - val_loss: 0.0110 - 8s/epoch - 2ms/step\n",
            "Epoch 4/100\n",
            "3413/3413 - 8s - loss: 0.0097 - val_loss: 0.0095 - 8s/epoch - 2ms/step\n",
            "Epoch 5/100\n",
            "3413/3413 - 8s - loss: 0.0092 - val_loss: 0.0085 - 8s/epoch - 2ms/step\n",
            "Epoch 6/100\n",
            "3413/3413 - 8s - loss: 0.0087 - val_loss: 0.0084 - 8s/epoch - 2ms/step\n",
            "Epoch 7/100\n",
            "3413/3413 - 8s - loss: 0.0084 - val_loss: 0.0084 - 8s/epoch - 2ms/step\n",
            "Epoch 8/100\n",
            "3413/3413 - 8s - loss: 0.0077 - val_loss: 0.0084 - 8s/epoch - 2ms/step\n",
            "Epoch 9/100\n",
            "3413/3413 - 8s - loss: 0.0075 - val_loss: 0.0081 - 8s/epoch - 2ms/step\n",
            "Epoch 10/100\n",
            "3413/3413 - 8s - loss: 0.0067 - val_loss: 0.0076 - 8s/epoch - 2ms/step\n",
            "Epoch 11/100\n",
            "3413/3413 - 8s - loss: 0.0068 - val_loss: 0.0100 - 8s/epoch - 2ms/step\n",
            "Epoch 12/100\n",
            "3413/3413 - 8s - loss: 0.0068 - val_loss: 0.0098 - 8s/epoch - 2ms/step\n",
            "Epoch 12: early stopping\n"
          ]
        },
        {
          "output_type": "execute_result",
          "data": {
            "text/plain": [
              "<keras.callbacks.History at 0x7fd6c02ecf10>"
            ]
          },
          "metadata": {},
          "execution_count": 43
        }
      ]
    },
    {
      "cell_type": "code",
      "source": [
        "model.save(os.path.join('U:\\Downloads\\Jupyter', 'trial1.hdf5'))"
      ],
      "metadata": {
        "id": "4w0xkeQBHd1X"
      },
      "id": "4w0xkeQBHd1X",
      "execution_count": null,
      "outputs": []
    },
    {
      "cell_type": "code",
      "source": [
        "pred = model.predict(x_test)\n",
        "print(\"Shape: {}\".format(pred.shape))\n",
        "print(pred[0:5])"
      ],
      "metadata": {
        "id": "aAHW5B6gHhr3",
        "colab": {
          "base_uri": "https://localhost:8080/"
        },
        "outputId": "c9910bfb-04f8-4c0c-c210-be70bd9e86e4"
      },
      "id": "aAHW5B6gHhr3",
      "execution_count": null,
      "outputs": [
        {
          "output_type": "stream",
          "name": "stdout",
          "text": [
            "Shape: (36397, 2)\n",
            "[[9.9999642e-01 3.5716391e-06]\n",
            " [5.4523786e-16 1.0000000e+00]\n",
            " [9.9961406e-01 3.8601761e-04]\n",
            " [8.4096625e-11 1.0000000e+00]\n",
            " [9.9999774e-01 2.2644494e-06]]\n"
          ]
        }
      ]
    },
    {
      "cell_type": "code",
      "source": [
        "score = np.sqrt(metrics.mean_squared_error(pred,y_test))\n",
        "print('Final score (RMSE): {}'.format(score))"
      ],
      "metadata": {
        "id": "FwLcGNi1HpJH",
        "colab": {
          "base_uri": "https://localhost:8080/"
        },
        "outputId": "1dd01478-0516-492f-cbe7-1451239159af"
      },
      "id": "FwLcGNi1HpJH",
      "execution_count": null,
      "outputs": [
        {
          "output_type": "stream",
          "name": "stdout",
          "text": [
            "Final score (RMSE): 0.04375985637307167\n"
          ]
        }
      ]
    },
    {
      "cell_type": "code",
      "source": [
        "print(y)"
      ],
      "metadata": {
        "colab": {
          "base_uri": "https://localhost:8080/"
        },
        "id": "TZaHezA1zhSL",
        "outputId": "24343ea1-ac5c-43db-850f-4f650afe4b11"
      },
      "id": "TZaHezA1zhSL",
      "execution_count": null,
      "outputs": [
        {
          "output_type": "stream",
          "name": "stdout",
          "text": [
            "[[1. 0.]\n",
            " [1. 0.]\n",
            " [1. 0.]\n",
            " ...\n",
            " [1. 0.]\n",
            " [1. 0.]\n",
            " [1. 0.]]\n"
          ]
        }
      ]
    },
    {
      "cell_type": "code",
      "source": [
        "predict_classes = np.argmax(pred,axis=1)\n",
        "\n",
        "true_classes = np.argmax(y_test,axis=1)\n",
        "\n",
        "print(\"Predictions: {}\".format(predict_classes))\n",
        "print(\"True: {}\".format(true_classes))"
      ],
      "metadata": {
        "colab": {
          "base_uri": "https://localhost:8080/"
        },
        "id": "CANfeRgJzqqF",
        "outputId": "0c0a23ab-1298-40c1-cf03-2c8ff4a302dc"
      },
      "id": "CANfeRgJzqqF",
      "execution_count": null,
      "outputs": [
        {
          "output_type": "stream",
          "name": "stdout",
          "text": [
            "Predictions: [0 1 0 ... 1 0 0]\n",
            "True: [0 1 0 ... 1 0 0]\n"
          ]
        }
      ]
    },
    {
      "cell_type": "code",
      "source": [
        "correct = metrics.accuracy_score(true_classes, predict_classes)\n",
        "print(\"Accuracy: {}\".format(correct))"
      ],
      "metadata": {
        "colab": {
          "base_uri": "https://localhost:8080/"
        },
        "id": "19zAzDolzypX",
        "outputId": "80c85941-b49f-4377-cb04-067fcd9a2aea"
      },
      "id": "19zAzDolzypX",
      "execution_count": null,
      "outputs": [
        {
          "output_type": "stream",
          "name": "stdout",
          "text": [
            "Accuracy: 0.9976921174822101\n"
          ]
        }
      ]
    },
    {
      "cell_type": "code",
      "source": [
        "precision = metrics.precision_score(true_classes, predict_classes, average= \"weighted\")\n",
        "print(\"Precision score: {}\".format(precision))"
      ],
      "metadata": {
        "colab": {
          "base_uri": "https://localhost:8080/"
        },
        "id": "AdltadMD1FMu",
        "outputId": "c4c63295-7d14-4f29-fe52-1ec5c1d5e985"
      },
      "id": "AdltadMD1FMu",
      "execution_count": null,
      "outputs": [
        {
          "output_type": "stream",
          "name": "stdout",
          "text": [
            "Precision score: 0.9976920440758239\n"
          ]
        }
      ]
    },
    {
      "cell_type": "code",
      "source": [
        "recall = metrics.recall_score(true_classes, predict_classes, average= \"weighted\")\n",
        "print(\"Recall score: {}\".format(recall))"
      ],
      "metadata": {
        "colab": {
          "base_uri": "https://localhost:8080/"
        },
        "id": "IVQ8d6fH2B15",
        "outputId": "c01f62bb-2b1e-4774-8f1d-e0e6af158776"
      },
      "id": "IVQ8d6fH2B15",
      "execution_count": null,
      "outputs": [
        {
          "output_type": "stream",
          "name": "stdout",
          "text": [
            "Recall score: 0.9976921174822101\n"
          ]
        }
      ]
    },
    {
      "cell_type": "code",
      "source": [
        "f1 = metrics.f1_score(true_classes, predict_classes, average= \"weighted\")\n",
        "print(\"F1 score: {}\".format(f1))"
      ],
      "metadata": {
        "colab": {
          "base_uri": "https://localhost:8080/"
        },
        "id": "Dikn83O-2Bzc",
        "outputId": "9187c846-8f8b-4fbe-8be8-40eb7ae0a793"
      },
      "id": "Dikn83O-2Bzc",
      "execution_count": null,
      "outputs": [
        {
          "output_type": "stream",
          "name": "stdout",
          "text": [
            "F1 score: 0.9976919266402202\n"
          ]
        }
      ]
    },
    {
      "cell_type": "code",
      "source": [
        "print(metrics.classification_report(true_classes, predict_classes))"
      ],
      "metadata": {
        "colab": {
          "base_uri": "https://localhost:8080/"
        },
        "id": "BCI9CePg2Bwo",
        "outputId": "368493a2-a318-4a7c-f81d-497f68a76a5f"
      },
      "id": "BCI9CePg2Bwo",
      "execution_count": null,
      "outputs": [
        {
          "output_type": "stream",
          "name": "stdout",
          "text": [
            "              precision    recall  f1-score   support\n",
            "\n",
            "           0       1.00      1.00      1.00     21938\n",
            "           1       1.00      1.00      1.00     14459\n",
            "\n",
            "    accuracy                           1.00     36397\n",
            "   macro avg       1.00      1.00      1.00     36397\n",
            "weighted avg       1.00      1.00      1.00     36397\n",
            "\n"
          ]
        }
      ]
    },
    {
      "cell_type": "code",
      "source": [
        "# Generate predictions\n",
        "pred = model.predict(x_test)\n",
        "\n",
        "print(\"Numpy array of predictions\")\n",
        "print(pred[0:5])\n",
        "print()\n",
        "print(\"y_test:\")\n",
        "print(y_test[0:5])\n",
        "\n",
        "score = metrics.log_loss(y_test, pred)\n",
        "print(\"Log loss score: {}\".format(score))"
      ],
      "metadata": {
        "colab": {
          "base_uri": "https://localhost:8080/"
        },
        "id": "nnyg78Db2Btw",
        "outputId": "636480e6-55e9-4f94-ddb0-250bcefb35f9"
      },
      "id": "nnyg78Db2Btw",
      "execution_count": null,
      "outputs": [
        {
          "output_type": "stream",
          "name": "stdout",
          "text": [
            "Numpy array of predictions\n",
            "[[9.9999642e-01 3.5716391e-06]\n",
            " [5.4523786e-16 1.0000000e+00]\n",
            " [9.9961406e-01 3.8601761e-04]\n",
            " [8.4096625e-11 1.0000000e+00]\n",
            " [9.9999774e-01 2.2644494e-06]]\n",
            "\n",
            "y_test:\n",
            "[[1. 0.]\n",
            " [0. 1.]\n",
            " [1. 0.]\n",
            " [0. 1.]\n",
            " [1. 0.]]\n",
            "Log loss score: 0.008672098515543545\n"
          ]
        }
      ]
    },
    {
      "cell_type": "code",
      "source": [
        "%matplotlib inline\n",
        "import matplotlib.pyplot as plt\n",
        "from sklearn.metrics import roc_curve, auc\n",
        "\n",
        "# Plot a confusion matrix.\n",
        "# cm is the confusion matrix, names are the names of the classes.\n",
        "def plot_confusion_matrix(cm, names, title='Confusion matrix', cmap=plt.cm.Blues):\n",
        "    plt.imshow(cm, interpolation='nearest', cmap=cmap)\n",
        "    plt.title(title)\n",
        "    plt.colorbar()\n",
        "    tick_marks = np.arange(len(names))\n",
        "    plt.xticks(tick_marks, names, rotation=45)\n",
        "    plt.yticks(tick_marks, names)\n",
        "    plt.tight_layout()\n",
        "    plt.ylabel('True label')\n",
        "    plt.xlabel('Predicted label')\n",
        "    \n",
        "\n",
        "# Plot an ROC. pred - the predictions, y - the expected output.\n",
        "def plot_roc(pred,y):\n",
        "    fpr, tpr, thresholds = roc_curve(y, pred)\n",
        "    roc_auc = auc(fpr, tpr)\n",
        "\n",
        "    plt.figure()\n",
        "    plt.plot(fpr, tpr, label='ROC curve (area = %0.2f)' % roc_auc)\n",
        "    plt.plot([0, 1], [0, 1], 'k--')\n",
        "    plt.xlim([0.0, 1.0])\n",
        "    plt.ylim([0.0, 1.05])\n",
        "    plt.xlabel('False Positive Rate')\n",
        "    plt.ylabel('True Positive Rate')\n",
        "    plt.title('Receiver Operating Characteristic (ROC)')\n",
        "    plt.legend(loc=\"lower right\")\n",
        "    plt.show()"
      ],
      "metadata": {
        "id": "eaQvvnkR2Bqf"
      },
      "id": "eaQvvnkR2Bqf",
      "execution_count": null,
      "outputs": []
    },
    {
      "cell_type": "code",
      "source": [
        "diagnosis = encode_text_index(dfc,'outcome')"
      ],
      "metadata": {
        "id": "GAUAvRI37ck_"
      },
      "id": "GAUAvRI37ck_",
      "execution_count": null,
      "outputs": []
    },
    {
      "cell_type": "code",
      "source": [
        "import numpy as np\n",
        "\n",
        "from sklearn import svm, datasets\n",
        "from sklearn.model_selection import train_test_split\n",
        "from sklearn.metrics import confusion_matrix, classification_report\n",
        "\n",
        "# Compute confusion matrix\n",
        "cm = confusion_matrix(true_classes, predict_classes)\n",
        "print(cm)\n",
        "\n",
        "\n",
        "print('Plotting confusion matrix')\n",
        "\n",
        "plt.figure()\n",
        "plot_confusion_matrix(cm, diagnosis)\n",
        "plt.show()\n",
        "\n",
        "print(classification_report(true_classes, predict_classes))"
      ],
      "metadata": {
        "colab": {
          "base_uri": "https://localhost:8080/",
          "height": 519
        },
        "id": "fKkPmGv55zMj",
        "outputId": "3d9383bf-003d-4011-8af5-c09cd851ab5f"
      },
      "id": "fKkPmGv55zMj",
      "execution_count": null,
      "outputs": [
        {
          "output_type": "stream",
          "name": "stdout",
          "text": [
            "[[21903    35]\n",
            " [   49 14410]]\n",
            "Plotting confusion matrix\n"
          ]
        },
        {
          "output_type": "display_data",
          "data": {
            "text/plain": [
              "<Figure size 432x288 with 2 Axes>"
            ],
            "image/png": "[encoded data removed]"
          },
          "metadata": {
            "needs_background": "light"
          }
        },
        {
          "output_type": "stream",
          "name": "stdout",
          "text": [
            "              precision    recall  f1-score   support\n",
            "\n",
            "           0       1.00      1.00      1.00     21938\n",
            "           1       1.00      1.00      1.00     14459\n",
            "\n",
            "    accuracy                           1.00     36397\n",
            "   macro avg       1.00      1.00      1.00     36397\n",
            "weighted avg       1.00      1.00      1.00     36397\n",
            "\n"
          ]
        }
      ]
    },
    {
      "cell_type": "code",
      "source": [
        "pred = model.predict(x_test)\n",
        "pred = pred[:,1] # Only positive class (M)\n",
        "plot_roc(predict_classes,true_classes)"
      ],
      "metadata": {
        "colab": {
          "base_uri": "https://localhost:8080/",
          "height": 295
        },
        "id": "VfTKUIs05zI6",
        "outputId": "a2cb0b82-7476-4918-c9a6-e696973f4fba"
      },
      "id": "VfTKUIs05zI6",
      "execution_count": null,
      "outputs": [
        {
          "output_type": "display_data",
          "data": {
            "text/plain": [
              "<Figure size 432x288 with 1 Axes>"
            ],
            "image/png": "[encoded data removed]"
          },
          "metadata": {
            "needs_background": "light"
          }
        }
      ]
    },
    {
      "cell_type": "markdown",
      "source": [
        "###**Best Model for Fully-Connected Neural Networks**###\n",
        "Below is the best model we could create for fully-connected neural networks after some parameter tuning."
      ],
      "metadata": {
        "id": "C4DstFGhRATc"
      },
      "id": "C4DstFGhRATc"
    },
    {
      "cell_type": "code",
      "source": [
        "modelSig = Sequential()\n",
        "\n",
        "modelSig.add(Dense(64, input_dim=40, activation='sigmoid')) # Hidden 1     #  why input_dim=x.shape[1]?  \n",
        "modelSig.add(Dense(32, activation='sigmoid')) # Hidden 3\n",
        "modelSig.add(Dense(16, activation='sigmoid')) # Hidden 4\n",
        "modelSig.add(Dense(8, activation='sigmoid')) # Hidden 5\n",
        "modelSig.add(Dense(4, activation='sigmoid')) # Hidden 6\n",
        "modelSig.add(Dense(2, activation='softmax')) # Output\n",
        "\n",
        "#modelSig.compile(loss='mean_squared_error', optimizer='adam')\n",
        "modelSig.compile(loss='categorical_crossentropy', optimizer='adam')\n",
        "\n",
        "monitor = EarlyStopping(monitor='val_loss', min_delta=0, patience = 2, verbose = 2, mode = 'auto')\n",
        "\n",
        "#model.fit(x,y,verbose=2,epochs=100)    # Verbosity mode. 0 = silent, 1 = progress bar, 2 = one line per epoch.\n",
        "modelSig.fit(x_train,y_train, validation_data = (x_test, y_test), callbacks=[monitor], verbose=2,epochs=100)    # Verbosity mode. 0 = silent, 1 = progress bar, 2 = one line per epoch."
      ],
      "metadata": {
        "id": "MAKwfOIn2fFB",
        "colab": {
          "base_uri": "https://localhost:8080/"
        },
        "outputId": "5ce427cb-405c-4c0a-caca-04e06f02392c"
      },
      "id": "MAKwfOIn2fFB",
      "execution_count": null,
      "outputs": [
        {
          "output_type": "stream",
          "name": "stdout",
          "text": [
            "Epoch 1/100\n",
            "3413/3413 - 9s - loss: 0.1207 - val_loss: 0.0518 - 9s/epoch - 3ms/step\n",
            "Epoch 2/100\n",
            "3413/3413 - 9s - loss: 0.0244 - val_loss: 0.0150 - 9s/epoch - 3ms/step\n",
            "Epoch 3/100\n",
            "3413/3413 - 9s - loss: 0.0152 - val_loss: 0.0128 - 9s/epoch - 3ms/step\n",
            "Epoch 4/100\n",
            "3413/3413 - 11s - loss: 0.0131 - val_loss: 0.0113 - 11s/epoch - 3ms/step\n",
            "Epoch 5/100\n",
            "3413/3413 - 9s - loss: 0.0117 - val_loss: 0.0095 - 9s/epoch - 3ms/step\n",
            "Epoch 6/100\n",
            "3413/3413 - 9s - loss: 0.0109 - val_loss: 0.0096 - 9s/epoch - 3ms/step\n",
            "Epoch 7/100\n",
            "3413/3413 - 9s - loss: 0.0099 - val_loss: 0.0091 - 9s/epoch - 3ms/step\n",
            "Epoch 8/100\n",
            "3413/3413 - 9s - loss: 0.0093 - val_loss: 0.0082 - 9s/epoch - 3ms/step\n",
            "Epoch 9/100\n",
            "3413/3413 - 9s - loss: 0.0089 - val_loss: 0.0089 - 9s/epoch - 3ms/step\n",
            "Epoch 10/100\n",
            "3413/3413 - 9s - loss: 0.0085 - val_loss: 0.0077 - 9s/epoch - 3ms/step\n",
            "Epoch 11/100\n",
            "3413/3413 - 9s - loss: 0.0082 - val_loss: 0.0091 - 9s/epoch - 3ms/step\n",
            "Epoch 12/100\n",
            "3413/3413 - 9s - loss: 0.0080 - val_loss: 0.0076 - 9s/epoch - 3ms/step\n",
            "Epoch 13/100\n",
            "3413/3413 - 9s - loss: 0.0077 - val_loss: 0.0096 - 9s/epoch - 3ms/step\n",
            "Epoch 14/100\n",
            "3413/3413 - 9s - loss: 0.0073 - val_loss: 0.0078 - 9s/epoch - 3ms/step\n",
            "Epoch 14: early stopping\n"
          ]
        },
        {
          "output_type": "execute_result",
          "data": {
            "text/plain": [
              "<keras.callbacks.History at 0x7f6b4c88cc90>"
            ]
          },
          "metadata": {},
          "execution_count": 67
        }
      ]
    },
    {
      "cell_type": "code",
      "source": [
        "modelSig.save(os.path.join('U:\\Downloads\\Jupyter', 'trial2.hdf5'))"
      ],
      "metadata": {
        "id": "Jh3xr--M-uM9"
      },
      "id": "Jh3xr--M-uM9",
      "execution_count": null,
      "outputs": []
    },
    {
      "cell_type": "code",
      "source": [
        "pred2 = modelSig.predict(x_test)\n",
        "#print(\"Shape: {}\".format(pred2.shape))\n",
        "#print(pred2[0:5])"
      ],
      "metadata": {
        "id": "xgfbF7a7-uKK"
      },
      "id": "xgfbF7a7-uKK",
      "execution_count": null,
      "outputs": []
    },
    {
      "cell_type": "code",
      "source": [
        "score = np.sqrt(metrics.mean_squared_error(pred2,y_test))\n",
        "print('Final score (RMSE): {}'.format(score))"
      ],
      "metadata": {
        "colab": {
          "base_uri": "https://localhost:8080/"
        },
        "id": "ybjAwYhB-uHF",
        "outputId": "3da7f2f5-36a8-4a06-aae6-487ae7f3efdd"
      },
      "id": "ybjAwYhB-uHF",
      "execution_count": null,
      "outputs": [
        {
          "output_type": "stream",
          "name": "stdout",
          "text": [
            "Final score (RMSE): 0.04273755103349686\n"
          ]
        }
      ]
    },
    {
      "cell_type": "code",
      "source": [
        "predict_classes = np.argmax(pred2,axis=1)\n",
        "\n",
        "true_classes = np.argmax(y_test,axis=1)\n",
        "\n",
        "print(\"Predictions: {}\".format(predict_classes))\n",
        "print(\"True: {}\".format(true_classes))"
      ],
      "metadata": {
        "colab": {
          "base_uri": "https://localhost:8080/"
        },
        "id": "gNphyrt6DSFy",
        "outputId": "f8a2aa5b-d5bd-45c2-8a17-c3f89f9566d8"
      },
      "id": "gNphyrt6DSFy",
      "execution_count": null,
      "outputs": [
        {
          "output_type": "stream",
          "name": "stdout",
          "text": [
            "Predictions: [0 1 0 ... 1 0 0]\n",
            "True: [0 1 0 ... 1 0 0]\n"
          ]
        }
      ]
    },
    {
      "cell_type": "code",
      "source": [
        "correct = metrics.accuracy_score(true_classes, predict_classes)\n",
        "print(\"Accuracy: {}\".format(correct))\n",
        "precision = metrics.precision_score(true_classes, predict_classes, average= \"weighted\")\n",
        "print(\"Precision score: {}\".format(precision))\n",
        "recall = metrics.recall_score(true_classes, predict_classes, average= \"weighted\")\n",
        "print(\"Recall score: {}\".format(recall))\n",
        "f1 = metrics.f1_score(true_classes, predict_classes, average= \"weighted\")\n",
        "print(\"F1 score: {}\".format(f1))\n",
        "\"\"\"\n",
        "# Generate predictions\n",
        "pred = model.predict(x_test)\n",
        "\n",
        "print(\"Numpy array of predictions\")\n",
        "print(pred[0:5])\n",
        "print()\n",
        "print(\"y_test:\")\n",
        "print(y_test[0:5])\n",
        "\n",
        "score = metrics.log_loss(y_test, pred)\n",
        "print(\"Log loss score: {}\".format(score))\n",
        "\"\"\""
      ],
      "metadata": {
        "colab": {
          "base_uri": "https://localhost:8080/",
          "height": 140
        },
        "id": "G0F39YrO_orR",
        "outputId": "e6cc28fb-3cc6-4f54-e762-1f66c5e27e56"
      },
      "id": "G0F39YrO_orR",
      "execution_count": null,
      "outputs": [
        {
          "output_type": "stream",
          "name": "stdout",
          "text": [
            "Accuracy: 0.9978020166497239\n",
            "Precision score: 0.997803541628824\n",
            "Recall score: 0.9978020166497239\n",
            "F1 score: 0.9978023265096002\n"
          ]
        },
        {
          "output_type": "execute_result",
          "data": {
            "text/plain": [
              "'\\n# Generate predictions\\npred = model.predict(x_test)\\n\\nprint(\"Numpy array of predictions\")\\nprint(pred[0:5])\\nprint()\\nprint(\"y_test:\")\\nprint(y_test[0:5])\\n\\nscore = metrics.log_loss(y_test, pred)\\nprint(\"Log loss score: {}\".format(score))\\n'"
            ],
            "application/vnd.google.colaboratory.intrinsic+json": {
              "type": "string"
            }
          },
          "metadata": {},
          "execution_count": 78
        }
      ]
    },
    {
      "cell_type": "code",
      "source": [
        "modelTan = Sequential()\n",
        "\n",
        "modelTan.add(Dense(64, input_dim=40, activation='tanh')) # Hidden 1     #  why input_dim=x.shape[1]?  \n",
        "modelTan.add(Dense(32, activation='tanh')) # Hidden 3\n",
        "modelTan.add(Dense(16, activation='tanh')) # Hidden 4\n",
        "modelTan.add(Dense(8, activation='tanh')) # Hidden 5\n",
        "modelTan.add(Dense(4, activation='tanh')) # Hidden 6\n",
        "modelTan.add(Dense(2, activation='tanh')) # Output\n",
        "\n",
        "#modelTan.compile(loss='mean_squared_error', optimizer='adam')\n",
        "modelTan.compile(loss='categorical_crossentropy', optimizer='adam')\n",
        "\n",
        "monitor = EarlyStopping(monitor='val_loss', min_delta=0, patience = 2, verbose = 2, mode = 'auto')\n",
        "\n",
        "#model.fit(x,y,verbose=2,epochs=100)    # Verbosity mode. 0 = silent, 1 = progress bar, 2 = one line per epoch.\n",
        "modelTan.fit(x_train,y_train, validation_data = (x_test, y_test), callbacks=[monitor], verbose=2,epochs=100)    # Verbosity mode. 0 = silent, 1 = progress bar, 2 = one line per epoch."
      ],
      "metadata": {
        "colab": {
          "base_uri": "https://localhost:8080/"
        },
        "id": "DUx2Lp_t_oo9",
        "outputId": "a976240f-9d86-4eaa-ff97-3951060e9a50"
      },
      "id": "DUx2Lp_t_oo9",
      "execution_count": null,
      "outputs": [
        {
          "output_type": "stream",
          "name": "stdout",
          "text": [
            "Epoch 1/100\n",
            "3413/3413 - 10s - loss: 2.0149 - val_loss: 0.5354 - 10s/epoch - 3ms/step\n",
            "Epoch 2/100\n",
            "3413/3413 - 9s - loss: 2.2142 - val_loss: 0.0789 - 9s/epoch - 3ms/step\n",
            "Epoch 3/100\n",
            "3413/3413 - 10s - loss: 0.1099 - val_loss: 0.0403 - 10s/epoch - 3ms/step\n",
            "Epoch 4/100\n",
            "3413/3413 - 10s - loss: 0.0359 - val_loss: 0.0297 - 10s/epoch - 3ms/step\n",
            "Epoch 5/100\n",
            "3413/3413 - 9s - loss: 0.0486 - val_loss: 0.0221 - 9s/epoch - 3ms/step\n",
            "Epoch 6/100\n",
            "3413/3413 - 10s - loss: 1.2517 - val_loss: 0.0336 - 10s/epoch - 3ms/step\n",
            "Epoch 7/100\n",
            "3413/3413 - 9s - loss: 0.3273 - val_loss: 1.6274 - 9s/epoch - 3ms/step\n",
            "Epoch 7: early stopping\n"
          ]
        },
        {
          "output_type": "execute_result",
          "data": {
            "text/plain": [
              "<keras.callbacks.History at 0x7f6b4629e1d0>"
            ]
          },
          "metadata": {},
          "execution_count": 72
        }
      ]
    },
    {
      "cell_type": "code",
      "source": [
        "modelTan.save(os.path.join('U:\\Downloads\\Jupyter', 'trial3.hdf5'))"
      ],
      "metadata": {
        "id": "QjwqQ6fJ_omX"
      },
      "id": "QjwqQ6fJ_omX",
      "execution_count": null,
      "outputs": []
    },
    {
      "cell_type": "code",
      "source": [
        "pred3 = modelTan.predict(x_test)\n",
        "#print(\"Shape: {}\".format(pred2.shape))\n",
        "#print(pred2[0:5])"
      ],
      "metadata": {
        "id": "0nSqJ03r_oj3"
      },
      "id": "0nSqJ03r_oj3",
      "execution_count": null,
      "outputs": []
    },
    {
      "cell_type": "code",
      "source": [
        "score = np.sqrt(metrics.mean_squared_error(pred3,y_test))\n",
        "print('Final score (RMSE): {}'.format(score))\n",
        "\n",
        "predict_classes = np.argmax(pred3,axis=1)\n",
        "\n",
        "true_classes = np.argmax(y_test,axis=1)\n",
        "\n",
        "print(\"Predictions: {}\".format(predict_classes))\n",
        "print(\"True: {}\".format(true_classes))\n",
        "\n",
        "correct = metrics.accuracy_score(true_classes, predict_classes)\n",
        "print(\"Accuracy: {}\".format(correct))\n",
        "precision = metrics.precision_score(true_classes, predict_classes, average= \"weighted\")\n",
        "print(\"Precision score: {}\".format(precision))\n",
        "recall = metrics.recall_score(true_classes, predict_classes, average= \"weighted\")\n",
        "print(\"Recall score: {}\".format(recall))\n",
        "f1 = metrics.f1_score(true_classes, predict_classes, average= \"weighted\")\n",
        "print(\"F1 score: {}\".format(f1))\n",
        "\"\"\"\n",
        "# Generate predictions\n",
        "pred = model.predict(x_test)\n",
        "\n",
        "print(\"Numpy array of predictions\")\n",
        "print(pred[0:5])\n",
        "print()\n",
        "print(\"y_test:\")\n",
        "print(y_test[0:5])\n",
        "\n",
        "score = metrics.log_loss(y_test, pred)\n",
        "print(\"Log loss score: {}\".format(score))\n",
        "\"\"\""
      ],
      "metadata": {
        "colab": {
          "base_uri": "https://localhost:8080/",
          "height": 192
        },
        "id": "cUAD99jl_ohA",
        "outputId": "b2eb6be8-9424-4b29-b15f-634bad19a576"
      },
      "id": "cUAD99jl_ohA",
      "execution_count": null,
      "outputs": [
        {
          "output_type": "stream",
          "name": "stdout",
          "text": [
            "Final score (RMSE): 0.9503727555274963\n",
            "Predictions: [0 0 0 ... 0 0 0]\n",
            "True: [0 1 0 ... 1 0 0]\n",
            "Accuracy: 0.6025771354781988\n",
            "Precision score: 0.36325842098652755\n",
            "Recall score: 0.6025771354781988\n",
            "F1 score: 0.4532680895650783\n"
          ]
        },
        {
          "output_type": "execute_result",
          "data": {
            "text/plain": [
              "'\\n# Generate predictions\\npred = model.predict(x_test)\\n\\nprint(\"Numpy array of predictions\")\\nprint(pred[0:5])\\nprint()\\nprint(\"y_test:\")\\nprint(y_test[0:5])\\n\\nscore = metrics.log_loss(y_test, pred)\\nprint(\"Log loss score: {}\".format(score))\\n'"
            ],
            "application/vnd.google.colaboratory.intrinsic+json": {
              "type": "string"
            }
          },
          "metadata": {},
          "execution_count": 79
        }
      ]
    },
    {
      "cell_type": "code",
      "source": [
        "modelSigS = Sequential()\n",
        "\n",
        "modelSigS.add(Dense(64, input_dim=40, activation='sigmoid')) # Hidden 1     #  why input_dim=x.shape[1]?  \n",
        "modelSigS.add(Dense(32, activation='sigmoid')) # Hidden 3\n",
        "modelSigS.add(Dense(16, activation='sigmoid')) # Hidden 4\n",
        "modelSigS.add(Dense(8, activation='sigmoid')) # Hidden 5\n",
        "modelSigS.add(Dense(4, activation='sigmoid')) # Hidden 6\n",
        "modelSigS.add(Dense(2, activation='softmax')) # Output\n",
        "\n",
        "#modelSig.compile(loss='mean_squared_error', optimizer='adam')\n",
        "modelSigS.compile(loss='categorical_crossentropy', optimizer='sgd')\n",
        "\n",
        "monitor = EarlyStopping(monitor='val_loss', min_delta=0, patience = 2, verbose = 2, mode = 'auto')\n",
        "\n",
        "#model.fit(x,y,verbose=2,epochs=100)    # Verbosity mode. 0 = silent, 1 = progress bar, 2 = one line per epoch.\n",
        "modelSigS.fit(x_train,y_train, validation_data = (x_test, y_test), callbacks=[monitor], verbose=2,epochs=100)    # Verbosity mode. 0 = silent, 1 = progress bar, 2 = one line per epoch."
      ],
      "metadata": {
        "colab": {
          "base_uri": "https://localhost:8080/"
        },
        "id": "larN6DXwCZ4Y",
        "outputId": "bbd2b187-3124-4e03-d127-8b85ae324c96"
      },
      "id": "larN6DXwCZ4Y",
      "execution_count": null,
      "outputs": [
        {
          "output_type": "stream",
          "name": "stdout",
          "text": [
            "Epoch 1/100\n",
            "3413/3413 - 8s - loss: 0.6718 - val_loss: 0.6719 - 8s/epoch - 2ms/step\n",
            "Epoch 2/100\n",
            "3413/3413 - 8s - loss: 0.6714 - val_loss: 0.6715 - 8s/epoch - 2ms/step\n",
            "Epoch 3/100\n",
            "3413/3413 - 8s - loss: 0.6712 - val_loss: 0.6714 - 8s/epoch - 2ms/step\n",
            "Epoch 4/100\n",
            "3413/3413 - 8s - loss: 0.6710 - val_loss: 0.6713 - 8s/epoch - 2ms/step\n",
            "Epoch 5/100\n",
            "3413/3413 - 8s - loss: 0.6708 - val_loss: 0.6708 - 8s/epoch - 2ms/step\n",
            "Epoch 6/100\n",
            "3413/3413 - 8s - loss: 0.6704 - val_loss: 0.6704 - 8s/epoch - 2ms/step\n",
            "Epoch 7/100\n",
            "3413/3413 - 8s - loss: 0.6695 - val_loss: 0.6690 - 8s/epoch - 2ms/step\n",
            "Epoch 8/100\n",
            "3413/3413 - 8s - loss: 0.6674 - val_loss: 0.6657 - 8s/epoch - 2ms/step\n",
            "Epoch 9/100\n",
            "3413/3413 - 8s - loss: 0.6597 - val_loss: 0.6489 - 8s/epoch - 2ms/step\n",
            "Epoch 10/100\n",
            "3413/3413 - 8s - loss: 0.5574 - val_loss: 0.3399 - 8s/epoch - 2ms/step\n",
            "Epoch 11/100\n",
            "3413/3413 - 8s - loss: 0.1924 - val_loss: 0.1278 - 8s/epoch - 2ms/step\n",
            "Epoch 12/100\n",
            "3413/3413 - 8s - loss: 0.1123 - val_loss: 0.1044 - 8s/epoch - 2ms/step\n",
            "Epoch 13/100\n",
            "3413/3413 - 8s - loss: 0.1001 - val_loss: 0.0970 - 8s/epoch - 2ms/step\n",
            "Epoch 14/100\n",
            "3413/3413 - 8s - loss: 0.0922 - val_loss: 0.0824 - 8s/epoch - 2ms/step\n",
            "Epoch 15/100\n",
            "3413/3413 - 8s - loss: 0.0745 - val_loss: 0.0969 - 8s/epoch - 2ms/step\n",
            "Epoch 16/100\n",
            "3413/3413 - 8s - loss: 0.0640 - val_loss: 0.0604 - 8s/epoch - 2ms/step\n",
            "Epoch 17/100\n",
            "3413/3413 - 8s - loss: 0.0599 - val_loss: 0.0578 - 8s/epoch - 2ms/step\n",
            "Epoch 18/100\n",
            "3413/3413 - 8s - loss: 0.0573 - val_loss: 0.0556 - 8s/epoch - 2ms/step\n",
            "Epoch 19/100\n",
            "3413/3413 - 8s - loss: 0.0555 - val_loss: 0.0544 - 8s/epoch - 2ms/step\n",
            "Epoch 20/100\n",
            "3413/3413 - 8s - loss: 0.0537 - val_loss: 0.4003 - 8s/epoch - 2ms/step\n",
            "Epoch 21/100\n",
            "3413/3413 - 8s - loss: 0.0519 - val_loss: 0.0498 - 8s/epoch - 2ms/step\n",
            "Epoch 22/100\n",
            "3413/3413 - 8s - loss: 0.0483 - val_loss: 0.0452 - 8s/epoch - 2ms/step\n",
            "Epoch 23/100\n",
            "3413/3413 - 8s - loss: 0.0413 - val_loss: 0.0357 - 8s/epoch - 2ms/step\n",
            "Epoch 24/100\n",
            "3413/3413 - 8s - loss: 0.0334 - val_loss: 0.0277 - 8s/epoch - 2ms/step\n",
            "Epoch 25/100\n",
            "3413/3413 - 8s - loss: 0.0272 - val_loss: 0.0239 - 8s/epoch - 2ms/step\n",
            "Epoch 26/100\n",
            "3413/3413 - 8s - loss: 0.0237 - val_loss: 0.0204 - 8s/epoch - 2ms/step\n",
            "Epoch 27/100\n",
            "3413/3413 - 8s - loss: 0.0214 - val_loss: 0.0191 - 8s/epoch - 2ms/step\n",
            "Epoch 28/100\n",
            "3413/3413 - 8s - loss: 0.0199 - val_loss: 0.0187 - 8s/epoch - 2ms/step\n",
            "Epoch 29/100\n",
            "3413/3413 - 8s - loss: 0.0188 - val_loss: 0.0180 - 8s/epoch - 2ms/step\n",
            "Epoch 30/100\n",
            "3413/3413 - 8s - loss: 0.0179 - val_loss: 0.0163 - 8s/epoch - 2ms/step\n",
            "Epoch 31/100\n",
            "3413/3413 - 8s - loss: 0.0173 - val_loss: 0.0150 - 8s/epoch - 2ms/step\n",
            "Epoch 32/100\n",
            "3413/3413 - 8s - loss: 0.0167 - val_loss: 0.0165 - 8s/epoch - 2ms/step\n",
            "Epoch 33/100\n",
            "3413/3413 - 8s - loss: 0.0159 - val_loss: 0.0145 - 8s/epoch - 2ms/step\n",
            "Epoch 34/100\n",
            "3413/3413 - 8s - loss: 0.0156 - val_loss: 0.0136 - 8s/epoch - 2ms/step\n",
            "Epoch 35/100\n",
            "3413/3413 - 8s - loss: 0.0153 - val_loss: 0.0133 - 8s/epoch - 2ms/step\n",
            "Epoch 36/100\n",
            "3413/3413 - 8s - loss: 0.0148 - val_loss: 0.0126 - 8s/epoch - 2ms/step\n",
            "Epoch 37/100\n",
            "3413/3413 - 8s - loss: 0.0147 - val_loss: 0.0134 - 8s/epoch - 2ms/step\n",
            "Epoch 38/100\n",
            "3413/3413 - 8s - loss: 0.0142 - val_loss: 0.0122 - 8s/epoch - 2ms/step\n",
            "Epoch 39/100\n",
            "3413/3413 - 8s - loss: 0.0141 - val_loss: 0.0133 - 8s/epoch - 2ms/step\n",
            "Epoch 40/100\n",
            "3413/3413 - 8s - loss: 0.0136 - val_loss: 0.0127 - 8s/epoch - 2ms/step\n",
            "Epoch 40: early stopping\n"
          ]
        },
        {
          "output_type": "execute_result",
          "data": {
            "text/plain": [
              "<keras.callbacks.History at 0x7f6b462e69d0>"
            ]
          },
          "metadata": {},
          "execution_count": 80
        }
      ]
    },
    {
      "cell_type": "code",
      "source": [
        "modelSigS.save(os.path.join('U:\\Downloads\\Jupyter', 'trial4.hdf5'))"
      ],
      "metadata": {
        "id": "C-s-L1EQCZ1B"
      },
      "id": "C-s-L1EQCZ1B",
      "execution_count": null,
      "outputs": []
    },
    {
      "cell_type": "code",
      "source": [
        "pred4 = modelSigS.predict(x_test)\n",
        "#print(\"Shape: {}\".format(pred2.shape))\n",
        "#print(pred2[0:5])"
      ],
      "metadata": {
        "id": "TpgCb1DLCZyO"
      },
      "id": "TpgCb1DLCZyO",
      "execution_count": null,
      "outputs": []
    },
    {
      "cell_type": "code",
      "source": [
        "score = np.sqrt(metrics.mean_squared_error(pred4,y_test))\n",
        "print('Final score (RMSE): {}'.format(score))\n",
        "\n",
        "predict_classes = np.argmax(pred4,axis=1)\n",
        "\n",
        "true_classes = np.argmax(y_test,axis=1)\n",
        "\n",
        "print(\"Predictions: {}\".format(predict_classes))\n",
        "print(\"True: {}\".format(true_classes))\n",
        "\n",
        "correct = metrics.accuracy_score(true_classes, predict_classes)\n",
        "print(\"Accuracy: {}\".format(correct))\n",
        "precision = metrics.precision_score(true_classes, predict_classes, average= \"weighted\")\n",
        "print(\"Precision score: {}\".format(precision))\n",
        "recall = metrics.recall_score(true_classes, predict_classes, average= \"weighted\")\n",
        "print(\"Recall score: {}\".format(recall))\n",
        "f1 = metrics.f1_score(true_classes, predict_classes, average= \"weighted\")\n",
        "print(\"F1 score: {}\".format(f1))\n",
        "\"\"\"\n",
        "# Generate predictions\n",
        "pred = model.predict(x_test)\n",
        "\n",
        "print(\"Numpy array of predictions\")\n",
        "print(pred[0:5])\n",
        "print()\n",
        "print(\"y_test:\")\n",
        "print(y_test[0:5])\n",
        "\n",
        "score = metrics.log_loss(y_test, pred)\n",
        "print(\"Log loss score: {}\".format(score))\n",
        "\"\"\""
      ],
      "metadata": {
        "colab": {
          "base_uri": "https://localhost:8080/",
          "height": 192
        },
        "id": "V-hmD5nsCZvA",
        "outputId": "3b66bb4f-bcd0-4a8a-a1af-cbd29b639696"
      },
      "id": "V-hmD5nsCZvA",
      "execution_count": null,
      "outputs": [
        {
          "output_type": "stream",
          "name": "stdout",
          "text": [
            "Final score (RMSE): 0.05307013913989067\n",
            "Predictions: [0 1 0 ... 1 0 0]\n",
            "True: [0 1 0 ... 1 0 0]\n",
            "Accuracy: 0.9967854493502212\n",
            "Precision score: 0.9967863698559878\n",
            "Recall score: 0.9967854493502212\n",
            "F1 score: 0.9967857329534472\n"
          ]
        },
        {
          "output_type": "execute_result",
          "data": {
            "text/plain": [
              "'\\n# Generate predictions\\npred = model.predict(x_test)\\n\\nprint(\"Numpy array of predictions\")\\nprint(pred[0:5])\\nprint()\\nprint(\"y_test:\")\\nprint(y_test[0:5])\\n\\nscore = metrics.log_loss(y_test, pred)\\nprint(\"Log loss score: {}\".format(score))\\n'"
            ],
            "application/vnd.google.colaboratory.intrinsic+json": {
              "type": "string"
            }
          },
          "metadata": {},
          "execution_count": 83
        }
      ]
    },
    {
      "cell_type": "code",
      "source": [
        "modelSigBL = Sequential()\n",
        "\n",
        "modelSigBL.add(Dense(64, input_dim=40, activation='sigmoid')) # Hidden 1     #  why input_dim=x.shape[1]?  \n",
        "modelSigBL.add(Dense(56, activation='sigmoid')) # Hidden 2\n",
        "modelSigBL.add(Dense(48, activation='sigmoid')) # Hidden 3\n",
        "modelSigBL.add(Dense(40, activation='sigmoid')) # Hidden 4\n",
        "modelSigBL.add(Dense(32, activation='sigmoid')) # Hidden 5\n",
        "modelSigBL.add(Dense(24, activation='sigmoid')) # Hidden 6\n",
        "modelSigBL.add(Dense(16, activation='sigmoid')) # Hidden 7\n",
        "modelSigBL.add(Dense(8, activation='sigmoid')) # Hidden 8\n",
        "modelSigBL.add(Dense(4, activation='sigmoid')) # Hidden 9\n",
        "modelSigBL.add(Dense(2, activation='softmax')) # Output\n",
        "\n",
        "#modelSig.compile(loss='mean_squared_error', optimizer='adam')\n",
        "modelSigBL.compile(loss='categorical_crossentropy', optimizer='adam')\n",
        "\n",
        "monitor = EarlyStopping(monitor='val_loss', min_delta=0, patience = 2, verbose = 2, mode = 'auto')\n",
        "\n",
        "#model.fit(x,y,verbose=2,epochs=100)    # Verbosity mode. 0 = silent, 1 = progress bar, 2 = one line per epoch.\n",
        "modelSigBL.fit(x_train,y_train, validation_data = (x_test, y_test), callbacks=[monitor], verbose=2,epochs=100)    # Verbosity mode. 0 = silent, 1 = progress bar, 2 = one line per epoch."
      ],
      "metadata": {
        "colab": {
          "base_uri": "https://localhost:8080/"
        },
        "id": "cwvCzqNr_oc8",
        "outputId": "c99a2bef-3c28-4e3d-b581-4ab9776b2b4a"
      },
      "id": "cwvCzqNr_oc8",
      "execution_count": null,
      "outputs": [
        {
          "output_type": "stream",
          "name": "stdout",
          "text": [
            "Epoch 1/100\n",
            "3413/3413 - 11s - loss: 0.2010 - val_loss: 0.1034 - 11s/epoch - 3ms/step\n",
            "Epoch 2/100\n",
            "3413/3413 - 10s - loss: 0.1004 - val_loss: 0.0997 - 10s/epoch - 3ms/step\n",
            "Epoch 3/100\n",
            "3413/3413 - 10s - loss: 0.1047 - val_loss: 0.1044 - 10s/epoch - 3ms/step\n",
            "Epoch 4/100\n",
            "3413/3413 - 10s - loss: 0.1025 - val_loss: 0.1016 - 10s/epoch - 3ms/step\n",
            "Epoch 4: early stopping\n"
          ]
        },
        {
          "output_type": "execute_result",
          "data": {
            "text/plain": [
              "<keras.callbacks.History at 0x7f6b326aaad0>"
            ]
          },
          "metadata": {},
          "execution_count": 84
        }
      ]
    },
    {
      "cell_type": "code",
      "source": [
        "modelSigBL.save(os.path.join('U:\\Downloads\\Jupyter', 'trial5.hdf5'))"
      ],
      "metadata": {
        "id": "qPXK0s_2_oZi"
      },
      "id": "qPXK0s_2_oZi",
      "execution_count": null,
      "outputs": []
    },
    {
      "cell_type": "code",
      "source": [
        "pred5 = modelSigBL.predict(x_test)\n",
        "#print(\"Shape: {}\".format(pred2.shape))\n",
        "#print(pred2[0:5])"
      ],
      "metadata": {
        "id": "0R0hUG_JLLJH"
      },
      "id": "0R0hUG_JLLJH",
      "execution_count": null,
      "outputs": []
    },
    {
      "cell_type": "code",
      "source": [
        "score = np.sqrt(metrics.mean_squared_error(pred5,y_test))\n",
        "print('Final score (RMSE): {}'.format(score))\n",
        "\n",
        "predict_classes = np.argmax(pred5,axis=1)\n",
        "\n",
        "true_classes = np.argmax(y_test,axis=1)\n",
        "\n",
        "print(\"Predictions: {}\".format(predict_classes))\n",
        "print(\"True: {}\".format(true_classes))\n",
        "\n",
        "correct = metrics.accuracy_score(true_classes, predict_classes)\n",
        "print(\"Accuracy: {}\".format(correct))\n",
        "precision = metrics.precision_score(true_classes, predict_classes, average= \"weighted\")\n",
        "print(\"Precision score: {}\".format(precision))\n",
        "recall = metrics.recall_score(true_classes, predict_classes, average= \"weighted\")\n",
        "print(\"Recall score: {}\".format(recall))\n",
        "f1 = metrics.f1_score(true_classes, predict_classes, average= \"weighted\")\n",
        "print(\"F1 score: {}\".format(f1))\n",
        "\"\"\"\n",
        "# Generate predictions\n",
        "pred = model.predict(x_test)\n",
        "\n",
        "print(\"Numpy array of predictions\")\n",
        "print(pred[0:5])\n",
        "print()\n",
        "print(\"y_test:\")\n",
        "print(y_test[0:5])\n",
        "\n",
        "score = metrics.log_loss(y_test, pred)\n",
        "print(\"Log loss score: {}\".format(score))\n",
        "\"\"\""
      ],
      "metadata": {
        "colab": {
          "base_uri": "https://localhost:8080/",
          "height": 192
        },
        "id": "LMe1_Yv6LLG2",
        "outputId": "e5f3a851-65f9-4dc8-c3ee-35f7dd8d1645"
      },
      "id": "LMe1_Yv6LLG2",
      "execution_count": null,
      "outputs": [
        {
          "output_type": "stream",
          "name": "stdout",
          "text": [
            "Final score (RMSE): 0.14751118421554565\n",
            "Predictions: [0 1 0 ... 1 0 0]\n",
            "True: [0 1 0 ... 1 0 0]\n",
            "Accuracy: 0.9775256202434267\n",
            "Precision score: 0.9780955621301518\n",
            "Recall score: 0.9775256202434267\n",
            "F1 score: 0.9774226840274512\n"
          ]
        },
        {
          "output_type": "execute_result",
          "data": {
            "text/plain": [
              "'\\n# Generate predictions\\npred = model.predict(x_test)\\n\\nprint(\"Numpy array of predictions\")\\nprint(pred[0:5])\\nprint()\\nprint(\"y_test:\")\\nprint(y_test[0:5])\\n\\nscore = metrics.log_loss(y_test, pred)\\nprint(\"Log loss score: {}\".format(score))\\n'"
            ],
            "application/vnd.google.colaboratory.intrinsic+json": {
              "type": "string"
            }
          },
          "metadata": {},
          "execution_count": 89
        }
      ]
    },
    {
      "cell_type": "code",
      "source": [
        "modelSigSL = Sequential()\n",
        "\n",
        "modelSigSL.add(Dense(64, input_dim=40, activation='sigmoid')) # Hidden 1     #  why input_dim=x.shape[1]?  \n",
        "modelSigSL.add(Dense(32, activation='sigmoid')) # Hidden 2\n",
        "modelSigSL.add(Dense(8, activation='sigmoid')) # Hidden 3\n",
        "modelSigSL.add(Dense(2, activation='softmax')) # Output\n",
        "\n",
        "#modelSigSL.compile(loss='mean_squared_error', optimizer='adam')\n",
        "modelSigSL.compile(loss='categorical_crossentropy', optimizer='adam')\n",
        "\n",
        "monitor = EarlyStopping(monitor='val_loss', min_delta=0, patience = 2, verbose = 2, mode = 'auto')\n",
        "\n",
        "#model.fit(x,y,verbose=2,epochs=100)    # Verbosity mode. 0 = silent, 1 = progress bar, 2 = one line per epoch.\n",
        "modelSigSL.fit(x_train,y_train, validation_data = (x_test, y_test), callbacks=[monitor], verbose=2,epochs=100)    # Verbosity mode. 0 = silent, 1 = progress bar, 2 = one line per epoch."
      ],
      "metadata": {
        "colab": {
          "base_uri": "https://localhost:8080/"
        },
        "id": "KHVfNvwZLLAM",
        "outputId": "37186313-a20b-4cc2-903e-e8af16cea406"
      },
      "id": "KHVfNvwZLLAM",
      "execution_count": null,
      "outputs": [
        {
          "output_type": "stream",
          "name": "stdout",
          "text": [
            "Epoch 1/100\n",
            "3413/3413 - 8s - loss: 0.0662 - val_loss: 0.0191 - 8s/epoch - 2ms/step\n",
            "Epoch 2/100\n",
            "3413/3413 - 8s - loss: 0.0155 - val_loss: 0.0124 - 8s/epoch - 2ms/step\n",
            "Epoch 3/100\n",
            "3413/3413 - 8s - loss: 0.0131 - val_loss: 0.0118 - 8s/epoch - 2ms/step\n",
            "Epoch 4/100\n",
            "3413/3413 - 8s - loss: 0.0118 - val_loss: 0.0105 - 8s/epoch - 2ms/step\n",
            "Epoch 5/100\n",
            "3413/3413 - 8s - loss: 0.0109 - val_loss: 0.0101 - 8s/epoch - 2ms/step\n",
            "Epoch 6/100\n",
            "3413/3413 - 8s - loss: 0.0097 - val_loss: 0.0102 - 8s/epoch - 2ms/step\n",
            "Epoch 7/100\n",
            "3413/3413 - 8s - loss: 0.0094 - val_loss: 0.0098 - 8s/epoch - 2ms/step\n",
            "Epoch 8/100\n",
            "3413/3413 - 8s - loss: 0.0085 - val_loss: 0.0083 - 8s/epoch - 2ms/step\n",
            "Epoch 9/100\n",
            "3413/3413 - 8s - loss: 0.0081 - val_loss: 0.0102 - 8s/epoch - 2ms/step\n",
            "Epoch 10/100\n",
            "3413/3413 - 8s - loss: 0.0079 - val_loss: 0.0075 - 8s/epoch - 2ms/step\n",
            "Epoch 11/100\n",
            "3413/3413 - 8s - loss: 0.0074 - val_loss: 0.0076 - 8s/epoch - 2ms/step\n",
            "Epoch 12/100\n",
            "3413/3413 - 8s - loss: 0.0072 - val_loss: 0.0100 - 8s/epoch - 2ms/step\n",
            "Epoch 12: early stopping\n"
          ]
        },
        {
          "output_type": "execute_result",
          "data": {
            "text/plain": [
              "<keras.callbacks.History at 0x7f6b3241d050>"
            ]
          },
          "metadata": {},
          "execution_count": 90
        }
      ]
    },
    {
      "cell_type": "code",
      "source": [
        "modelSigSL.save(os.path.join('U:\\Downloads\\Jupyter', 'trial6.hdf5'))"
      ],
      "metadata": {
        "id": "11mAtosGLK8W"
      },
      "id": "11mAtosGLK8W",
      "execution_count": null,
      "outputs": []
    },
    {
      "cell_type": "code",
      "source": [
        "pred6 = modelSigSL.predict(x_test)\n",
        "#print(\"Shape: {}\".format(pred2.shape))\n",
        "#print(pred2[0:5])"
      ],
      "metadata": {
        "id": "hEVaCnSJLK4x"
      },
      "id": "hEVaCnSJLK4x",
      "execution_count": null,
      "outputs": []
    },
    {
      "cell_type": "code",
      "source": [
        "score = np.sqrt(metrics.mean_squared_error(pred6,y_test))\n",
        "print('Final score (RMSE): {}'.format(score))\n",
        "\n",
        "predict_classes = np.argmax(pred6,axis=1)\n",
        "\n",
        "true_classes = np.argmax(y_test,axis=1)\n",
        "\n",
        "print(\"Predictions: {}\".format(predict_classes))\n",
        "print(\"True: {}\".format(true_classes))\n",
        "\n",
        "correct = metrics.accuracy_score(true_classes, predict_classes)\n",
        "print(\"Accuracy: {}\".format(correct))\n",
        "precision = metrics.precision_score(true_classes, predict_classes, average= \"weighted\")\n",
        "print(\"Precision score: {}\".format(precision))\n",
        "recall = metrics.recall_score(true_classes, predict_classes, average= \"weighted\")\n",
        "print(\"Recall score: {}\".format(recall))\n",
        "f1 = metrics.f1_score(true_classes, predict_classes, average= \"weighted\")\n",
        "print(\"F1 score: {}\".format(f1))\n",
        "\"\"\"\n",
        "# Generate predictions\n",
        "pred = model.predict(x_test)\n",
        "\n",
        "print(\"Numpy array of predictions\")\n",
        "print(pred[0:5])\n",
        "print()\n",
        "print(\"y_test:\")\n",
        "print(y_test[0:5])\n",
        "\n",
        "score = metrics.log_loss(y_test, pred)\n",
        "print(\"Log loss score: {}\".format(score))\n",
        "\"\"\""
      ],
      "metadata": {
        "colab": {
          "base_uri": "https://localhost:8080/",
          "height": 192
        },
        "id": "JKqpz-_SMqJb",
        "outputId": "d4e81c4f-30f0-49e0-f0c9-e746d126e2d0"
      },
      "id": "JKqpz-_SMqJb",
      "execution_count": null,
      "outputs": [
        {
          "output_type": "stream",
          "name": "stdout",
          "text": [
            "Final score (RMSE): 0.04744195193052292\n",
            "Predictions: [0 1 0 ... 1 0 0]\n",
            "True: [0 1 0 ... 1 0 0]\n",
            "Accuracy: 0.9975547435228178\n",
            "Precision score: 0.9975582503804307\n",
            "Recall score: 0.9975547435228178\n",
            "F1 score: 0.9975553024658789\n"
          ]
        },
        {
          "output_type": "execute_result",
          "data": {
            "text/plain": [
              "'\\n# Generate predictions\\npred = model.predict(x_test)\\n\\nprint(\"Numpy array of predictions\")\\nprint(pred[0:5])\\nprint()\\nprint(\"y_test:\")\\nprint(y_test[0:5])\\n\\nscore = metrics.log_loss(y_test, pred)\\nprint(\"Log loss score: {}\".format(score))\\n'"
            ],
            "application/vnd.google.colaboratory.intrinsic+json": {
              "type": "string"
            }
          },
          "metadata": {},
          "execution_count": 93
        }
      ]
    },
    {
      "cell_type": "code",
      "source": [
        "modelSigBN = Sequential()\n",
        "\n",
        "modelSigBN.add(Dense(128, input_dim=40, activation='sigmoid')) # Hidden 1     #  why input_dim=x.shape[1]?  \n",
        "modelSigBN.add(Dense(64, activation='sigmoid')) # Hidden 3\n",
        "modelSigBN.add(Dense(32, activation='sigmoid')) # Hidden 4\n",
        "modelSigBN.add(Dense(16, activation='sigmoid')) # Hidden 5\n",
        "modelSigBN.add(Dense(8, activation='sigmoid')) # Hidden 6\n",
        "modelSigBN.add(Dense(4, activation='sigmoid')) # Hidden 7\n",
        "modelSigBN.add(Dense(2, activation='softmax')) # Output\n",
        "\n",
        "#modelSigBN.compile(loss='mean_squared_error', optimizer='adam')\n",
        "modelSigBN.compile(loss='categorical_crossentropy', optimizer='adam')\n",
        "\n",
        "monitor = EarlyStopping(monitor='val_loss', min_delta=0, patience = 2, verbose = 2, mode = 'auto')\n",
        "\n",
        "#model.fit(x,y,verbose=2,epochs=100)    # Verbosity mode. 0 = silent, 1 = progress bar, 2 = one line per epoch.\n",
        "modelSigBN.fit(x_train,y_train, validation_data = (x_test, y_test), callbacks=[monitor], verbose=2,epochs=100)    # Verbosity mode. 0 = silent, 1 = progress bar, 2 = one line per epoch."
      ],
      "metadata": {
        "colab": {
          "base_uri": "https://localhost:8080/"
        },
        "id": "gtlDj9H_MqFH",
        "outputId": "06acab1e-007d-45c7-e07b-99457260de4f"
      },
      "id": "gtlDj9H_MqFH",
      "execution_count": null,
      "outputs": [
        {
          "output_type": "stream",
          "name": "stdout",
          "text": [
            "Epoch 1/100\n",
            "3413/3413 - 10s - loss: 0.1776 - val_loss: 0.0980 - 10s/epoch - 3ms/step\n",
            "Epoch 2/100\n",
            "3413/3413 - 10s - loss: 0.0854 - val_loss: 0.0556 - 10s/epoch - 3ms/step\n",
            "Epoch 3/100\n",
            "3413/3413 - 9s - loss: 0.0510 - val_loss: 0.0484 - 9s/epoch - 3ms/step\n",
            "Epoch 4/100\n",
            "3413/3413 - 9s - loss: 0.0355 - val_loss: 0.0156 - 9s/epoch - 3ms/step\n",
            "Epoch 5/100\n",
            "3413/3413 - 9s - loss: 0.0147 - val_loss: 0.0118 - 9s/epoch - 3ms/step\n",
            "Epoch 6/100\n",
            "3413/3413 - 9s - loss: 0.0127 - val_loss: 0.0118 - 9s/epoch - 3ms/step\n",
            "Epoch 7/100\n",
            "3413/3413 - 9s - loss: 0.0113 - val_loss: 0.0128 - 9s/epoch - 3ms/step\n",
            "Epoch 7: early stopping\n"
          ]
        },
        {
          "output_type": "execute_result",
          "data": {
            "text/plain": [
              "<keras.callbacks.History at 0x7f6b34770290>"
            ]
          },
          "metadata": {},
          "execution_count": 96
        }
      ]
    },
    {
      "cell_type": "code",
      "source": [
        "modelSigBN.save(os.path.join('U:\\Downloads\\Jupyter', 'trial7.hdf5'))"
      ],
      "metadata": {
        "id": "IkxMT7MwMqAB"
      },
      "id": "IkxMT7MwMqAB",
      "execution_count": null,
      "outputs": []
    },
    {
      "cell_type": "code",
      "source": [
        "pred7 = modelSigBN.predict(x_test)\n",
        "#print(\"Shape: {}\".format(pred2.shape))\n",
        "#print(pred2[0:5])"
      ],
      "metadata": {
        "id": "_wZ-MSIJMp6X"
      },
      "id": "_wZ-MSIJMp6X",
      "execution_count": null,
      "outputs": []
    },
    {
      "cell_type": "code",
      "source": [
        "score = np.sqrt(metrics.mean_squared_error(pred7,y_test))\n",
        "print('Final score (RMSE): {}'.format(score))\n",
        "\n",
        "predict_classes = np.argmax(pred7,axis=1)\n",
        "\n",
        "true_classes = np.argmax(y_test,axis=1)\n",
        "\n",
        "print(\"Predictions: {}\".format(predict_classes))\n",
        "print(\"True: {}\".format(true_classes))\n",
        "\n",
        "correct = metrics.accuracy_score(true_classes, predict_classes)\n",
        "print(\"Accuracy: {}\".format(correct))\n",
        "precision = metrics.precision_score(true_classes, predict_classes, average= \"weighted\")\n",
        "print(\"Precision score: {}\".format(precision))\n",
        "recall = metrics.recall_score(true_classes, predict_classes, average= \"weighted\")\n",
        "print(\"Recall score: {}\".format(recall))\n",
        "f1 = metrics.f1_score(true_classes, predict_classes, average= \"weighted\")\n",
        "print(\"F1 score: {}\".format(f1))\n",
        "\"\"\"\n",
        "# Generate predictions\n",
        "pred = model.predict(x_test)\n",
        "\n",
        "print(\"Numpy array of predictions\")\n",
        "print(pred[0:5])\n",
        "print()\n",
        "print(\"y_test:\")\n",
        "print(y_test[0:5])\n",
        "\n",
        "score = metrics.log_loss(y_test, pred)\n",
        "print(\"Log loss score: {}\".format(score))\n",
        "\"\"\""
      ],
      "metadata": {
        "colab": {
          "base_uri": "https://localhost:8080/",
          "height": 192
        },
        "id": "MyD94olfOx0r",
        "outputId": "5aded9ab-d727-472c-b57e-642e32ac6bb2"
      },
      "id": "MyD94olfOx0r",
      "execution_count": null,
      "outputs": [
        {
          "output_type": "stream",
          "name": "stdout",
          "text": [
            "Final score (RMSE): 0.05380035191774368\n",
            "Predictions: [0 1 0 ... 1 0 0]\n",
            "True: [0 1 0 ... 1 0 0]\n",
            "Accuracy: 0.9965381762233151\n",
            "Precision score: 0.996543737940787\n",
            "Recall score: 0.9965381762233151\n",
            "F1 score: 0.9965366499166715\n"
          ]
        },
        {
          "output_type": "execute_result",
          "data": {
            "text/plain": [
              "'\\n# Generate predictions\\npred = model.predict(x_test)\\n\\nprint(\"Numpy array of predictions\")\\nprint(pred[0:5])\\nprint()\\nprint(\"y_test:\")\\nprint(y_test[0:5])\\n\\nscore = metrics.log_loss(y_test, pred)\\nprint(\"Log loss score: {}\".format(score))\\n'"
            ],
            "application/vnd.google.colaboratory.intrinsic+json": {
              "type": "string"
            }
          },
          "metadata": {},
          "execution_count": 99
        }
      ]
    },
    {
      "cell_type": "code",
      "source": [
        "modelSigSN = Sequential()\n",
        "\n",
        "modelSigSN.add(Dense(32, input_dim=40, activation='sigmoid')) # Hidden 1     #  why input_dim=x.shape[1]?  \n",
        "modelSigSN.add(Dense(16, activation='sigmoid')) # Hidden 2\n",
        "modelSigSN.add(Dense(8, activation='sigmoid')) # Hidden 3\n",
        "modelSigSN.add(Dense(4, activation='sigmoid')) # Hidden 4\n",
        "modelSigSN.add(Dense(2, activation='softmax')) # Output\n",
        "\n",
        "#modelSig.compile(loss='mean_squared_error', optimizer='adam')\n",
        "modelSigSN.compile(loss='categorical_crossentropy', optimizer='adam')\n",
        "\n",
        "monitor = EarlyStopping(monitor='val_loss', min_delta=0, patience = 2, verbose = 2, mode = 'auto')\n",
        "\n",
        "#model.fit(x,y,verbose=2,epochs=100)    # Verbosity mode. 0 = silent, 1 = progress bar, 2 = one line per epoch.\n",
        "modelSigSN.fit(x_train,y_train, validation_data = (x_test, y_test), callbacks=[monitor], verbose=2,epochs=100)    # Verbosity mode. 0 = silent, 1 = progress bar, 2 = one line per epoch."
      ],
      "metadata": {
        "colab": {
          "base_uri": "https://localhost:8080/"
        },
        "id": "Fvb5K6tR9CEr",
        "outputId": "0f11529f-493e-427e-ff43-004d1ca643fa"
      },
      "id": "Fvb5K6tR9CEr",
      "execution_count": null,
      "outputs": [
        {
          "output_type": "stream",
          "name": "stdout",
          "text": [
            "Epoch 1/100\n",
            "3413/3413 - 9s - loss: 0.1209 - val_loss: 0.0541 - 9s/epoch - 3ms/step\n",
            "Epoch 2/100\n",
            "3413/3413 - 8s - loss: 0.0427 - val_loss: 0.0200 - 8s/epoch - 2ms/step\n",
            "Epoch 3/100\n",
            "3413/3413 - 8s - loss: 0.0160 - val_loss: 0.0134 - 8s/epoch - 2ms/step\n",
            "Epoch 4/100\n",
            "3413/3413 - 8s - loss: 0.0134 - val_loss: 0.0129 - 8s/epoch - 2ms/step\n",
            "Epoch 5/100\n",
            "3413/3413 - 8s - loss: 0.0120 - val_loss: 0.0118 - 8s/epoch - 2ms/step\n",
            "Epoch 6/100\n",
            "3413/3413 - 8s - loss: 0.0112 - val_loss: 0.0113 - 8s/epoch - 2ms/step\n",
            "Epoch 7/100\n",
            "3413/3413 - 8s - loss: 0.0107 - val_loss: 0.0102 - 8s/epoch - 2ms/step\n",
            "Epoch 8/100\n",
            "3413/3413 - 8s - loss: 0.0100 - val_loss: 0.0098 - 8s/epoch - 2ms/step\n",
            "Epoch 9/100\n",
            "3413/3413 - 8s - loss: 0.0094 - val_loss: 0.0088 - 8s/epoch - 2ms/step\n",
            "Epoch 10/100\n",
            "3413/3413 - 8s - loss: 0.0089 - val_loss: 0.0083 - 8s/epoch - 2ms/step\n",
            "Epoch 11/100\n",
            "3413/3413 - 8s - loss: 0.0086 - val_loss: 0.0080 - 8s/epoch - 2ms/step\n",
            "Epoch 12/100\n",
            "3413/3413 - 8s - loss: 0.0082 - val_loss: 0.0081 - 8s/epoch - 2ms/step\n",
            "Epoch 13/100\n",
            "3413/3413 - 8s - loss: 0.0078 - val_loss: 0.0087 - 8s/epoch - 2ms/step\n",
            "Epoch 13: early stopping\n"
          ]
        },
        {
          "output_type": "execute_result",
          "data": {
            "text/plain": [
              "<keras.callbacks.History at 0x7f6b347705d0>"
            ]
          },
          "metadata": {},
          "execution_count": 100
        }
      ]
    },
    {
      "cell_type": "code",
      "source": [
        "modelSigSN.save(os.path.join('U:\\Downloads\\Jupyter', 'trial8.hdf5'))"
      ],
      "metadata": {
        "id": "e8ZF-g_NOxu1"
      },
      "id": "e8ZF-g_NOxu1",
      "execution_count": null,
      "outputs": []
    },
    {
      "cell_type": "code",
      "source": [
        "pred8 = modelSigSN.predict(x_test)\n",
        "#print(\"Shape: {}\".format(pred2.shape))\n",
        "#print(pred2[0:5])"
      ],
      "metadata": {
        "id": "Nhr4tGS_OxpQ"
      },
      "id": "Nhr4tGS_OxpQ",
      "execution_count": null,
      "outputs": []
    },
    {
      "cell_type": "code",
      "source": [
        "score = np.sqrt(metrics.mean_squared_error(pred8,y_test))\n",
        "print('Final score (RMSE): {}'.format(score))\n",
        "\n",
        "predict_classes = np.argmax(pred8,axis=1)\n",
        "\n",
        "true_classes = np.argmax(y_test,axis=1)\n",
        "\n",
        "print(\"Predictions: {}\".format(predict_classes))\n",
        "print(\"True: {}\".format(true_classes))\n",
        "\n",
        "correct = metrics.accuracy_score(true_classes, predict_classes)\n",
        "print(\"Accuracy: {}\".format(correct))\n",
        "precision = metrics.precision_score(true_classes, predict_classes, average= \"weighted\")\n",
        "print(\"Precision score: {}\".format(precision))\n",
        "recall = metrics.recall_score(true_classes, predict_classes, average= \"weighted\")\n",
        "print(\"Recall score: {}\".format(recall))\n",
        "f1 = metrics.f1_score(true_classes, predict_classes, average= \"weighted\")\n",
        "print(\"F1 score: {}\".format(f1))\n",
        "\"\"\"\n",
        "# Generate predictions\n",
        "pred = model.predict(x_test)\n",
        "\n",
        "print(\"Numpy array of predictions\")\n",
        "print(pred[0:5])\n",
        "print()\n",
        "print(\"y_test:\")\n",
        "print(y_test[0:5])\n",
        "\n",
        "score = metrics.log_loss(y_test, pred)\n",
        "print(\"Log loss score: {}\".format(score))\n",
        "\"\"\""
      ],
      "metadata": {
        "colab": {
          "base_uri": "https://localhost:8080/",
          "height": 192
        },
        "id": "8uaD00fTOxix",
        "outputId": "acbf54ef-7e6f-4660-deee-dcc872eca774"
      },
      "id": "8uaD00fTOxix",
      "execution_count": null,
      "outputs": [
        {
          "output_type": "stream",
          "name": "stdout",
          "text": [
            "Final score (RMSE): 0.04507247358560562\n",
            "Predictions: [0 1 0 ... 1 0 0]\n",
            "True: [0 1 0 ... 1 0 0]\n",
            "Accuracy: 0.997499793939061\n",
            "Precision score: 0.9975008514340395\n",
            "Recall score: 0.997499793939061\n",
            "F1 score: 0.9974992457138985\n"
          ]
        },
        {
          "output_type": "execute_result",
          "data": {
            "text/plain": [
              "'\\n# Generate predictions\\npred = model.predict(x_test)\\n\\nprint(\"Numpy array of predictions\")\\nprint(pred[0:5])\\nprint()\\nprint(\"y_test:\")\\nprint(y_test[0:5])\\n\\nscore = metrics.log_loss(y_test, pred)\\nprint(\"Log loss score: {}\".format(score))\\n'"
            ],
            "application/vnd.google.colaboratory.intrinsic+json": {
              "type": "string"
            }
          },
          "metadata": {},
          "execution_count": 103
        }
      ]
    },
    {
      "cell_type": "markdown",
      "source": [
        "##**Convolutional Neural Networks**##\n",
        "Convolutional neural networks are special types of networks where spatially-closer data are more strongly correlated. This type of network tends to involve computer vision."
      ],
      "metadata": {
        "id": "8loeqonP9syV"
      },
      "id": "8loeqonP9syV"
    },
    {
      "cell_type": "markdown",
      "source": [
        "###**Varying Hyperparameters**###\n",
        "We play with hyperparameters to see how they affect our results and as a way to find the best model possible."
      ],
      "metadata": {
        "id": "rq2J9ygdRieM"
      },
      "id": "rq2J9ygdRieM"
    },
    {
      "cell_type": "markdown",
      "source": [
        "###**Early Stopping**###\n",
        "When it comes to training a neural network, we use early stopping to prevent overfitting. Overfitting is when a neural network begins to memorize rather than generalize."
      ],
      "metadata": {
        "id": "n_9s45pgRmXW"
      },
      "id": "n_9s45pgRmXW"
    },
    {
      "cell_type": "code",
      "source": [
        "# Load modules\n",
        "import tensorflow as tf\n",
        "from tensorflow.keras.datasets import mnist\n",
        "from tensorflow.keras.models import Sequential\n",
        "from tensorflow.keras.layers import Dense, Dropout, Flatten\n",
        "from tensorflow.keras.layers import Conv2D, MaxPooling2D, Conv1D\n",
        "from tensorflow.keras.layers import BatchNormalization\n",
        "from numpy import loadtxt"
      ],
      "metadata": {
        "id": "QiLFBTMZ2fAB"
      },
      "id": "QiLFBTMZ2fAB",
      "execution_count": null,
      "outputs": []
    },
    {
      "cell_type": "code",
      "source": [
        "dfc2 = dfc\n",
        "print('Done!')"
      ],
      "metadata": {
        "colab": {
          "base_uri": "https://localhost:8080/"
        },
        "id": "xVWA_Ek2iQVJ",
        "outputId": "abf452c7-bb4d-42f0-9456-b85d7eb15298"
      },
      "id": "xVWA_Ek2iQVJ",
      "execution_count": null,
      "outputs": [
        {
          "output_type": "stream",
          "name": "stdout",
          "text": [
            "Done!\n"
          ]
        }
      ]
    },
    {
      "cell_type": "code",
      "source": [
        "#x = x.reshape((145585, 40, 1, 1))#????????????????????????????????????"
      ],
      "metadata": {
        "id": "EoWSvaZIlEmw"
      },
      "id": "EoWSvaZIlEmw",
      "execution_count": null,
      "outputs": []
    },
    {
      "cell_type": "code",
      "source": [
        "x_train = x_train.reshape((109188, 40, 1, 1))\n",
        "x_test = x_test.reshape((36397, 40, 1, 1))"
      ],
      "metadata": {
        "id": "rk1sy9aIHS3v"
      },
      "id": "rk1sy9aIHS3v",
      "execution_count": null,
      "outputs": []
    },
    {
      "cell_type": "code",
      "source": [
        "y_train = tf.keras.utils.to_categorical(y_train, 2)\n",
        "y_test = tf.keras.utils.to_categorical(y_test, 2)"
      ],
      "metadata": {
        "id": "b4v9QN6qHSya"
      },
      "id": "b4v9QN6qHSya",
      "execution_count": null,
      "outputs": []
    },
    {
      "cell_type": "code",
      "source": [
        "#y_one_hot = tf.keras.utils.to_categorical(y, 2)#?????????????????????"
      ],
      "metadata": {
        "id": "Y4ZYRmenm13i"
      },
      "id": "Y4ZYRmenm13i",
      "execution_count": null,
      "outputs": []
    },
    {
      "cell_type": "code",
      "source": [
        "'''\n",
        "tmp = np.array(x)\n",
        "tmp = tmp.reshape(-1, 2, 4)\n",
        "x = pd.DataFrame(sum(map(list, tmp), []))\n",
        "tmp = []\n",
        "for i, g in x.groupby(np.arange(len(x)) // 2):\n",
        "  tmp.append(g)\n",
        "tmp = np.array([i.to_numpy() for i in tmp])\n",
        "x = tmp.reshape(768, 2, 4, 1)\n",
        "'''"
      ],
      "metadata": {
        "id": "zyJHtpO0jEAf"
      },
      "id": "zyJHtpO0jEAf",
      "execution_count": null,
      "outputs": []
    },
    {
      "cell_type": "code",
      "source": [
        "# define a CNN\n",
        "\n",
        "cnn = Sequential()\n",
        "cnn.add(Conv1D(64, kernel_size=1, strides=1,\n",
        "                 activation='relu',\n",
        "                 input_shape=(40, 1, 1)))\n",
        "\n",
        "# the above code is equivalent to \n",
        "# model.add(Conv1D(64, kernel_size=3, strides=1, activation='relu', input_shape=(128, 1)))\n",
        "\n",
        "cnn.add(MaxPooling2D(pool_size=(1,1)))\n",
        "\n",
        "cnn.add(Conv1D(64, kernel_size=1, #strides=(1, 1),\n",
        "                 activation='relu'))\n",
        "cnn.add(MaxPooling2D(pool_size=(1,1)))\n",
        "    \n",
        "    \n",
        "cnn.add(Flatten())\n",
        "cnn.add(Dense(1024, activation=\"relu\"))\n",
        "cnn.add(Dropout(0.5))\n",
        "cnn.add(Dense(2, activation=\"softmax\"))\n",
        "\n",
        "# define optimizer and objective, compile cnn\n",
        "\n",
        "cnn.compile(loss=\"categorical_crossentropy\", optimizer=\"adam\")\n",
        "\n",
        "monitor = EarlyStopping(monitor='val_loss', min_delta=0.001, patience = 2, verbose = 2, mode = 'auto')\n",
        "\n",
        "#cnn.fit(x, y, batch_size = 32, epochs = 100, validation_split = 0.1)\n",
        "cnn.fit(x, y, epochs = 10, validation_split = 0.1)\n",
        "#cnn.fit(x_train, y_train, verbose=2, epochs=10)  \n",
        "#cnn.fit(x_train,y_train, callbacks=[monitor], verbose=2, epochs=10)    # Verbosity mode. 0 = silent, 1 = progress bar, 2 = one line per epoch.\n",
        "#cnn.fit(x, y, epochs = 10)"
      ],
      "metadata": {
        "id": "Vlfe4wGfnZpl",
        "colab": {
          "base_uri": "https://localhost:8080/"
        },
        "outputId": "011cc976-ab72-4787-8bfc-67b3834aea2f"
      },
      "id": "Vlfe4wGfnZpl",
      "execution_count": null,
      "outputs": [
        {
          "output_type": "stream",
          "name": "stdout",
          "text": [
            "Epoch 1/10\n",
            "4095/4095 [==============================] - 15s 3ms/step - loss: 0.0250 - val_loss: 0.0037\n",
            "Epoch 2/10\n",
            "4095/4095 [==============================] - 14s 3ms/step - loss: 0.0124 - val_loss: 0.0091\n",
            "Epoch 3/10\n",
            "4095/4095 [==============================] - 14s 3ms/step - loss: 0.0107 - val_loss: 0.0070\n",
            "Epoch 4/10\n",
            "4095/4095 [==============================] - 14s 3ms/step - loss: 0.0097 - val_loss: 0.0045\n",
            "Epoch 5/10\n",
            "4095/4095 [==============================] - 14s 3ms/step - loss: 0.0088 - val_loss: 0.0038\n",
            "Epoch 6/10\n",
            "4095/4095 [==============================] - 14s 4ms/step - loss: 0.0079 - val_loss: 0.0052\n",
            "Epoch 7/10\n",
            "4095/4095 [==============================] - 14s 3ms/step - loss: 0.0074 - val_loss: 0.0067\n",
            "Epoch 8/10\n",
            "4095/4095 [==============================] - 14s 3ms/step - loss: 0.0074 - val_loss: 0.0185\n",
            "Epoch 9/10\n",
            "4095/4095 [==============================] - 14s 3ms/step - loss: 0.0063 - val_loss: 0.0064\n",
            "Epoch 10/10\n",
            "4095/4095 [==============================] - 14s 3ms/step - loss: 0.0062 - val_loss: 0.0123\n"
          ]
        },
        {
          "output_type": "execute_result",
          "data": {
            "text/plain": [
              "<keras.callbacks.History at 0x7fd6a26b7bd0>"
            ]
          },
          "metadata": {},
          "execution_count": 79
        }
      ]
    },
    {
      "cell_type": "code",
      "source": [
        "cnn.summary()"
      ],
      "metadata": {
        "colab": {
          "base_uri": "https://localhost:8080/"
        },
        "id": "jVMsRCdEcE-p",
        "outputId": "4ec2e918-7dc2-4cab-83d8-bc767e32fd30"
      },
      "id": "jVMsRCdEcE-p",
      "execution_count": null,
      "outputs": [
        {
          "output_type": "stream",
          "name": "stdout",
          "text": [
            "Model: \"sequential_19\"\n",
            "_________________________________________________________________\n",
            " Layer (type)                Output Shape              Param #   \n",
            "=================================================================\n",
            " conv1d_34 (Conv1D)          (None, 40, 1, 64)         128       \n",
            "                                                                 \n",
            " max_pooling2d_34 (MaxPoolin  (None, 40, 1, 64)        0         \n",
            " g2D)                                                            \n",
            "                                                                 \n",
            " conv1d_35 (Conv1D)          (None, 40, 1, 64)         4160      \n",
            "                                                                 \n",
            " max_pooling2d_35 (MaxPoolin  (None, 40, 1, 64)        0         \n",
            " g2D)                                                            \n",
            "                                                                 \n",
            " flatten_17 (Flatten)        (None, 2560)              0         \n",
            "                                                                 \n",
            " dense_46 (Dense)            (None, 1024)              2622464   \n",
            "                                                                 \n",
            " dropout_17 (Dropout)        (None, 1024)              0         \n",
            "                                                                 \n",
            " dense_47 (Dense)            (None, 2)                 2050      \n",
            "                                                                 \n",
            "=================================================================\n",
            "Total params: 2,628,802\n",
            "Trainable params: 2,628,802\n",
            "Non-trainable params: 0\n",
            "_________________________________________________________________\n"
          ]
        }
      ]
    },
    {
      "cell_type": "code",
      "source": [
        "cnn.save(os.path.join('U:\\Downloads\\Jupyter', 'trial9.hdf5'))"
      ],
      "metadata": {
        "id": "XQ8zEUsAAmEB"
      },
      "id": "XQ8zEUsAAmEB",
      "execution_count": null,
      "outputs": []
    },
    {
      "cell_type": "code",
      "source": [
        "pred9 = cnn.predict(x)\n",
        "#print(\"Shape: {}\".format(pred2.shape))\n",
        "#print(pred2[0:5])"
      ],
      "metadata": {
        "id": "KyN0ys8gAmBr"
      },
      "id": "KyN0ys8gAmBr",
      "execution_count": null,
      "outputs": []
    },
    {
      "cell_type": "code",
      "source": [
        "score = np.sqrt(metrics.mean_squared_error(pred9,y))\n",
        "print('Final score (RMSE): {}'.format(score))\n",
        "\n",
        "predict_classes = np.argmax(pred9,axis=1)\n",
        "\n",
        "true_classes = np.argmax(y,axis=1)\n",
        "\n",
        "print(\"Predictions: {}\".format(predict_classes))\n",
        "print(\"True: {}\".format(true_classes))\n",
        "\n",
        "correct = metrics.accuracy_score(true_classes, predict_classes)\n",
        "print(\"Accuracy: {}\".format(correct))\n",
        "precision = metrics.precision_score(true_classes, predict_classes, average= \"weighted\")\n",
        "print(\"Precision score: {}\".format(precision))\n",
        "recall = metrics.recall_score(true_classes, predict_classes, average= \"weighted\")\n",
        "print(\"Recall score: {}\".format(recall))\n",
        "f1 = metrics.f1_score(true_classes, predict_classes, average= \"weighted\")\n",
        "print(\"F1 score: {}\".format(f1))\n",
        "\"\"\"\n",
        "# Generate predictions\n",
        "pred = model.predict(x_test)\n",
        "\n",
        "print(\"Numpy array of predictions\")\n",
        "print(pred[0:5])\n",
        "print()\n",
        "print(\"y_test:\")\n",
        "print(y_test[0:5])\n",
        "\n",
        "score = metrics.log_loss(y_test, pred)\n",
        "print(\"Log loss score: {}\".format(score))\n",
        "\"\"\""
      ],
      "metadata": {
        "colab": {
          "base_uri": "https://localhost:8080/",
          "height": 174
        },
        "id": "pCPzexBFAl_d",
        "outputId": "0c7a353c-cee6-40eb-f900-3d71cc5d8f87"
      },
      "id": "pCPzexBFAl_d",
      "execution_count": null,
      "outputs": [
        {
          "output_type": "stream",
          "name": "stdout",
          "text": [
            "Final score (RMSE): 0.03751203045248985\n",
            "Predictions: [0 0 0 ... 0 0 0]\n",
            "True: [0 0 0 ... 0 0 0]\n",
            "Accuracy: 0.9981522821719271\n",
            "Precision score: 0.9981536474264716\n",
            "Recall score: 0.9981522821719271\n",
            "F1 score: 0.9981518718685713\n"
          ]
        },
        {
          "output_type": "execute_result",
          "data": {
            "text/plain": [
              "'\\n# Generate predictions\\npred = model.predict(x_test)\\n\\nprint(\"Numpy array of predictions\")\\nprint(pred[0:5])\\nprint()\\nprint(\"y_test:\")\\nprint(y_test[0:5])\\n\\nscore = metrics.log_loss(y_test, pred)\\nprint(\"Log loss score: {}\".format(score))\\n'"
            ],
            "application/vnd.google.colaboratory.intrinsic+json": {
              "type": "string"
            }
          },
          "metadata": {},
          "execution_count": 82
        }
      ]
    },
    {
      "cell_type": "code",
      "source": [
        "%matplotlib inline\n",
        "import matplotlib.pyplot as plt\n",
        "from sklearn.metrics import roc_curve, auc\n",
        "\n",
        "# Plot a confusion matrix.\n",
        "# cm is the confusion matrix, names are the names of the classes.\n",
        "def plot_confusion_matrix(cm, names, title='Confusion matrix', cmap=plt.cm.Blues):\n",
        "    plt.imshow(cm, interpolation='nearest', cmap=cmap)\n",
        "    plt.title(title)\n",
        "    plt.colorbar()\n",
        "    tick_marks = np.arange(len(names))\n",
        "    plt.xticks(tick_marks, names, rotation=45)\n",
        "    plt.yticks(tick_marks, names)\n",
        "    plt.tight_layout()\n",
        "    plt.ylabel('True label')\n",
        "    plt.xlabel('Predicted label')\n",
        "    \n",
        "\n",
        "# Plot an ROC. pred - the predictions, y - the expected output.\n",
        "def plot_roc(pred,y):\n",
        "    fpr, tpr, thresholds = roc_curve(y, pred)\n",
        "    roc_auc = auc(fpr, tpr)\n",
        "\n",
        "    plt.figure()\n",
        "    plt.plot(fpr, tpr, label='ROC curve (area = %0.2f)' % roc_auc)\n",
        "    plt.plot([0, 1], [0, 1], 'k--')\n",
        "    plt.xlim([0.0, 1.0])\n",
        "    plt.ylim([0.0, 1.05])\n",
        "    plt.xlabel('False Positive Rate')\n",
        "    plt.ylabel('True Positive Rate')\n",
        "    plt.title('Receiver Operating Characteristic (ROC)')\n",
        "    plt.legend(loc=\"lower right\")\n",
        "    plt.show()"
      ],
      "metadata": {
        "id": "0QBrfmNuAl9R"
      },
      "id": "0QBrfmNuAl9R",
      "execution_count": null,
      "outputs": []
    },
    {
      "cell_type": "code",
      "source": [
        "diagnosis = encode_text_index(dfc,'outcome')"
      ],
      "metadata": {
        "id": "CqsZWhQ1Al7K"
      },
      "id": "CqsZWhQ1Al7K",
      "execution_count": null,
      "outputs": []
    },
    {
      "cell_type": "code",
      "source": [
        "import numpy as np\n",
        "\n",
        "from sklearn import svm, datasets\n",
        "from sklearn.model_selection import train_test_split\n",
        "from sklearn.metrics import confusion_matrix, classification_report\n",
        "\n",
        "# Compute confusion matrix\n",
        "cm = confusion_matrix(true_classes, predict_classes)\n",
        "print(cm)\n",
        "\n",
        "\n",
        "print('Plotting confusion matrix')\n",
        "\n",
        "plt.figure()\n",
        "plot_confusion_matrix(cm, diagnosis)\n",
        "plt.show()\n",
        "\n",
        "print(classification_report(true_classes, predict_classes))"
      ],
      "metadata": {
        "colab": {
          "base_uri": "https://localhost:8080/",
          "height": 519
        },
        "id": "3njkiffzAl4s",
        "outputId": "2c36e0de-2ede-432b-81dd-11912638ab8e"
      },
      "id": "3njkiffzAl4s",
      "execution_count": null,
      "outputs": [
        {
          "output_type": "stream",
          "name": "stdout",
          "text": [
            "[[87771    60]\n",
            " [  209 57545]]\n",
            "Plotting confusion matrix\n"
          ]
        },
        {
          "output_type": "display_data",
          "data": {
            "text/plain": [
              "<Figure size 432x288 with 2 Axes>"
            ],
            "image/png": "[encoded data removed]"
          },
          "metadata": {
            "needs_background": "light"
          }
        },
        {
          "output_type": "stream",
          "name": "stdout",
          "text": [
            "              precision    recall  f1-score   support\n",
            "\n",
            "           0       1.00      1.00      1.00     87831\n",
            "           1       1.00      1.00      1.00     57754\n",
            "\n",
            "    accuracy                           1.00    145585\n",
            "   macro avg       1.00      1.00      1.00    145585\n",
            "weighted avg       1.00      1.00      1.00    145585\n",
            "\n"
          ]
        }
      ]
    },
    {
      "cell_type": "code",
      "source": [
        "# define a CNN\n",
        "\n",
        "cnnSig = Sequential()\n",
        "cnnSig.add(Conv1D(64, kernel_size=1, strides=1,\n",
        "                 activation='sigmoid',\n",
        "                 input_shape=(40, 1, 1)))\n",
        "\n",
        "# the above code is equivalent to \n",
        "# model.add(Conv1D(64, kernel_size=3, strides=1, activation='relu', input_shape=(128, 1)))\n",
        "\n",
        "cnnSig.add(MaxPooling2D(pool_size=(1,1)))\n",
        "\n",
        "cnnSig.add(Conv1D(64, kernel_size=1, #strides=(1, 1),\n",
        "                 activation='sigmoid'))\n",
        "cnnSig.add(MaxPooling2D(pool_size=(1,1)))\n",
        "    \n",
        "    \n",
        "cnnSig.add(Flatten())\n",
        "cnnSig.add(Dense(1024, activation=\"sigmoid\"))\n",
        "cnnSig.add(Dropout(0.5))\n",
        "cnnSig.add(Dense(2, activation=\"softmax\"))\n",
        "\n",
        "# define optimizer and objective, compile cnn\n",
        "\n",
        "cnnSig.compile(loss=\"categorical_crossentropy\", optimizer=\"adam\")\n",
        "\n",
        "monitor = EarlyStopping(monitor='val_loss', min_delta=0.001, patience = 2, verbose = 2, mode = 'auto')\n",
        "\n",
        "#cnn.fit(x, y, batch_size = 32, epochs = 100, validation_split = 0.1)\n",
        "cnnSig.fit(x, y, epochs = 10, validation_split = 0.1)\n",
        "#cnn.fit(x_train, y_train, verbose=2, epochs=10)  \n",
        "#cnn.fit(x_train,y_train, callbacks=[monitor], verbose=2, epochs=10)    # Verbosity mode. 0 = silent, 1 = progress bar, 2 = one line per epoch.\n",
        "#cnn.fit(x, y, epochs = 10)\n"
      ],
      "metadata": {
        "colab": {
          "base_uri": "https://localhost:8080/"
        },
        "id": "0NgLkT46BqUp",
        "outputId": "b7942480-a7ec-465e-8732-77894a6d3c7b"
      },
      "id": "0NgLkT46BqUp",
      "execution_count": null,
      "outputs": [
        {
          "output_type": "stream",
          "name": "stdout",
          "text": [
            "Epoch 1/10\n",
            "4095/4095 [==============================] - 15s 4ms/step - loss: 0.0764 - val_loss: 0.0084\n",
            "Epoch 2/10\n",
            "4095/4095 [==============================] - 16s 4ms/step - loss: 0.0199 - val_loss: 0.0071\n",
            "Epoch 3/10\n",
            "4095/4095 [==============================] - 17s 4ms/step - loss: 0.0161 - val_loss: 0.0108\n",
            "Epoch 4/10\n",
            "4095/4095 [==============================] - 15s 4ms/step - loss: 0.0146 - val_loss: 0.0094\n",
            "Epoch 5/10\n",
            "4095/4095 [==============================] - 15s 4ms/step - loss: 0.0136 - val_loss: 0.0083\n",
            "Epoch 6/10\n",
            "4095/4095 [==============================] - 17s 4ms/step - loss: 0.0131 - val_loss: 0.0059\n",
            "Epoch 7/10\n",
            "4095/4095 [==============================] - 15s 4ms/step - loss: 0.0119 - val_loss: 0.0076\n",
            "Epoch 8/10\n",
            "4095/4095 [==============================] - 15s 4ms/step - loss: 0.0123 - val_loss: 0.0080\n",
            "Epoch 9/10\n",
            "4095/4095 [==============================] - 14s 3ms/step - loss: 0.0117 - val_loss: 0.0062\n",
            "Epoch 10/10\n",
            "4095/4095 [==============================] - 15s 4ms/step - loss: 0.0115 - val_loss: 0.0065\n"
          ]
        },
        {
          "output_type": "execute_result",
          "data": {
            "text/plain": [
              "<keras.callbacks.History at 0x7fd5eb117a10>"
            ]
          },
          "metadata": {},
          "execution_count": 86
        }
      ]
    },
    {
      "cell_type": "code",
      "source": [
        "cnnSig.save(os.path.join('U:\\Downloads\\Jupyter', 'trial10.hdf5'))"
      ],
      "metadata": {
        "id": "W7l_YtN8BqSa"
      },
      "id": "W7l_YtN8BqSa",
      "execution_count": null,
      "outputs": []
    },
    {
      "cell_type": "code",
      "source": [
        "pred10 = cnnSig.predict(x)\n",
        "#print(\"Shape: {}\".format(pred2.shape))\n",
        "#print(pred2[0:5])"
      ],
      "metadata": {
        "id": "xTDDyoEFBqQJ"
      },
      "id": "xTDDyoEFBqQJ",
      "execution_count": null,
      "outputs": []
    },
    {
      "cell_type": "code",
      "source": [
        "score = np.sqrt(metrics.mean_squared_error(pred10,y))\n",
        "print('Final score (RMSE): {}'.format(score))\n",
        "\n",
        "predict_classes = np.argmax(pred10,axis=1)\n",
        "\n",
        "true_classes = np.argmax(y,axis=1)\n",
        "\n",
        "print(\"Predictions: {}\".format(predict_classes))\n",
        "print(\"True: {}\".format(true_classes))\n",
        "\n",
        "correct = metrics.accuracy_score(true_classes, predict_classes)\n",
        "print(\"Accuracy: {}\".format(correct))\n",
        "precision = metrics.precision_score(true_classes, predict_classes, average= \"weighted\")\n",
        "print(\"Precision score: {}\".format(precision))\n",
        "recall = metrics.recall_score(true_classes, predict_classes, average= \"weighted\")\n",
        "print(\"Recall score: {}\".format(recall))\n",
        "f1 = metrics.f1_score(true_classes, predict_classes, average= \"weighted\")\n",
        "print(\"F1 score: {}\".format(f1))\n",
        "\"\"\"\n",
        "# Generate predictions\n",
        "pred = model.predict(x_test)\n",
        "\n",
        "print(\"Numpy array of predictions\")\n",
        "print(pred[0:5])\n",
        "print()\n",
        "print(\"y_test:\")\n",
        "print(y_test[0:5])\n",
        "\n",
        "score = metrics.log_loss(y_test, pred)\n",
        "print(\"Log loss score: {}\".format(score))\n",
        "\"\"\""
      ],
      "metadata": {
        "colab": {
          "base_uri": "https://localhost:8080/",
          "height": 174
        },
        "id": "tdvRVCXhBqNp",
        "outputId": "b9418b5e-ac8e-4272-bb5e-894f27acc2d9"
      },
      "id": "tdvRVCXhBqNp",
      "execution_count": null,
      "outputs": [
        {
          "output_type": "stream",
          "name": "stdout",
          "text": [
            "Final score (RMSE): 0.048625554889440536\n",
            "Predictions: [0 0 0 ... 0 0 0]\n",
            "True: [0 0 0 ... 0 0 0]\n",
            "Accuracy: 0.9972318576776453\n",
            "Precision score: 0.9972346808714332\n",
            "Recall score: 0.9972318576776453\n",
            "F1 score: 0.9972324007893386\n"
          ]
        },
        {
          "output_type": "execute_result",
          "data": {
            "text/plain": [
              "'\\n# Generate predictions\\npred = model.predict(x_test)\\n\\nprint(\"Numpy array of predictions\")\\nprint(pred[0:5])\\nprint()\\nprint(\"y_test:\")\\nprint(y_test[0:5])\\n\\nscore = metrics.log_loss(y_test, pred)\\nprint(\"Log loss score: {}\".format(score))\\n'"
            ],
            "application/vnd.google.colaboratory.intrinsic+json": {
              "type": "string"
            }
          },
          "metadata": {},
          "execution_count": 89
        }
      ]
    },
    {
      "cell_type": "code",
      "source": [
        "# define a CNN\n",
        "\n",
        "cnnTan = Sequential()\n",
        "cnnTan.add(Conv1D(64, kernel_size=1, strides=1,\n",
        "                 activation='tanh',\n",
        "                 input_shape=(40, 1, 1)))\n",
        "\n",
        "# the above code is equivalent to \n",
        "# model.add(Conv1D(64, kernel_size=3, strides=1, activation='relu', input_shape=(128, 1)))\n",
        "\n",
        "cnnTan.add(MaxPooling2D(pool_size=(1,1)))\n",
        "\n",
        "cnnTan.add(Conv1D(64, kernel_size=1, #strides=(1, 1),\n",
        "                 activation='tanh'))\n",
        "cnnTan.add(MaxPooling2D(pool_size=(1,1)))\n",
        "    \n",
        "    \n",
        "cnnTan.add(Flatten())\n",
        "cnnTan.add(Dense(1024, activation=\"tanh\"))\n",
        "cnnTan.add(Dropout(0.5))\n",
        "cnnTan.add(Dense(2, activation=\"softmax\"))\n",
        "\n",
        "# define optimizer and objective, compile cnn\n",
        "\n",
        "cnnTan.compile(loss=\"categorical_crossentropy\", optimizer=\"adam\")\n",
        "\n",
        "monitor = EarlyStopping(monitor='val_loss', min_delta=0.001, patience = 2, verbose = 2, mode = 'auto')\n",
        "\n",
        "#cnn.fit(x, y, batch_size = 32, epochs = 100, validation_split = 0.1)\n",
        "cnnTan.fit(x, y, epochs = 10, validation_split = 0.1)\n",
        "#cnn.fit(x_train, y_train, verbose=2, epochs=10)  \n",
        "#cnn.fit(x_train,y_train, callbacks=[monitor], verbose=2, epochs=10)    # Verbosity mode. 0 = silent, 1 = progress bar, 2 = one line per epoch.\n",
        "#cnn.fit(x, y, epochs = 10)"
      ],
      "metadata": {
        "colab": {
          "base_uri": "https://localhost:8080/"
        },
        "id": "NYN46nxeAl2a",
        "outputId": "74ff9724-579d-4dd2-da79-691976d5e769"
      },
      "id": "NYN46nxeAl2a",
      "execution_count": null,
      "outputs": [
        {
          "output_type": "stream",
          "name": "stdout",
          "text": [
            "Epoch 1/10\n",
            "4095/4095 [==============================] - 15s 4ms/step - loss: 0.0338 - val_loss: 0.0151\n",
            "Epoch 2/10\n",
            "4095/4095 [==============================] - 15s 4ms/step - loss: 0.0275 - val_loss: 0.0155\n",
            "Epoch 3/10\n",
            "4095/4095 [==============================] - 16s 4ms/step - loss: 0.0275 - val_loss: 0.0076\n",
            "Epoch 4/10\n",
            "4095/4095 [==============================] - 15s 4ms/step - loss: 0.0263 - val_loss: 0.0087\n",
            "Epoch 5/10\n",
            "4095/4095 [==============================] - 15s 4ms/step - loss: 0.0269 - val_loss: 0.0121\n",
            "Epoch 6/10\n",
            "4095/4095 [==============================] - 15s 4ms/step - loss: 0.0265 - val_loss: 0.0107\n",
            "Epoch 7/10\n",
            "4095/4095 [==============================] - 14s 3ms/step - loss: 0.0256 - val_loss: 0.0085\n",
            "Epoch 8/10\n",
            "4095/4095 [==============================] - 14s 3ms/step - loss: 0.0274 - val_loss: 0.0090\n",
            "Epoch 9/10\n",
            "4095/4095 [==============================] - 14s 3ms/step - loss: 0.0258 - val_loss: 0.0099\n",
            "Epoch 10/10\n",
            "4095/4095 [==============================] - 14s 3ms/step - loss: 0.0252 - val_loss: 0.0078\n"
          ]
        },
        {
          "output_type": "execute_result",
          "data": {
            "text/plain": [
              "<keras.callbacks.History at 0x7fd5ec76a5d0>"
            ]
          },
          "metadata": {},
          "execution_count": 90
        }
      ]
    },
    {
      "cell_type": "code",
      "source": [
        "cnnTan.save(os.path.join('U:\\Downloads\\Jupyter', 'trial11.hdf5'))"
      ],
      "metadata": {
        "id": "sqFtTZqrLzU0"
      },
      "id": "sqFtTZqrLzU0",
      "execution_count": null,
      "outputs": []
    },
    {
      "cell_type": "code",
      "source": [
        "pred11 = cnnTan.predict(x)\n",
        "#print(\"Shape: {}\".format(pred2.shape))\n",
        "#print(pred2[0:5])"
      ],
      "metadata": {
        "id": "ufq04_NOLzSn"
      },
      "id": "ufq04_NOLzSn",
      "execution_count": null,
      "outputs": []
    },
    {
      "cell_type": "code",
      "source": [
        "score = np.sqrt(metrics.mean_squared_error(pred11,y))\n",
        "print('Final score (RMSE): {}'.format(score))\n",
        "\n",
        "predict_classes = np.argmax(pred11,axis=1)\n",
        "\n",
        "true_classes = np.argmax(y,axis=1)\n",
        "\n",
        "print(\"Predictions: {}\".format(predict_classes))\n",
        "print(\"True: {}\".format(true_classes))\n",
        "\n",
        "correct = metrics.accuracy_score(true_classes, predict_classes)\n",
        "print(\"Accuracy: {}\".format(correct))\n",
        "precision = metrics.precision_score(true_classes, predict_classes, average= \"weighted\")\n",
        "print(\"Precision score: {}\".format(precision))\n",
        "recall = metrics.recall_score(true_classes, predict_classes, average= \"weighted\")\n",
        "print(\"Recall score: {}\".format(recall))\n",
        "f1 = metrics.f1_score(true_classes, predict_classes, average= \"weighted\")\n",
        "print(\"F1 score: {}\".format(f1))\n",
        "\"\"\"\n",
        "# Generate predictions\n",
        "pred = model.predict(x_test)\n",
        "\n",
        "print(\"Numpy array of predictions\")\n",
        "print(pred[0:5])\n",
        "print()\n",
        "print(\"y_test:\")\n",
        "print(y_test[0:5])\n",
        "\n",
        "score = metrics.log_loss(y_test, pred)\n",
        "print(\"Log loss score: {}\".format(score))\n",
        "\"\"\""
      ],
      "metadata": {
        "colab": {
          "base_uri": "https://localhost:8080/",
          "height": 174
        },
        "id": "xWftmzGULzQW",
        "outputId": "470cb6ba-409f-4237-b36a-38ea03d1e384"
      },
      "id": "xWftmzGULzQW",
      "execution_count": null,
      "outputs": [
        {
          "output_type": "stream",
          "name": "stdout",
          "text": [
            "Final score (RMSE): 0.059291720390319824\n",
            "Predictions: [0 0 0 ... 0 0 0]\n",
            "True: [0 0 0 ... 0 0 0]\n",
            "Accuracy: 0.9951780746642854\n",
            "Precision score: 0.9951850441692354\n",
            "Recall score: 0.9951780746642854\n",
            "F1 score: 0.9951755412205202\n"
          ]
        },
        {
          "output_type": "execute_result",
          "data": {
            "text/plain": [
              "'\\n# Generate predictions\\npred = model.predict(x_test)\\n\\nprint(\"Numpy array of predictions\")\\nprint(pred[0:5])\\nprint()\\nprint(\"y_test:\")\\nprint(y_test[0:5])\\n\\nscore = metrics.log_loss(y_test, pred)\\nprint(\"Log loss score: {}\".format(score))\\n'"
            ],
            "application/vnd.google.colaboratory.intrinsic+json": {
              "type": "string"
            }
          },
          "metadata": {},
          "execution_count": 93
        }
      ]
    },
    {
      "cell_type": "code",
      "source": [
        "# define a CNN\n",
        "\n",
        "cnnS = Sequential()\n",
        "cnnS.add(Conv1D(64, kernel_size=1, strides=1,\n",
        "                 activation='relu',\n",
        "                 input_shape=(40, 1, 1)))\n",
        "\n",
        "# the above code is equivalent to \n",
        "# model.add(Conv1D(64, kernel_size=3, strides=1, activation='relu', input_shape=(128, 1)))\n",
        "\n",
        "cnnS.add(MaxPooling2D(pool_size=(1,1)))\n",
        "\n",
        "cnnS.add(Conv1D(64, kernel_size=1, #strides=(1, 1),\n",
        "                 activation='relu'))\n",
        "cnnS.add(MaxPooling2D(pool_size=(1,1)))\n",
        "    \n",
        "    \n",
        "cnnS.add(Flatten())\n",
        "cnnS.add(Dense(1024, activation=\"relu\"))\n",
        "cnnS.add(Dropout(0.5))\n",
        "cnnS.add(Dense(2, activation=\"softmax\"))\n",
        "\n",
        "# define optimizer and objective, compile cnn\n",
        "\n",
        "cnnS.compile(loss=\"categorical_crossentropy\", optimizer=\"sgd\")\n",
        "\n",
        "monitor = EarlyStopping(monitor='val_loss', min_delta=0.001, patience = 2, verbose = 2, mode = 'auto')\n",
        "\n",
        "#cnn.fit(x, y, batch_size = 32, epochs = 100, validation_split = 0.1)\n",
        "cnnS.fit(x, y, epochs = 10, validation_split = 0.1)\n",
        "#cnn.fit(x_train, y_train, verbose=2, epochs=10)  \n",
        "#cnn.fit(x_train,y_train, callbacks=[monitor], verbose=2, epochs=10)    # Verbosity mode. 0 = silent, 1 = progress bar, 2 = one line per epoch.\n",
        "#cnn.fit(x, y, epochs = 10)"
      ],
      "metadata": {
        "colab": {
          "base_uri": "https://localhost:8080/"
        },
        "id": "-MdcOzsBLzOM",
        "outputId": "7a18c2a5-e66e-4c55-edf6-e2cf416e2aa1"
      },
      "id": "-MdcOzsBLzOM",
      "execution_count": null,
      "outputs": [
        {
          "output_type": "stream",
          "name": "stdout",
          "text": [
            "Epoch 1/10\n",
            "4095/4095 [==============================] - 14s 3ms/step - loss: 0.0778 - val_loss: 0.0298\n",
            "Epoch 2/10\n",
            "4095/4095 [==============================] - 15s 4ms/step - loss: 0.0385 - val_loss: 0.0325\n",
            "Epoch 3/10\n",
            "4095/4095 [==============================] - 14s 3ms/step - loss: 0.0252 - val_loss: 0.0111\n",
            "Epoch 4/10\n",
            "4095/4095 [==============================] - 14s 3ms/step - loss: 0.0213 - val_loss: 0.0095\n",
            "Epoch 5/10\n",
            "4095/4095 [==============================] - 14s 3ms/step - loss: 0.0178 - val_loss: 0.0142\n",
            "Epoch 6/10\n",
            "4095/4095 [==============================] - 14s 3ms/step - loss: 0.0169 - val_loss: 0.0121\n",
            "Epoch 7/10\n",
            "4095/4095 [==============================] - 15s 4ms/step - loss: 0.0152 - val_loss: 0.0089\n",
            "Epoch 8/10\n",
            "4095/4095 [==============================] - 15s 4ms/step - loss: 0.0149 - val_loss: 0.0112\n",
            "Epoch 9/10\n",
            "4095/4095 [==============================] - 14s 4ms/step - loss: 0.0133 - val_loss: 0.0120\n",
            "Epoch 10/10\n",
            "4095/4095 [==============================] - 13s 3ms/step - loss: 0.0138 - val_loss: 0.0095\n"
          ]
        },
        {
          "output_type": "execute_result",
          "data": {
            "text/plain": [
              "<keras.callbacks.History at 0x7fd5ec4c4850>"
            ]
          },
          "metadata": {},
          "execution_count": 94
        }
      ]
    },
    {
      "cell_type": "code",
      "source": [
        "cnnS.save(os.path.join('U:\\Downloads\\Jupyter', 'trial12.hdf5'))"
      ],
      "metadata": {
        "id": "sqW1oEdGLzLc"
      },
      "id": "sqW1oEdGLzLc",
      "execution_count": null,
      "outputs": []
    },
    {
      "cell_type": "code",
      "source": [
        "pred12 = cnnS.predict(x)\n",
        "#print(\"Shape: {}\".format(pred2.shape))\n",
        "#print(pred2[0:5])"
      ],
      "metadata": {
        "id": "RqhKPckLAlz6"
      },
      "id": "RqhKPckLAlz6",
      "execution_count": null,
      "outputs": []
    },
    {
      "cell_type": "code",
      "source": [
        "score = np.sqrt(metrics.mean_squared_error(pred12,y))\n",
        "print('Final score (RMSE): {}'.format(score))\n",
        "\n",
        "predict_classes = np.argmax(pred11,axis=1)\n",
        "\n",
        "true_classes = np.argmax(y,axis=1)\n",
        "\n",
        "print(\"Predictions: {}\".format(predict_classes))\n",
        "print(\"True: {}\".format(true_classes))\n",
        "\n",
        "correct = metrics.accuracy_score(true_classes, predict_classes)\n",
        "print(\"Accuracy: {}\".format(correct))\n",
        "precision = metrics.precision_score(true_classes, predict_classes, average= \"weighted\")\n",
        "print(\"Precision score: {}\".format(precision))\n",
        "recall = metrics.recall_score(true_classes, predict_classes, average= \"weighted\")\n",
        "print(\"Recall score: {}\".format(recall))\n",
        "f1 = metrics.f1_score(true_classes, predict_classes, average= \"weighted\")\n",
        "print(\"F1 score: {}\".format(f1))\n",
        "\"\"\"\n",
        "# Generate predictions\n",
        "pred = model.predict(x_test)\n",
        "\n",
        "print(\"Numpy array of predictions\")\n",
        "print(pred[0:5])\n",
        "print()\n",
        "print(\"y_test:\")\n",
        "print(y_test[0:5])\n",
        "\n",
        "score = metrics.log_loss(y_test, pred)\n",
        "print(\"Log loss score: {}\".format(score))\n",
        "\"\"\""
      ],
      "metadata": {
        "colab": {
          "base_uri": "https://localhost:8080/",
          "height": 174
        },
        "id": "jVdDZrwmAlxp",
        "outputId": "cb5bb84d-ebd2-4d5e-8896-41b162c188a7"
      },
      "id": "jVdDZrwmAlxp",
      "execution_count": null,
      "outputs": [
        {
          "output_type": "stream",
          "name": "stdout",
          "text": [
            "Final score (RMSE): 0.0509733185172081\n",
            "Predictions: [0 0 0 ... 0 0 0]\n",
            "True: [0 0 0 ... 0 0 0]\n",
            "Accuracy: 0.9951780746642854\n",
            "Precision score: 0.9951850441692354\n",
            "Recall score: 0.9951780746642854\n",
            "F1 score: 0.9951755412205202\n"
          ]
        },
        {
          "output_type": "execute_result",
          "data": {
            "text/plain": [
              "'\\n# Generate predictions\\npred = model.predict(x_test)\\n\\nprint(\"Numpy array of predictions\")\\nprint(pred[0:5])\\nprint()\\nprint(\"y_test:\")\\nprint(y_test[0:5])\\n\\nscore = metrics.log_loss(y_test, pred)\\nprint(\"Log loss score: {}\".format(score))\\n'"
            ],
            "application/vnd.google.colaboratory.intrinsic+json": {
              "type": "string"
            }
          },
          "metadata": {},
          "execution_count": 97
        }
      ]
    },
    {
      "cell_type": "code",
      "source": [
        "# define a CNN\n",
        "\n",
        "cnnBL = Sequential()\n",
        "cnnBL.add(Conv1D(64, kernel_size=1, strides=1,\n",
        "                 activation='relu',\n",
        "                 input_shape=(40, 1, 1)))\n",
        "\n",
        "# the above code is equivalent to \n",
        "# model.add(Conv1D(64, kernel_size=3, strides=1, activation='relu', input_shape=(128, 1)))\n",
        "\n",
        "cnnBL.add(MaxPooling2D(pool_size=(1,1)))\n",
        "\n",
        "cnnBL.add(Conv1D(64, kernel_size=1, #strides=(1, 1),\n",
        "                 activation='relu'))\n",
        "cnnBL.add(MaxPooling2D(pool_size=(1,1)))\n",
        "    \n",
        "cnnBL.add(MaxPooling2D(pool_size=(1,1)))\n",
        "\n",
        "cnnBL.add(Conv1D(64, kernel_size=1, #strides=(1, 1),\n",
        "                 activation='relu'))\n",
        "cnnBL.add(MaxPooling2D(pool_size=(1,1)))\n",
        "    \n",
        "cnnBL.add(MaxPooling2D(pool_size=(1,1)))\n",
        "\n",
        "cnnBL.add(Conv1D(64, kernel_size=1, #strides=(1, 1),\n",
        "                 activation='relu'))\n",
        "cnnBL.add(MaxPooling2D(pool_size=(1,1)))\n",
        "    \n",
        "cnnBL.add(Flatten())\n",
        "cnnBL.add(Dense(1024, activation=\"relu\"))\n",
        "cnnBL.add(Dropout(0.5))\n",
        "cnnBL.add(Dense(2, activation=\"softmax\"))\n",
        "\n",
        "# define optimizer and objective, compile cnn\n",
        "\n",
        "cnnBL.compile(loss=\"categorical_crossentropy\", optimizer=\"adam\")\n",
        "\n",
        "monitor = EarlyStopping(monitor='val_loss', min_delta=0.001, patience = 2, verbose = 2, mode = 'auto')\n",
        "\n",
        "#cnn.fit(x, y, batch_size = 32, epochs = 100, validation_split = 0.1)\n",
        "cnnBL.fit(x, y, epochs = 10, validation_split = 0.1)\n",
        "#cnn.fit(x_train, y_train, verbose=2, epochs=10)  \n",
        "#cnn.fit(x_train,y_train, callbacks=[monitor], verbose=2, epochs=10)    # Verbosity mode. 0 = silent, 1 = progress bar, 2 = one line per epoch.\n",
        "#cnn.fit(x, y, epochs = 10)"
      ],
      "metadata": {
        "colab": {
          "base_uri": "https://localhost:8080/"
        },
        "id": "4jXw8_dXMnBU",
        "outputId": "7e73c9b6-43ae-4728-b366-8531cb7f116e"
      },
      "id": "4jXw8_dXMnBU",
      "execution_count": null,
      "outputs": [
        {
          "output_type": "stream",
          "name": "stdout",
          "text": [
            "Epoch 1/10\n",
            "4095/4095 [==============================] - 21s 5ms/step - loss: 0.0243 - val_loss: 0.0077\n",
            "Epoch 2/10\n",
            "4095/4095 [==============================] - 19s 5ms/step - loss: 0.0131 - val_loss: 0.0178\n",
            "Epoch 3/10\n",
            "4095/4095 [==============================] - 22s 5ms/step - loss: 0.0113 - val_loss: 0.0066\n",
            "Epoch 4/10\n",
            "4095/4095 [==============================] - 21s 5ms/step - loss: 0.0103 - val_loss: 0.0124\n",
            "Epoch 5/10\n",
            "4095/4095 [==============================] - 20s 5ms/step - loss: 0.0086 - val_loss: 0.0078\n",
            "Epoch 6/10\n",
            "4095/4095 [==============================] - 21s 5ms/step - loss: 0.0077 - val_loss: 0.0218\n",
            "Epoch 7/10\n",
            "4095/4095 [==============================] - 20s 5ms/step - loss: 0.0071 - val_loss: 0.0235\n",
            "Epoch 8/10\n",
            "4095/4095 [==============================] - 21s 5ms/step - loss: 0.0068 - val_loss: 0.0216\n",
            "Epoch 9/10\n",
            "4095/4095 [==============================] - 20s 5ms/step - loss: 0.0066 - val_loss: 0.0289\n",
            "Epoch 10/10\n",
            "4095/4095 [==============================] - 20s 5ms/step - loss: 0.0063 - val_loss: 0.0332\n"
          ]
        },
        {
          "output_type": "execute_result",
          "data": {
            "text/plain": [
              "<keras.callbacks.History at 0x7fd66e0b1210>"
            ]
          },
          "metadata": {},
          "execution_count": 98
        }
      ]
    },
    {
      "cell_type": "code",
      "source": [
        "cnnBL.save(os.path.join('U:\\Downloads\\Jupyter', 'trial13.hdf5'))"
      ],
      "metadata": {
        "id": "MFR8DfZFNxG9"
      },
      "id": "MFR8DfZFNxG9",
      "execution_count": null,
      "outputs": []
    },
    {
      "cell_type": "code",
      "source": [
        "pred13 = cnnS.predict(x)\n",
        "#print(\"Shape: {}\".format(pred2.shape))\n",
        "#print(pred2[0:5])"
      ],
      "metadata": {
        "id": "BK3ingd4NxEJ"
      },
      "id": "BK3ingd4NxEJ",
      "execution_count": null,
      "outputs": []
    },
    {
      "cell_type": "code",
      "source": [
        "score = np.sqrt(metrics.mean_squared_error(pred13,y))\n",
        "print('Final score (RMSE): {}'.format(score))\n",
        "\n",
        "predict_classes = np.argmax(pred11,axis=1)\n",
        "\n",
        "true_classes = np.argmax(y,axis=1)\n",
        "\n",
        "print(\"Predictions: {}\".format(predict_classes))\n",
        "print(\"True: {}\".format(true_classes))\n",
        "\n",
        "correct = metrics.accuracy_score(true_classes, predict_classes)\n",
        "print(\"Accuracy: {}\".format(correct))\n",
        "precision = metrics.precision_score(true_classes, predict_classes, average= \"weighted\")\n",
        "print(\"Precision score: {}\".format(precision))\n",
        "recall = metrics.recall_score(true_classes, predict_classes, average= \"weighted\")\n",
        "print(\"Recall score: {}\".format(recall))\n",
        "f1 = metrics.f1_score(true_classes, predict_classes, average= \"weighted\")\n",
        "print(\"F1 score: {}\".format(f1))\n",
        "\"\"\"\n",
        "# Generate predictions\n",
        "pred = model.predict(x_test)\n",
        "\n",
        "print(\"Numpy array of predictions\")\n",
        "print(pred[0:5])\n",
        "print()\n",
        "print(\"y_test:\")\n",
        "print(y_test[0:5])\n",
        "\n",
        "score = metrics.log_loss(y_test, pred)\n",
        "print(\"Log loss score: {}\".format(score))\n",
        "\"\"\""
      ],
      "metadata": {
        "colab": {
          "base_uri": "https://localhost:8080/",
          "height": 174
        },
        "id": "NlTv83SnNxBl",
        "outputId": "74f2cc5d-e3fc-481e-a315-73d1855cbc6b"
      },
      "id": "NlTv83SnNxBl",
      "execution_count": null,
      "outputs": [
        {
          "output_type": "stream",
          "name": "stdout",
          "text": [
            "Final score (RMSE): 0.0509733185172081\n",
            "Predictions: [0 0 0 ... 0 0 0]\n",
            "True: [0 0 0 ... 0 0 0]\n",
            "Accuracy: 0.9951780746642854\n",
            "Precision score: 0.9951850441692354\n",
            "Recall score: 0.9951780746642854\n",
            "F1 score: 0.9951755412205202\n"
          ]
        },
        {
          "output_type": "execute_result",
          "data": {
            "text/plain": [
              "'\\n# Generate predictions\\npred = model.predict(x_test)\\n\\nprint(\"Numpy array of predictions\")\\nprint(pred[0:5])\\nprint()\\nprint(\"y_test:\")\\nprint(y_test[0:5])\\n\\nscore = metrics.log_loss(y_test, pred)\\nprint(\"Log loss score: {}\".format(score))\\n'"
            ],
            "application/vnd.google.colaboratory.intrinsic+json": {
              "type": "string"
            }
          },
          "metadata": {},
          "execution_count": 101
        }
      ]
    },
    {
      "cell_type": "code",
      "source": [
        "# define a CNN\n",
        "\n",
        "cnnSL = Sequential()\n",
        "cnnSL.add(Conv1D(64, kernel_size=1, strides=1,\n",
        "                 activation='relu',\n",
        "                 input_shape=(40, 1, 1)))\n",
        "\n",
        "# the above code is equivalent to \n",
        "# model.add(Conv1D(64, kernel_size=3, strides=1, activation='relu', input_shape=(128, 1)))\n",
        "\n",
        "cnnSL.add(MaxPooling2D(pool_size=(1,1)))\n",
        "\n",
        "cnnSL.add(Conv1D(64, kernel_size=1, #strides=(1, 1),\n",
        "                 activation='relu'))\n",
        "cnnSL.add(MaxPooling2D(pool_size=(1,1)))\n",
        "    \n",
        "    \n",
        "cnnSL.add(Flatten())\n",
        "cnnSL.add(Dense(1024, activation=\"relu\"))\n",
        "cnnSL.add(Dropout(0.5))\n",
        "cnnSL.add(Dense(2, activation=\"softmax\"))\n",
        "\n",
        "# define optimizer and objective, compile cnn\n",
        "\n",
        "cnnSL.compile(loss=\"categorical_crossentropy\", optimizer=\"adam\")\n",
        "\n",
        "monitor = EarlyStopping(monitor='val_loss', min_delta=0.001, patience = 2, verbose = 2, mode = 'auto')\n",
        "\n",
        "#cnn.fit(x, y, batch_size = 32, epochs = 100, validation_split = 0.1)\n",
        "cnnSL.fit(x, y, epochs = 10, validation_split = 0.1)\n",
        "#cnn.fit(x_train, y_train, verbose=2, epochs=10)  \n",
        "#cnn.fit(x_train,y_train, callbacks=[monitor], verbose=2, epochs=10)    # Verbosity mode. 0 = silent, 1 = progress bar, 2 = one line per epoch.\n",
        "#cnn.fit(x, y, epochs = 10)"
      ],
      "metadata": {
        "colab": {
          "base_uri": "https://localhost:8080/"
        },
        "id": "RjQ8IdVgNw_Z",
        "outputId": "a50f18e3-e738-4edf-a2f9-ada8c9f83b14"
      },
      "id": "RjQ8IdVgNw_Z",
      "execution_count": null,
      "outputs": [
        {
          "output_type": "stream",
          "name": "stdout",
          "text": [
            "Epoch 1/10\n",
            "4095/4095 [==============================] - 15s 3ms/step - loss: 0.0250 - val_loss: 0.0043\n",
            "Epoch 2/10\n",
            "4095/4095 [==============================] - 15s 4ms/step - loss: 0.0133 - val_loss: 0.0041\n",
            "Epoch 3/10\n",
            "4095/4095 [==============================] - 16s 4ms/step - loss: 0.0106 - val_loss: 0.0056\n",
            "Epoch 4/10\n",
            "4095/4095 [==============================] - 14s 4ms/step - loss: 0.0097 - val_loss: 0.0055\n",
            "Epoch 5/10\n",
            "4095/4095 [==============================] - 15s 4ms/step - loss: 0.0086 - val_loss: 0.0100\n",
            "Epoch 6/10\n",
            "4095/4095 [==============================] - 15s 4ms/step - loss: 0.0081 - val_loss: 0.0060\n",
            "Epoch 7/10\n",
            "4095/4095 [==============================] - 15s 4ms/step - loss: 0.0078 - val_loss: 0.0086\n",
            "Epoch 8/10\n",
            "4095/4095 [==============================] - 17s 4ms/step - loss: 0.0070 - val_loss: 0.0152\n",
            "Epoch 9/10\n",
            "4095/4095 [==============================] - 15s 4ms/step - loss: 0.0066 - val_loss: 0.0107\n",
            "Epoch 10/10\n",
            "4095/4095 [==============================] - 15s 4ms/step - loss: 0.0062 - val_loss: 0.0072\n"
          ]
        },
        {
          "output_type": "execute_result",
          "data": {
            "text/plain": [
              "<keras.callbacks.History at 0x7fd6a23e24d0>"
            ]
          },
          "metadata": {},
          "execution_count": 102
        }
      ]
    },
    {
      "cell_type": "code",
      "source": [
        "cnnSL.save(os.path.join('U:\\Downloads\\Jupyter', 'trial14.hdf5'))"
      ],
      "metadata": {
        "id": "wPfXn1GENw9d"
      },
      "id": "wPfXn1GENw9d",
      "execution_count": null,
      "outputs": []
    },
    {
      "cell_type": "code",
      "source": [
        "pred14 = cnnSL.predict(x)\n",
        "#print(\"Shape: {}\".format(pred2.shape))\n",
        "#print(pred2[0:5])"
      ],
      "metadata": {
        "id": "xZgKtGZqPW5g"
      },
      "id": "xZgKtGZqPW5g",
      "execution_count": null,
      "outputs": []
    },
    {
      "cell_type": "code",
      "source": [
        "score = np.sqrt(metrics.mean_squared_error(pred14,y))\n",
        "print('Final score (RMSE): {}'.format(score))\n",
        "\n",
        "predict_classes = np.argmax(pred11,axis=1)\n",
        "\n",
        "true_classes = np.argmax(y,axis=1)\n",
        "\n",
        "print(\"Predictions: {}\".format(predict_classes))\n",
        "print(\"True: {}\".format(true_classes))\n",
        "\n",
        "correct = metrics.accuracy_score(true_classes, predict_classes)\n",
        "print(\"Accuracy: {}\".format(correct))\n",
        "precision = metrics.precision_score(true_classes, predict_classes, average= \"weighted\")\n",
        "print(\"Precision score: {}\".format(precision))\n",
        "recall = metrics.recall_score(true_classes, predict_classes, average= \"weighted\")\n",
        "print(\"Recall score: {}\".format(recall))\n",
        "f1 = metrics.f1_score(true_classes, predict_classes, average= \"weighted\")\n",
        "print(\"F1 score: {}\".format(f1))\n",
        "\"\"\"\n",
        "# Generate predictions\n",
        "pred = model.predict(x_test)\n",
        "\n",
        "print(\"Numpy array of predictions\")\n",
        "print(pred[0:5])\n",
        "print()\n",
        "print(\"y_test:\")\n",
        "print(y_test[0:5])\n",
        "\n",
        "score = metrics.log_loss(y_test, pred)\n",
        "print(\"Log loss score: {}\".format(score))\n",
        "\"\"\""
      ],
      "metadata": {
        "colab": {
          "base_uri": "https://localhost:8080/",
          "height": 174
        },
        "id": "bFEOd8SSPW3N",
        "outputId": "4f104dc9-e098-4403-9af2-fb29272d3434"
      },
      "id": "bFEOd8SSPW3N",
      "execution_count": null,
      "outputs": [
        {
          "output_type": "stream",
          "name": "stdout",
          "text": [
            "Final score (RMSE): 0.037348534911870956\n",
            "Predictions: [0 0 0 ... 0 0 0]\n",
            "True: [0 0 0 ... 0 0 0]\n",
            "Accuracy: 0.9951780746642854\n",
            "Precision score: 0.9951850441692354\n",
            "Recall score: 0.9951780746642854\n",
            "F1 score: 0.9951755412205202\n"
          ]
        },
        {
          "output_type": "execute_result",
          "data": {
            "text/plain": [
              "'\\n# Generate predictions\\npred = model.predict(x_test)\\n\\nprint(\"Numpy array of predictions\")\\nprint(pred[0:5])\\nprint()\\nprint(\"y_test:\")\\nprint(y_test[0:5])\\n\\nscore = metrics.log_loss(y_test, pred)\\nprint(\"Log loss score: {}\".format(score))\\n'"
            ],
            "application/vnd.google.colaboratory.intrinsic+json": {
              "type": "string"
            }
          },
          "metadata": {},
          "execution_count": 105
        }
      ]
    },
    {
      "cell_type": "code",
      "source": [
        "# define a CNN\n",
        "\n",
        "cnnBN = Sequential()\n",
        "cnnBN.add(Conv1D(128, kernel_size=1, strides=1,\n",
        "                 activation='relu',\n",
        "                 input_shape=(40, 1, 1)))\n",
        "\n",
        "# the above code is equivalent to \n",
        "# model.add(Conv1D(64, kernel_size=3, strides=1, activation='relu', input_shape=(128, 1)))\n",
        "\n",
        "cnnBN.add(MaxPooling2D(pool_size=(1,1)))\n",
        "\n",
        "cnnBN.add(Conv1D(128, kernel_size=1, #strides=(1, 1),\n",
        "                 activation='relu'))\n",
        "cnnBN.add(MaxPooling2D(pool_size=(1,1)))\n",
        "    \n",
        "    \n",
        "cnnBN.add(Flatten())\n",
        "cnnBN.add(Dense(2048, activation=\"relu\"))\n",
        "cnnBN.add(Dropout(0.5))\n",
        "cnnBN.add(Dense(2, activation=\"softmax\"))\n",
        "\n",
        "# define optimizer and objective, compile cnn\n",
        "\n",
        "cnnBN.compile(loss=\"categorical_crossentropy\", optimizer=\"adam\")\n",
        "\n",
        "monitor = EarlyStopping(monitor='val_loss', min_delta=0.001, patience = 2, verbose = 2, mode = 'auto')\n",
        "\n",
        "#cnn.fit(x, y, batch_size = 32, epochs = 100, validation_split = 0.1)\n",
        "cnnBN.fit(x, y, epochs = 10, validation_split = 0.1)\n",
        "#cnn.fit(x_train, y_train, verbose=2, epochs=10)  \n",
        "#cnn.fit(x_train,y_train, callbacks=[monitor], verbose=2, epochs=10)    # Verbosity mode. 0 = silent, 1 = progress bar, 2 = one line per epoch.\n",
        "#cnn.fit(x, y, epochs = 10)"
      ],
      "metadata": {
        "colab": {
          "base_uri": "https://localhost:8080/"
        },
        "id": "YSuYIpN4Mm-1",
        "outputId": "b5952edd-9b0b-4ff2-97d7-894bebda5b7f"
      },
      "id": "YSuYIpN4Mm-1",
      "execution_count": null,
      "outputs": [
        {
          "output_type": "stream",
          "name": "stdout",
          "text": [
            "Epoch 1/10\n",
            "4095/4095 [==============================] - 21s 5ms/step - loss: 0.0256 - val_loss: 0.0073\n",
            "Epoch 2/10\n",
            "4095/4095 [==============================] - 21s 5ms/step - loss: 0.0132 - val_loss: 0.0067\n",
            "Epoch 3/10\n",
            "4095/4095 [==============================] - 21s 5ms/step - loss: 0.0109 - val_loss: 0.0064\n",
            "Epoch 4/10\n",
            "4095/4095 [==============================] - 20s 5ms/step - loss: 0.0110 - val_loss: 0.0098\n",
            "Epoch 5/10\n",
            "4095/4095 [==============================] - 23s 6ms/step - loss: 0.0092 - val_loss: 0.0105\n",
            "Epoch 6/10\n",
            "4095/4095 [==============================] - 20s 5ms/step - loss: 0.0083 - val_loss: 0.0081\n",
            "Epoch 7/10\n",
            "4095/4095 [==============================] - 21s 5ms/step - loss: 0.0077 - val_loss: 0.0087\n",
            "Epoch 8/10\n",
            "4095/4095 [==============================] - 21s 5ms/step - loss: 0.0075 - val_loss: 0.0161\n",
            "Epoch 9/10\n",
            "4095/4095 [==============================] - 21s 5ms/step - loss: 0.0071 - val_loss: 0.0049\n",
            "Epoch 10/10\n",
            "4095/4095 [==============================] - 21s 5ms/step - loss: 0.0065 - val_loss: 0.0185\n"
          ]
        },
        {
          "output_type": "execute_result",
          "data": {
            "text/plain": [
              "<keras.callbacks.History at 0x7fd66e13c710>"
            ]
          },
          "metadata": {},
          "execution_count": 106
        }
      ]
    },
    {
      "cell_type": "code",
      "source": [
        "cnnBN.save(os.path.join('U:\\Downloads\\Jupyter', 'trial15.hdf5'))"
      ],
      "metadata": {
        "id": "06VTc5r7Mm8U"
      },
      "id": "06VTc5r7Mm8U",
      "execution_count": null,
      "outputs": []
    },
    {
      "cell_type": "code",
      "source": [
        "pred15 = cnnBN.predict(x)\n",
        "#print(\"Shape: {}\".format(pred2.shape))\n",
        "#print(pred2[0:5])"
      ],
      "metadata": {
        "id": "NQZlQlX_Mm5d"
      },
      "id": "NQZlQlX_Mm5d",
      "execution_count": null,
      "outputs": []
    },
    {
      "cell_type": "code",
      "source": [
        "score = np.sqrt(metrics.mean_squared_error(pred15,y))\n",
        "print('Final score (RMSE): {}'.format(score))\n",
        "\n",
        "predict_classes = np.argmax(pred11,axis=1)\n",
        "\n",
        "true_classes = np.argmax(y,axis=1)\n",
        "\n",
        "print(\"Predictions: {}\".format(predict_classes))\n",
        "print(\"True: {}\".format(true_classes))\n",
        "\n",
        "correct = metrics.accuracy_score(true_classes, predict_classes)\n",
        "print(\"Accuracy: {}\".format(correct))\n",
        "precision = metrics.precision_score(true_classes, predict_classes, average= \"weighted\")\n",
        "print(\"Precision score: {}\".format(precision))\n",
        "recall = metrics.recall_score(true_classes, predict_classes, average= \"weighted\")\n",
        "print(\"Recall score: {}\".format(recall))\n",
        "f1 = metrics.f1_score(true_classes, predict_classes, average= \"weighted\")\n",
        "print(\"F1 score: {}\".format(f1))\n",
        "\"\"\"\n",
        "# Generate predictions\n",
        "pred = model.predict(x_test)\n",
        "\n",
        "print(\"Numpy array of predictions\")\n",
        "print(pred[0:5])\n",
        "print()\n",
        "print(\"y_test:\")\n",
        "print(y_test[0:5])\n",
        "\n",
        "score = metrics.log_loss(y_test, pred)\n",
        "print(\"Log loss score: {}\".format(score))\n",
        "\"\"\""
      ],
      "metadata": {
        "colab": {
          "base_uri": "https://localhost:8080/",
          "height": 174
        },
        "id": "klHSX4zHPvk_",
        "outputId": "680a9708-1120-4362-fe61-cbc52fb89abe"
      },
      "id": "klHSX4zHPvk_",
      "execution_count": null,
      "outputs": [
        {
          "output_type": "stream",
          "name": "stdout",
          "text": [
            "Final score (RMSE): 0.04040737450122833\n",
            "Predictions: [0 0 0 ... 0 0 0]\n",
            "True: [0 0 0 ... 0 0 0]\n",
            "Accuracy: 0.9951780746642854\n",
            "Precision score: 0.9951850441692354\n",
            "Recall score: 0.9951780746642854\n",
            "F1 score: 0.9951755412205202\n"
          ]
        },
        {
          "output_type": "execute_result",
          "data": {
            "text/plain": [
              "'\\n# Generate predictions\\npred = model.predict(x_test)\\n\\nprint(\"Numpy array of predictions\")\\nprint(pred[0:5])\\nprint()\\nprint(\"y_test:\")\\nprint(y_test[0:5])\\n\\nscore = metrics.log_loss(y_test, pred)\\nprint(\"Log loss score: {}\".format(score))\\n'"
            ],
            "application/vnd.google.colaboratory.intrinsic+json": {
              "type": "string"
            }
          },
          "metadata": {},
          "execution_count": 109
        }
      ]
    },
    {
      "cell_type": "code",
      "source": [
        "# define a CNN\n",
        "\n",
        "cnnSN = Sequential()\n",
        "cnnSN.add(Conv1D(32, kernel_size=1, strides=1,\n",
        "                 activation='relu',\n",
        "                 input_shape=(40, 1, 1)))\n",
        "\n",
        "# the above code is equivalent to \n",
        "# model.add(Conv1D(64, kernel_size=3, strides=1, activation='relu', input_shape=(128, 1)))\n",
        "\n",
        "cnnSN.add(MaxPooling2D(pool_size=(1,1)))\n",
        "\n",
        "cnnSN.add(Conv1D(32, kernel_size=1, #strides=(1, 1),\n",
        "                 activation='relu'))\n",
        "cnnSN.add(MaxPooling2D(pool_size=(1,1)))\n",
        "    \n",
        "    \n",
        "cnnSN.add(Flatten())\n",
        "cnnSN.add(Dense(512, activation=\"relu\"))\n",
        "cnnSN.add(Dropout(0.5))\n",
        "cnnSN.add(Dense(2, activation=\"softmax\"))\n",
        "\n",
        "# define optimizer and objective, compile cnn\n",
        "\n",
        "cnnSN.compile(loss=\"categorical_crossentropy\", optimizer=\"adam\")\n",
        "\n",
        "monitor = EarlyStopping(monitor='val_loss', min_delta=0.001, patience = 2, verbose = 2, mode = 'auto')\n",
        "\n",
        "#cnn.fit(x, y, batch_size = 32, epochs = 100, validation_split = 0.1)\n",
        "cnnSN.fit(x, y, epochs = 10, validation_split = 0.1)\n",
        "#cnn.fit(x_train, y_train, verbose=2, epochs=10)  \n",
        "#cnn.fit(x_train,y_train, callbacks=[monitor], verbose=2, epochs=10)    # Verbosity mode. 0 = silent, 1 = progress bar, 2 = one line per epoch.\n",
        "#cnn.fit(x, y, epochs = 10)\n"
      ],
      "metadata": {
        "colab": {
          "base_uri": "https://localhost:8080/"
        },
        "id": "33hXv7toPvi5",
        "outputId": "ecfd7c2a-85ae-4d02-800f-13a99438eb24"
      },
      "id": "33hXv7toPvi5",
      "execution_count": null,
      "outputs": [
        {
          "output_type": "stream",
          "name": "stdout",
          "text": [
            "Epoch 1/10\n",
            "4095/4095 [==============================] - 13s 3ms/step - loss: 0.0268 - val_loss: 0.0069\n",
            "Epoch 2/10\n",
            "4095/4095 [==============================] - 15s 4ms/step - loss: 0.0133 - val_loss: 0.0065\n",
            "Epoch 3/10\n",
            "4095/4095 [==============================] - 14s 3ms/step - loss: 0.0110 - val_loss: 0.0066\n",
            "Epoch 4/10\n",
            "4095/4095 [==============================] - 14s 4ms/step - loss: 0.0096 - val_loss: 0.0040\n",
            "Epoch 5/10\n",
            "4095/4095 [==============================] - 15s 4ms/step - loss: 0.0089 - val_loss: 0.0119\n",
            "Epoch 6/10\n",
            "4095/4095 [==============================] - 14s 3ms/step - loss: 0.0085 - val_loss: 0.0197\n",
            "Epoch 7/10\n",
            "4095/4095 [==============================] - 13s 3ms/step - loss: 0.0077 - val_loss: 0.0069\n",
            "Epoch 8/10\n",
            "4095/4095 [==============================] - 13s 3ms/step - loss: 0.0076 - val_loss: 0.0250\n",
            "Epoch 9/10\n",
            "4095/4095 [==============================] - 13s 3ms/step - loss: 0.0070 - val_loss: 0.0152\n",
            "Epoch 10/10\n",
            "4095/4095 [==============================] - 15s 4ms/step - loss: 0.0069 - val_loss: 0.0223\n"
          ]
        },
        {
          "output_type": "execute_result",
          "data": {
            "text/plain": [
              "<keras.callbacks.History at 0x7fd6a668df50>"
            ]
          },
          "metadata": {},
          "execution_count": 110
        }
      ]
    },
    {
      "cell_type": "code",
      "source": [
        "cnnSN.save(os.path.join('U:\\Downloads\\Jupyter', 'trial16.hdf5'))"
      ],
      "metadata": {
        "id": "C0CjwfzbPvgx"
      },
      "id": "C0CjwfzbPvgx",
      "execution_count": null,
      "outputs": []
    },
    {
      "cell_type": "code",
      "source": [
        "pred16 = cnnSN.predict(x)\n",
        "#print(\"Shape: {}\".format(pred2.shape))\n",
        "#print(pred2[0:5])"
      ],
      "metadata": {
        "id": "xY73e9rLPvee"
      },
      "id": "xY73e9rLPvee",
      "execution_count": null,
      "outputs": []
    },
    {
      "cell_type": "code",
      "source": [
        "score = np.sqrt(metrics.mean_squared_error(pred16,y))\n",
        "print('Final score (RMSE): {}'.format(score))\n",
        "\n",
        "predict_classes = np.argmax(pred11,axis=1)\n",
        "\n",
        "true_classes = np.argmax(y,axis=1)\n",
        "\n",
        "print(\"Predictions: {}\".format(predict_classes))\n",
        "print(\"True: {}\".format(true_classes))\n",
        "\n",
        "correct = metrics.accuracy_score(true_classes, predict_classes)\n",
        "print(\"Accuracy: {}\".format(correct))\n",
        "precision = metrics.precision_score(true_classes, predict_classes, average= \"weighted\")\n",
        "print(\"Precision score: {}\".format(precision))\n",
        "recall = metrics.recall_score(true_classes, predict_classes, average= \"weighted\")\n",
        "print(\"Recall score: {}\".format(recall))\n",
        "f1 = metrics.f1_score(true_classes, predict_classes, average= \"weighted\")\n",
        "print(\"F1 score: {}\".format(f1))\n",
        "\"\"\"\n",
        "# Generate predictions\n",
        "pred = model.predict(x_test)\n",
        "\n",
        "print(\"Numpy array of predictions\")\n",
        "print(pred[0:5])\n",
        "print()\n",
        "print(\"y_test:\")\n",
        "print(y_test[0:5])\n",
        "\n",
        "score = metrics.log_loss(y_test, pred)\n",
        "print(\"Log loss score: {}\".format(score))\n",
        "\"\"\""
      ],
      "metadata": {
        "colab": {
          "base_uri": "https://localhost:8080/",
          "height": 174
        },
        "id": "N2C_yqj7PvcV",
        "outputId": "19926638-bb1b-4e53-a340-0f25742e5ba2"
      },
      "id": "N2C_yqj7PvcV",
      "execution_count": null,
      "outputs": [
        {
          "output_type": "stream",
          "name": "stdout",
          "text": [
            "Final score (RMSE): 0.044604625552892685\n",
            "Predictions: [0 0 0 ... 0 0 0]\n",
            "True: [0 0 0 ... 0 0 0]\n",
            "Accuracy: 0.9951780746642854\n",
            "Precision score: 0.9951850441692354\n",
            "Recall score: 0.9951780746642854\n",
            "F1 score: 0.9951755412205202\n"
          ]
        },
        {
          "output_type": "execute_result",
          "data": {
            "text/plain": [
              "'\\n# Generate predictions\\npred = model.predict(x_test)\\n\\nprint(\"Numpy array of predictions\")\\nprint(pred[0:5])\\nprint()\\nprint(\"y_test:\")\\nprint(y_test[0:5])\\n\\nscore = metrics.log_loss(y_test, pred)\\nprint(\"Log loss score: {}\".format(score))\\n'"
            ],
            "application/vnd.google.colaboratory.intrinsic+json": {
              "type": "string"
            }
          },
          "metadata": {},
          "execution_count": 113
        }
      ]
    },
    {
      "cell_type": "markdown",
      "source": [
        "###**Best Model for Convolutional Neural Networks**###\n",
        "Below is the best model we could create for convolutional neural networks after some parameter tuning."
      ],
      "metadata": {
        "id": "mpBjZi7RflZj"
      },
      "id": "mpBjZi7RflZj"
    },
    {
      "cell_type": "code",
      "source": [
        "# define a CNN\n",
        "\n",
        "cnnBKN = Sequential()\n",
        "cnnBKN.add(Conv1D(64, kernel_size=1, strides=1,\n",
        "                 activation='relu',\n",
        "                 input_shape=(40, 1, 1)))\n",
        "\n",
        "# the above code is equivalent to \n",
        "# model.add(Conv1D(64, kernel_size=3, strides=1, activation='relu', input_shape=(128, 1)))\n",
        "\n",
        "cnnBKN.add(MaxPooling2D(pool_size=(1,1)))\n",
        "\n",
        "cnnBKN.add(Conv1D(64, kernel_size=1, #strides=(1, 1),\n",
        "                 activation='relu'))\n",
        "cnnBKN.add(MaxPooling2D(pool_size=(1,1)))\n",
        "\n",
        "cnnBKN.add(Conv1D(64, kernel_size=1, #strides=(1, 1),\n",
        "                 activation='relu'))\n",
        "cnnBKN.add(Conv1D(64, kernel_size=1, #strides=(1, 1),\n",
        "                 activation='relu'))\n",
        "    \n",
        "cnnBKN.add(Flatten())\n",
        "cnnBKN.add(Dense(1024, activation=\"relu\"))\n",
        "cnnBKN.add(Dropout(0.5))\n",
        "cnnBKN.add(Dense(2, activation=\"softmax\"))\n",
        "\n",
        "# define optimizer and objective, compile cnn\n",
        "\n",
        "cnnBKN.compile(loss=\"categorical_crossentropy\", optimizer=\"adam\")\n",
        "\n",
        "monitor = EarlyStopping(monitor='val_loss', min_delta=0.001, patience = 2, verbose = 2, mode = 'auto')\n",
        "\n",
        "#cnn.fit(x, y, batch_size = 32, epochs = 100, validation_split = 0.1)\n",
        "cnnBKN.fit(x, y, epochs = 10, validation_split = 0.1)\n",
        "#cnn.fit(x_train, y_train, verbose=2, epochs=10)  \n",
        "#cnn.fit(x_train,y_train, callbacks=[monitor], verbose=2, epochs=10)    # Verbosity mode. 0 = silent, 1 = progress bar, 2 = one line per epoch.\n",
        "#cnn.fit(x, y, epochs = 10)"
      ],
      "metadata": {
        "colab": {
          "base_uri": "https://localhost:8080/"
        },
        "id": "hBXXi-SQQnEP",
        "outputId": "e91345e4-9bc5-406f-dcb4-05e0e4280449"
      },
      "id": "hBXXi-SQQnEP",
      "execution_count": null,
      "outputs": [
        {
          "output_type": "stream",
          "name": "stdout",
          "text": [
            "Epoch 1/10\n",
            "4095/4095 [==============================] - 20s 5ms/step - loss: 0.0237 - val_loss: 0.0043\n",
            "Epoch 2/10\n",
            "4095/4095 [==============================] - 19s 5ms/step - loss: 0.0132 - val_loss: 0.0051\n",
            "Epoch 3/10\n",
            "4095/4095 [==============================] - 19s 5ms/step - loss: 0.0110 - val_loss: 0.0062\n",
            "Epoch 4/10\n",
            "4095/4095 [==============================] - 19s 5ms/step - loss: 0.0097 - val_loss: 0.0198\n",
            "Epoch 5/10\n",
            "4095/4095 [==============================] - 19s 5ms/step - loss: 0.0089 - val_loss: 0.0063\n",
            "Epoch 6/10\n",
            "4095/4095 [==============================] - 18s 5ms/step - loss: 0.0076 - val_loss: 0.0079\n",
            "Epoch 7/10\n",
            "4095/4095 [==============================] - 18s 5ms/step - loss: 0.0072 - val_loss: 0.0251\n",
            "Epoch 8/10\n",
            "4095/4095 [==============================] - 19s 5ms/step - loss: 0.0067 - val_loss: 0.0184\n",
            "Epoch 9/10\n",
            "4095/4095 [==============================] - 18s 5ms/step - loss: 0.0063 - val_loss: 0.0289\n",
            "Epoch 10/10\n",
            "4095/4095 [==============================] - 19s 5ms/step - loss: 0.0061 - val_loss: 0.0129\n"
          ]
        },
        {
          "output_type": "execute_result",
          "data": {
            "text/plain": [
              "<keras.callbacks.History at 0x7fd6a640e310>"
            ]
          },
          "metadata": {},
          "execution_count": 114
        }
      ]
    },
    {
      "cell_type": "code",
      "source": [
        "cnnBKN.save(os.path.join('U:\\Downloads\\Jupyter', 'trial17.hdf5'))"
      ],
      "metadata": {
        "id": "kRZsSqn8QnCN"
      },
      "id": "kRZsSqn8QnCN",
      "execution_count": null,
      "outputs": []
    },
    {
      "cell_type": "code",
      "source": [
        "pred17 = cnnBKN.predict(x)\n",
        "#print(\"Shape: {}\".format(pred2.shape))\n",
        "#print(pred2[0:5])"
      ],
      "metadata": {
        "id": "LBjJkfPOQnAJ"
      },
      "id": "LBjJkfPOQnAJ",
      "execution_count": null,
      "outputs": []
    },
    {
      "cell_type": "code",
      "source": [
        "score = np.sqrt(metrics.mean_squared_error(pred17,y))\n",
        "print('Final score (RMSE): {}'.format(score))\n",
        "\n",
        "predict_classes = np.argmax(pred11,axis=1)\n",
        "\n",
        "true_classes = np.argmax(y,axis=1)\n",
        "\n",
        "print(\"Predictions: {}\".format(predict_classes))\n",
        "print(\"True: {}\".format(true_classes))\n",
        "\n",
        "correct = metrics.accuracy_score(true_classes, predict_classes)\n",
        "print(\"Accuracy: {}\".format(correct))\n",
        "precision = metrics.precision_score(true_classes, predict_classes, average= \"weighted\")\n",
        "print(\"Precision score: {}\".format(precision))\n",
        "recall = metrics.recall_score(true_classes, predict_classes, average= \"weighted\")\n",
        "print(\"Recall score: {}\".format(recall))\n",
        "f1 = metrics.f1_score(true_classes, predict_classes, average= \"weighted\")\n",
        "print(\"F1 score: {}\".format(f1))\n",
        "\"\"\"\n",
        "# Generate predictions\n",
        "pred = model.predict(x_test)\n",
        "\n",
        "print(\"Numpy array of predictions\")\n",
        "print(pred[0:5])\n",
        "print()\n",
        "print(\"y_test:\")\n",
        "print(y_test[0:5])\n",
        "\n",
        "score = metrics.log_loss(y_test, pred)\n",
        "print(\"Log loss score: {}\".format(score))\n",
        "\"\"\""
      ],
      "metadata": {
        "colab": {
          "base_uri": "https://localhost:8080/",
          "height": 174
        },
        "id": "8wmYa8UfQm-J",
        "outputId": "6477924d-68f7-4cc8-ec0d-a5e60aeac0df"
      },
      "id": "8wmYa8UfQm-J",
      "execution_count": null,
      "outputs": [
        {
          "output_type": "stream",
          "name": "stdout",
          "text": [
            "Final score (RMSE): 0.03723486140370369\n",
            "Predictions: [0 0 0 ... 0 0 0]\n",
            "True: [0 0 0 ... 0 0 0]\n",
            "Accuracy: 0.9951780746642854\n",
            "Precision score: 0.9951850441692354\n",
            "Recall score: 0.9951780746642854\n",
            "F1 score: 0.9951755412205202\n"
          ]
        },
        {
          "output_type": "execute_result",
          "data": {
            "text/plain": [
              "'\\n# Generate predictions\\npred = model.predict(x_test)\\n\\nprint(\"Numpy array of predictions\")\\nprint(pred[0:5])\\nprint()\\nprint(\"y_test:\")\\nprint(y_test[0:5])\\n\\nscore = metrics.log_loss(y_test, pred)\\nprint(\"Log loss score: {}\".format(score))\\n'"
            ],
            "application/vnd.google.colaboratory.intrinsic+json": {
              "type": "string"
            }
          },
          "metadata": {},
          "execution_count": 117
        }
      ]
    },
    {
      "cell_type": "code",
      "source": [
        "# define a CNN\n",
        "\n",
        "cnnSKN = Sequential()\n",
        "cnnSKN.add(Conv1D(64, kernel_size=1, strides=1,\n",
        "                 activation='relu',\n",
        "                 input_shape=(40, 1, 1)))\n",
        "\n",
        "# the above code is equivalent to \n",
        "# model.add(Conv1D(64, kernel_size=3, strides=1, activation='relu', input_shape=(128, 1)))\n",
        "\n",
        "cnnSKN.add(MaxPooling2D(pool_size=(1,1)))\n",
        "\n",
        "cnnSKN.add(MaxPooling2D(pool_size=(1,1)))\n",
        "    \n",
        "    \n",
        "cnnSKN.add(Flatten())\n",
        "cnnSKN.add(Dense(1024, activation=\"relu\"))\n",
        "cnnSKN.add(Dropout(0.5))\n",
        "cnnSKN.add(Dense(2, activation=\"softmax\"))\n",
        "\n",
        "# define optimizer and objective, compile cnn\n",
        "\n",
        "cnnSKN.compile(loss=\"categorical_crossentropy\", optimizer=\"adam\")\n",
        "\n",
        "monitor = EarlyStopping(monitor='val_loss', min_delta=0.001, patience = 2, verbose = 2, mode = 'auto')\n",
        "\n",
        "#cnn.fit(x, y, batch_size = 32, epochs = 100, validation_split = 0.1)\n",
        "cnnSKN.fit(x, y, epochs = 10, validation_split = 0.1)\n",
        "#cnn.fit(x_train, y_train, verbose=2, epochs=10)  \n",
        "#cnn.fit(x_train,y_train, callbacks=[monitor], verbose=2, epochs=10)    # Verbosity mode. 0 = silent, 1 = progress bar, 2 = one line per epoch.\n",
        "#cnn.fit(x, y, epochs = 10)"
      ],
      "metadata": {
        "colab": {
          "base_uri": "https://localhost:8080/"
        },
        "id": "IGhOUr0pQm76",
        "outputId": "901f0de4-3537-4718-8636-ee1572b8b8db"
      },
      "id": "IGhOUr0pQm76",
      "execution_count": null,
      "outputs": [
        {
          "output_type": "stream",
          "name": "stdout",
          "text": [
            "Epoch 1/10\n",
            "4095/4095 [==============================] - 13s 3ms/step - loss: 0.0416 - val_loss: 0.0088\n",
            "Epoch 2/10\n",
            "4095/4095 [==============================] - 12s 3ms/step - loss: 0.0205 - val_loss: 0.0099\n",
            "Epoch 3/10\n",
            "4095/4095 [==============================] - 12s 3ms/step - loss: 0.0158 - val_loss: 0.0063\n",
            "Epoch 4/10\n",
            "4095/4095 [==============================] - 12s 3ms/step - loss: 0.0143 - val_loss: 0.0235\n",
            "Epoch 5/10\n",
            "4095/4095 [==============================] - 12s 3ms/step - loss: 0.0129 - val_loss: 0.0060\n",
            "Epoch 6/10\n",
            "4095/4095 [==============================] - 12s 3ms/step - loss: 0.0118 - val_loss: 0.0132\n",
            "Epoch 7/10\n",
            "4095/4095 [==============================] - 12s 3ms/step - loss: 0.0122 - val_loss: 0.0177\n",
            "Epoch 8/10\n",
            "4095/4095 [==============================] - 12s 3ms/step - loss: 0.0111 - val_loss: 0.0100\n",
            "Epoch 9/10\n",
            "4095/4095 [==============================] - 12s 3ms/step - loss: 0.0106 - val_loss: 0.0058\n",
            "Epoch 10/10\n",
            "4095/4095 [==============================] - 12s 3ms/step - loss: 0.0103 - val_loss: 0.0149\n"
          ]
        },
        {
          "output_type": "execute_result",
          "data": {
            "text/plain": [
              "<keras.callbacks.History at 0x7fd6a6114ed0>"
            ]
          },
          "metadata": {},
          "execution_count": 118
        }
      ]
    },
    {
      "cell_type": "code",
      "source": [
        "cnnSKN.save(os.path.join('U:\\Downloads\\Jupyter', 'trial18.hdf5'))"
      ],
      "metadata": {
        "id": "bLbPz9x0Qm5u"
      },
      "id": "bLbPz9x0Qm5u",
      "execution_count": null,
      "outputs": []
    },
    {
      "cell_type": "code",
      "source": [
        "pred18 = cnnSKN.predict(x)\n",
        "#print(\"Shape: {}\".format(pred2.shape))\n",
        "#print(pred2[0:5])"
      ],
      "metadata": {
        "id": "jMSIqBeSQm3m"
      },
      "id": "jMSIqBeSQm3m",
      "execution_count": null,
      "outputs": []
    },
    {
      "cell_type": "code",
      "source": [
        "score = np.sqrt(metrics.mean_squared_error(pred18,y))\n",
        "print('Final score (RMSE): {}'.format(score))\n",
        "\n",
        "predict_classes = np.argmax(pred11,axis=1)\n",
        "\n",
        "true_classes = np.argmax(y,axis=1)\n",
        "\n",
        "print(\"Predictions: {}\".format(predict_classes))\n",
        "print(\"True: {}\".format(true_classes))\n",
        "\n",
        "correct = metrics.accuracy_score(true_classes, predict_classes)\n",
        "print(\"Accuracy: {}\".format(correct))\n",
        "precision = metrics.precision_score(true_classes, predict_classes, average= \"weighted\")\n",
        "print(\"Precision score: {}\".format(precision))\n",
        "recall = metrics.recall_score(true_classes, predict_classes, average= \"weighted\")\n",
        "print(\"Recall score: {}\".format(recall))\n",
        "f1 = metrics.f1_score(true_classes, predict_classes, average= \"weighted\")\n",
        "print(\"F1 score: {}\".format(f1))\n",
        "\"\"\"\n",
        "# Generate predictions\n",
        "pred = model.predict(x_test)\n",
        "\n",
        "print(\"Numpy array of predictions\")\n",
        "print(pred[0:5])\n",
        "print()\n",
        "print(\"y_test:\")\n",
        "print(y_test[0:5])\n",
        "\n",
        "score = metrics.log_loss(y_test, pred)\n",
        "print(\"Log loss score: {}\".format(score))\n",
        "\"\"\""
      ],
      "metadata": {
        "colab": {
          "base_uri": "https://localhost:8080/",
          "height": 174
        },
        "id": "aWTbnQCiQm1Y",
        "outputId": "e128c2db-f1f6-4567-dd4c-68d93e541b87"
      },
      "id": "aWTbnQCiQm1Y",
      "execution_count": null,
      "outputs": [
        {
          "output_type": "stream",
          "name": "stdout",
          "text": [
            "Final score (RMSE): 0.04670027643442154\n",
            "Predictions: [0 0 0 ... 0 0 0]\n",
            "True: [0 0 0 ... 0 0 0]\n",
            "Accuracy: 0.9951780746642854\n",
            "Precision score: 0.9951850441692354\n",
            "Recall score: 0.9951780746642854\n",
            "F1 score: 0.9951755412205202\n"
          ]
        },
        {
          "output_type": "execute_result",
          "data": {
            "text/plain": [
              "'\\n# Generate predictions\\npred = model.predict(x_test)\\n\\nprint(\"Numpy array of predictions\")\\nprint(pred[0:5])\\nprint()\\nprint(\"y_test:\")\\nprint(y_test[0:5])\\n\\nscore = metrics.log_loss(y_test, pred)\\nprint(\"Log loss score: {}\".format(score))\\n'"
            ],
            "application/vnd.google.colaboratory.intrinsic+json": {
              "type": "string"
            }
          },
          "metadata": {},
          "execution_count": 121
        }
      ]
    },
    {
      "cell_type": "code",
      "source": [
        "# define a CNN\n",
        "\n",
        "cnnBKS = Sequential()\n",
        "cnnBKS.add(Conv2D(64, kernel_size=(5,1), strides=(1,1),\n",
        "                 activation='relu',\n",
        "                 input_shape=(40, 1, 1)))\n",
        "\n",
        "\n",
        "# the above code is equivalent to \n",
        "# model.add(Conv1D(64, kernel_size=3, strides=1, activation='relu', input_shape=(128, 1)))\n",
        "    \n",
        "cnnBKS.add(Flatten())\n",
        "cnnBKS.add(Dense(64, activation=\"relu\"))\n",
        "cnnBKS.add(Dropout(0.5))\n",
        "cnnBKS.add(Dense(2, activation=\"softmax\"))\n",
        "\n",
        "# define optimizer and objective, compile cnn\n",
        "\n",
        "cnnBKS.compile(loss=\"categorical_crossentropy\", optimizer=\"adam\")\n",
        "\n",
        "monitor = EarlyStopping(monitor='val_loss', min_delta=0.001, patience = 2, verbose = 2, mode = 'auto')\n",
        "\n",
        "#cnn.fit(x, y, batch_size = 32, epochs = 100, validation_split = 0.1)\n",
        "cnnBKS.fit(x, y, epochs = 10, validation_split = 0.1)\n",
        "#cnn.fit(x_train, y_train, verbose=2, epochs=10)  \n",
        "#cnn.fit(x_train,y_train, callbacks=[monitor], verbose=2, epochs=10)    # Verbosity mode. 0 = silent, 1 = progress bar, 2 = one line per epoch.\n",
        "#cnn.fit(x, y, epochs = 10)"
      ],
      "metadata": {
        "colab": {
          "base_uri": "https://localhost:8080/"
        },
        "id": "5QSAnwCMR3_h",
        "outputId": "c61b0f61-7d0b-41b9-c5ed-e02cacb13c76"
      },
      "id": "5QSAnwCMR3_h",
      "execution_count": null,
      "outputs": [
        {
          "output_type": "stream",
          "name": "stdout",
          "text": [
            "Epoch 1/10\n",
            "4095/4095 [==============================] - 11s 3ms/step - loss: 0.0378 - val_loss: 0.0086\n",
            "Epoch 2/10\n",
            "4095/4095 [==============================] - 11s 3ms/step - loss: 0.0206 - val_loss: 0.0118\n",
            "Epoch 3/10\n",
            "4095/4095 [==============================] - 11s 3ms/step - loss: 0.0189 - val_loss: 0.0122\n",
            "Epoch 4/10\n",
            "4095/4095 [==============================] - 11s 3ms/step - loss: 0.0170 - val_loss: 0.0105\n",
            "Epoch 5/10\n",
            "4095/4095 [==============================] - 11s 3ms/step - loss: 0.0170 - val_loss: 0.0117\n",
            "Epoch 6/10\n",
            "4095/4095 [==============================] - 11s 3ms/step - loss: 0.0158 - val_loss: 0.0105\n",
            "Epoch 7/10\n",
            "4095/4095 [==============================] - 11s 3ms/step - loss: 0.0138 - val_loss: 0.0124\n",
            "Epoch 8/10\n",
            "4095/4095 [==============================] - 11s 3ms/step - loss: 0.0133 - val_loss: 0.0119\n",
            "Epoch 9/10\n",
            "4095/4095 [==============================] - 11s 3ms/step - loss: 0.0135 - val_loss: 0.0190\n",
            "Epoch 10/10\n",
            "4095/4095 [==============================] - 11s 3ms/step - loss: 0.0131 - val_loss: 0.0102\n"
          ]
        },
        {
          "output_type": "execute_result",
          "data": {
            "text/plain": [
              "<keras.callbacks.History at 0x7fd68cf08e10>"
            ]
          },
          "metadata": {},
          "execution_count": 164
        }
      ]
    },
    {
      "cell_type": "code",
      "source": [
        "cnnBKS.save(os.path.join('U:\\Downloads\\Jupyter', 'trial19.hdf5'))"
      ],
      "metadata": {
        "id": "F_rHb_RLR39G"
      },
      "id": "F_rHb_RLR39G",
      "execution_count": null,
      "outputs": []
    },
    {
      "cell_type": "code",
      "source": [
        "pred19 = cnnBKS.predict(x)\n",
        "#print(\"Shape: {}\".format(pred2.shape))\n",
        "#print(pred2[0:5])"
      ],
      "metadata": {
        "id": "RaJtZirER37A"
      },
      "id": "RaJtZirER37A",
      "execution_count": null,
      "outputs": []
    },
    {
      "cell_type": "code",
      "source": [
        "score = np.sqrt(metrics.mean_squared_error(pred19,y))\n",
        "print('Final score (RMSE): {}'.format(score))\n",
        "\n",
        "predict_classes = np.argmax(pred11,axis=1)\n",
        "\n",
        "true_classes = np.argmax(y,axis=1)\n",
        "\n",
        "print(\"Predictions: {}\".format(predict_classes))\n",
        "print(\"True: {}\".format(true_classes))\n",
        "\n",
        "correct = metrics.accuracy_score(true_classes, predict_classes)\n",
        "print(\"Accuracy: {}\".format(correct))\n",
        "precision = metrics.precision_score(true_classes, predict_classes, average= \"weighted\")\n",
        "print(\"Precision score: {}\".format(precision))\n",
        "recall = metrics.recall_score(true_classes, predict_classes, average= \"weighted\")\n",
        "print(\"Recall score: {}\".format(recall))\n",
        "f1 = metrics.f1_score(true_classes, predict_classes, average= \"weighted\")\n",
        "print(\"F1 score: {}\".format(f1))\n",
        "\"\"\"\n",
        "# Generate predictions\n",
        "pred = model.predict(x_test)\n",
        "\n",
        "print(\"Numpy array of predictions\")\n",
        "print(pred[0:5])\n",
        "print()\n",
        "print(\"y_test:\")\n",
        "print(y_test[0:5])\n",
        "\n",
        "score = metrics.log_loss(y_test, pred)\n",
        "print(\"Log loss score: {}\".format(score))\n",
        "\"\"\""
      ],
      "metadata": {
        "colab": {
          "base_uri": "https://localhost:8080/",
          "height": 174
        },
        "id": "8WrrYmgeR342",
        "outputId": "fa0a13db-fa21-4db3-cfc1-af2887610e0e"
      },
      "id": "8WrrYmgeR342",
      "execution_count": null,
      "outputs": [
        {
          "output_type": "stream",
          "name": "stdout",
          "text": [
            "Final score (RMSE): 0.04301976040005684\n",
            "Predictions: [0 0 0 ... 0 0 0]\n",
            "True: [0 0 0 ... 0 0 0]\n",
            "Accuracy: 0.9951780746642854\n",
            "Precision score: 0.9951850441692354\n",
            "Recall score: 0.9951780746642854\n",
            "F1 score: 0.9951755412205202\n"
          ]
        },
        {
          "output_type": "execute_result",
          "data": {
            "text/plain": [
              "'\\n# Generate predictions\\npred = model.predict(x_test)\\n\\nprint(\"Numpy array of predictions\")\\nprint(pred[0:5])\\nprint()\\nprint(\"y_test:\")\\nprint(y_test[0:5])\\n\\nscore = metrics.log_loss(y_test, pred)\\nprint(\"Log loss score: {}\".format(score))\\n'"
            ],
            "application/vnd.google.colaboratory.intrinsic+json": {
              "type": "string"
            }
          },
          "metadata": {},
          "execution_count": 167
        }
      ]
    },
    {
      "cell_type": "code",
      "source": [
        "# define a CNN\n",
        "\n",
        "cnnSKS = Sequential()\n",
        "cnnSKS.add(Conv2D(64, kernel_size=(2,1), strides=(1,1),\n",
        "                 activation='relu',\n",
        "                 input_shape=(40, 1, 1)))\n",
        "\n",
        "\n",
        "# the above code is equivalent to \n",
        "# model.add(Conv1D(64, kernel_size=3, strides=1, activation='relu', input_shape=(128, 1)))\n",
        "\n",
        "cnnSKS.add(MaxPooling2D(pool_size=(1,1)))\n",
        "\n",
        "cnnSKS.add(Conv1D(64, kernel_size=1, #strides=(1, 1),\n",
        "                 activation='relu'))\n",
        "cnnSKS.add(MaxPooling2D(pool_size=(1,1)))\n",
        "    \n",
        "    \n",
        "cnnSKS.add(Flatten())\n",
        "cnnSKS.add(Dense(1024, activation=\"relu\"))\n",
        "cnnSKS.add(Dropout(0.5))\n",
        "cnnSKS.add(Dense(2, activation=\"softmax\"))\n",
        "\n",
        "# define optimizer and objective, compile cnn\n",
        "\n",
        "cnnSKS.compile(loss=\"categorical_crossentropy\", optimizer=\"adam\")\n",
        "\n",
        "monitor = EarlyStopping(monitor='val_loss', min_delta=0.001, patience = 2, verbose = 2, mode = 'auto')\n",
        "\n",
        "#cnn.fit(x, y, batch_size = 32, epochs = 100, validation_split = 0.1)\n",
        "cnnSKS.fit(x, y, epochs = 10, validation_split = 0.1)\n",
        "#cnn.fit(x_train, y_train, verbose=2, epochs=10)  \n",
        "#cnn.fit(x_train,y_train, callbacks=[monitor], verbose=2, epochs=10)    # Verbosity mode. 0 = silent, 1 = progress bar, 2 = one line per epoch.\n",
        "#cnn.fit(x, y, epochs = 10)"
      ],
      "metadata": {
        "colab": {
          "base_uri": "https://localhost:8080/"
        },
        "id": "opwDyTFqR32P",
        "outputId": "e11446f2-7780-4174-8a1d-40344ac68969"
      },
      "id": "opwDyTFqR32P",
      "execution_count": null,
      "outputs": [
        {
          "output_type": "stream",
          "name": "stdout",
          "text": [
            "Epoch 1/10\n",
            "4095/4095 [==============================] - 14s 3ms/step - loss: 0.0227 - val_loss: 0.0073\n",
            "Epoch 2/10\n",
            "4095/4095 [==============================] - 14s 3ms/step - loss: 0.0117 - val_loss: 0.0120\n",
            "Epoch 3/10\n",
            "4095/4095 [==============================] - 14s 3ms/step - loss: 0.0097 - val_loss: 0.0114\n",
            "Epoch 4/10\n",
            "4095/4095 [==============================] - 13s 3ms/step - loss: 0.0085 - val_loss: 0.0188\n",
            "Epoch 5/10\n",
            "4095/4095 [==============================] - 13s 3ms/step - loss: 0.0076 - val_loss: 0.0158\n",
            "Epoch 6/10\n",
            "4095/4095 [==============================] - 14s 3ms/step - loss: 0.0075 - val_loss: 0.0232\n",
            "Epoch 7/10\n",
            "4095/4095 [==============================] - 14s 3ms/step - loss: 0.0069 - val_loss: 0.0162\n",
            "Epoch 8/10\n",
            "4095/4095 [==============================] - 14s 3ms/step - loss: 0.0064 - val_loss: 0.0266\n",
            "Epoch 9/10\n",
            "4095/4095 [==============================] - 14s 3ms/step - loss: 0.0065 - val_loss: 0.0344\n",
            "Epoch 10/10\n",
            "4095/4095 [==============================] - 14s 3ms/step - loss: 0.0062 - val_loss: 0.0204\n"
          ]
        },
        {
          "output_type": "execute_result",
          "data": {
            "text/plain": [
              "<keras.callbacks.History at 0x7fd68d7c9a50>"
            ]
          },
          "metadata": {},
          "execution_count": 169
        }
      ]
    },
    {
      "cell_type": "code",
      "source": [
        "cnnSKS.save(os.path.join('U:\\Downloads\\Jupyter', 'trial20.hdf5'))"
      ],
      "metadata": {
        "id": "R5jt6sMXQmzB"
      },
      "id": "R5jt6sMXQmzB",
      "execution_count": null,
      "outputs": []
    },
    {
      "cell_type": "code",
      "source": [
        "pred20 = cnnSKS.predict(x)\n",
        "#print(\"Shape: {}\".format(pred2.shape))\n",
        "#print(pred2[0:5])"
      ],
      "metadata": {
        "id": "lsWR9vZmS1J2"
      },
      "id": "lsWR9vZmS1J2",
      "execution_count": null,
      "outputs": []
    },
    {
      "cell_type": "code",
      "source": [
        "score = np.sqrt(metrics.mean_squared_error(pred20,y))\n",
        "print('Final score (RMSE): {}'.format(score))\n",
        "\n",
        "predict_classes = np.argmax(pred11,axis=1)\n",
        "\n",
        "true_classes = np.argmax(y,axis=1)\n",
        "\n",
        "print(\"Predictions: {}\".format(predict_classes))\n",
        "print(\"True: {}\".format(true_classes))\n",
        "\n",
        "correct = metrics.accuracy_score(true_classes, predict_classes)\n",
        "print(\"Accuracy: {}\".format(correct))\n",
        "precision = metrics.precision_score(true_classes, predict_classes, average= \"weighted\")\n",
        "print(\"Precision score: {}\".format(precision))\n",
        "recall = metrics.recall_score(true_classes, predict_classes, average= \"weighted\")\n",
        "print(\"Recall score: {}\".format(recall))\n",
        "f1 = metrics.f1_score(true_classes, predict_classes, average= \"weighted\")\n",
        "print(\"F1 score: {}\".format(f1))\n",
        "\"\"\"\n",
        "# Generate predictions\n",
        "pred = model.predict(x_test)\n",
        "\n",
        "print(\"Numpy array of predictions\")\n",
        "print(pred[0:5])\n",
        "print()\n",
        "print(\"y_test:\")\n",
        "print(y_test[0:5])\n",
        "\n",
        "score = metrics.log_loss(y_test, pred)\n",
        "print(\"Log loss score: {}\".format(score))\n",
        "\"\"\""
      ],
      "metadata": {
        "colab": {
          "base_uri": "https://localhost:8080/",
          "height": 174
        },
        "id": "iY-6hi0JS1Hm",
        "outputId": "9e019a13-6697-4b3f-d38d-6c2be21e6c87"
      },
      "id": "iY-6hi0JS1Hm",
      "execution_count": null,
      "outputs": [
        {
          "output_type": "stream",
          "name": "stdout",
          "text": [
            "Final score (RMSE): 0.0479968786239624\n",
            "Predictions: [0 0 0 ... 0 0 0]\n",
            "True: [0 0 0 ... 0 0 0]\n",
            "Accuracy: 0.9951780746642854\n",
            "Precision score: 0.9951850441692354\n",
            "Recall score: 0.9951780746642854\n",
            "F1 score: 0.9951755412205202\n"
          ]
        },
        {
          "output_type": "execute_result",
          "data": {
            "text/plain": [
              "'\\n# Generate predictions\\npred = model.predict(x_test)\\n\\nprint(\"Numpy array of predictions\")\\nprint(pred[0:5])\\nprint()\\nprint(\"y_test:\")\\nprint(y_test[0:5])\\n\\nscore = metrics.log_loss(y_test, pred)\\nprint(\"Log loss score: {}\".format(score))\\n'"
            ],
            "application/vnd.google.colaboratory.intrinsic+json": {
              "type": "string"
            }
          },
          "metadata": {},
          "execution_count": 172
        }
      ]
    }
  ],
  "metadata": {
    "accelerator": "GPU",
    "colab": {
      "collapsed_sections": [],
      "machine_shape": "hm",
      "provenance": [],
      "toc_visible": true
    },
    "kernelspec": {
      "display_name": "Python 3",
      "language": "python",
      "name": "python3"
    },
    "language_info": {
      "codemirror_mode": {
        "name": "ipython",
        "version": 3
      },
      "file_extension": ".py",
      "mimetype": "text/x-python",
      "name": "python",
      "nbconvert_exporter": "python",
      "pygments_lexer": "ipython3",
      "version": "3.8.8"
    },
    "gpuClass": "standard"
  },
  "nbformat": 4,
  "nbformat_minor": 5
}