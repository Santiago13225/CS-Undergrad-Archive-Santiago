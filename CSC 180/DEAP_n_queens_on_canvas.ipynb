{
  "cells": [
    {
      "cell_type": "markdown",
      "metadata": {
        "id": "GxGA1SMjVOTm"
      },
      "source": [
        "## Project 4:  Solving N-Queens Problem using Genetic Algorithms\n",
        "\n",
        "#### CSC 180  Intelligent Systems\n",
        "\n",
        "#### Dr. Haiquan Chen, California State University, Sacramento\n"
      ]
    },
    {
      "cell_type": "code",
      "execution_count": null,
      "metadata": {
        "id": "IMDxC_z3pKB_"
      },
      "outputs": [],
      "source": [
        "# Insert your name, your id, course title, assignment id, and due date here as comment \n",
        "'''\n",
        "CSC 180\n",
        "\n",
        "Santiago Bermudez, ID: 301118090\n",
        "Amad Shah, ID: 301753101\n",
        "Eric Truong, ID: 219318451\n",
        "\n",
        "Project 3\n",
        "\n",
        "Due: 11/18/22\n",
        "'''"
      ]
    },
    {
      "cell_type": "markdown",
      "metadata": {
        "id": "HibX8kusV5PD"
      },
      "source": [
        "\n",
        "## Part I: Position-index-based board representation"
      ]
    },
    {
      "cell_type": "code",
      "source": [
        "!pip install deap"
      ],
      "metadata": {
        "id": "1VMsuoaZlhsx",
        "colab": {
          "base_uri": "https://localhost:8080/"
        },
        "outputId": "5e0aff93-d628-4db0-8305-e0864c2d42c6"
      },
      "execution_count": null,
      "outputs": [
        {
          "output_type": "stream",
          "name": "stdout",
          "text": [
            "Looking in indexes: https://pypi.org/simple, https://us-python.pkg.dev/colab-wheels/public/simple/\n",
            "Collecting deap\n",
            "  Downloading deap-1.3.3-cp37-cp37m-manylinux_2_5_x86_64.manylinux1_x86_64.manylinux_2_17_x86_64.manylinux2014_x86_64.whl (139 kB)\n",
            "\u001b[K     |████████████████████████████████| 139 kB 4.8 MB/s \n",
            "\u001b[?25hRequirement already satisfied: numpy in /usr/local/lib/python3.7/dist-packages (from deap) (1.21.6)\n",
            "Installing collected packages: deap\n",
            "Successfully installed deap-1.3.3\n"
          ]
        }
      ]
    },
    {
      "cell_type": "code",
      "execution_count": null,
      "metadata": {
        "id": "LcEVm7paVOTo"
      },
      "outputs": [],
      "source": [
        "import random\n",
        "import numpy as np\n",
        "from deap import algorithms, base, creator, tools\n",
        "\n",
        "creator.create(\"FitnessMin\", base.Fitness, weights=(-1.0,))\n",
        "creator.create(\"Individual\", list, fitness=creator.FitnessMin)"
      ]
    },
    {
      "cell_type": "code",
      "execution_count": null,
      "metadata": {
        "id": "AjYwh9eYVOTt"
      },
      "outputs": [],
      "source": [
        "def create_individual():\n",
        "    return random.sample(range(64), 8)"
      ]
    },
    {
      "cell_type": "code",
      "execution_count": null,
      "metadata": {
        "id": "V3rgKtu_VOTv",
        "colab": {
          "base_uri": "https://localhost:8080/"
        },
        "outputId": "a8e660e2-0180-4bba-f949-734f80e44895"
      },
      "outputs": [
        {
          "output_type": "stream",
          "name": "stdout",
          "text": [
            "[12, 28, 38, 41, 1, 61, 24, 14]\n"
          ]
        }
      ],
      "source": [
        "print(create_individual())"
      ]
    },
    {
      "cell_type": "code",
      "execution_count": null,
      "metadata": {
        "id": "ekoiWdxDVOTy"
      },
      "outputs": [],
      "source": [
        "def show_grid(board):\n",
        "    \n",
        "    n = [0]*64\n",
        "    for i in board:\n",
        "        n[i] = 1\n",
        "\n",
        "    for i in range(8):\n",
        "        for j in range(64):\n",
        "            if j // 8 == i:\n",
        "                if n[j] == 1:\n",
        "                    print('X',end=\"|\")\n",
        "                else:\n",
        "                    print('-',end=\"|\")\n",
        "        print()\n",
        "        print(\"----------------\")"
      ]
    },
    {
      "cell_type": "code",
      "execution_count": null,
      "metadata": {
        "id": "N8XtgeUKVOT0"
      },
      "outputs": [],
      "source": [
        "toolbox = base.Toolbox()\n",
        "\n",
        "toolbox.register(\"individual\", tools.initIterate, creator.Individual, create_individual)\n",
        "\n",
        "toolbox.register(\"population\", tools.initRepeat, list, toolbox.individual)"
      ]
    },
    {
      "cell_type": "code",
      "execution_count": null,
      "metadata": {
        "id": "YTk0VOT-VOT3",
        "colab": {
          "base_uri": "https://localhost:8080/"
        },
        "outputId": "e74065f5-baa6-4dfe-af14-c39a98f5ebe9"
      },
      "outputs": [
        {
          "output_type": "stream",
          "name": "stdout",
          "text": [
            "[61, 12, 47, 21, 38, 63, 57, 11]\n"
          ]
        }
      ],
      "source": [
        "pop = toolbox.population(n=5)\n",
        "\n",
        "print(pop[0])"
      ]
    },
    {
      "cell_type": "code",
      "execution_count": null,
      "metadata": {
        "id": "letgI4JkVOT6",
        "colab": {
          "base_uri": "https://localhost:8080/"
        },
        "outputId": "acd0b59c-67bf-4a89-ac57-8d2f598ecb44"
      },
      "outputs": [
        {
          "output_type": "stream",
          "name": "stdout",
          "text": [
            "-|-|-|-|-|-|-|-|\n",
            "----------------\n",
            "-|-|-|X|X|-|-|-|\n",
            "----------------\n",
            "-|-|-|-|-|X|-|-|\n",
            "----------------\n",
            "-|-|-|-|-|-|-|-|\n",
            "----------------\n",
            "-|-|-|-|-|-|X|-|\n",
            "----------------\n",
            "-|-|-|-|-|-|-|X|\n",
            "----------------\n",
            "-|-|-|-|-|-|-|-|\n",
            "----------------\n",
            "-|X|-|-|-|X|-|X|\n",
            "----------------\n"
          ]
        }
      ],
      "source": [
        "show_grid(pop[0])"
      ]
    },
    {
      "cell_type": "markdown",
      "metadata": {
        "id": "qzj4Y0L5VOT8"
      },
      "source": [
        "### 10 pts:  Write your code in the cell below to define the \"evaFitness\" function, which returns the fitness of any given board.  \n",
        "\n",
        "- Noticed that in this case, mutation may generate invalid board, e.g., the board with dupliciate positions.  Think about   [5, 32, 8, 8, 41, 3, 55, 49]\n",
        "\n",
        "- How to exclude those invalid boards from each generation? One way is to add some penalty to the fitness value of invalid boards.  In that case, any invalid board will have a very high fitness value (remember that our goal is to find the board with least fitness value).    To do that, let's write a function ***checkDuplicate()*** to calculate the number of queen pairs in the same position for any given board.   ***Give each duplicate a high penalty (i.e., multiply by 20, 50) and add the penalty to the fitness value.*** \n",
        "\n",
        "-  evaFitness() returns the total number of duplicate position pair (with penalty) plus the total number of distinct pairs of queens that attack each other.  "
      ]
    },
    {
      "cell_type": "code",
      "execution_count": null,
      "metadata": {
        "id": "ZTHRSMRMVOT8",
        "colab": {
          "base_uri": "https://localhost:8080/"
        },
        "outputId": "4f837528-9c23-429a-bc5d-bd439efe2d1d"
      },
      "outputs": [
        {
          "output_type": "stream",
          "name": "stdout",
          "text": [
            "Checking for duplicates:  1\n",
            "Checking for conflicts:  [26]\n"
          ]
        }
      ],
      "source": [
        "#fitness function\n",
        "def evaFitness(individual):  \n",
        "    conflict = 0\n",
        "    for i in range(len(individual)):\n",
        "        iVal = individual[i]\n",
        "\n",
        "        for jVal in individual[i + 1:]:\n",
        "            if((iVal % 8) == (jVal % 8)):\n",
        "                conflict += 1\n",
        "            elif((iVal - (iVal % 8)) == (jVal - (jVal % 8))):\n",
        "                conflict += 1\n",
        "            else:\n",
        "                dist = abs(jVal - iVal)\n",
        "                vOffset = (jVal % 8) if (jVal >= iVal) else (iVal % 8)\n",
        "                vDist = (dist - vOffset)//8 + 1\n",
        "                hDist = abs((jVal % 8) - (iVal % 8))\n",
        "    \n",
        "                if(hDist == vDist):\n",
        "                    conflict += 1\n",
        "    \n",
        "    return [(checkDuplicate(individual)*20 + conflict)]\n",
        "    \n",
        "# Calculate the number of queen pairs in the same position for any given board\n",
        "def checkDuplicate(individual):\n",
        "    dup = 0\n",
        "    for i in range(len(individual)):\n",
        "        for j in individual[i + 1:]:\n",
        "            if(individual[i] == j):\n",
        "                dup += 1\n",
        "                break\n",
        "    \n",
        "    return dup\n",
        "    \n",
        "print(\"Checking for duplicates: \", checkDuplicate([5, 32, 8, 8, 41, 3, 55, 49]))\n",
        "print(\"Checking for conflicts: \", evaFitness([5, 32, 8, 8, 41, 3, 55, 49]))"
      ]
    },
    {
      "cell_type": "markdown",
      "metadata": {
        "id": "tikbcB_kVOT-"
      },
      "source": [
        "### 5 pts:  Writer your code in the cell below to register \"evaluate\" function to toolbox"
      ]
    },
    {
      "cell_type": "code",
      "execution_count": null,
      "metadata": {
        "id": "bMjmesXqVOT_"
      },
      "outputs": [],
      "source": [
        "toolbox.register(\"evaluate\", evaFitness)"
      ]
    },
    {
      "cell_type": "code",
      "execution_count": null,
      "metadata": {
        "id": "_eDjyzBlVOUB"
      },
      "outputs": [],
      "source": [
        "toolbox.register(\"mate\", tools.cxTwoPoint)\n",
        "\n",
        "toolbox.register(\"mutate\", tools.mutUniformInt, low = 0, up = 63, indpb=0.1)\n",
        "\n",
        "toolbox.register(\"select\", tools.selTournament, tournsize=3)"
      ]
    },
    {
      "cell_type": "code",
      "execution_count": null,
      "metadata": {
        "id": "6uej76HoVOUD"
      },
      "outputs": [],
      "source": [
        "stats = tools.Statistics(key=lambda ind: ind.fitness.values)"
      ]
    },
    {
      "cell_type": "code",
      "execution_count": null,
      "metadata": {
        "id": "W8cWVXmxVOUH"
      },
      "outputs": [],
      "source": [
        "stats.register(\"avg\", np.mean)\n",
        "stats.register(\"min\", np.min)"
      ]
    },
    {
      "cell_type": "markdown",
      "metadata": {
        "id": "OmnhqV_MVOUJ"
      },
      "source": [
        "### 10 pts:  Write your code in the cell below to create the first generation, the hall of fame, and launch the genetic algorithm: eaSimple().   How many individuals you want to have for each generation and how many generations you want GA to go thourgh for each run?     Vary those two parameters to see the change. "
      ]
    },
    {
      "cell_type": "code",
      "execution_count": null,
      "metadata": {
        "id": "SsTaPuPgVOUK",
        "colab": {
          "base_uri": "https://localhost:8080/"
        },
        "outputId": "8a2c0130-526b-445f-fd8e-e45bdb7b74c5"
      },
      "outputs": [
        {
          "output_type": "stream",
          "name": "stdout",
          "text": [
            "Genetic Algorithm model with population size of  500  and generation size of  10\n",
            "gen\tnevals\tavg  \tmin\n",
            "0  \t500   \t10.08\t4  \n",
            "1  \t385   \t11.988\t4  \n",
            "2  \t396   \t11.568\t4  \n",
            "3  \t384   \t10.898\t3  \n",
            "4  \t377   \t10.334\t2  \n",
            "5  \t384   \t10.298\t3  \n",
            "6  \t361   \t9.28  \t2  \n",
            "7  \t378   \t9.656 \t2  \n",
            "8  \t379   \t9.42  \t2  \n",
            "9  \t392   \t9.13  \t2  \n",
            "10 \t347   \t8.296 \t2  \n",
            "Genetic Algorithm model with population size of  500  and generation size of  50\n",
            "gen\tnevals\tavg  \tmin\n",
            "0  \t500   \t9.968\t5  \n",
            "1  \t381   \t11.414\t4  \n",
            "2  \t377   \t11.376\t4  \n",
            "3  \t382   \t10.402\t3  \n",
            "4  \t376   \t10.892\t3  \n",
            "5  \t385   \t10.446\t3  \n",
            "6  \t391   \t10.364\t3  \n",
            "7  \t405   \t10.646\t3  \n",
            "8  \t387   \t9.94  \t3  \n",
            "9  \t354   \t9.316 \t3  \n",
            "10 \t365   \t8.698 \t3  \n",
            "11 \t358   \t8.84  \t2  \n",
            "12 \t388   \t8.968 \t3  \n",
            "13 \t376   \t8.298 \t2  \n",
            "14 \t366   \t8.91  \t2  \n",
            "15 \t398   \t8.052 \t2  \n",
            "16 \t383   \t8.112 \t2  \n",
            "17 \t390   \t6.752 \t2  \n",
            "18 \t396   \t6.302 \t2  \n",
            "19 \t396   \t6.078 \t2  \n",
            "20 \t362   \t5.718 \t2  \n",
            "21 \t378   \t4.972 \t2  \n",
            "22 \t382   \t4.522 \t2  \n",
            "23 \t383   \t4.232 \t2  \n",
            "24 \t381   \t3.224 \t1  \n",
            "25 \t388   \t2.604 \t1  \n",
            "26 \t371   \t2.794 \t1  \n",
            "27 \t359   \t2.788 \t1  \n",
            "28 \t369   \t2.466 \t1  \n",
            "29 \t370   \t2.52  \t1  \n",
            "30 \t368   \t2.348 \t1  \n",
            "31 \t383   \t1.95  \t1  \n",
            "32 \t392   \t2.112 \t1  \n",
            "33 \t361   \t1.384 \t1  \n",
            "34 \t380   \t1.772 \t1  \n",
            "35 \t370   \t1.986 \t1  \n",
            "36 \t385   \t1.67  \t1  \n",
            "37 \t384   \t1.562 \t1  \n",
            "38 \t380   \t1.692 \t1  \n",
            "39 \t385   \t1.672 \t1  \n",
            "40 \t359   \t1.424 \t1  \n",
            "41 \t390   \t1.558 \t1  \n",
            "42 \t383   \t1.926 \t1  \n",
            "43 \t391   \t1.704 \t1  \n",
            "44 \t380   \t1.876 \t1  \n",
            "45 \t372   \t1.728 \t1  \n",
            "46 \t386   \t1.742 \t1  \n",
            "47 \t398   \t1.808 \t1  \n",
            "48 \t395   \t1.516 \t1  \n",
            "49 \t378   \t1.698 \t1  \n",
            "50 \t394   \t1.642 \t1  \n",
            "Genetic Algorithm model with population size of  500  and generation size of  100\n",
            "gen\tnevals\tavg   \tmin\n",
            "0  \t500   \t10.012\t4  \n",
            "1  \t382   \t11.988\t4  \n",
            "2  \t395   \t11.508\t4  \n",
            "3  \t363   \t10.512\t4  \n",
            "4  \t389   \t10.308\t4  \n",
            "5  \t366   \t10.242\t3  \n",
            "6  \t359   \t9.808 \t3  \n",
            "7  \t386   \t9.568 \t3  \n",
            "8  \t362   \t8.95  \t3  \n",
            "9  \t386   \t8.656 \t3  \n",
            "10 \t410   \t8.464 \t3  \n",
            "11 \t381   \t7.888 \t3  \n",
            "12 \t361   \t6.522 \t3  \n",
            "13 \t395   \t5.308 \t2  \n",
            "14 \t373   \t4.296 \t2  \n",
            "15 \t372   \t3.958 \t2  \n",
            "16 \t393   \t3.56  \t2  \n",
            "17 \t384   \t3.508 \t2  \n",
            "18 \t390   \t3.222 \t2  \n",
            "19 \t356   \t3.202 \t2  \n",
            "20 \t383   \t3.374 \t2  \n",
            "21 \t395   \t2.638 \t2  \n",
            "22 \t399   \t2.758 \t2  \n",
            "23 \t393   \t2.61  \t2  \n",
            "24 \t401   \t2.738 \t2  \n",
            "25 \t385   \t2.582 \t2  \n",
            "26 \t373   \t2.806 \t2  \n",
            "27 \t381   \t2.702 \t2  \n",
            "28 \t384   \t2.59  \t2  \n",
            "29 \t359   \t2.816 \t2  \n",
            "30 \t390   \t3     \t2  \n",
            "31 \t391   \t2.772 \t2  \n",
            "32 \t379   \t2.546 \t2  \n",
            "33 \t393   \t2.808 \t2  \n",
            "34 \t381   \t2.9   \t2  \n",
            "35 \t384   \t2.676 \t2  \n",
            "36 \t383   \t2.692 \t2  \n",
            "37 \t368   \t2.718 \t2  \n",
            "38 \t386   \t2.65  \t2  \n",
            "39 \t381   \t2.384 \t2  \n",
            "40 \t396   \t2.688 \t2  \n",
            "41 \t345   \t2.522 \t2  \n",
            "42 \t350   \t2.714 \t2  \n",
            "43 \t374   \t2.7   \t2  \n",
            "44 \t368   \t2.546 \t2  \n",
            "45 \t393   \t2.66  \t2  \n",
            "46 \t374   \t2.48  \t2  \n",
            "47 \t399   \t2.718 \t2  \n",
            "48 \t358   \t2.818 \t2  \n",
            "49 \t375   \t2.65  \t2  \n",
            "50 \t383   \t2.7   \t2  \n",
            "51 \t372   \t2.548 \t2  \n",
            "52 \t376   \t2.758 \t2  \n",
            "53 \t370   \t2.742 \t2  \n",
            "54 \t378   \t2.52  \t2  \n",
            "55 \t397   \t2.502 \t2  \n",
            "56 \t391   \t2.65  \t2  \n",
            "57 \t393   \t2.812 \t2  \n",
            "58 \t366   \t2.606 \t2  \n",
            "59 \t389   \t2.494 \t2  \n",
            "60 \t405   \t2.692 \t2  \n",
            "61 \t367   \t2.918 \t2  \n",
            "62 \t386   \t2.402 \t2  \n",
            "63 \t407   \t2.638 \t2  \n",
            "64 \t372   \t2.612 \t2  \n",
            "65 \t396   \t2.792 \t2  \n",
            "66 \t369   \t2.652 \t2  \n",
            "67 \t383   \t2.712 \t2  \n",
            "68 \t379   \t2.908 \t2  \n",
            "69 \t386   \t2.452 \t2  \n",
            "70 \t379   \t2.452 \t2  \n",
            "71 \t388   \t2.798 \t2  \n",
            "72 \t408   \t2.332 \t2  \n",
            "73 \t373   \t2.584 \t2  \n",
            "74 \t353   \t2.696 \t2  \n",
            "75 \t380   \t2.646 \t2  \n",
            "76 \t347   \t2.724 \t2  \n",
            "77 \t358   \t2.588 \t2  \n",
            "78 \t371   \t2.666 \t2  \n",
            "79 \t389   \t3     \t2  \n",
            "80 \t378   \t2.61  \t2  \n",
            "81 \t371   \t2.586 \t2  \n",
            "82 \t369   \t2.846 \t2  \n",
            "83 \t380   \t2.662 \t2  \n",
            "84 \t368   \t2.67  \t2  \n",
            "85 \t387   \t2.548 \t2  \n",
            "86 \t381   \t2.546 \t2  \n",
            "87 \t394   \t2.756 \t2  \n",
            "88 \t374   \t2.41  \t2  \n",
            "89 \t401   \t2.854 \t2  \n",
            "90 \t375   \t2.488 \t2  \n",
            "91 \t358   \t2.828 \t2  \n",
            "92 \t377   \t2.606 \t2  \n",
            "93 \t361   \t2.614 \t2  \n",
            "94 \t373   \t2.366 \t2  \n",
            "95 \t364   \t2.572 \t2  \n",
            "96 \t363   \t2.61  \t2  \n",
            "97 \t370   \t2.522 \t2  \n",
            "98 \t386   \t2.602 \t2  \n",
            "99 \t397   \t2.608 \t2  \n",
            "100\t369   \t2.712 \t2  \n",
            "Genetic Algorithm model with population size of  100  and generation size of  10\n",
            "gen\tnevals\tavg  \tmin\n",
            "0  \t100   \t10.08\t4  \n",
            "1  \t80    \t10.77\t5  \n",
            "2  \t80    \t11.79\t3  \n",
            "3  \t83    \t11.59\t3  \n",
            "4  \t85    \t9.78 \t3  \n",
            "5  \t73    \t11.81\t3  \n",
            "6  \t60    \t8.94 \t3  \n",
            "7  \t80    \t9.93 \t3  \n",
            "8  \t77    \t8.69 \t3  \n",
            "9  \t83    \t8.13 \t3  \n",
            "10 \t77    \t8.16 \t3  \n",
            "Genetic Algorithm model with population size of  100  and generation size of  50\n",
            "gen\tnevals\tavg \tmin\n",
            "0  \t100   \t9.91\t4  \n",
            "1  \t76    \t10.79\t4  \n",
            "2  \t74    \t10.23\t4  \n",
            "3  \t72    \t9.44 \t4  \n",
            "4  \t67    \t8.76 \t3  \n",
            "5  \t73    \t9.77 \t3  \n",
            "6  \t73    \t8.98 \t3  \n",
            "7  \t78    \t7.92 \t3  \n",
            "8  \t78    \t7.53 \t3  \n",
            "9  \t78    \t7.81 \t3  \n",
            "10 \t84    \t8.64 \t3  \n",
            "11 \t74    \t6.8  \t3  \n",
            "12 \t75    \t5.92 \t3  \n",
            "13 \t63    \t5.45 \t3  \n",
            "14 \t70    \t4.75 \t2  \n",
            "15 \t80    \t4    \t2  \n",
            "16 \t85    \t3.35 \t2  \n",
            "17 \t76    \t3.42 \t2  \n",
            "18 \t73    \t3.96 \t2  \n",
            "19 \t63    \t3.14 \t2  \n",
            "20 \t82    \t3.47 \t2  \n",
            "21 \t87    \t2.9  \t2  \n",
            "22 \t77    \t2.3  \t2  \n",
            "23 \t74    \t2.39 \t2  \n",
            "24 \t81    \t2.99 \t2  \n",
            "25 \t81    \t3.04 \t2  \n",
            "26 \t72    \t2.87 \t2  \n",
            "27 \t69    \t2.81 \t2  \n",
            "28 \t81    \t2.84 \t2  \n",
            "29 \t80    \t2.65 \t2  \n",
            "30 \t77    \t2.22 \t2  \n",
            "31 \t78    \t2.21 \t2  \n",
            "32 \t72    \t2.5  \t2  \n",
            "33 \t74    \t2.9  \t2  \n",
            "34 \t61    \t2.63 \t2  \n",
            "35 \t63    \t2.66 \t2  \n",
            "36 \t63    \t3.34 \t2  \n",
            "37 \t68    \t2.79 \t2  \n",
            "38 \t69    \t2.79 \t2  \n",
            "39 \t78    \t2.86 \t2  \n",
            "40 \t65    \t2.62 \t2  \n",
            "41 \t79    \t2.19 \t2  \n",
            "42 \t72    \t2.15 \t2  \n",
            "43 \t80    \t2.66 \t2  \n",
            "44 \t72    \t2.75 \t2  \n",
            "45 \t76    \t2.48 \t1  \n",
            "46 \t72    \t2.86 \t2  \n",
            "47 \t79    \t2.76 \t2  \n",
            "48 \t84    \t2.65 \t2  \n",
            "49 \t79    \t2.58 \t2  \n",
            "50 \t74    \t3.15 \t2  \n",
            "Genetic Algorithm model with population size of  100  and generation size of  100\n",
            "gen\tnevals\tavg \tmin\n",
            "0  \t100   \t9.78\t5  \n",
            "1  \t77    \t11.45\t3  \n",
            "2  \t78    \t11.99\t5  \n",
            "3  \t66    \t10.33\t5  \n",
            "4  \t76    \t9.41 \t4  \n",
            "5  \t71    \t9.81 \t4  \n",
            "6  \t77    \t8.55 \t4  \n",
            "7  \t72    \t9.44 \t3  \n",
            "8  \t75    \t9.63 \t3  \n",
            "9  \t66    \t7.77 \t3  \n",
            "10 \t74    \t7.06 \t2  \n",
            "11 \t80    \t5.83 \t2  \n",
            "12 \t80    \t4.45 \t2  \n",
            "13 \t75    \t3.33 \t1  \n",
            "14 \t71    \t3.64 \t1  \n",
            "15 \t78    \t2.67 \t1  \n",
            "16 \t73    \t2.76 \t1  \n",
            "17 \t70    \t2.42 \t1  \n",
            "18 \t83    \t1.95 \t1  \n",
            "19 \t65    \t1.33 \t1  \n",
            "20 \t80    \t1.4  \t1  \n",
            "21 \t67    \t1.92 \t1  \n",
            "22 \t77    \t1.82 \t1  \n",
            "23 \t84    \t1.77 \t1  \n",
            "24 \t76    \t1.73 \t1  \n",
            "25 \t81    \t1.7  \t1  \n",
            "26 \t71    \t1.53 \t1  \n",
            "27 \t73    \t1.51 \t1  \n",
            "28 \t70    \t2.38 \t1  \n",
            "29 \t77    \t2.24 \t1  \n",
            "30 \t66    \t1.83 \t1  \n",
            "31 \t80    \t1.83 \t1  \n",
            "32 \t73    \t1.53 \t1  \n",
            "33 \t86    \t2.31 \t1  \n",
            "34 \t75    \t1.35 \t1  \n",
            "35 \t89    \t1.82 \t1  \n",
            "36 \t80    \t1.59 \t1  \n",
            "37 \t64    \t1.55 \t1  \n",
            "38 \t73    \t1.27 \t1  \n",
            "39 \t80    \t1.66 \t1  \n",
            "40 \t81    \t1.49 \t1  \n",
            "41 \t76    \t1.55 \t1  \n",
            "42 \t83    \t1.52 \t1  \n",
            "43 \t77    \t2    \t1  \n",
            "44 \t61    \t1.9  \t1  \n",
            "45 \t72    \t1.59 \t1  \n",
            "46 \t75    \t1.5  \t1  \n",
            "47 \t76    \t1.68 \t1  \n",
            "48 \t73    \t1.97 \t1  \n",
            "49 \t78    \t1.37 \t1  \n",
            "50 \t69    \t1.47 \t1  \n",
            "51 \t81    \t1.94 \t1  \n",
            "52 \t82    \t1.73 \t1  \n",
            "53 \t77    \t1.33 \t1  \n",
            "54 \t83    \t1.7  \t1  \n",
            "55 \t79    \t1.9  \t1  \n",
            "56 \t78    \t1.87 \t1  \n",
            "57 \t80    \t1.37 \t1  \n",
            "58 \t78    \t1.45 \t1  \n",
            "59 \t77    \t1.97 \t1  \n",
            "60 \t76    \t1.3  \t1  \n",
            "61 \t78    \t1.91 \t1  \n",
            "62 \t69    \t1.58 \t1  \n",
            "63 \t73    \t2.02 \t1  \n",
            "64 \t82    \t2.14 \t1  \n",
            "65 \t81    \t2.01 \t1  \n",
            "66 \t75    \t1.45 \t1  \n",
            "67 \t72    \t2.48 \t1  \n",
            "68 \t74    \t1.93 \t1  \n",
            "69 \t78    \t1.78 \t1  \n",
            "70 \t69    \t1.68 \t1  \n",
            "71 \t72    \t1.5  \t1  \n",
            "72 \t81    \t1.88 \t1  \n",
            "73 \t80    \t1.6  \t1  \n",
            "74 \t89    \t1.68 \t1  \n",
            "75 \t59    \t1.59 \t1  \n",
            "76 \t67    \t2.01 \t1  \n",
            "77 \t68    \t1.91 \t1  \n",
            "78 \t68    \t1.48 \t1  \n",
            "79 \t67    \t1.17 \t1  \n",
            "80 \t77    \t1.56 \t1  \n",
            "81 \t79    \t1.47 \t1  \n",
            "82 \t83    \t1.95 \t1  \n",
            "83 \t76    \t1.96 \t1  \n",
            "84 \t70    \t1.85 \t1  \n",
            "85 \t76    \t1.44 \t1  \n",
            "86 \t79    \t1.94 \t1  \n",
            "87 \t86    \t1.62 \t1  \n",
            "88 \t74    \t1.47 \t1  \n",
            "89 \t77    \t1.82 \t1  \n",
            "90 \t80    \t1.48 \t1  \n",
            "91 \t68    \t1.39 \t1  \n",
            "92 \t71    \t1.42 \t1  \n",
            "93 \t76    \t1.22 \t1  \n",
            "94 \t66    \t1.8  \t1  \n",
            "95 \t73    \t1.58 \t1  \n",
            "96 \t78    \t1.79 \t1  \n",
            "97 \t77    \t1.41 \t1  \n",
            "98 \t72    \t1.87 \t1  \n",
            "99 \t86    \t1.56 \t1  \n",
            "100\t66    \t1.62 \t1  \n",
            "Genetic Algorithm model with population size of  2000  and generation size of  10\n",
            "gen\tnevals\tavg    \tmin\n",
            "0  \t2000  \t10.0495\t3  \n",
            "1  \t1522  \t11.7475\t3  \n",
            "2  \t1522  \t11.083 \t2  \n",
            "3  \t1483  \t10.5025\t2  \n",
            "4  \t1496  \t10.6635\t2  \n",
            "5  \t1481  \t10.3555\t2  \n",
            "6  \t1530  \t10.0475\t2  \n",
            "7  \t1523  \t10.0825\t2  \n",
            "8  \t1498  \t9.765  \t2  \n",
            "9  \t1553  \t10.4225\t2  \n",
            "10 \t1493  \t9.8635 \t3  \n",
            "Genetic Algorithm model with population size of  2000  and generation size of  50\n",
            "gen\tnevals\tavg   \tmin\n",
            "0  \t2000  \t10.093\t3  \n",
            "1  \t1476  \t11.559\t4  \n",
            "2  \t1519  \t10.856\t2  \n",
            "3  \t1538  \t11.0805\t3  \n",
            "4  \t1514  \t10.7925\t3  \n",
            "5  \t1557  \t10.398 \t3  \n",
            "6  \t1471  \t10.1245\t3  \n",
            "7  \t1557  \t10.318 \t3  \n",
            "8  \t1536  \t10.1055\t3  \n",
            "9  \t1521  \t10.1435\t2  \n",
            "10 \t1564  \t10.235 \t2  \n",
            "11 \t1529  \t10.196 \t2  \n",
            "12 \t1502  \t9.701  \t2  \n",
            "13 \t1566  \t9.986  \t2  \n",
            "14 \t1512  \t9.933  \t2  \n",
            "15 \t1542  \t9.6385 \t2  \n",
            "16 \t1544  \t9.729  \t1  \n",
            "17 \t1501  \t9.2815 \t1  \n",
            "18 \t1530  \t10.023 \t1  \n",
            "19 \t1475  \t9.527  \t2  \n",
            "20 \t1510  \t9.3205 \t2  \n",
            "21 \t1457  \t8.9875 \t2  \n",
            "22 \t1525  \t9.1455 \t1  \n",
            "23 \t1530  \t8.812  \t2  \n",
            "24 \t1519  \t9.175  \t2  \n",
            "25 \t1536  \t8.975  \t2  \n",
            "26 \t1503  \t8.6215 \t2  \n",
            "27 \t1517  \t8.3245 \t2  \n",
            "28 \t1539  \t8.344  \t2  \n",
            "29 \t1536  \t8.2205 \t1  \n",
            "30 \t1527  \t8.415  \t1  \n",
            "31 \t1544  \t7.7575 \t1  \n",
            "32 \t1527  \t7.648  \t1  \n",
            "33 \t1539  \t6.9925 \t1  \n",
            "34 \t1488  \t6.5195 \t1  \n",
            "35 \t1595  \t5.792  \t1  \n",
            "36 \t1498  \t5.293  \t1  \n",
            "37 \t1521  \t4.6185 \t1  \n",
            "38 \t1525  \t4.0325 \t1  \n",
            "39 \t1523  \t3.4175 \t1  \n",
            "40 \t1535  \t3.146  \t1  \n",
            "41 \t1502  \t2.891  \t1  \n",
            "42 \t1557  \t2.818  \t1  \n",
            "43 \t1487  \t2.782  \t1  \n",
            "44 \t1529  \t2.856  \t1  \n",
            "45 \t1560  \t2.6035 \t1  \n",
            "46 \t1520  \t2.293  \t1  \n",
            "47 \t1492  \t2.2675 \t1  \n",
            "48 \t1518  \t2.385  \t1  \n",
            "49 \t1502  \t2.129  \t1  \n",
            "50 \t1538  \t2.036  \t1  \n",
            "Genetic Algorithm model with population size of  2000  and generation size of  100\n",
            "gen\tnevals\tavg   \tmin\n",
            "0  \t2000  \t10.085\t3  \n",
            "1  \t1485  \t11.844\t4  \n",
            "2  \t1537  \t11.134\t3  \n",
            "3  \t1561  \t10.756\t2  \n",
            "4  \t1518  \t10.4195\t2  \n",
            "5  \t1506  \t10.3215\t2  \n",
            "6  \t1476  \t10.231 \t3  \n",
            "7  \t1536  \t10.356 \t2  \n",
            "8  \t1552  \t10.487 \t2  \n",
            "9  \t1480  \t9.9125 \t2  \n",
            "10 \t1510  \t9.6685 \t2  \n",
            "11 \t1482  \t9.758  \t2  \n",
            "12 \t1525  \t9.7515 \t2  \n",
            "13 \t1543  \t9.559  \t2  \n",
            "14 \t1502  \t9.4735 \t2  \n",
            "15 \t1508  \t9.816  \t1  \n",
            "16 \t1535  \t9.871  \t1  \n",
            "17 \t1535  \t9.4635 \t1  \n",
            "18 \t1517  \t9.721  \t1  \n",
            "19 \t1531  \t9.7595 \t1  \n",
            "20 \t1522  \t9.396  \t1  \n",
            "21 \t1555  \t9.534  \t1  \n",
            "22 \t1526  \t9.6215 \t1  \n",
            "23 \t1515  \t9.887  \t1  \n",
            "24 \t1518  \t9.256  \t1  \n",
            "25 \t1491  \t9.8695 \t1  \n",
            "26 \t1524  \t10.016 \t1  \n",
            "27 \t1497  \t10.186 \t1  \n",
            "28 \t1521  \t10.0535\t1  \n",
            "29 \t1513  \t10.1325\t1  \n",
            "30 \t1525  \t9.6905 \t1  \n",
            "31 \t1509  \t9.5915 \t1  \n",
            "32 \t1547  \t9.0975 \t1  \n",
            "33 \t1537  \t7.989  \t1  \n",
            "34 \t1562  \t6.712  \t1  \n",
            "35 \t1524  \t5.0265 \t1  \n",
            "36 \t1489  \t3.333  \t1  \n",
            "37 \t1500  \t2.252  \t1  \n",
            "38 \t1494  \t1.8735 \t1  \n",
            "39 \t1513  \t1.7895 \t1  \n",
            "40 \t1503  \t1.764  \t1  \n",
            "41 \t1533  \t1.7705 \t1  \n",
            "42 \t1521  \t1.769  \t1  \n",
            "43 \t1521  \t1.726  \t1  \n",
            "44 \t1482  \t1.817  \t1  \n",
            "45 \t1478  \t1.811  \t1  \n",
            "46 \t1512  \t1.681  \t1  \n",
            "47 \t1445  \t1.759  \t1  \n",
            "48 \t1548  \t1.727  \t1  \n",
            "49 \t1552  \t1.7905 \t1  \n",
            "50 \t1525  \t1.601  \t1  \n",
            "51 \t1537  \t1.667  \t1  \n",
            "52 \t1505  \t1.5685 \t1  \n",
            "53 \t1495  \t1.619  \t1  \n",
            "54 \t1538  \t1.663  \t1  \n",
            "55 \t1510  \t1.6885 \t1  \n",
            "56 \t1513  \t1.758  \t1  \n",
            "57 \t1527  \t1.624  \t1  \n",
            "58 \t1485  \t1.7105 \t1  \n",
            "59 \t1504  \t1.641  \t1  \n",
            "60 \t1495  \t1.688  \t1  \n",
            "61 \t1532  \t1.6075 \t1  \n",
            "62 \t1591  \t1.65   \t1  \n",
            "63 \t1513  \t1.7575 \t1  \n",
            "64 \t1498  \t1.7275 \t1  \n",
            "65 \t1504  \t1.74   \t1  \n",
            "66 \t1542  \t1.8085 \t1  \n",
            "67 \t1524  \t1.7365 \t1  \n",
            "68 \t1508  \t1.601  \t1  \n",
            "69 \t1559  \t1.6295 \t1  \n",
            "70 \t1568  \t1.6655 \t1  \n",
            "71 \t1502  \t1.6215 \t1  \n",
            "72 \t1503  \t1.773  \t1  \n",
            "73 \t1531  \t1.816  \t1  \n",
            "74 \t1491  \t1.6595 \t1  \n",
            "75 \t1545  \t1.697  \t1  \n",
            "76 \t1527  \t1.7325 \t1  \n",
            "77 \t1489  \t1.6395 \t1  \n",
            "78 \t1519  \t1.635  \t1  \n",
            "79 \t1534  \t1.674  \t1  \n",
            "80 \t1535  \t1.6925 \t1  \n",
            "81 \t1521  \t1.7715 \t1  \n",
            "82 \t1522  \t1.663  \t1  \n",
            "83 \t1545  \t1.7205 \t1  \n",
            "84 \t1513  \t1.6415 \t1  \n",
            "85 \t1534  \t1.781  \t1  \n",
            "86 \t1529  \t1.761  \t1  \n",
            "87 \t1511  \t1.734  \t1  \n",
            "88 \t1539  \t1.7225 \t1  \n",
            "89 \t1521  \t1.7895 \t1  \n",
            "90 \t1502  \t1.6565 \t1  \n",
            "91 \t1494  \t1.728  \t1  \n",
            "92 \t1545  \t1.517  \t1  \n",
            "93 \t1526  \t1.6925 \t1  \n",
            "94 \t1561  \t1.6925 \t1  \n",
            "95 \t1531  \t1.7455 \t1  \n",
            "96 \t1526  \t1.759  \t1  \n",
            "97 \t1513  \t1.6285 \t1  \n",
            "98 \t1476  \t1.629  \t1  \n",
            "99 \t1461  \t1.6915 \t1  \n",
            "100\t1509  \t1.633  \t1  \n"
          ]
        }
      ],
      "source": [
        "def GenAlg(x, ngen):\n",
        "    print(\"Genetic Algorithm model with population size of \", x, \" and generation size of \", ngen)\n",
        "    pop = toolbox.population(x)\n",
        "    hof = tools.HallOfFame(maxsize = 1)\n",
        "    pop, log = algorithms.eaSimple(pop, toolbox, cxpb = 0.7, mutpb = 0.2, ngen=ngen, stats=stats, halloffame=hof, verbose=True)\n",
        "    return pop, log\n",
        "\n",
        "xList = [500, 100, 2000]\n",
        "nGenList = [10, 50, 100]\n",
        "\n",
        "results = []\n",
        "for x in xList:\n",
        "    for ngen in nGenList:\n",
        "        pop, log = GenAlg(x, ngen)\n",
        "        results.append([pop, log, x, ngen])"
      ]
    },
    {
      "cell_type": "markdown",
      "metadata": {
        "id": "OkApdsjQVOUL"
      },
      "source": [
        "### 5 pts:  Plot the \"avg\" and \"min\" for each generation"
      ]
    },
    {
      "cell_type": "code",
      "execution_count": null,
      "metadata": {
        "id": "gcFc3eOyVOUM",
        "scrolled": true,
        "colab": {
          "base_uri": "https://localhost:8080/",
          "height": 1000
        },
        "outputId": "4569f902-3271-4a6b-d28e-4759939b6ed1"
      },
      "outputs": [
        {
          "output_type": "stream",
          "name": "stdout",
          "text": [
            "Genetic Algorithm model with population size of  500  and generation size of  10\n"
          ]
        },
        {
          "output_type": "display_data",
          "data": {
            "text/plain": [
              "<Figure size 432x288 with 1 Axes>"
            ],
            "image/png": "[encoded data removed]"
          },
          "metadata": {
            "needs_background": "light"
          }
        },
        {
          "output_type": "stream",
          "name": "stdout",
          "text": [
            "Genetic Algorithm model with population size of  500  and generation size of  50\n"
          ]
        },
        {
          "output_type": "display_data",
          "data": {
            "text/plain": [
              "<Figure size 432x288 with 1 Axes>"
            ],
            "image/png": "[encoded data removed]"
          },
          "metadata": {
            "needs_background": "light"
          }
        },
        {
          "output_type": "stream",
          "name": "stdout",
          "text": [
            "Genetic Algorithm model with population size of  500  and generation size of  100\n"
          ]
        },
        {
          "output_type": "display_data",
          "data": {
            "text/plain": [
              "<Figure size 432x288 with 1 Axes>"
            ],
            "image/png": "[encoded data removed]"
          },
          "metadata": {
            "needs_background": "light"
          }
        },
        {
          "output_type": "stream",
          "name": "stdout",
          "text": [
            "Genetic Algorithm model with population size of  100  and generation size of  10\n"
          ]
        },
        {
          "output_type": "display_data",
          "data": {
            "text/plain": [
              "<Figure size 432x288 with 1 Axes>"
            ],
            "image/png": "[encoded data removed]"
          },
          "metadata": {
            "needs_background": "light"
          }
        },
        {
          "output_type": "stream",
          "name": "stdout",
          "text": [
            "Genetic Algorithm model with population size of  100  and generation size of  50\n"
          ]
        },
        {
          "output_type": "display_data",
          "data": {
            "text/plain": [
              "<Figure size 432x288 with 1 Axes>"
            ],
            "image/png": "[encoded data removed]"
          },
          "metadata": {
            "needs_background": "light"
          }
        },
        {
          "output_type": "stream",
          "name": "stdout",
          "text": [
            "Genetic Algorithm model with population size of  100  and generation size of  100\n"
          ]
        },
        {
          "output_type": "display_data",
          "data": {
            "text/plain": [
              "<Figure size 432x288 with 1 Axes>"
            ],
            "image/png": "[encoded data removed]"
          },
          "metadata": {
            "needs_background": "light"
          }
        },
        {
          "output_type": "stream",
          "name": "stdout",
          "text": [
            "Genetic Algorithm model with population size of  2000  and generation size of  10\n"
          ]
        },
        {
          "output_type": "display_data",
          "data": {
            "text/plain": [
              "<Figure size 432x288 with 1 Axes>"
            ],
            "image/png": "[encoded data removed]"
          },
          "metadata": {
            "needs_background": "light"
          }
        },
        {
          "output_type": "stream",
          "name": "stdout",
          "text": [
            "Genetic Algorithm model with population size of  2000  and generation size of  50\n"
          ]
        },
        {
          "output_type": "display_data",
          "data": {
            "text/plain": [
              "<Figure size 432x288 with 1 Axes>"
            ],
            "image/png": "[encoded data removed]"
          },
          "metadata": {
            "needs_background": "light"
          }
        },
        {
          "output_type": "stream",
          "name": "stdout",
          "text": [
            "Genetic Algorithm model with population size of  2000  and generation size of  100\n"
          ]
        },
        {
          "output_type": "display_data",
          "data": {
            "text/plain": [
              "<Figure size 432x288 with 1 Axes>"
            ],
            "image/png": "[encoded data removed]"
          },
          "metadata": {
            "needs_background": "light"
          }
        }
      ],
      "source": [
        "import matplotlib.pyplot as plt\n",
        "%matplotlib inline  \n",
        "\n",
        "def plot(log, x, ngen):\n",
        "  print(\"Genetic Algorithm model with population size of \", x, \" and generation size of \", ngen)\n",
        "  #gen, avg, min_, max_ = log.select(\"gen\", \"avg\", \"min\", \"max\")\n",
        "  gen, avg, min_, = log.select(\"gen\", \"avg\", \"min\")\n",
        "\n",
        "  plt.plot(gen, avg, label=\"avg\")\n",
        "  plt.plot(gen, min_, label=\"min\")\n",
        "  #plt.plot(gen, max_, label=\"max\")\n",
        "  plt.xlabel(\"Generations\")\n",
        "  plt.ylabel(\"Fitness Score\")\n",
        "  plt.legend(loc = \"lower right\")\n",
        "  plt.show()\n",
        "\n",
        "for result in results:\n",
        "  plot(result[1], result[2], result[3])"
      ]
    },
    {
      "cell_type": "markdown",
      "metadata": {
        "id": "t6PFTvUZVOUN"
      },
      "source": [
        "### 5 pts:  Print out the best individual found and its fitness value.  Show the best individual as chessboard"
      ]
    },
    {
      "cell_type": "code",
      "execution_count": null,
      "metadata": {
        "id": "-MeBQ0BZVOUO",
        "colab": {
          "base_uri": "https://localhost:8080/"
        },
        "outputId": "70730c4a-f17c-4549-af5b-f5e49a943552"
      },
      "outputs": [
        {
          "output_type": "stream",
          "name": "stdout",
          "text": [
            "Genetic Algorithm model with population size of  500  and generation size of  10\n",
            "Best individual is:  [39, 40, 17, 14, 51, 63, 29, 52]\n",
            "-|-|-|-|-|-|-|-|\n",
            "----------------\n",
            "-|-|-|-|-|-|X|-|\n",
            "----------------\n",
            "-|X|-|-|-|-|-|-|\n",
            "----------------\n",
            "-|-|-|-|-|X|-|-|\n",
            "----------------\n",
            "-|-|-|-|-|-|-|X|\n",
            "----------------\n",
            "X|-|-|-|-|-|-|-|\n",
            "----------------\n",
            "-|-|-|X|X|-|-|-|\n",
            "----------------\n",
            "-|-|-|-|-|-|-|X|\n",
            "----------------\n",
            "With fitness:  [2]\n",
            "Genetic Algorithm model with population size of  500  and generation size of  50\n",
            "Best individual is:  [61, 15, 60, 18, 0, 30, 35, 41]\n",
            "X|-|-|-|-|-|-|-|\n",
            "----------------\n",
            "-|-|-|-|-|-|-|X|\n",
            "----------------\n",
            "-|-|X|-|-|-|-|-|\n",
            "----------------\n",
            "-|-|-|-|-|-|X|-|\n",
            "----------------\n",
            "-|-|-|X|-|-|-|-|\n",
            "----------------\n",
            "-|X|-|-|-|-|-|-|\n",
            "----------------\n",
            "-|-|-|-|-|-|-|-|\n",
            "----------------\n",
            "-|-|-|-|X|X|-|-|\n",
            "----------------\n",
            "With fitness:  [1]\n",
            "Genetic Algorithm model with population size of  500  and generation size of  100\n",
            "Best individual is:  [32, 10, 6, 59, 12, 53, 23, 57]\n",
            "-|-|-|-|-|-|X|-|\n",
            "----------------\n",
            "-|-|X|-|X|-|-|-|\n",
            "----------------\n",
            "-|-|-|-|-|-|-|X|\n",
            "----------------\n",
            "-|-|-|-|-|-|-|-|\n",
            "----------------\n",
            "X|-|-|-|-|-|-|-|\n",
            "----------------\n",
            "-|-|-|-|-|-|-|-|\n",
            "----------------\n",
            "-|-|-|-|-|X|-|-|\n",
            "----------------\n",
            "-|X|-|X|-|-|-|-|\n",
            "----------------\n",
            "With fitness:  [2]\n",
            "Genetic Algorithm model with population size of  100  and generation size of  10\n",
            "Best individual is:  [16, 38, 12, 42, 1, 37, 27, 63]\n",
            "-|X|-|-|-|-|-|-|\n",
            "----------------\n",
            "-|-|-|-|X|-|-|-|\n",
            "----------------\n",
            "X|-|-|-|-|-|-|-|\n",
            "----------------\n",
            "-|-|-|X|-|-|-|-|\n",
            "----------------\n",
            "-|-|-|-|-|X|X|-|\n",
            "----------------\n",
            "-|-|X|-|-|-|-|-|\n",
            "----------------\n",
            "-|-|-|-|-|-|-|-|\n",
            "----------------\n",
            "-|-|-|-|-|-|-|X|\n",
            "----------------\n",
            "With fitness:  [3]\n",
            "Genetic Algorithm model with population size of  100  and generation size of  50\n",
            "Best individual is:  [8, 35, 22, 5, 9, 25, 47, 58]\n",
            "-|-|-|-|-|X|-|-|\n",
            "----------------\n",
            "X|X|-|-|-|-|-|-|\n",
            "----------------\n",
            "-|-|-|-|-|-|X|-|\n",
            "----------------\n",
            "-|X|-|-|-|-|-|-|\n",
            "----------------\n",
            "-|-|-|X|-|-|-|-|\n",
            "----------------\n",
            "-|-|-|-|-|-|-|X|\n",
            "----------------\n",
            "-|-|-|-|-|-|-|-|\n",
            "----------------\n",
            "-|-|X|-|-|-|-|-|\n",
            "----------------\n",
            "With fitness:  [2]\n",
            "Genetic Algorithm model with population size of  100  and generation size of  100\n",
            "Best individual is:  [40, 61, 49, 4, 27, 10, 16, 38]\n",
            "-|-|-|-|X|-|-|-|\n",
            "----------------\n",
            "-|-|X|-|-|-|-|-|\n",
            "----------------\n",
            "X|-|-|-|-|-|-|-|\n",
            "----------------\n",
            "-|-|-|X|-|-|-|-|\n",
            "----------------\n",
            "-|-|-|-|-|-|X|-|\n",
            "----------------\n",
            "X|-|-|-|-|-|-|-|\n",
            "----------------\n",
            "-|X|-|-|-|-|-|-|\n",
            "----------------\n",
            "-|-|-|-|-|X|-|-|\n",
            "----------------\n",
            "With fitness:  [1]\n",
            "Genetic Algorithm model with population size of  2000  and generation size of  10\n",
            "Best individual is:  [20, 9, 49, 5, 24, 10, 39, 59]\n",
            "-|-|-|-|-|X|-|-|\n",
            "----------------\n",
            "-|X|X|-|-|-|-|-|\n",
            "----------------\n",
            "-|-|-|-|X|-|-|-|\n",
            "----------------\n",
            "X|-|-|-|-|-|-|-|\n",
            "----------------\n",
            "-|-|-|-|-|-|-|X|\n",
            "----------------\n",
            "-|-|-|-|-|-|-|-|\n",
            "----------------\n",
            "-|X|-|-|-|-|-|-|\n",
            "----------------\n",
            "-|-|-|X|-|-|-|-|\n",
            "----------------\n",
            "With fitness:  [3]\n",
            "Genetic Algorithm model with population size of  2000  and generation size of  50\n",
            "Best individual is:  [15, 18, 1, 30, 48, 40, 61, 35]\n",
            "-|X|-|-|-|-|-|-|\n",
            "----------------\n",
            "-|-|-|-|-|-|-|X|\n",
            "----------------\n",
            "-|-|X|-|-|-|-|-|\n",
            "----------------\n",
            "-|-|-|-|-|-|X|-|\n",
            "----------------\n",
            "-|-|-|X|-|-|-|-|\n",
            "----------------\n",
            "X|-|-|-|-|-|-|-|\n",
            "----------------\n",
            "X|-|-|-|-|-|-|-|\n",
            "----------------\n",
            "-|-|-|-|-|X|-|-|\n",
            "----------------\n",
            "With fitness:  [1]\n",
            "Genetic Algorithm model with population size of  2000  and generation size of  100\n",
            "Best individual is:  [43, 62, 49, 20, 37, 31, 2, 8]\n",
            "-|-|X|-|-|-|-|-|\n",
            "----------------\n",
            "X|-|-|-|-|-|-|-|\n",
            "----------------\n",
            "-|-|-|-|X|-|-|-|\n",
            "----------------\n",
            "-|-|-|-|-|-|-|X|\n",
            "----------------\n",
            "-|-|-|-|-|X|-|-|\n",
            "----------------\n",
            "-|-|-|X|-|-|-|-|\n",
            "----------------\n",
            "-|X|-|-|-|-|-|-|\n",
            "----------------\n",
            "-|-|-|-|-|-|X|-|\n",
            "----------------\n",
            "With fitness:  [1]\n"
          ]
        }
      ],
      "source": [
        "def bestIndivid(pop, x, ngen):\n",
        "  print(\"Genetic Algorithm model with population size of \", x, \" and generation size of \", ngen)\n",
        "\n",
        "  best_ind = tools.selBest(pop, k=1)[0]\n",
        "\n",
        "  print('Best individual is: ', best_ind)\n",
        "  show_grid(best_ind)\n",
        "  print('With fitness: ', toolbox.evaluate(best_ind))\n",
        "\n",
        "for result in results:\n",
        "  bestIndivid(result[0], result[2], result[3])"
      ]
    },
    {
      "cell_type": "markdown",
      "metadata": {
        "id": "_PCJJdWAVOUP"
      },
      "source": [
        "## Part II: Row-index-based board representation"
      ]
    },
    {
      "cell_type": "code",
      "execution_count": null,
      "metadata": {
        "id": "BF0R7swEVOUQ",
        "colab": {
          "base_uri": "https://localhost:8080/"
        },
        "outputId": "6e270871-069e-4060-99ed-b30c8de327d0"
      },
      "outputs": [
        {
          "output_type": "stream",
          "name": "stderr",
          "text": [
            "/usr/local/lib/python3.7/dist-packages/deap/creator.py:141: RuntimeWarning: A class named 'FitnessMin' has already been created and it will be overwritten. Consider deleting previous creation of that class or rename it.\n",
            "  RuntimeWarning)\n",
            "/usr/local/lib/python3.7/dist-packages/deap/creator.py:141: RuntimeWarning: A class named 'Individual' has already been created and it will be overwritten. Consider deleting previous creation of that class or rename it.\n",
            "  RuntimeWarning)\n"
          ]
        }
      ],
      "source": [
        "import random\n",
        "import numpy as np\n",
        "from deap import algorithms, base, creator, tools\n",
        "\n",
        "creator.create(\"FitnessMin\", base.Fitness, weights=(-1.0,))\n",
        "creator.create(\"Individual\", list, fitness=creator.FitnessMin)"
      ]
    },
    {
      "cell_type": "markdown",
      "metadata": {
        "id": "YCwVbnHrVOUS"
      },
      "source": [
        "Each row of the chess row is indexed from 0->7 . we place different queens on different rows initially.  The sequence [ a b c d .... ] means that in $0^{th}$ row, $a^{th}$ column, the queen is present and so on"
      ]
    },
    {
      "cell_type": "code",
      "execution_count": null,
      "metadata": {
        "id": "n4II9oePVOUS"
      },
      "outputs": [],
      "source": [
        "toolbox = base.Toolbox()\n",
        "\n",
        "toolbox.register(\"attr_int\", random.randint, 0, 7)\n",
        "toolbox.register(\"individual\", tools.initRepeat, creator.Individual,\n",
        "                 toolbox.attr_int, n=8)"
      ]
    },
    {
      "cell_type": "code",
      "execution_count": null,
      "metadata": {
        "id": "W-tn8be2VOUU",
        "colab": {
          "base_uri": "https://localhost:8080/"
        },
        "outputId": "33a4fb52-60de-4198-a00b-31c86df336a7"
      },
      "outputs": [
        {
          "output_type": "execute_result",
          "data": {
            "text/plain": [
              "[4, 6, 6, 2, 7, 5, 3, 2]"
            ]
          },
          "metadata": {},
          "execution_count": 19
        }
      ],
      "source": [
        "toolbox.individual()"
      ]
    },
    {
      "cell_type": "code",
      "execution_count": null,
      "metadata": {
        "id": "97EqErd3VOUX"
      },
      "outputs": [],
      "source": [
        "def show_grid(board):\n",
        "    \n",
        "    n = [0]*64\n",
        "    \n",
        "    for i in range(len(board)):\n",
        "        n[board[i] + i*8] = 1\n",
        "      \n",
        "    for i in range(8):\n",
        "        for j in range(64):\n",
        "            if j // 8 == i:\n",
        "                if n[j] == 1:\n",
        "                    print('X',end=\"|\")\n",
        "                else:\n",
        "                    print('-',end=\"|\")\n",
        "        print()\n",
        "        print(\"----------------\")"
      ]
    },
    {
      "cell_type": "code",
      "execution_count": null,
      "metadata": {
        "id": "UxkDfoxbVOUb"
      },
      "outputs": [],
      "source": [
        "toolbox.register(\"population\", tools.initRepeat, list, toolbox.individual)"
      ]
    },
    {
      "cell_type": "code",
      "execution_count": null,
      "metadata": {
        "id": "lcY06x24VOUe",
        "colab": {
          "base_uri": "https://localhost:8080/"
        },
        "outputId": "e9c8a1b2-4a34-4adb-aa77-76a4ef37e34e"
      },
      "outputs": [
        {
          "output_type": "stream",
          "name": "stdout",
          "text": [
            "[3, 3, 3, 2, 2, 3, 3, 1]\n"
          ]
        }
      ],
      "source": [
        "pop = toolbox.population(n=5)\n",
        "\n",
        "print(pop[0])"
      ]
    },
    {
      "cell_type": "code",
      "execution_count": null,
      "metadata": {
        "id": "KYoqKKm8VOUg",
        "colab": {
          "base_uri": "https://localhost:8080/"
        },
        "outputId": "2ed61751-a0ac-45b8-d157-72502be66306"
      },
      "outputs": [
        {
          "output_type": "stream",
          "name": "stdout",
          "text": [
            "-|-|-|X|-|-|-|-|\n",
            "----------------\n",
            "-|-|-|X|-|-|-|-|\n",
            "----------------\n",
            "-|-|-|X|-|-|-|-|\n",
            "----------------\n",
            "-|-|X|-|-|-|-|-|\n",
            "----------------\n",
            "-|-|X|-|-|-|-|-|\n",
            "----------------\n",
            "-|-|-|X|-|-|-|-|\n",
            "----------------\n",
            "-|-|-|X|-|-|-|-|\n",
            "----------------\n",
            "-|X|-|-|-|-|-|-|\n",
            "----------------\n"
          ]
        }
      ],
      "source": [
        "show_grid(pop[0])"
      ]
    },
    {
      "cell_type": "markdown",
      "metadata": {
        "id": "6_wZvS3mVOUh"
      },
      "source": [
        "### 10 pts:  Write your code in the cell below to define the \"evaFitness\" function, which return the fitness of any given board\n",
        "\n",
        "- evaFitness() returns the total number of distinct pairs of queens that attack each other.  \n",
        "\n",
        "- The following are some test cases you may use to verify the correctness of the evaFitness() function:\n",
        "\n",
        " * evaFitness([0, 2, 6, 7, 7, 4, 1, 6]) should return (4,)\n",
        "\n",
        " * evaFitness([7, 5, 2, 4, 3, 1, 3, 5]) should return (6,)\n",
        "\n",
        " * evaFitness([3, 1, 6, 0, 5, 7, 2, 1]) should return (5,)\n",
        "\n",
        " * evaFitness([7, 3, 1, 4, 5, 1, 3, 5]) should return (6,)\n",
        "\n"
      ]
    },
    {
      "cell_type": "code",
      "execution_count": null,
      "metadata": {
        "id": "bk1Rn57oVOUi"
      },
      "outputs": [],
      "source": [
        "#fitness function\n",
        "def evaFitness(individual):\n",
        "    conflict = 0\n",
        "    for i in range(len(individual)):\n",
        "        for j in range(i+1, len(individual)):\n",
        "            if(individual[i] == individual[j]):\n",
        "                conflict += 1\n",
        "            if(abs(individual[i] - individual[j]) == abs(i-j)):\n",
        "                conflict += 1\n",
        "    return (conflict,)"
      ]
    },
    {
      "cell_type": "markdown",
      "metadata": {
        "id": "MLkixA1YVOUj"
      },
      "source": [
        "### 5 pts:  Write your code in the cell below to register \"evaluate\" function to toolbox"
      ]
    },
    {
      "cell_type": "code",
      "execution_count": null,
      "metadata": {
        "id": "TMwldAeuVOUk",
        "colab": {
          "base_uri": "https://localhost:8080/"
        },
        "outputId": "0122b03c-cf75-4654-ed83-3d62aaf3cb9f"
      },
      "outputs": [
        {
          "output_type": "stream",
          "name": "stdout",
          "text": [
            "(4,)\n",
            "(6,)\n",
            "(5,)\n",
            "(6,)\n"
          ]
        }
      ],
      "source": [
        "print(evaFitness([0, 2, 6, 7, 7, 4, 1, 6]))\n",
        "print(evaFitness([7, 5, 2, 4, 3, 1, 3, 5]))\n",
        "print(evaFitness([3, 1, 6, 0, 5, 7, 2, 1]))\n",
        "print(evaFitness([7, 3, 1, 4, 5, 1, 3, 5]))"
      ]
    },
    {
      "cell_type": "code",
      "source": [
        "toolbox.register(\"evaluate\", evaFitness)"
      ],
      "metadata": {
        "id": "P39hV10LXbSZ"
      },
      "execution_count": null,
      "outputs": []
    },
    {
      "cell_type": "code",
      "execution_count": null,
      "metadata": {
        "id": "O-xOKMI4VOUl"
      },
      "outputs": [],
      "source": [
        "toolbox.register(\"mate\", tools.cxTwoPoint)\n",
        "\n",
        "toolbox.register(\"mutate\", tools.mutUniformInt, low = 0, up = 7, indpb=0.1)\n",
        "\n",
        "toolbox.register(\"select\", tools.selTournament, tournsize=3)"
      ]
    },
    {
      "cell_type": "code",
      "execution_count": null,
      "metadata": {
        "id": "R1jlpMTNVOUn"
      },
      "outputs": [],
      "source": [
        "stats = tools.Statistics(key=lambda ind: ind.fitness.values)\n",
        "\n",
        "stats.register(\"avg\", np.mean)\n",
        "stats.register(\"min\", np.min)"
      ]
    },
    {
      "cell_type": "markdown",
      "metadata": {
        "id": "pyRth-sHVOUq"
      },
      "source": [
        "### 10 pts:  Write your code in the cell below to create the first generation, the hall of fame, and launch the genetic algorithm: eaSimple().   How many individuals you want to have for each generation and how many generations you want GA to go thourgh for each run?     Vary those two parameters to see the change. "
      ]
    },
    {
      "cell_type": "code",
      "execution_count": null,
      "metadata": {
        "id": "3aJJcDUVVOUq",
        "colab": {
          "base_uri": "https://localhost:8080/"
        },
        "outputId": "53a1ef5e-4235-4e56-c64a-f2fa952c4353"
      },
      "outputs": [
        {
          "output_type": "stream",
          "name": "stdout",
          "text": [
            "Genetic Algorithm model with population size of  500  and generation size of  10\n",
            "gen\tnevals\tavg  \tmin\n",
            "0  \t500   \t7.738\t2  \n",
            "1  \t378   \t6.518\t3  \n",
            "2  \t384   \t5.788\t2  \n",
            "3  \t377   \t5.538\t2  \n",
            "4  \t371   \t5.336\t2  \n",
            "5  \t389   \t5.06 \t2  \n",
            "6  \t373   \t4.872\t2  \n",
            "7  \t379   \t4.764\t2  \n",
            "8  \t384   \t4.776\t1  \n",
            "9  \t369   \t4.674\t1  \n",
            "10 \t369   \t4.334\t1  \n",
            "Genetic Algorithm model with population size of  500  and generation size of  50\n",
            "gen\tnevals\tavg  \tmin\n",
            "0  \t500   \t7.758\t2  \n",
            "1  \t401   \t6.486\t2  \n",
            "2  \t364   \t5.734\t1  \n",
            "3  \t372   \t5.212\t1  \n",
            "4  \t378   \t4.888\t1  \n",
            "5  \t388   \t4.8  \t0  \n",
            "6  \t386   \t4.624\t1  \n",
            "7  \t388   \t4.576\t1  \n",
            "8  \t373   \t4.298\t1  \n",
            "9  \t364   \t4.046\t1  \n",
            "10 \t381   \t3.838\t0  \n",
            "11 \t369   \t3.482\t0  \n",
            "12 \t370   \t3.148\t1  \n",
            "13 \t383   \t2.828\t1  \n",
            "14 \t381   \t2.482\t1  \n",
            "15 \t389   \t2.026\t1  \n",
            "16 \t398   \t1.694\t1  \n",
            "17 \t389   \t1.376\t1  \n",
            "18 \t397   \t1.436\t1  \n",
            "19 \t373   \t1.258\t1  \n",
            "20 \t345   \t1.264\t1  \n",
            "21 \t361   \t1.394\t1  \n",
            "22 \t371   \t1.378\t1  \n",
            "23 \t343   \t1.29 \t1  \n",
            "24 \t376   \t1.348\t1  \n",
            "25 \t369   \t1.23 \t1  \n",
            "26 \t374   \t1.3  \t1  \n",
            "27 \t385   \t1.266\t1  \n",
            "28 \t385   \t1.278\t1  \n",
            "29 \t340   \t1.238\t1  \n",
            "30 \t386   \t1.236\t1  \n",
            "31 \t383   \t1.242\t1  \n",
            "32 \t379   \t1.268\t1  \n",
            "33 \t374   \t1.29 \t1  \n",
            "34 \t362   \t1.272\t1  \n",
            "35 \t373   \t1.256\t1  \n",
            "36 \t372   \t1.144\t1  \n",
            "37 \t397   \t1.262\t1  \n",
            "38 \t379   \t1.232\t1  \n",
            "39 \t370   \t1.258\t1  \n",
            "40 \t377   \t1.21 \t1  \n",
            "41 \t356   \t1.212\t1  \n",
            "42 \t360   \t1.26 \t1  \n",
            "43 \t369   \t1.218\t1  \n",
            "44 \t377   \t1.23 \t1  \n",
            "45 \t389   \t1.312\t1  \n",
            "46 \t394   \t1.29 \t1  \n",
            "47 \t379   \t1.228\t1  \n",
            "48 \t377   \t1.31 \t1  \n",
            "49 \t367   \t1.26 \t1  \n",
            "50 \t366   \t1.28 \t1  \n",
            "Genetic Algorithm model with population size of  500  and generation size of  100\n",
            "gen\tnevals\tavg  \tmin\n",
            "0  \t500   \t7.802\t1  \n",
            "1  \t382   \t6.57 \t2  \n",
            "2  \t389   \t5.932\t2  \n",
            "3  \t380   \t5.564\t1  \n",
            "4  \t375   \t5.234\t1  \n",
            "5  \t372   \t5.03 \t2  \n",
            "6  \t373   \t4.858\t1  \n",
            "7  \t371   \t4.558\t1  \n",
            "8  \t351   \t4.24 \t1  \n",
            "9  \t370   \t3.942\t1  \n",
            "10 \t395   \t3.73 \t1  \n",
            "11 \t395   \t3.624\t1  \n",
            "12 \t393   \t3.362\t1  \n",
            "13 \t367   \t2.876\t1  \n",
            "14 \t363   \t2.492\t1  \n",
            "15 \t378   \t2.206\t1  \n",
            "16 \t392   \t2.018\t0  \n",
            "17 \t358   \t1.864\t0  \n",
            "18 \t361   \t1.658\t0  \n",
            "19 \t382   \t1.57 \t0  \n",
            "20 \t397   \t1.576\t0  \n",
            "21 \t364   \t1.478\t0  \n",
            "22 \t372   \t1.424\t0  \n",
            "23 \t383   \t1.442\t0  \n",
            "24 \t384   \t1.306\t0  \n",
            "25 \t383   \t1.422\t0  \n",
            "26 \t406   \t1.426\t0  \n",
            "27 \t361   \t1.374\t0  \n",
            "28 \t399   \t1.304\t0  \n",
            "29 \t358   \t1.276\t0  \n",
            "30 \t400   \t1.366\t0  \n",
            "31 \t396   \t1.402\t0  \n",
            "32 \t379   \t1.388\t0  \n",
            "33 \t388   \t1.496\t0  \n",
            "34 \t383   \t1.39 \t0  \n",
            "35 \t381   \t1.468\t0  \n",
            "36 \t391   \t1.27 \t0  \n",
            "37 \t390   \t0.856\t0  \n",
            "38 \t357   \t0.328\t0  \n",
            "39 \t400   \t0.274\t0  \n",
            "40 \t362   \t0.316\t0  \n",
            "41 \t387   \t0.35 \t0  \n",
            "42 \t392   \t0.296\t0  \n",
            "43 \t373   \t0.282\t0  \n",
            "44 \t391   \t0.252\t0  \n",
            "45 \t400   \t0.338\t0  \n",
            "46 \t372   \t0.324\t0  \n",
            "47 \t366   \t0.246\t0  \n",
            "48 \t382   \t0.272\t0  \n",
            "49 \t369   \t0.294\t0  \n",
            "50 \t377   \t0.31 \t0  \n",
            "51 \t379   \t0.304\t0  \n",
            "52 \t375   \t0.226\t0  \n",
            "53 \t359   \t0.242\t0  \n",
            "54 \t382   \t0.272\t0  \n",
            "55 \t386   \t0.292\t0  \n",
            "56 \t395   \t0.232\t0  \n",
            "57 \t398   \t0.3  \t0  \n",
            "58 \t393   \t0.272\t0  \n",
            "59 \t364   \t0.282\t0  \n",
            "60 \t376   \t0.28 \t0  \n",
            "61 \t367   \t0.332\t0  \n",
            "62 \t376   \t0.286\t0  \n",
            "63 \t368   \t0.218\t0  \n",
            "64 \t355   \t0.284\t0  \n",
            "65 \t378   \t0.268\t0  \n",
            "66 \t382   \t0.352\t0  \n",
            "67 \t380   \t0.386\t0  \n",
            "68 \t375   \t0.37 \t0  \n",
            "69 \t350   \t0.292\t0  \n",
            "70 \t382   \t0.32 \t0  \n",
            "71 \t371   \t0.324\t0  \n",
            "72 \t382   \t0.278\t0  \n",
            "73 \t365   \t0.326\t0  \n",
            "74 \t369   \t0.3  \t0  \n",
            "75 \t371   \t0.302\t0  \n",
            "76 \t386   \t0.298\t0  \n",
            "77 \t379   \t0.284\t0  \n",
            "78 \t396   \t0.348\t0  \n",
            "79 \t367   \t0.312\t0  \n",
            "80 \t365   \t0.248\t0  \n",
            "81 \t393   \t0.288\t0  \n",
            "82 \t385   \t0.338\t0  \n",
            "83 \t393   \t0.268\t0  \n",
            "84 \t389   \t0.23 \t0  \n",
            "85 \t359   \t0.278\t0  \n",
            "86 \t385   \t0.286\t0  \n",
            "87 \t361   \t0.288\t0  \n",
            "88 \t362   \t0.356\t0  \n",
            "89 \t378   \t0.238\t0  \n",
            "90 \t388   \t0.3  \t0  \n",
            "91 \t379   \t0.342\t0  \n",
            "92 \t369   \t0.274\t0  \n",
            "93 \t386   \t0.232\t0  \n",
            "94 \t365   \t0.314\t0  \n",
            "95 \t366   \t0.21 \t0  \n",
            "96 \t378   \t0.252\t0  \n",
            "97 \t375   \t0.336\t0  \n",
            "98 \t381   \t0.32 \t0  \n",
            "99 \t396   \t0.276\t0  \n",
            "100\t388   \t0.358\t0  \n",
            "Genetic Algorithm model with population size of  100  and generation size of  10\n",
            "gen\tnevals\tavg\tmin\n",
            "0  \t100   \t7.6\t1  \n",
            "1  \t71    \t6.82\t1  \n",
            "2  \t74    \t5.95\t1  \n",
            "3  \t76    \t5.3 \t1  \n",
            "4  \t85    \t4.86\t1  \n",
            "5  \t78    \t4.5 \t1  \n",
            "6  \t87    \t4.12\t1  \n",
            "7  \t77    \t4.06\t1  \n",
            "8  \t65    \t3.32\t1  \n",
            "9  \t73    \t3.39\t1  \n",
            "10 \t79    \t2.79\t0  \n",
            "Genetic Algorithm model with population size of  100  and generation size of  50\n",
            "gen\tnevals\tavg \tmin\n",
            "0  \t100   \t7.54\t2  \n",
            "1  \t69    \t6.45\t2  \n",
            "2  \t87    \t5.98\t2  \n",
            "3  \t87    \t5.51\t2  \n",
            "4  \t61    \t4.69\t2  \n",
            "5  \t86    \t4.6 \t1  \n",
            "6  \t89    \t3.66\t1  \n",
            "7  \t70    \t2.76\t1  \n",
            "8  \t78    \t2.17\t1  \n",
            "9  \t76    \t1.77\t1  \n",
            "10 \t84    \t1.28\t1  \n",
            "11 \t73    \t1.41\t1  \n",
            "12 \t74    \t1.34\t1  \n",
            "13 \t79    \t1.25\t1  \n",
            "14 \t78    \t1.32\t1  \n",
            "15 \t80    \t1.23\t1  \n",
            "16 \t63    \t1.27\t1  \n",
            "17 \t68    \t1.29\t1  \n",
            "18 \t81    \t1.31\t1  \n",
            "19 \t70    \t1.23\t1  \n",
            "20 \t80    \t1.18\t1  \n",
            "21 \t70    \t1.3 \t1  \n",
            "22 \t75    \t1.28\t1  \n",
            "23 \t77    \t1.39\t1  \n",
            "24 \t71    \t1.17\t1  \n",
            "25 \t76    \t1.15\t1  \n",
            "26 \t74    \t1.39\t1  \n",
            "27 \t64    \t1.29\t1  \n",
            "28 \t65    \t1.12\t1  \n",
            "29 \t69    \t1.2 \t1  \n",
            "30 \t75    \t1.36\t1  \n",
            "31 \t76    \t1.16\t1  \n",
            "32 \t71    \t1.23\t1  \n",
            "33 \t71    \t1.17\t1  \n",
            "34 \t71    \t1.33\t1  \n",
            "35 \t64    \t1.14\t1  \n",
            "36 \t75    \t1.34\t1  \n",
            "37 \t84    \t1.24\t1  \n",
            "38 \t75    \t1.16\t1  \n",
            "39 \t85    \t1.18\t1  \n",
            "40 \t85    \t1.16\t1  \n",
            "41 \t79    \t1.35\t1  \n",
            "42 \t77    \t1.29\t1  \n",
            "43 \t72    \t1.17\t1  \n",
            "44 \t70    \t1.21\t1  \n",
            "45 \t65    \t1.26\t1  \n",
            "46 \t66    \t1.2 \t1  \n",
            "47 \t78    \t1.28\t1  \n",
            "48 \t80    \t1.21\t1  \n",
            "49 \t82    \t1.31\t1  \n",
            "50 \t74    \t1.27\t1  \n",
            "Genetic Algorithm model with population size of  100  and generation size of  100\n",
            "gen\tnevals\tavg \tmin\n",
            "0  \t100   \t8.22\t3  \n",
            "1  \t80    \t7.43\t4  \n",
            "2  \t71    \t6.25\t3  \n",
            "3  \t75    \t5.68\t2  \n",
            "4  \t87    \t5.26\t2  \n",
            "5  \t83    \t4.72\t2  \n",
            "6  \t77    \t4.32\t2  \n",
            "7  \t85    \t4.8 \t2  \n",
            "8  \t74    \t4.29\t1  \n",
            "9  \t78    \t4.24\t2  \n",
            "10 \t80    \t3.8 \t1  \n",
            "11 \t73    \t3.26\t1  \n",
            "12 \t75    \t2.9 \t1  \n",
            "13 \t67    \t2.83\t1  \n",
            "14 \t81    \t2.35\t1  \n",
            "15 \t75    \t1.94\t1  \n",
            "16 \t70    \t1.53\t1  \n",
            "17 \t72    \t1.28\t1  \n",
            "18 \t81    \t1.44\t1  \n",
            "19 \t85    \t1.17\t1  \n",
            "20 \t65    \t1.18\t1  \n",
            "21 \t81    \t1.28\t1  \n",
            "22 \t75    \t1.19\t1  \n",
            "23 \t69    \t1.3 \t1  \n",
            "24 \t81    \t1.2 \t1  \n",
            "25 \t74    \t1.28\t1  \n",
            "26 \t78    \t1.15\t1  \n",
            "27 \t76    \t1.32\t1  \n",
            "28 \t80    \t1.19\t1  \n",
            "29 \t78    \t1.18\t1  \n",
            "30 \t65    \t1.26\t1  \n",
            "31 \t83    \t1.27\t1  \n",
            "32 \t79    \t1.29\t1  \n",
            "33 \t80    \t1.26\t1  \n",
            "34 \t73    \t1.11\t1  \n",
            "35 \t79    \t1.37\t1  \n",
            "36 \t77    \t1.16\t1  \n",
            "37 \t79    \t1.24\t1  \n",
            "38 \t72    \t1.12\t1  \n",
            "39 \t78    \t1.31\t1  \n",
            "40 \t79    \t1.26\t1  \n",
            "41 \t66    \t1.2 \t1  \n",
            "42 \t81    \t1.25\t1  \n",
            "43 \t75    \t1.32\t1  \n",
            "44 \t68    \t1.17\t1  \n",
            "45 \t78    \t1.35\t1  \n",
            "46 \t74    \t1.11\t1  \n",
            "47 \t81    \t1.21\t1  \n",
            "48 \t70    \t1.23\t1  \n",
            "49 \t72    \t1.16\t1  \n",
            "50 \t80    \t1.3 \t1  \n",
            "51 \t77    \t1.27\t1  \n",
            "52 \t76    \t1.26\t1  \n",
            "53 \t78    \t1.2 \t1  \n",
            "54 \t81    \t1.22\t1  \n",
            "55 \t83    \t1.3 \t1  \n",
            "56 \t76    \t1.29\t1  \n",
            "57 \t79    \t1.41\t1  \n",
            "58 \t69    \t1.23\t1  \n",
            "59 \t70    \t1.39\t1  \n",
            "60 \t71    \t1.19\t1  \n",
            "61 \t74    \t1.21\t1  \n",
            "62 \t83    \t1.21\t1  \n",
            "63 \t79    \t1.23\t1  \n",
            "64 \t74    \t1.27\t1  \n",
            "65 \t78    \t1.21\t1  \n",
            "66 \t72    \t1.3 \t1  \n",
            "67 \t82    \t1.16\t1  \n",
            "68 \t76    \t1.24\t1  \n",
            "69 \t74    \t1.23\t1  \n",
            "70 \t78    \t1.24\t1  \n",
            "71 \t78    \t1.38\t1  \n",
            "72 \t73    \t1.39\t1  \n",
            "73 \t78    \t1.15\t1  \n",
            "74 \t82    \t1.3 \t1  \n",
            "75 \t78    \t1.37\t1  \n",
            "76 \t70    \t1.23\t1  \n",
            "77 \t60    \t1.11\t1  \n",
            "78 \t76    \t1.32\t1  \n",
            "79 \t84    \t1.23\t1  \n",
            "80 \t69    \t1.12\t1  \n",
            "81 \t78    \t1.3 \t1  \n",
            "82 \t69    \t1.31\t1  \n",
            "83 \t67    \t1.33\t1  \n",
            "84 \t66    \t1.24\t1  \n",
            "85 \t82    \t1.28\t1  \n",
            "86 \t79    \t1.24\t1  \n",
            "87 \t75    \t1.25\t1  \n",
            "88 \t73    \t1.29\t1  \n",
            "89 \t85    \t1.27\t1  \n",
            "90 \t66    \t1.25\t1  \n",
            "91 \t83    \t1.23\t1  \n",
            "92 \t84    \t1.22\t1  \n",
            "93 \t78    \t1.24\t1  \n",
            "94 \t86    \t1.23\t1  \n",
            "95 \t77    \t1.29\t1  \n",
            "96 \t79    \t1.45\t1  \n",
            "97 \t78    \t1.2 \t1  \n",
            "98 \t69    \t1.32\t1  \n",
            "99 \t83    \t1.26\t1  \n",
            "100\t78    \t1.23\t1  \n",
            "Genetic Algorithm model with population size of  2000  and generation size of  10\n",
            "gen\tnevals\tavg  \tmin\n",
            "0  \t2000  \t7.865\t2  \n",
            "1  \t1545  \t6.5255\t2  \n",
            "2  \t1515  \t5.8205\t1  \n",
            "3  \t1541  \t5.409 \t1  \n",
            "4  \t1520  \t5.19  \t1  \n",
            "5  \t1502  \t4.9475\t1  \n",
            "6  \t1541  \t4.886 \t0  \n",
            "7  \t1528  \t4.777 \t0  \n",
            "8  \t1498  \t4.685 \t1  \n",
            "9  \t1497  \t4.592 \t0  \n",
            "10 \t1515  \t4.456 \t0  \n",
            "Genetic Algorithm model with population size of  2000  and generation size of  50\n",
            "gen\tnevals\tavg   \tmin\n",
            "0  \t2000  \t7.8795\t2  \n",
            "1  \t1513  \t6.4825\t2  \n",
            "2  \t1528  \t5.7985\t0  \n",
            "3  \t1501  \t5.385 \t0  \n",
            "4  \t1485  \t5.11  \t0  \n",
            "5  \t1526  \t4.899 \t0  \n",
            "6  \t1512  \t4.7265\t0  \n",
            "7  \t1497  \t4.6065\t0  \n",
            "8  \t1543  \t4.511 \t0  \n",
            "9  \t1490  \t4.375 \t0  \n",
            "10 \t1495  \t4.356 \t0  \n",
            "11 \t1484  \t4.254 \t0  \n",
            "12 \t1547  \t4.213 \t0  \n",
            "13 \t1559  \t4.0635\t0  \n",
            "14 \t1536  \t3.894 \t0  \n",
            "15 \t1508  \t3.657 \t0  \n",
            "16 \t1556  \t3.4975\t0  \n",
            "17 \t1528  \t3.171 \t0  \n",
            "18 \t1531  \t2.616 \t0  \n",
            "19 \t1543  \t1.906 \t0  \n",
            "20 \t1463  \t1.197 \t0  \n",
            "21 \t1516  \t0.703 \t0  \n",
            "22 \t1501  \t0.3435\t0  \n",
            "23 \t1503  \t0.306 \t0  \n",
            "24 \t1549  \t0.3115\t0  \n",
            "25 \t1493  \t0.299 \t0  \n",
            "26 \t1539  \t0.276 \t0  \n",
            "27 \t1495  \t0.2975\t0  \n",
            "28 \t1542  \t0.331 \t0  \n",
            "29 \t1529  \t0.2705\t0  \n",
            "30 \t1481  \t0.2365\t0  \n",
            "31 \t1513  \t0.3225\t0  \n",
            "32 \t1566  \t0.294 \t0  \n",
            "33 \t1475  \t0.3035\t0  \n",
            "34 \t1547  \t0.2745\t0  \n",
            "35 \t1512  \t0.262 \t0  \n",
            "36 \t1519  \t0.2945\t0  \n",
            "37 \t1491  \t0.278 \t0  \n",
            "38 \t1534  \t0.307 \t0  \n",
            "39 \t1555  \t0.304 \t0  \n",
            "40 \t1553  \t0.3165\t0  \n",
            "41 \t1492  \t0.294 \t0  \n",
            "42 \t1506  \t0.2965\t0  \n",
            "43 \t1498  \t0.3155\t0  \n",
            "44 \t1538  \t0.318 \t0  \n",
            "45 \t1503  \t0.2625\t0  \n",
            "46 \t1507  \t0.285 \t0  \n",
            "47 \t1579  \t0.304 \t0  \n",
            "48 \t1586  \t0.2805\t0  \n",
            "49 \t1503  \t0.279 \t0  \n",
            "50 \t1549  \t0.2855\t0  \n",
            "Genetic Algorithm model with population size of  2000  and generation size of  100\n",
            "gen\tnevals\tavg  \tmin\n",
            "0  \t2000  \t7.882\t2  \n",
            "1  \t1492  \t6.5725\t2  \n",
            "2  \t1520  \t5.868 \t1  \n",
            "3  \t1476  \t5.337 \t1  \n",
            "4  \t1519  \t5.097 \t1  \n",
            "5  \t1531  \t4.927 \t0  \n",
            "6  \t1475  \t4.764 \t0  \n",
            "7  \t1530  \t4.682 \t0  \n",
            "8  \t1537  \t4.5595\t0  \n",
            "9  \t1519  \t4.5005\t0  \n",
            "10 \t1499  \t4.378 \t0  \n",
            "11 \t1558  \t4.2985\t0  \n",
            "12 \t1519  \t4.2435\t0  \n",
            "13 \t1505  \t4.1595\t0  \n",
            "14 \t1472  \t4.0115\t0  \n",
            "15 \t1512  \t4.0015\t0  \n",
            "16 \t1511  \t3.736 \t0  \n",
            "17 \t1531  \t3.713 \t0  \n",
            "18 \t1543  \t3.5255\t0  \n",
            "19 \t1500  \t3.2825\t0  \n",
            "20 \t1539  \t3.12  \t0  \n",
            "21 \t1494  \t2.995 \t0  \n",
            "22 \t1587  \t2.82  \t0  \n",
            "23 \t1537  \t2.613 \t0  \n",
            "24 \t1506  \t2.335 \t0  \n",
            "25 \t1540  \t2.109 \t0  \n",
            "26 \t1488  \t1.8485\t0  \n",
            "27 \t1489  \t1.578 \t0  \n",
            "28 \t1504  \t1.389 \t0  \n",
            "29 \t1521  \t1.333 \t0  \n",
            "30 \t1508  \t1.3145\t0  \n",
            "31 \t1561  \t1.3645\t0  \n",
            "32 \t1526  \t1.238 \t1  \n",
            "33 \t1489  \t1.274 \t1  \n",
            "34 \t1479  \t1.265 \t1  \n",
            "35 \t1464  \t1.258 \t1  \n",
            "36 \t1534  \t1.293 \t1  \n",
            "37 \t1499  \t1.2495\t1  \n",
            "38 \t1525  \t1.2795\t1  \n",
            "39 \t1489  \t1.2825\t1  \n",
            "40 \t1526  \t1.2935\t1  \n",
            "41 \t1521  \t1.268 \t1  \n",
            "42 \t1514  \t1.248 \t1  \n",
            "43 \t1532  \t1.2765\t1  \n",
            "44 \t1509  \t1.2895\t1  \n",
            "45 \t1532  \t1.2745\t1  \n",
            "46 \t1533  \t1.253 \t1  \n",
            "47 \t1503  \t1.2865\t1  \n",
            "48 \t1509  \t1.284 \t1  \n",
            "49 \t1514  \t1.2765\t1  \n",
            "50 \t1525  \t1.2445\t1  \n",
            "51 \t1531  \t1.24  \t1  \n",
            "52 \t1503  \t1.264 \t1  \n",
            "53 \t1524  \t1.256 \t1  \n",
            "54 \t1511  \t1.2745\t1  \n",
            "55 \t1512  \t1.2835\t1  \n",
            "56 \t1531  \t1.2615\t1  \n",
            "57 \t1545  \t1.311 \t1  \n",
            "58 \t1495  \t1.278 \t1  \n",
            "59 \t1534  \t1.2905\t1  \n",
            "60 \t1537  \t1.297 \t1  \n",
            "61 \t1510  \t1.3095\t1  \n",
            "62 \t1563  \t1.262 \t1  \n",
            "63 \t1522  \t1.263 \t1  \n",
            "64 \t1527  \t1.2925\t1  \n",
            "65 \t1514  \t1.3085\t1  \n",
            "66 \t1560  \t1.286 \t1  \n",
            "67 \t1513  \t1.2685\t1  \n",
            "68 \t1562  \t1.2705\t1  \n",
            "69 \t1525  \t1.2405\t1  \n",
            "70 \t1540  \t1.2555\t1  \n",
            "71 \t1517  \t1.3115\t1  \n",
            "72 \t1543  \t1.2805\t1  \n",
            "73 \t1537  \t1.2975\t1  \n",
            "74 \t1546  \t1.2775\t1  \n",
            "75 \t1540  \t1.3225\t1  \n",
            "76 \t1472  \t1.24  \t1  \n",
            "77 \t1554  \t1.293 \t1  \n",
            "78 \t1537  \t1.274 \t1  \n",
            "79 \t1478  \t1.2765\t1  \n",
            "80 \t1479  \t1.269 \t1  \n",
            "81 \t1581  \t1.2975\t1  \n",
            "82 \t1502  \t1.25  \t1  \n",
            "83 \t1549  \t1.294 \t1  \n",
            "84 \t1530  \t1.3015\t1  \n",
            "85 \t1523  \t1.251 \t1  \n",
            "86 \t1546  \t1.2735\t1  \n",
            "87 \t1515  \t1.2615\t1  \n",
            "88 \t1517  \t1.2855\t1  \n",
            "89 \t1490  \t1.295 \t1  \n",
            "90 \t1477  \t1.2535\t1  \n",
            "91 \t1527  \t1.2815\t1  \n",
            "92 \t1476  \t1.227 \t1  \n",
            "93 \t1538  \t1.2675\t1  \n",
            "94 \t1534  \t1.286 \t1  \n",
            "95 \t1506  \t1.2765\t1  \n",
            "96 \t1598  \t1.307 \t1  \n",
            "97 \t1521  \t1.2415\t1  \n",
            "98 \t1551  \t1.246 \t1  \n",
            "99 \t1516  \t1.2805\t1  \n",
            "100\t1509  \t1.2695\t1  \n"
          ]
        }
      ],
      "source": [
        "def GenAlg(x, ngen):\n",
        "    print(\"Genetic Algorithm model with population size of \", x, \" and generation size of \", ngen)\n",
        "    pop = toolbox.population(x)\n",
        "    hof = tools.HallOfFame(maxsize = 1)\n",
        "    pop, log = algorithms.eaSimple(pop, toolbox, cxpb = 0.7, mutpb = 0.2, ngen=ngen, stats=stats, halloffame=hof, verbose=True)\n",
        "    return pop, log\n",
        "\n",
        "xList = [500, 100, 2000]\n",
        "nGenList = [10, 50, 100]\n",
        "\n",
        "results = []\n",
        "for x in xList:\n",
        "    for ngen in nGenList:\n",
        "        pop, log = GenAlg(x, ngen)\n",
        "        results.append([pop, log, x, ngen])"
      ]
    },
    {
      "cell_type": "markdown",
      "metadata": {
        "id": "xrJfr0ePVOUs"
      },
      "source": [
        "### 5 pts:  Plot the \"avg\" and \"min\" for each generation"
      ]
    },
    {
      "cell_type": "code",
      "execution_count": null,
      "metadata": {
        "id": "LJyAUq4WVOUs",
        "colab": {
          "base_uri": "https://localhost:8080/",
          "height": 1000
        },
        "outputId": "c3f9b127-5dcc-40cb-a593-72c50db4152e"
      },
      "outputs": [
        {
          "output_type": "stream",
          "name": "stdout",
          "text": [
            "Genetic Algorithm model with population size of  500  and generation size of  10\n"
          ]
        },
        {
          "output_type": "display_data",
          "data": {
            "text/plain": [
              "<Figure size 432x288 with 1 Axes>"
            ],
            "image/png": "[encoded data removed]"
          },
          "metadata": {
            "needs_background": "light"
          }
        },
        {
          "output_type": "stream",
          "name": "stdout",
          "text": [
            "Genetic Algorithm model with population size of  500  and generation size of  50\n"
          ]
        },
        {
          "output_type": "display_data",
          "data": {
            "text/plain": [
              "<Figure size 432x288 with 1 Axes>"
            ],
            "image/png": "[encoded data removed]"
          },
          "metadata": {
            "needs_background": "light"
          }
        },
        {
          "output_type": "stream",
          "name": "stdout",
          "text": [
            "Genetic Algorithm model with population size of  500  and generation size of  100\n"
          ]
        },
        {
          "output_type": "display_data",
          "data": {
            "text/plain": [
              "<Figure size 432x288 with 1 Axes>"
            ],
            "image/png": "[encoded data removed]"
          },
          "metadata": {
            "needs_background": "light"
          }
        },
        {
          "output_type": "stream",
          "name": "stdout",
          "text": [
            "Genetic Algorithm model with population size of  100  and generation size of  10\n"
          ]
        },
        {
          "output_type": "display_data",
          "data": {
            "text/plain": [
              "<Figure size 432x288 with 1 Axes>"
            ],
            "image/png": "[encoded data removed]"
          },
          "metadata": {
            "needs_background": "light"
          }
        },
        {
          "output_type": "stream",
          "name": "stdout",
          "text": [
            "Genetic Algorithm model with population size of  100  and generation size of  50\n"
          ]
        },
        {
          "output_type": "display_data",
          "data": {
            "text/plain": [
              "<Figure size 432x288 with 1 Axes>"
            ],
            "image/png": "[encoded data removed]"
          },
          "metadata": {
            "needs_background": "light"
          }
        },
        {
          "output_type": "stream",
          "name": "stdout",
          "text": [
            "Genetic Algorithm model with population size of  100  and generation size of  100\n"
          ]
        },
        {
          "output_type": "display_data",
          "data": {
            "text/plain": [
              "<Figure size 432x288 with 1 Axes>"
            ],
            "image/png": "[encoded data removed]"
          },
          "metadata": {
            "needs_background": "light"
          }
        },
        {
          "output_type": "stream",
          "name": "stdout",
          "text": [
            "Genetic Algorithm model with population size of  2000  and generation size of  10\n"
          ]
        },
        {
          "output_type": "display_data",
          "data": {
            "text/plain": [
              "<Figure size 432x288 with 1 Axes>"
            ],
            "image/png": "[encoded data removed]"
          },
          "metadata": {
            "needs_background": "light"
          }
        },
        {
          "output_type": "stream",
          "name": "stdout",
          "text": [
            "Genetic Algorithm model with population size of  2000  and generation size of  50\n"
          ]
        },
        {
          "output_type": "display_data",
          "data": {
            "text/plain": [
              "<Figure size 432x288 with 1 Axes>"
            ],
            "image/png": "[encoded data removed]"
          },
          "metadata": {
            "needs_background": "light"
          }
        },
        {
          "output_type": "stream",
          "name": "stdout",
          "text": [
            "Genetic Algorithm model with population size of  2000  and generation size of  100\n"
          ]
        },
        {
          "output_type": "display_data",
          "data": {
            "text/plain": [
              "<Figure size 432x288 with 1 Axes>"
            ],
            "image/png": "[encoded data removed]"
          },
          "metadata": {
            "needs_background": "light"
          }
        }
      ],
      "source": [
        "# Plot the \"avg\" and \"min\" for each generation\n",
        "\n",
        "import matplotlib.pyplot as plt\n",
        "%matplotlib inline  \n",
        "\n",
        "def plot(log, x, ngen):\n",
        "  print(\"Genetic Algorithm model with population size of \", x, \" and generation size of \", ngen)\n",
        "  #gen, avg, min_, max_ = log.select(\"gen\", \"avg\", \"min\", \"max\")\n",
        "  gen, avg, min_, = log.select(\"gen\", \"avg\", \"min\")\n",
        "\n",
        "  plt.plot(gen, avg, label=\"avg\")\n",
        "  plt.plot(gen, min_, label=\"min\")\n",
        "  #plt.plot(gen, max_, label=\"max\")\n",
        "  plt.xlabel(\"Generations\")\n",
        "  plt.ylabel(\"Fitness Score\")\n",
        "  plt.legend(loc = \"lower right\")\n",
        "  plt.show()\n",
        "\n",
        "for result in results:\n",
        "  plot(result[1], result[2], result[3])"
      ]
    },
    {
      "cell_type": "markdown",
      "metadata": {
        "id": "ry6HXqIMVOUv"
      },
      "source": [
        "### 5 pts:  Print out the best individual found and its fitness value.  Show the best individual as chessboard"
      ]
    },
    {
      "cell_type": "code",
      "execution_count": null,
      "metadata": {
        "id": "PkC9uOqCVOUv",
        "colab": {
          "base_uri": "https://localhost:8080/"
        },
        "outputId": "e6893f95-930e-4dca-e9ba-230dac8578cc"
      },
      "outputs": [
        {
          "output_type": "stream",
          "name": "stdout",
          "text": [
            "Best individual is:  [2, 0, 6, 4, 7, 1, 3, 5]\n",
            "-|-|X|-|-|-|-|-|\n",
            "----------------\n",
            "X|-|-|-|-|-|-|-|\n",
            "----------------\n",
            "-|-|-|-|-|-|X|-|\n",
            "----------------\n",
            "-|-|-|-|X|-|-|-|\n",
            "----------------\n",
            "-|-|-|-|-|-|-|X|\n",
            "----------------\n",
            "-|X|-|-|-|-|-|-|\n",
            "----------------\n",
            "-|-|-|X|-|-|-|-|\n",
            "----------------\n",
            "-|-|-|-|-|X|-|-|\n",
            "----------------\n",
            "Fitness:  [0]\n"
          ]
        }
      ],
      "source": [
        "best_ind = tools.selBest(pop, k = 1)[0]\n",
        "\n",
        "print(\"Best individual is: \", best_ind)\n",
        "show_grid(best_ind)\n",
        "print(\"Fitness: \", toolbox.evaluate(best_ind))"
      ]
    },
    {
      "cell_type": "markdown",
      "metadata": {
        "id": "qhba2jQ1VOUw"
      },
      "source": [
        "### Reflection:  Which board representaion is better in terms of ease of coding and final solution quality?   Try different parameter values for mutation and crossover and vary the number of generations and the population size.  Write your findings in the report.        "
      ]
    }
  ],
  "metadata": {
    "colab": {
      "provenance": [],
      "machine_shape": "hm",
      "toc_visible": true
    },
    "kernelspec": {
      "display_name": "Python 3",
      "language": "python",
      "name": "python3"
    },
    "language_info": {
      "codemirror_mode": {
        "name": "ipython",
        "version": 3
      },
      "file_extension": ".py",
      "mimetype": "text/x-python",
      "name": "python",
      "nbconvert_exporter": "python",
      "pygments_lexer": "ipython3",
      "version": "3.7.6"
    },
    "accelerator": "TPU",
    "gpuClass": "premium"
  },
  "nbformat": 4,
  "nbformat_minor": 0
}