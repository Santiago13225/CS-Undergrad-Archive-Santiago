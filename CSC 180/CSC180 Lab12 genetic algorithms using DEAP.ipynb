{
 "cells": [
  {
   "cell_type": "markdown",
   "metadata": {},
   "source": [
    "#### CSC 180  Intelligent Systems (Fall 2022)\n",
    "\n",
    "#### Dr. Haiquan Chen, Dept of Computer Scicence\n",
    "\n",
    "#### California State University, Sacramento"
   ]
  },
  {
   "cell_type": "markdown",
   "metadata": {},
   "source": [
    "## Lab 12： Distributed Evolutionary Algorithms in Python (DEAP) Basics"
   ]
  },
  {
   "cell_type": "markdown",
   "metadata": {},
   "source": [
    "## Elements to take into account using evolutionary algorithms\n",
    "\n",
    "* **Individual representation** (binary, Gray, floating-point, etc.);\n",
    "* **evaluation** and **fitness assignment**;\n",
    "* **mating selection**, that establishes a partial order of individuals in the population using their fitness function value as reference and determines the degree at which individuals in the population will take part in the generation of new (offspring) individuals.\n",
    "* **variation**, that applies a range of evolution-inspired operators, like crossover, mutation, etc., to synthesize offspring individuals from the current (parent) population. This process is supposed to prime the fittest individuals so they play a bigger role in the generation of the offspring.\n",
    "* **environmental selection**, that merges the parent and offspring individuals to produce the population that will be used in the next iteration. This process often involves the deletion of some individuals using a given criterion in order to keep the amount of individuals bellow a certain threshold.\n",
    "* **stopping criterion**, that determines when the algorithm shoulod be stopped, either because the optimum was reach or because the optimization process is not progressing.\n",
    "\n",
    "# Hence a 'general' evolutionary algorithm can be described as\n",
    "\n",
    "```python\n",
    "def evolutionary_algorithm():\n",
    "    'Pseudocode of an evolutionary algorithm'    \n",
    "    populations = [] # a list with all the populations\n",
    "    \n",
    "    populations[0] =  initialize_population(pop_size)\n",
    "    t = 0\n",
    "    \n",
    "    while not stop_criterion(populations[t]):\n",
    "        fitnesses = evaluate(populations[t])\n",
    "        offspring = matting_and_variation(populations[t],\n",
    "                                          fitnesses)\n",
    "        populations[t+1] = environmental_selection(           \n",
    "                                          populations[t],\n",
    "                                          offspring)\n",
    "        t = t+1\n",
    "```"
   ]
  },
  {
   "cell_type": "markdown",
   "metadata": {},
   "source": [
    "\n",
    "# Python libraries for evolutionary computation\n",
    "\n",
    "* PaGMO/PyGMO\n",
    "* Inspyred\n",
    "* **Distributed Evolutionary Algorithms in Python (DEAP)**\n",
    "\n",
    "\n",
    "<table>\n",
    "<tr>\n",
    "<td width='47%'>\n",
    "<img src='https://raw.githubusercontent.com/DEAP/deap/master/doc/_static/deap_long.png' title=\"DEAP logo\" width='92%' align='center'/>\n",
    "</td>\n",
    "<td>\n",
    "<ul>\n",
    "<li> Open source Python library with,\n",
    "<li> genetic algorithm using any representation;\n",
    "<li> evolutionary strategies (including CMA-ES);\n",
    "<li> multi-objective optimization from the start;\n",
    "<li> co-evolution (cooperative and competitive) of multiple populations;\n",
    "<li> parallelization of the evaluations (and more) using SCOOP;\n",
    "<li> statistics keeping, and;\n",
    "<li> benchmarks module containing some common test functions.\n",
    "<li> [https://github.com/DEAP/deap](https://github.com/DEAP/deap)\n",
    "</ul>\n",
    "</td>\n",
    "</tr>\n",
    "</table>\n"
   ]
  },
  {
   "cell_type": "markdown",
   "metadata": {},
   "source": [
    "### To install:  pip install deap"
   ]
  },
  {
   "cell_type": "markdown",
   "metadata": {},
   "source": [
    "## Let's take the One Max problem as an example "
   ]
  },
  {
   "cell_type": "markdown",
   "metadata": {},
   "source": [
    "\n",
    "\n",
    "### Maximize the number of ones in a binary string (list, vector, etc.).\n",
    "* More formally, from the set of binary strings of length $n$,\n",
    "$$\\mathcal{S}=\\left\\{s_1,\\ldots,s_n\\right\\}, \\text{ with } s_i=\\left\\{0,1\\right\\}.$$\n",
    "* Find $s^\\ast\\in\\mathcal{S}$ such that\n",
    "$$s^\\ast = \\operatorname*{arg\\,max}_{s\\in\\mathcal{S}} \\sum_{i=1}^{n}{s_i}.$$\n",
    "### Its clear that the optimum is an *all-ones* string."
   ]
  },
  {
   "cell_type": "markdown",
   "metadata": {},
   "source": [
    "# Coding the problem"
   ]
  },
  {
   "cell_type": "markdown",
   "metadata": {},
   "source": [
    "\n",
    "## Imports\n",
    "We first get the required modules for our evolution.\n",
    "\n",
    "- `random` gives us a way to generate random bits;\n",
    "- `base` gives us access to the Toolbox and base Fitness;\n",
    "- `creator` allows us to create our types;\n",
    "- `tools` grants us access to the operators bank;\n",
    "- `algorithms` enables us some ready generic evolutionary loops."
   ]
  },
  {
   "cell_type": "code",
   "execution_count": 2,
   "metadata": {},
   "outputs": [],
   "source": [
    "import random\n",
    "import numpy as np\n",
    "import pandas as pd\n",
    "from deap import base, creator, tools, algorithms"
   ]
  },
  {
   "cell_type": "markdown",
   "metadata": {},
   "source": [
    "## Step 1:  Create the Fitness class and the Individual class using create()\n",
    "\n",
    "\n",
    "First step with DEAP is to create the required types. Usually the types created are the fitness and the individual. \n",
    "\n",
    "\n",
    "### Fitness Class\n",
    "\n",
    "For the OneMax problem, we want to have a solution with as many ones as possible. Thus we need a maximizing fitness.\n",
    "\n",
    "\n",
    "***The create() function takes at least two arguments, a name for the newly created class and a base class***. ***Any subsequent argument becomes an attribute of the class***. \n"
   ]
  },
  {
   "cell_type": "code",
   "execution_count": 7,
   "metadata": {},
   "outputs": [],
   "source": [
    "creator.create(\"FitnessMax\", base.Fitness, weights=(1.0,))"
   ]
  },
  {
   "cell_type": "markdown",
   "metadata": {},
   "source": [
    "The weights attribute must be a ***tuple*** so that multi-objective and single objective fitnesses can be treated the same way. A FitnessMulti would be created the same way but using:\n",
    "\n",
    "`creator.create(\"FitnessMulti\", base.Fitness, weights=(-1.0, 1.0))`\n",
    "\n",
    "\n",
    "This code produces a fitness that minimizes the first objective and maximize the second one. The weights can also be used to vary the importance of each objective one against another. This means that the weights can be any real number and only the sign is used to determine if a maximization or minimization is done. \n"
   ]
  },
  {
   "cell_type": "markdown",
   "metadata": {},
   "source": [
    "### Individual Class"
   ]
  },
  {
   "cell_type": "markdown",
   "metadata": {},
   "source": [
    "For the OneMax problem, we want to have a solution with as many ones as possible. Thus we need a maximizing fitness and a individual that is a `list`.\n",
    "\n",
    "Next we create an Individual class, using the creator, that will inherit from the standard list type and have a fitness attribute.\n"
   ]
  },
  {
   "cell_type": "code",
   "execution_count": 8,
   "metadata": {},
   "outputs": [],
   "source": [
    "creator.create(\"Individual\", list, fitness=creator.FitnessMax)"
   ]
  },
  {
   "cell_type": "markdown",
   "metadata": {},
   "source": [
    "The created classes are made available in the creator module. We can instantiate directly objects of the created class like follow. This step is not required in an algorithm, the instatiation will be automated later.\n",
    "\n",
    "***You may use the following code to test if you create the individual class successfully***"
   ]
  },
  {
   "cell_type": "code",
   "execution_count": 12,
   "metadata": {},
   "outputs": [
    {
     "name": "stdout",
     "output_type": "stream",
     "text": [
      "[1, 0, 1, 1, 0]\n",
      "<class 'deap.creator.Individual'>\n",
      "<class 'deap.creator.FitnessMax'>\n"
     ]
    }
   ],
   "source": [
    "ind = creator.Individual([1, 0, 1, 1, 0])\n",
    "\n",
    "print(ind)\n",
    "print(type(ind))\n",
    "print(type(ind.fitness))"
   ]
  },
  {
   "cell_type": "markdown",
   "metadata": {},
   "source": [
    "## Step 2: Based on the individual representation, define your functions so DEAP can know how to instantiate each individual and the first population\n",
    "\n",
    "* ***Functions are defined/registered using register() method, which takes at least two arguments; an alias and a function assigned to this alias. Any subsequent argument is passed to the function when called.***\n",
    "\n"
   ]
  },
  {
   "cell_type": "markdown",
   "metadata": {},
   "source": [
    "###  If each individual is  a list of boolean values:"
   ]
  },
  {
   "cell_type": "code",
   "execution_count": 13,
   "metadata": {},
   "outputs": [],
   "source": [
    "toolbox = base.Toolbox()\n",
    "\n",
    "toolbox.register(\"attr_bool\", random.randint, 0, 1)\n",
    "# random.randint(0, 1)  yields 0 or 1\n",
    "\n",
    "toolbox.register(\"individual\", tools.initRepeat, creator.Individual, toolbox.attr_bool, n=10)\n",
    "toolbox.register(\"population\", tools.initRepeat, list, toolbox.individual)"
   ]
  },
  {
   "cell_type": "markdown",
   "metadata": {},
   "source": [
    "This first one, `attr_bool`, calls randint from the random module with arguments (0, 1) to create an integer in the interval $[0, 1]$. \n",
    "\n",
    "The second function, `individual` will use the `initRepeat` function made available in the tools module to fill an `Individual` class with what is produced by 10 calls to the previously defined `attr_bool` function. \n",
    "\n",
    "The same thing is done for the population function.\n",
    "\n",
    "\n",
    "***You may use the following code to test:***\n",
    "\n",
    "For example, calling every function individually shows how it proceeds."
   ]
  },
  {
   "cell_type": "code",
   "execution_count": 14,
   "metadata": {},
   "outputs": [
    {
     "name": "stdout",
     "output_type": "stream",
     "text": [
      "(<class 'int'>, 1)\n"
     ]
    }
   ],
   "source": [
    "bit = toolbox.attr_bool()\n",
    "print((type(bit), bit))\n"
   ]
  },
  {
   "cell_type": "code",
   "execution_count": 15,
   "metadata": {},
   "outputs": [
    {
     "name": "stdout",
     "output_type": "stream",
     "text": [
      "(<class 'deap.creator.Individual'>, 10, [0, 0, 0, 0, 0, 0, 0, 0, 0, 1])\n"
     ]
    }
   ],
   "source": [
    "ind = toolbox.individual()\n",
    "print((type(ind), len(ind), ind))\n"
   ]
  },
  {
   "cell_type": "code",
   "execution_count": 16,
   "metadata": {},
   "outputs": [
    {
     "name": "stdout",
     "output_type": "stream",
     "text": [
      "(<class 'list'>, 3, [[1, 0, 1, 0, 0, 0, 1, 1, 1, 1], [0, 0, 1, 0, 0, 0, 1, 0, 0, 1], [1, 1, 0, 1, 1, 1, 1, 1, 1, 1]])\n"
     ]
    }
   ],
   "source": [
    "pop = toolbox.population(n=3)\n",
    "print((type(pop), len(pop), pop))"
   ]
  },
  {
   "cell_type": "markdown",
   "metadata": {},
   "source": [
    "###   If each individual is a list of float values: "
   ]
  },
  {
   "cell_type": "code",
   "execution_count": 17,
   "metadata": {},
   "outputs": [],
   "source": [
    "toolbox1 = base.Toolbox()\n",
    "toolbox1.register(\"attr_float\", random.random)\n",
    "toolbox1.register(\"individual\", tools.initRepeat, creator.Individual,\n",
    "                 toolbox1.attr_float, n=10)\n",
    "toolbox1.register(\"population\", tools.initRepeat, list, toolbox1.individual)"
   ]
  },
  {
   "cell_type": "markdown",
   "metadata": {},
   "source": [
    "\n",
    "***You may use the following code to test:***"
   ]
  },
  {
   "cell_type": "code",
   "execution_count": 18,
   "metadata": {},
   "outputs": [
    {
     "name": "stdout",
     "output_type": "stream",
     "text": [
      "(<class 'deap.creator.Individual'>, 10, [0.4883608822945319, 0.8219485423639068, 0.7755907619590585, 0.6009482199267582, 0.12340454173572957, 0.6824654792017064, 0.4622005086554041, 0.04772036455219064, 0.05389758864248173, 0.5595009058544583])\n"
     ]
    }
   ],
   "source": [
    "ind1 = toolbox1.individual()\n",
    "print((type(ind1), len(ind1), ind1))"
   ]
  },
  {
   "cell_type": "code",
   "execution_count": 19,
   "metadata": {},
   "outputs": [
    {
     "name": "stdout",
     "output_type": "stream",
     "text": [
      "(<class 'list'>, 3, [[0.4912154424591759, 0.3868728230182915, 0.8117649127372155, 0.8803683796599934, 0.4124857983415052, 0.5320015185842386, 0.7532376642866696, 0.9681128816876409, 0.2214110550270738, 0.7464874403540728], [0.2128045648798319, 0.9855422254496641, 0.5169295149357216, 0.5101446923352828, 0.8829693593426222, 0.3597981155927509, 0.5465330990115123, 0.5303235115832728, 0.2600161323112383, 0.5830999479847632], [0.8994030032617878, 0.4968378683482826, 0.783794494406394, 0.13961526220566478, 0.5267334890783276, 0.1568200068320046, 0.8264242308511949, 0.46242253674122447, 0.12127732007002401, 0.2799075800889038]])\n"
     ]
    }
   ],
   "source": [
    "pop1 = toolbox1.population(n=3)\n",
    "print((type(pop1), len(pop1), pop1))"
   ]
  },
  {
   "cell_type": "markdown",
   "metadata": {},
   "source": [
    "###  If each individual is a list of integer values:"
   ]
  },
  {
   "cell_type": "code",
   "execution_count": 20,
   "metadata": {},
   "outputs": [],
   "source": [
    "toolbox2 = base.Toolbox()\n",
    "toolbox2.register(\"attr_int\", random.randint, 0, 10)\n",
    "toolbox2.register(\"individual\", tools.initRepeat, creator.Individual,\n",
    "                 toolbox2.attr_int, n=10)\n",
    "toolbox2.register(\"population\", tools.initRepeat, list, toolbox2.individual)"
   ]
  },
  {
   "cell_type": "markdown",
   "metadata": {},
   "source": [
    "***You may use the following code to test:***"
   ]
  },
  {
   "cell_type": "code",
   "execution_count": 21,
   "metadata": {},
   "outputs": [
    {
     "name": "stdout",
     "output_type": "stream",
     "text": [
      "[1, 1, 9, 6, 9, 5, 9, 9, 3, 6]\n"
     ]
    }
   ],
   "source": [
    "ind2 = toolbox2.individual()\n",
    "print(ind2)"
   ]
  },
  {
   "cell_type": "code",
   "execution_count": 22,
   "metadata": {},
   "outputs": [
    {
     "name": "stdout",
     "output_type": "stream",
     "text": [
      "(<class 'list'>, 3, [[1, 9, 3, 10, 6, 1, 1, 5, 0, 2], [5, 7, 3, 7, 4, 10, 7, 4, 6, 0], [6, 5, 9, 8, 3, 1, 4, 4, 2, 1]])\n"
     ]
    }
   ],
   "source": [
    "pop2 = toolbox2.population(n=3)\n",
    "print((type(pop2), len(pop2), pop2))"
   ]
  },
  {
   "cell_type": "markdown",
   "metadata": {},
   "source": [
    "###  If each individual is a permutation:\n",
    "\n",
    "An individual for the permutation representation is almost similar to the general list individual. In fact they both inherit from the basic list type. The only difference is that instead of filling the list with a series of floats, we need to generate a random permutation and provide that permutation to the individual."
   ]
  },
  {
   "cell_type": "code",
   "execution_count": 23,
   "metadata": {},
   "outputs": [],
   "source": [
    "toolbox3 = base.Toolbox()\n",
    "\n",
    "toolbox3.register(\"indices\", np.random.permutation, 10)\n",
    "# np.random.permutation (10) return array([0, 6, 4, 8, 5, 2, 9, 1, 3, 7])\n",
    "\n",
    "toolbox3.register(\"individual\", tools.initIterate, creator.Individual,\n",
    "                 toolbox3.indices)\n",
    "toolbox3.register(\"population\", tools.initRepeat, list, toolbox3.individual)\n"
   ]
  },
  {
   "cell_type": "markdown",
   "metadata": {},
   "source": [
    "***You may use the following code to test:***"
   ]
  },
  {
   "cell_type": "code",
   "execution_count": 24,
   "metadata": {},
   "outputs": [
    {
     "name": "stdout",
     "output_type": "stream",
     "text": [
      "[1, 0, 2, 4, 3, 6, 7, 8, 9, 5]\n"
     ]
    }
   ],
   "source": [
    "ind1 = toolbox3.individual()\n",
    "print(ind1)"
   ]
  },
  {
   "cell_type": "code",
   "execution_count": 25,
   "metadata": {},
   "outputs": [
    {
     "name": "stdout",
     "output_type": "stream",
     "text": [
      "(<class 'list'>, 3, [[9, 6, 3, 5, 7, 2, 4, 8, 1, 0], [2, 1, 3, 8, 4, 0, 7, 9, 5, 6], [3, 9, 6, 5, 8, 2, 1, 0, 7, 4]])\n"
     ]
    }
   ],
   "source": [
    "pop3 = toolbox3.population(n=3)\n",
    "print((type(pop3), len(pop3), pop3))"
   ]
  },
  {
   "cell_type": "markdown",
   "metadata": {},
   "source": [
    "## Step 3:  Define fitness evaluation function fo each individual \n",
    "\n",
    "The evaluation function is pretty simple for the OneMax problem, we need to count the number of ones in an individual. \n",
    "\n",
    "### Notice that ***the returned value must be an tuple, equal to the number of objectives.***\n",
    "\n",
    "***Notice the comma following sum()!!***"
   ]
  },
  {
   "cell_type": "code",
   "execution_count": 26,
   "metadata": {
    "scrolled": true
   },
   "outputs": [],
   "source": [
    "def evalOneMax(individual):\n",
    "    return (sum(individual),)      # return type should be tuple\n",
    "\n",
    "\n",
    "# E.g., sum([1, 0, 1, 0, 1, 1, 0, 1, 1, 0]) returns 6"
   ]
  },
  {
   "cell_type": "markdown",
   "metadata": {},
   "source": [
    "## Step 4: Define genetic operators\n",
    "\n",
    "* The usual names for the operators are mate(), mutate(), evaluate() and select(). Registering the operators and their default arguments in the toolbox is done as follow.\n",
    "\n",
    "`All possible operaters`:  https://deap.readthedocs.io/en/master/api/tools.html"
   ]
  },
  {
   "cell_type": "code",
   "execution_count": 27,
   "metadata": {},
   "outputs": [],
   "source": [
    "toolbox.register(\"evaluate\", evalOneMax)\n",
    "toolbox.register(\"mate\", tools.cxTwoPoint)\n",
    "toolbox.register(\"mutate\", tools.mutFlipBit, indpb=0.10)\n",
    "toolbox.register(\"select\", tools.selTournament, tournsize=3)"
   ]
  },
  {
   "cell_type": "markdown",
   "metadata": {},
   "source": [
    "The evaluation is given the alias `evaluate`.  `evalOneMax` will be called with the signature `toolbox.evaluate(individual)`   that takes the individual as input, which will be given later.\n",
    "\n",
    "The two points crossover function is registered the same way under the alias `mate`. \n",
    "\n",
    "The mutation set the `independent probability of each attribute to be mutated` (`indpb`) to 0.1.   In the algorithms, the mutate() function is called with the signature `toolbox.mutate(individual)`\n",
    "\n",
    "Finally, the selection operator is `K-way turnament selection`, registered under the name `select` and the size of the tournament set to 3.\n",
    "\n",
    "***We can for example mutate an individual and expect 10% of its attributes to be flipped.***"
   ]
  },
  {
   "cell_type": "markdown",
   "metadata": {},
   "source": [
    "***You may use the following code to test:***"
   ]
  },
  {
   "cell_type": "code",
   "execution_count": 28,
   "metadata": {},
   "outputs": [
    {
     "name": "stdout",
     "output_type": "stream",
     "text": [
      "[1, 0, 0, 1, 1, 0, 0, 0, 1, 1]\n",
      "[0, 1, 0, 1, 1, 0, 0, 0, 1, 1]\n"
     ]
    }
   ],
   "source": [
    "ind = toolbox.individual()\n",
    "print(ind)\n",
    "\n",
    "toolbox.mutate(ind)\n",
    "print(ind)"
   ]
  },
  {
   "cell_type": "markdown",
   "metadata": {},
   "source": [
    "## Step 5:  Choose your algorithm and let evolution go!\n",
    "https://deap.readthedocs.io/en/master/api/algo.html\n",
    "\n",
    "* There are several algorithms implemented in the algorithms module.  \n",
    "* In order to setup a toolbox for an algorithm, you must register the desired operators under a specified names.\n",
    "\n",
    "#### The *simple evolutionary algorithm* takes 5 arguments, a population, a toolbox, a probability of cross-overing two individuals (`cxpb`), a probability of mutating each individual (`mutpb`) and a number of generations to accomplish (`ngen`). \n",
    "\n",
    "Once the evolution is finished the population contains the individuals from the last generation."
   ]
  },
  {
   "cell_type": "code",
   "execution_count": 29,
   "metadata": {},
   "outputs": [
    {
     "name": "stdout",
     "output_type": "stream",
     "text": [
      "gen\tnevals\n",
      "0  \t100   \n",
      "1  \t61    \n",
      "2  \t65    \n",
      "3  \t64    \n",
      "4  \t58    \n",
      "5  \t67    \n",
      "6  \t58    \n",
      "7  \t52    \n",
      "8  \t60    \n",
      "9  \t72    \n",
      "10 \t62    \n"
     ]
    }
   ],
   "source": [
    "import matplotlib.pyplot as plt\n",
    "%matplotlib inline  \n",
    "\n",
    "pop = toolbox.population(n=100)\n",
    "\n",
    "pop, log= algorithms.eaSimple(pop, toolbox, cxpb=0.5, mutpb=0.2, ngen=10)\n",
    "\n",
    "# nevals： the number of evalutions for each generation\n"
   ]
  },
  {
   "cell_type": "code",
   "execution_count": 31,
   "metadata": {},
   "outputs": [
    {
     "data": {
      "text/plain": [
       "[[1, 1, 1, 1, 1, 1, 1, 1, 1, 1],\n",
       " [1, 1, 1, 1, 1, 1, 1, 1, 1, 1],\n",
       " [1, 1, 1, 1, 1, 1, 0, 1, 1, 1],\n",
       " [1, 1, 1, 1, 1, 1, 1, 1, 1, 1],\n",
       " [1, 1, 1, 1, 1, 1, 1, 0, 1, 1],\n",
       " [1, 1, 1, 1, 1, 1, 1, 1, 1, 1],\n",
       " [1, 1, 1, 1, 1, 1, 1, 1, 1, 1],\n",
       " [1, 1, 1, 1, 1, 1, 1, 1, 1, 1],\n",
       " [1, 1, 1, 1, 1, 1, 1, 1, 1, 1],\n",
       " [1, 1, 1, 1, 1, 1, 1, 1, 1, 1],\n",
       " [1, 1, 1, 1, 1, 1, 1, 1, 1, 1],\n",
       " [1, 1, 1, 1, 1, 1, 1, 1, 1, 1],\n",
       " [1, 1, 1, 1, 1, 1, 1, 1, 1, 1],\n",
       " [1, 1, 1, 1, 1, 1, 1, 1, 1, 1],\n",
       " [1, 1, 1, 1, 1, 1, 1, 1, 1, 1],\n",
       " [1, 1, 1, 1, 1, 1, 1, 1, 1, 1],\n",
       " [1, 1, 1, 1, 1, 1, 1, 1, 1, 1],\n",
       " [1, 1, 1, 1, 1, 1, 1, 1, 1, 1],\n",
       " [1, 1, 1, 1, 1, 1, 1, 1, 1, 1],\n",
       " [1, 1, 1, 1, 1, 1, 1, 1, 1, 1],\n",
       " [1, 1, 1, 1, 1, 1, 1, 1, 1, 1],\n",
       " [1, 1, 1, 1, 1, 1, 1, 1, 1, 1],\n",
       " [1, 1, 1, 1, 1, 1, 1, 1, 1, 1],\n",
       " [1, 1, 1, 1, 1, 1, 0, 1, 1, 1],\n",
       " [1, 1, 1, 1, 1, 1, 1, 1, 1, 1],\n",
       " [1, 1, 1, 1, 1, 1, 1, 1, 1, 1],\n",
       " [1, 1, 1, 1, 1, 1, 1, 1, 1, 1],\n",
       " [1, 1, 1, 1, 1, 1, 1, 1, 1, 1],\n",
       " [1, 1, 1, 1, 1, 1, 1, 1, 1, 1],\n",
       " [1, 1, 1, 1, 1, 1, 1, 1, 1, 1],\n",
       " [1, 1, 1, 1, 1, 1, 1, 1, 1, 1],\n",
       " [1, 1, 1, 1, 1, 1, 1, 1, 1, 1],\n",
       " [1, 1, 1, 1, 1, 1, 1, 1, 1, 1],\n",
       " [1, 1, 1, 1, 1, 1, 1, 1, 1, 1],\n",
       " [1, 1, 1, 1, 1, 1, 1, 1, 1, 1],\n",
       " [1, 1, 1, 1, 1, 1, 1, 1, 1, 1],\n",
       " [1, 1, 1, 1, 1, 1, 1, 1, 1, 1],\n",
       " [1, 1, 1, 1, 1, 1, 1, 1, 1, 1],\n",
       " [1, 1, 1, 1, 1, 1, 1, 1, 1, 1],\n",
       " [1, 1, 1, 1, 1, 1, 1, 1, 1, 1],\n",
       " [1, 1, 1, 1, 1, 1, 1, 1, 1, 1],\n",
       " [1, 1, 1, 1, 1, 1, 1, 1, 1, 1],\n",
       " [1, 1, 1, 1, 1, 1, 1, 1, 1, 1],\n",
       " [1, 1, 1, 1, 1, 1, 1, 1, 1, 1],\n",
       " [1, 1, 1, 1, 1, 1, 1, 1, 1, 1],\n",
       " [1, 1, 1, 1, 1, 1, 1, 1, 1, 1],\n",
       " [1, 1, 1, 1, 1, 1, 1, 1, 1, 1],\n",
       " [1, 1, 1, 1, 1, 1, 1, 1, 1, 1],\n",
       " [1, 1, 1, 1, 1, 1, 1, 1, 1, 1],\n",
       " [1, 1, 0, 1, 1, 1, 1, 1, 1, 1],\n",
       " [1, 1, 1, 1, 1, 1, 1, 1, 1, 1],\n",
       " [1, 1, 1, 1, 0, 1, 1, 1, 1, 1],\n",
       " [1, 1, 1, 1, 1, 1, 1, 1, 1, 1],\n",
       " [1, 1, 1, 1, 1, 1, 1, 1, 1, 1],\n",
       " [1, 1, 1, 1, 1, 1, 1, 1, 1, 1],\n",
       " [1, 1, 1, 1, 1, 1, 1, 1, 1, 1],\n",
       " [1, 1, 1, 1, 1, 1, 1, 1, 1, 1],\n",
       " [1, 1, 1, 1, 1, 1, 1, 1, 1, 1],\n",
       " [1, 1, 1, 1, 1, 1, 1, 1, 1, 1],\n",
       " [1, 1, 1, 1, 0, 1, 1, 0, 1, 0],\n",
       " [1, 1, 1, 1, 1, 1, 1, 1, 1, 1],\n",
       " [1, 1, 1, 1, 1, 1, 1, 1, 1, 1],\n",
       " [1, 1, 1, 1, 1, 1, 1, 1, 1, 1],\n",
       " [1, 1, 1, 1, 1, 1, 1, 1, 1, 1],\n",
       " [1, 1, 1, 1, 1, 1, 1, 1, 1, 1],\n",
       " [1, 1, 0, 1, 1, 1, 1, 1, 1, 0],\n",
       " [1, 1, 1, 1, 1, 1, 1, 1, 1, 1],\n",
       " [1, 1, 1, 1, 1, 1, 1, 1, 1, 1],\n",
       " [1, 1, 1, 1, 1, 1, 1, 1, 1, 1],\n",
       " [1, 1, 1, 1, 1, 1, 1, 1, 1, 1],\n",
       " [1, 1, 1, 1, 1, 1, 1, 1, 1, 1],\n",
       " [1, 1, 1, 1, 1, 1, 1, 1, 1, 1],\n",
       " [1, 1, 1, 1, 1, 1, 1, 1, 1, 1],\n",
       " [1, 1, 1, 1, 0, 1, 1, 1, 1, 1],\n",
       " [1, 1, 1, 1, 1, 1, 1, 1, 1, 1],\n",
       " [1, 1, 1, 1, 1, 0, 1, 1, 1, 1],\n",
       " [1, 1, 1, 1, 1, 1, 1, 1, 1, 1],\n",
       " [1, 1, 1, 1, 1, 1, 1, 1, 1, 1],\n",
       " [1, 1, 1, 1, 1, 1, 1, 1, 1, 1],\n",
       " [1, 1, 1, 1, 1, 1, 1, 1, 1, 1],\n",
       " [1, 1, 1, 1, 1, 1, 1, 1, 1, 1],\n",
       " [1, 1, 1, 1, 1, 1, 1, 1, 1, 1],\n",
       " [1, 1, 1, 1, 1, 1, 1, 1, 1, 1],\n",
       " [1, 1, 0, 1, 0, 1, 1, 1, 1, 1],\n",
       " [1, 1, 1, 1, 1, 1, 1, 1, 1, 1],\n",
       " [1, 1, 1, 1, 1, 1, 1, 1, 1, 1],\n",
       " [1, 1, 1, 1, 1, 1, 1, 1, 1, 1],\n",
       " [1, 1, 1, 1, 1, 1, 1, 1, 1, 1],\n",
       " [1, 0, 1, 1, 1, 1, 1, 1, 1, 0],\n",
       " [1, 1, 1, 1, 1, 1, 1, 1, 1, 1],\n",
       " [1, 1, 1, 1, 1, 1, 1, 1, 1, 1],\n",
       " [1, 1, 1, 1, 1, 1, 1, 1, 1, 1],\n",
       " [1, 1, 1, 1, 1, 1, 1, 1, 1, 0],\n",
       " [1, 1, 1, 1, 1, 1, 1, 1, 1, 1],\n",
       " [1, 1, 1, 1, 1, 1, 1, 1, 1, 1],\n",
       " [1, 1, 1, 1, 1, 1, 1, 1, 1, 1],\n",
       " [1, 1, 1, 1, 1, 1, 1, 1, 1, 1],\n",
       " [1, 1, 1, 1, 1, 1, 1, 1, 0, 1],\n",
       " [1, 1, 1, 1, 1, 1, 1, 1, 1, 1],\n",
       " [1, 1, 1, 1, 1, 1, 1, 1, 1, 1]]"
      ]
     },
     "execution_count": 31,
     "metadata": {},
     "output_type": "execute_result"
    }
   ],
   "source": [
    "# Print out the last generation\n",
    "\n",
    "pop"
   ]
  },
  {
   "cell_type": "code",
   "execution_count": 36,
   "metadata": {},
   "outputs": [
    {
     "name": "stdout",
     "output_type": "stream",
     "text": [
      "Best individual is: [1, 1, 1, 1, 1, 1, 1, 1, 1, 1]\n"
     ]
    }
   ],
   "source": [
    "best_ind = tools.selBest(pop, k=1)[0]\n",
    "\n",
    "print('Best individual is:', best_ind)"
   ]
  },
  {
   "cell_type": "code",
   "execution_count": 37,
   "metadata": {},
   "outputs": [
    {
     "name": "stdout",
     "output_type": "stream",
     "text": [
      "With fitness:  (10,)\n"
     ]
    }
   ],
   "source": [
    "print('With fitness: ', toolbox.evaluate(best_ind))"
   ]
  },
  {
   "cell_type": "markdown",
   "metadata": {
    "internals": {
     "frag_helper": "fragment_end",
     "frag_number": 43,
     "slide_type": "subslide"
    },
    "slideshow": {
     "slide_type": "slide"
    }
   },
   "source": [
    "### Note: Computing Statistics and Hall of Fame\n",
    "\n",
    "Here we will employ some helpful tools such as Statistics and a Hall of Fame. \n",
    "\n",
    "* The `statistics` are computed using numpy functions on the population, and the `hall of fame` keeps track of the best individuals that ever appeared during the evolution.  \n",
    "\n",
    "\n",
    "#### To do Statistics, one need to register the desired statistic functions inside the statistic object."
   ]
  },
  {
   "cell_type": "code",
   "execution_count": 39,
   "metadata": {
    "internals": {
     "frag_helper": "fragment_end",
     "frag_number": 43
    },
    "slideshow": {
     "slide_type": "-"
    }
   },
   "outputs": [],
   "source": [
    "stats = tools.Statistics(key=lambda ind: ind.fitness.values)"
   ]
  },
  {
   "cell_type": "markdown",
   "metadata": {
    "internals": {
     "frag_helper": "fragment_end",
     "frag_number": 43
    },
    "slideshow": {
     "slide_type": "-"
    }
   },
   "source": [
    "The statistics object is created using a key as first argument. This key must be supplied a function that will later be applied to the data on which the statistics are computed. The previous code sample uses the fitness.values attribute of each element."
   ]
  },
  {
   "cell_type": "code",
   "execution_count": 40,
   "metadata": {
    "internals": {
     "frag_helper": "fragment_end",
     "frag_number": 43,
     "slide_helper": "subslide_end"
    },
    "slide_helper": "subslide_end",
    "slideshow": {
     "slide_type": "-"
    }
   },
   "outputs": [],
   "source": [
    "import numpy as np\n",
    "\n",
    "stats.register(\"avg\", np.mean)\n",
    "stats.register(\"min\", np.min)\n",
    "stats.register(\"max\", np.max)"
   ]
  },
  {
   "cell_type": "markdown",
   "metadata": {
    "internals": {
     "frag_helper": "fragment_end",
     "frag_number": 43,
     "slide_helper": "subslide_end",
     "slide_type": "subslide"
    },
    "slide_helper": "slide_end",
    "slideshow": {
     "slide_type": "subslide"
    }
   },
   "source": [
    "* The statistical functions are now registered. \n",
    "* The register function expects an alias as first argument and a function operating on vectors as second argument. \n",
    "* Any subsequent argument is passed to the function when called. The creation of the statistics object is now complete."
   ]
  },
  {
   "cell_type": "code",
   "execution_count": 41,
   "metadata": {},
   "outputs": [
    {
     "name": "stdout",
     "output_type": "stream",
     "text": [
      "gen\tnevals\tavg \tmin\tmax\n",
      "0  \t50    \t5.06\t2  \t9  \n",
      "1  \t29    \t6.38\t4  \t9  \n",
      "2  \t26    \t7.66\t6  \t10 \n",
      "3  \t24    \t8.48\t5  \t10 \n",
      "4  \t26    \t8.98\t7  \t10 \n",
      "5  \t29    \t9.42\t8  \t10 \n",
      "6  \t31    \t9.74\t8  \t10 \n",
      "7  \t34    \t9.8 \t8  \t10 \n",
      "8  \t33    \t9.78\t7  \t10 \n",
      "9  \t20    \t9.84\t7  \t10 \n",
      "10 \t22    \t9.8 \t6  \t10 \n"
     ]
    }
   ],
   "source": [
    "pop = toolbox.population(n=50)\n",
    "\n",
    "hof = tools.HallOfFame(maxsize=1)\n",
    "\n",
    "pop, log = algorithms.eaSimple(pop, toolbox, cxpb=0.5, mutpb=0.2, ngen=10, \n",
    "                                   stats=stats, halloffame=hof, verbose=True)"
   ]
  },
  {
   "cell_type": "markdown",
   "metadata": {},
   "source": [
    "* Statistics will automatically be computed on the population every generation. \n",
    "* The verbose argument prints the statistics on screen while the optimization takes place.\n",
    "* Once the algorithm returns, the final population and a Logbook are returned. "
   ]
  },
  {
   "cell_type": "code",
   "execution_count": 42,
   "metadata": {},
   "outputs": [
    {
     "data": {
      "image/png": "[encoded data removed]",
      "text/plain": [
       "<Figure size 432x288 with 1 Axes>"
      ]
     },
     "metadata": {
      "needs_background": "light"
     },
     "output_type": "display_data"
    }
   ],
   "source": [
    "gen, avg, min_, max_ = log.select(\"gen\", \"avg\", \"min\", \"max\")\n",
    "\n",
    "plt.plot(gen, avg, label=\"average\")\n",
    "plt.plot(gen, min_, label=\"minimum\")\n",
    "plt.plot(gen, max_, label=\"maximum\")\n",
    "plt.xlabel(\"Generation\")\n",
    "plt.ylabel(\"Fitness\")\n",
    "plt.legend(loc=\"lower right\")\n",
    "plt.show()"
   ]
  },
  {
   "cell_type": "code",
   "execution_count": 43,
   "metadata": {},
   "outputs": [
    {
     "data": {
      "text/plain": [
       "{'avg': 9.8, 'min': 6.0, 'max': 10.0}"
      ]
     },
     "execution_count": 43,
     "metadata": {},
     "output_type": "execute_result"
    }
   ],
   "source": [
    "record = stats.compile(pop)\n",
    "record"
   ]
  },
  {
   "cell_type": "markdown",
   "metadata": {},
   "source": [
    "#### Using Hall of Fame\n",
    "\n",
    "Hall of Fame preserves the best individuals that appeared during an evolution. At every generation, it scans the population and saves the individuals in a separate archive that does not interact with the population. If the best solution disappears during the evolution, it will still be available in the hall of fame.\n",
    "\n",
    "The hall of fame proposes a list interface where the individuals are sorted in descending order of fitness. Thus, the fittest solution can be retrieved by accessing the list's first element."
   ]
  },
  {
   "cell_type": "code",
   "execution_count": 44,
   "metadata": {},
   "outputs": [
    {
     "name": "stdout",
     "output_type": "stream",
     "text": [
      "Best individual is:  [1, 1, 1, 1, 1, 1, 1, 1, 1, 1]\n",
      "\n",
      "with fitness:  (10.0,)\n"
     ]
    }
   ],
   "source": [
    "print(\"Best individual is: \", hof[0])\n",
    "\n",
    "print(\"\\nwith fitness: \", hof[0].fitness)"
   ]
  },
  {
   "cell_type": "markdown",
   "metadata": {},
   "source": [
    "### Super cool, right?"
   ]
  },
  {
   "cell_type": "markdown",
   "metadata": {},
   "source": [
    "## Inside the black box:  Controlling everything instead of using the traditional black-box approach \n",
    "\n",
    "DEAP encourages users to rapidly build their own algorithms. With the different tools provided by DEAP, it is possible to design a nimble algorithm that tackles most problems at hand.\n",
    "\n",
    "## Let's put everythong together and the \"canned\" eaSimple function can be replaced by lines 26-53."
   ]
  },
  {
   "cell_type": "code",
   "execution_count": 33,
   "metadata": {},
   "outputs": [
    {
     "name": "stdout",
     "output_type": "stream",
     "text": [
      "Best individual is: [1, 1, 1, 1, 1, 1, 1, 1, 1, 1]\n",
      "With fitness:  (10,)\n",
      "\n",
      "Last generation:\n",
      "[1, 1, 1, 1, 1, 1, 1, 1, 1, 1] (10.0,)\n",
      "[1, 1, 1, 1, 1, 1, 1, 1, 1, 1] (10.0,)\n",
      "[0, 1, 1, 0, 1, 1, 1, 1, 1, 1] (8.0,)\n",
      "[1, 1, 1, 1, 1, 1, 1, 1, 1, 1] (10.0,)\n",
      "[1, 1, 1, 1, 1, 1, 1, 1, 1, 1] (10.0,)\n",
      "[1, 1, 1, 1, 1, 1, 1, 1, 1, 1] (10.0,)\n",
      "[1, 1, 1, 1, 1, 1, 1, 1, 1, 1] (10.0,)\n",
      "[1, 1, 1, 1, 1, 1, 1, 1, 1, 1] (10.0,)\n",
      "[1, 1, 1, 1, 1, 1, 1, 1, 1, 1] (10.0,)\n",
      "[1, 1, 1, 1, 1, 1, 1, 1, 1, 1] (10.0,)\n"
     ]
    }
   ],
   "source": [
    "import random\n",
    "from deap import algorithms, base, creator, tools\n",
    "\n",
    "creator.create(\"FitnessMax\", base.Fitness, weights=(1.0,))\n",
    "creator.create(\"Individual\", list, fitness=creator.FitnessMax)\n",
    "\n",
    "def evalOneMax(individual):\n",
    "    return (sum(individual),)      # return type should be tuple\n",
    "\n",
    "\n",
    "\n",
    "toolbox = base.Toolbox()\n",
    "toolbox.register(\"attr_bool\", random.randint, 0, 1)\n",
    "toolbox.register(\"individual\", tools.initRepeat, creator.Individual, toolbox.attr_bool, n=10)\n",
    "toolbox.register(\"population\", tools.initRepeat, list, toolbox.individual)\n",
    "\n",
    "toolbox.register(\"evaluate\", evalOneMax)\n",
    "toolbox.register(\"mate\", tools.cxTwoPoint)\n",
    "toolbox.register(\"mutate\", tools.mutFlipBit, indpb=0.10)\n",
    "toolbox.register(\"select\", tools.selTournament, tournsize=3)\n",
    "\n",
    "\n",
    "pop = toolbox.population(n=10)\n",
    "\n",
    "\n",
    "# begininng of the eaSimple function \n",
    "\n",
    "ngen, cxpb, mutpb = 40, 0.5, 0.2\n",
    "fitnesses = toolbox.map(toolbox.evaluate, pop)\n",
    "\n",
    "for ind, fit in zip(pop, fitnesses):\n",
    "    ind.fitness.values = fit\n",
    "\n",
    "for g in range(ngen):\n",
    "    pop = toolbox.select(pop, k=len(pop))\n",
    "    pop = [toolbox.clone(ind) for ind in pop]\n",
    "\n",
    "    for child1, child2 in zip(pop[::2], pop[1::2]):\n",
    "        if random.random() < cxpb:\n",
    "            toolbox.mate(child1, child2)\n",
    "            del child1.fitness.values, child2.fitness.values\n",
    "\n",
    "    for mutant in pop:\n",
    "        if random.random() < mutpb:\n",
    "            toolbox.mutate(mutant)\n",
    "            del mutant.fitness.values\n",
    "        \n",
    "    invalids = [ind for ind in pop if not ind.fitness.valid]\n",
    "    fitnesses = toolbox.map(toolbox.evaluate, invalids)\n",
    "    for ind, fit in zip(invalids, fitnesses):\n",
    "        ind.fitness.values = fit\n",
    "        \n",
    "# end of the eaSimple function\n",
    "\n",
    "\n",
    "\n",
    "\n",
    "\n",
    "best_ind = tools.selBest(pop, k=1)[0]\n",
    "\n",
    "print('Best individual is:', best_ind)\n",
    "print('With fitness: ', toolbox.evaluate(best_ind))\n",
    "\n",
    "\n",
    "print()\n",
    "print (\"Last generation:\")\n",
    "for n in range(10):\n",
    "    print (pop[n], pop[n].fitness.values)"
   ]
  },
  {
   "cell_type": "markdown",
   "metadata": {},
   "source": [
    "First, the evaluation is applied to every individual in the population by the map function contained in every toolbox. Next, a loop over both the population and the evaluated fitnesses sets each individual's fitness value. \n",
    "\n",
    "Thereafter, the generational loop begins. It starts by selecting k individuals from the population, followed by the duplication of the population by the clone tool. Then, the crossover is applied to a portion of consecutive individuals . Each modified individual sees its fitness invalidated by the deletion of its value. Finally, a percentage of the population is mutated and their fitness values is also deleted. \n",
    "\n",
    "Only freshly produced individuals have to be evaluated; they are filtered by their fitness validity. \n",
    "\n",
    "This version of the program provides control over the application order and the number of operators, among many other aspects."
   ]
  }
 ],
 "metadata": {
  "kernelspec": {
   "display_name": "Python 3",
   "language": "python",
   "name": "python3"
  },
  "language_info": {
   "codemirror_mode": {
    "name": "ipython",
    "version": 3
   },
   "file_extension": ".py",
   "mimetype": "text/x-python",
   "name": "python",
   "nbconvert_exporter": "python",
   "pygments_lexer": "ipython3",
   "version": "3.8.8"
  }
 },
 "nbformat": 4,
 "nbformat_minor": 1
}
